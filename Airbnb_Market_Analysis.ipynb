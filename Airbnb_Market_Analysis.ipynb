{
 "cells": [
  {
   "cell_type": "markdown",
   "metadata": {},
   "source": [
    "# 🏡 Airbnb Market Analysis & Optimization  \n",
    "### 📊 Data-Driven Insights for Hosts & Investors  \n",
    "\n",
    "The short-term rental market is **highly competitive**, and standing out requires **smart, data-driven decisions**.  \n",
    "This notebook explores **real-world Airbnb data** to **identify market gaps, optimize listings, and maximize revenue** for both **existing hosts and new investors**.  \n",
    "\n",
    "---\n",
    "\n",
    "## 🎯 **Objective of This Analysis**  \n",
    "✔ **For Existing Hosts:** Learn how to **optimize listings** to get more bookings & revenue.  \n",
    "✔ **For New Investors:** Discover **profitable property types, amenities, and pricing strategies**. \n",
    "\n",
    "---\n",
    "\n",
    "## 🔍 **What We Will Explore?**  \n",
    "✅ **Market Trends** – Where is the best place to invest? Which cities have high/low competition?  \n",
    "✅ **Guest Preferences** – What property & room types receive the highest ratings?  \n",
    "✅ **Pricing Strategies** – What’s the best price range to attract more bookings?  \n",
    "✅ **Amenities Impact** – Which amenities increase guest satisfaction & revenue?  \n",
    "✅ **Superhost Advantage** – Do Superhosts actually get better ratings and bookings?  \n",
    "\n",
    "📌 **Let’s dive into the data and uncover what makes an Airbnb listing successful!** 🚀  \n",
    "__________"
   ]
  },
  {
   "cell_type": "code",
   "execution_count": 1,
   "metadata": {},
   "outputs": [],
   "source": [
    "# import necessary libraries\n",
    "\n",
    "import pandas as pd\n",
    "import numpy as np\n",
    "import matplotlib.pyplot as plt\n",
    "import seaborn as sns\n",
    "import plotly.express as px"
   ]
  },
  {
   "cell_type": "code",
   "execution_count": 2,
   "metadata": {},
   "outputs": [],
   "source": [
    "# show all columns and rows\n",
    "pd.set_option('display.max_columns', None)\n",
    "pd.set_option('display.max_rows', None)"
   ]
  },
  {
   "cell_type": "markdown",
   "metadata": {},
   "source": [
    "### First we'll clean the data in each file before heading towards `EDA`"
   ]
  },
  {
   "cell_type": "code",
   "execution_count": 3,
   "metadata": {},
   "outputs": [],
   "source": [
    "dp = pd.read_csv('Detailed_Property.csv')"
   ]
  },
  {
   "cell_type": "code",
   "execution_count": 4,
   "metadata": {},
   "outputs": [
    {
     "data": {
      "text/html": [
       "<div>\n",
       "<style scoped>\n",
       "    .dataframe tbody tr th:only-of-type {\n",
       "        vertical-align: middle;\n",
       "    }\n",
       "\n",
       "    .dataframe tbody tr th {\n",
       "        vertical-align: top;\n",
       "    }\n",
       "\n",
       "    .dataframe thead th {\n",
       "        text-align: right;\n",
       "    }\n",
       "</style>\n",
       "<table border=\"1\" class=\"dataframe\">\n",
       "  <thead>\n",
       "    <tr style=\"text-align: right;\">\n",
       "      <th></th>\n",
       "      <th>title</th>\n",
       "      <th>propertyType</th>\n",
       "      <th>location</th>\n",
       "      <th>personCapacity</th>\n",
       "      <th>descriptionLanguage</th>\n",
       "      <th>listingLat</th>\n",
       "      <th>listingLng</th>\n",
       "      <th>homeTier</th>\n",
       "      <th>roomType</th>\n",
       "      <th>visibleReviewCount</th>\n",
       "      <th>valueRating</th>\n",
       "      <th>locationRating</th>\n",
       "      <th>communicationRating</th>\n",
       "      <th>checkinRating</th>\n",
       "      <th>accuracyRating</th>\n",
       "      <th>cleanlinessRating</th>\n",
       "      <th>guestSatisfactionOverall</th>\n",
       "      <th>productCountry</th>\n",
       "      <th>property_id</th>\n",
       "      <th>bookingData.allowsChildren</th>\n",
       "      <th>bookingData.allowsInfants</th>\n",
       "      <th>bookingData.allowsPets</th>\n",
       "      <th>bookingData.hostId</th>\n",
       "      <th>bookingData.hostName</th>\n",
       "      <th>bookingData.hostProfilePhotoUrl</th>\n",
       "      <th>bookingData.isHotelRatePlanEnabled</th>\n",
       "      <th>bookingData.isSuperhost</th>\n",
       "      <th>bookingData.maxNights</th>\n",
       "      <th>bookingData.minNights</th>\n",
       "      <th>bookingData.reviewsCount</th>\n",
       "      <th>bookingData.reviewsRating</th>\n",
       "      <th>bookingData.roomAndPropertyType</th>\n",
       "      <th>bookingData.barPrice</th>\n",
       "      <th>bookingData.chinaDiscountModalData</th>\n",
       "      <th>bookingData.canInstantBook</th>\n",
       "      <th>bookingData.price</th>\n",
       "      <th>bookingData.cancellationPolicies</th>\n",
       "      <th>bookingData.structuredDisplayPrice</th>\n",
       "      <th>bookingData.productItemDetail</th>\n",
       "      <th>sections.bookIt.available</th>\n",
       "      <th>sections.bookIt.title</th>\n",
       "      <th>sections.bookIt.cancellationPolicyLoggingEventData</th>\n",
       "      <th>sections.bookIt.calendarTitle</th>\n",
       "      <th>sections.bookIt.calendarSubtitle</th>\n",
       "      <th>sections.bookIt.descriptionItems</th>\n",
       "      <th>sections.bookIt.discountCopy</th>\n",
       "      <th>sections.bookIt.maxGuestCapacity</th>\n",
       "      <th>sections.bookIt.barPrice</th>\n",
       "      <th>sections.bookIt.bookItButtonByPlacement</th>\n",
       "      <th>sections.bookIt.reviewItem.accessibilityLabel</th>\n",
       "      <th>sections.bookIt.reviewItem.title</th>\n",
       "      <th>sections.bookIt.structuredDisplayPrice</th>\n",
       "      <th>sections.bookIt.selectedDatesLink</th>\n",
       "      <th>sections.bookIt.selectedNights</th>\n",
       "      <th>sections.bookIt.productId</th>\n",
       "      <th>sections.education.pdpEducationContentData</th>\n",
       "      <th>sections.availabilityCalendarDefault.title</th>\n",
       "      <th>sections.availabilityCalendarDefault.subtitle</th>\n",
       "      <th>sections.availabilityCalendarDefault.priceDisclaimer</th>\n",
       "      <th>sections.availabilityCalendarDefault.reviewRating</th>\n",
       "      <th>sections.availabilityCalendarDefault.reviewCount</th>\n",
       "      <th>sections.availabilityCalendarDefault.reviewAccessibilityLabel</th>\n",
       "      <th>sections.availabilityCalendarDefault.descriptionItems</th>\n",
       "      <th>sections.petCounts.title</th>\n",
       "      <th>sections.petCounts.titleStyle</th>\n",
       "      <th>sections.petCounts.html.htmlText</th>\n",
       "      <th>sections.petCounts.html.recommendedNumberOfLines</th>\n",
       "      <th>sections.petCounts.icon</th>\n",
       "      <th>sections.petCounts.mediaItem.baseUrl</th>\n",
       "      <th>sections.petCounts.subtitle</th>\n",
       "      <th>sections.description.title</th>\n",
       "      <th>sections.description.subtitle</th>\n",
       "      <th>sections.description.items</th>\n",
       "      <th>sections.description.logoData</th>\n",
       "      <th>sections.description.mediaItems</th>\n",
       "      <th>sections.hero.mediaItems</th>\n",
       "      <th>sections.hero.previewImages</th>\n",
       "      <th>sections.hero.seePhotosButton.accessibilityLabel</th>\n",
       "      <th>sections.hero.seePhotosButton.icon</th>\n",
       "      <th>sections.hero.seePhotosButton.title</th>\n",
       "      <th>sections.hero.seePhotosButton.subtitle</th>\n",
       "      <th>sections.hero.previewImageLoggingEventData.loggingId</th>\n",
       "      <th>sections.hero.previewImageLoggingEventData.component</th>\n",
       "      <th>sections.hero.previewImageLoggingEventData.section</th>\n",
       "      <th>sections.hero.previewImageLoggingEventData.eventData</th>\n",
       "      <th>sections.hero.previewImageLoggingEventData.eventDataSchemaName</th>\n",
       "      <th>sections.title.billboardButton</th>\n",
       "      <th>sections.title.kicker</th>\n",
       "      <th>sections.title.kickerItems</th>\n",
       "      <th>sections.title.actionableIcon</th>\n",
       "      <th>sections.title.icon</th>\n",
       "      <th>sections.title.title</th>\n",
       "      <th>sections.title.overviewItems</th>\n",
       "      <th>sections.title.subtitle</th>\n",
       "      <th>sections.highlights.title</th>\n",
       "      <th>sections.highlights.highlights</th>\n",
       "      <th>sections.descriptionDefault.descriptionSummary.htmlText</th>\n",
       "      <th>sections.descriptionDefault.descriptionSummary.minimumNumberOfLinesForTruncation</th>\n",
       "      <th>sections.descriptionDefault.descriptionSummary.recommendedNumberOfLines</th>\n",
       "      <th>sections.descriptionDefault.hasExtraDescriptionDetails</th>\n",
       "      <th>sections.descriptionDefault.htmlDescription</th>\n",
       "      <th>sections.descriptionDefault.hostQuote</th>\n",
       "      <th>sections.descriptionDefault.title</th>\n",
       "      <th>sections.amenities.title</th>\n",
       "      <th>sections.amenities.previewAmenitiesGroups</th>\n",
       "      <th>sections.amenities.seeAllAmenitiesGroups</th>\n",
       "      <th>sections.amenities.seeAllAmenitiesButton.accessibilityLabel</th>\n",
       "      <th>sections.amenities.seeAllAmenitiesButton.icon</th>\n",
       "      <th>sections.amenities.seeAllAmenitiesButton.title</th>\n",
       "      <th>sections.amenities.seeAllAmenitiesButton.subtitle</th>\n",
       "      <th>sections.location.address</th>\n",
       "      <th>sections.location.homeIcon</th>\n",
       "      <th>sections.location.hostGuidebookButton</th>\n",
       "      <th>sections.location.lat</th>\n",
       "      <th>sections.location.lng</th>\n",
       "      <th>sections.location.locationDisclaimer</th>\n",
       "      <th>sections.location.locationDisclaimerItems</th>\n",
       "      <th>sections.location.previewLocationDetails</th>\n",
       "      <th>sections.location.seeAllDetailsButton</th>\n",
       "      <th>sections.location.seeAllLocationDetails</th>\n",
       "      <th>sections.location.subtitle</th>\n",
       "      <th>sections.location.title</th>\n",
       "      <th>sections.location.mapMarkerRadiusInMeters</th>\n",
       "      <th>sections.reviewsDefault.title</th>\n",
       "      <th>sections.reviewsDefault.heading.accessibilityLabel</th>\n",
       "      <th>sections.reviewsDefault.heading.icon</th>\n",
       "      <th>sections.reviewsDefault.heading.title</th>\n",
       "      <th>sections.reviewsDefault.heading.subtitle</th>\n",
       "      <th>sections.reviewsDefault.ratings</th>\n",
       "      <th>sections.policies.additionalHouseRules</th>\n",
       "      <th>sections.policies.additionalHouseRulesTitle</th>\n",
       "      <th>sections.policies.cancellationPolicyForDisplay</th>\n",
       "      <th>sections.policies.cancellationPolicies</th>\n",
       "      <th>sections.policies.cancellationPolicyTitle</th>\n",
       "      <th>sections.policies.discountData</th>\n",
       "      <th>sections.policies.houseRules</th>\n",
       "      <th>sections.policies.houseRulesTitle</th>\n",
       "      <th>sections.policies.listingExpectations</th>\n",
       "      <th>sections.policies.listingExpectationsTitle</th>\n",
       "      <th>sections.policies.reportButton</th>\n",
       "      <th>sections.policies.seeAllHouseRulesButton.accessibilityLabel</th>\n",
       "      <th>sections.policies.seeAllHouseRulesButton.icon</th>\n",
       "      <th>sections.policies.seeAllHouseRulesButton.title</th>\n",
       "      <th>sections.policies.seeAllHouseRulesButton.subtitle</th>\n",
       "      <th>sections.policies.seeCancellationPolicyButton.accessibilityLabel</th>\n",
       "      <th>sections.policies.seeCancellationPolicyButton.icon</th>\n",
       "      <th>sections.policies.seeCancellationPolicyButton.title</th>\n",
       "      <th>sections.policies.seeCancellationPolicyButton.subtitle</th>\n",
       "      <th>sections.policies.title</th>\n",
       "      <th>sections.policies.safetyAndPropertyTitle</th>\n",
       "      <th>sections.policies.previewSafetyAndProperties</th>\n",
       "      <th>sections.policies.seeAllSafetyAndPropertyButton.accessibilityLabel</th>\n",
       "      <th>sections.policies.seeAllSafetyAndPropertyButton.icon</th>\n",
       "      <th>sections.policies.seeAllSafetyAndPropertyButton.title</th>\n",
       "      <th>sections.policies.seeAllSafetyAndPropertyButton.subtitle</th>\n",
       "      <th>sections.policies.safetyExpectationsAndAmenities</th>\n",
       "      <th>sections.photoTour.title</th>\n",
       "      <th>sections.photoTour.mediaItems</th>\n",
       "      <th>sections.location.hostGuidebookButton.accessibilityLabel</th>\n",
       "      <th>sections.location.hostGuidebookButton.icon</th>\n",
       "      <th>sections.location.hostGuidebookButton.title</th>\n",
       "      <th>sections.location.hostGuidebookButton.subtitle</th>\n",
       "      <th>sections.location.seeAllDetailsButton.accessibilityLabel</th>\n",
       "      <th>sections.location.seeAllDetailsButton.icon</th>\n",
       "      <th>sections.location.seeAllDetailsButton.title</th>\n",
       "      <th>sections.location.seeAllDetailsButton.subtitle</th>\n",
       "      <th>sections.sleepingArrangement.title</th>\n",
       "      <th>sections.sleepingArrangement.arrangementDetails</th>\n",
       "      <th>sections.title.actionableIcon.accessibilityLabel</th>\n",
       "      <th>sections.title.actionableIcon.icon</th>\n",
       "      <th>sections.title.actionableIcon.title</th>\n",
       "      <th>sections.title.actionableIcon.subtitle</th>\n",
       "    </tr>\n",
       "  </thead>\n",
       "  <tbody>\n",
       "    <tr>\n",
       "      <th>0</th>\n",
       "      <td>Home in Calgary · ★4.95 · 1 bedroom · 1 bed · ...</td>\n",
       "      <td>Entire home</td>\n",
       "      <td>Calgary</td>\n",
       "      <td>2</td>\n",
       "      <td>en</td>\n",
       "      <td>51.055354</td>\n",
       "      <td>-114.028776</td>\n",
       "      <td>1</td>\n",
       "      <td>Entire home/apt</td>\n",
       "      <td>21.0</td>\n",
       "      <td>5.00</td>\n",
       "      <td>5.00</td>\n",
       "      <td>5.00</td>\n",
       "      <td>5.00</td>\n",
       "      <td>5.00</td>\n",
       "      <td>5.00</td>\n",
       "      <td>4.95</td>\n",
       "      <td>CA</td>\n",
       "      <td>1143371712266502884</td>\n",
       "      <td>True</td>\n",
       "      <td>True</td>\n",
       "      <td>False</td>\n",
       "      <td>38955414</td>\n",
       "      <td>Haley</td>\n",
       "      <td>https://a0.muscache.com/im/pictures/user/User/...</td>\n",
       "      <td>False</td>\n",
       "      <td>True</td>\n",
       "      <td>30</td>\n",
       "      <td>1</td>\n",
       "      <td>21</td>\n",
       "      <td>4.95</td>\n",
       "      <td>Entire home</td>\n",
       "      <td>NaN</td>\n",
       "      <td>NaN</td>\n",
       "      <td>True</td>\n",
       "      <td>NaN</td>\n",
       "      <td>[{'cancellationPolicyId': 3, 'milestones': [],...</td>\n",
       "      <td>NaN</td>\n",
       "      <td>NaN</td>\n",
       "      <td>NaN</td>\n",
       "      <td>NaN</td>\n",
       "      <td>NaN</td>\n",
       "      <td>NaN</td>\n",
       "      <td>NaN</td>\n",
       "      <td>NaN</td>\n",
       "      <td>NaN</td>\n",
       "      <td>NaN</td>\n",
       "      <td>NaN</td>\n",
       "      <td>NaN</td>\n",
       "      <td>Rated 4.95 out of 5 from 21 reviews.</td>\n",
       "      <td>4.95</td>\n",
       "      <td>NaN</td>\n",
       "      <td>NaN</td>\n",
       "      <td>NaN</td>\n",
       "      <td>NaN</td>\n",
       "      <td>NaN</td>\n",
       "      <td>Availability</td>\n",
       "      <td>Add your travel dates for exact pricing</td>\n",
       "      <td>Prices on calendar do not include taxes and fees</td>\n",
       "      <td>4.95</td>\n",
       "      <td>21.0</td>\n",
       "      <td>Rated 4.95 out of 5 from 21 reviews.</td>\n",
       "      <td>[{'title': 'Entire home'}, {'title': '1 bed'},...</td>\n",
       "      <td>Service animals</td>\n",
       "      <td>NaN</td>\n",
       "      <td>Service animals aren’t pets, so there’s no nee...</td>\n",
       "      <td>NaN</td>\n",
       "      <td>NaN</td>\n",
       "      <td>https://a0.muscache.com/pictures/adafb11b-41e9...</td>\n",
       "      <td>NaN</td>\n",
       "      <td>About this space</td>\n",
       "      <td>NaN</td>\n",
       "      <td>[{'title': None, 'subtitle': None, 'media': No...</td>\n",
       "      <td>NaN</td>\n",
       "      <td>NaN</td>\n",
       "      <td>NaN</td>\n",
       "      <td>[{'accessibilityLabel': 'Cute Inner City Haven...</td>\n",
       "      <td>NaN</td>\n",
       "      <td>NaN</td>\n",
       "      <td>Show all photos</td>\n",
       "      <td>NaN</td>\n",
       "      <td>pdp.hero.image</td>\n",
       "      <td>image</td>\n",
       "      <td>hero</td>\n",
       "      <td>NaN</td>\n",
       "      <td>NaN</td>\n",
       "      <td>NaN</td>\n",
       "      <td>NaN</td>\n",
       "      <td>NaN</td>\n",
       "      <td>NaN</td>\n",
       "      <td>NaN</td>\n",
       "      <td>Cute Inner City Haven with Country-like Serenity</td>\n",
       "      <td>NaN</td>\n",
       "      <td>NaN</td>\n",
       "      <td>NaN</td>\n",
       "      <td>[{'icon': 'SYSTEM_GOLDEN_TROPHY', 'title': 'To...</td>\n",
       "      <td>Welcome to our unique home, offering country s...</td>\n",
       "      <td>9</td>\n",
       "      <td>6</td>\n",
       "      <td>True</td>\n",
       "      <td>NaN</td>\n",
       "      <td>NaN</td>\n",
       "      <td>NaN</td>\n",
       "      <td>What this place offers</td>\n",
       "      <td>[{'id': 'top_ranked_amenities_1143371712266502...</td>\n",
       "      <td>[{'id': 'pdp_v3_bathroom_1143371712266502884',...</td>\n",
       "      <td>NaN</td>\n",
       "      <td>NaN</td>\n",
       "      <td>Show all 16 amenities</td>\n",
       "      <td>NaN</td>\n",
       "      <td>NaN</td>\n",
       "      <td>COMPACT_HOUSE</td>\n",
       "      <td>NaN</td>\n",
       "      <td>51.055354</td>\n",
       "      <td>-114.028776</td>\n",
       "      <td>NaN</td>\n",
       "      <td>NaN</td>\n",
       "      <td>[]</td>\n",
       "      <td>NaN</td>\n",
       "      <td>[]</td>\n",
       "      <td>Calgary, Alberta, Canada</td>\n",
       "      <td>Where you’ll be</td>\n",
       "      <td>500</td>\n",
       "      <td>NaN</td>\n",
       "      <td>4.95 out of 5 stars from 21 reviews</td>\n",
       "      <td>COMPACT_STAR</td>\n",
       "      <td>Guest favorite</td>\n",
       "      <td>This home is in the &lt;b&gt;top 1%&lt;/b&gt; of eligible ...</td>\n",
       "      <td>[{'localizedRating': '5.0', 'percentage': 1, '...</td>\n",
       "      <td>NaN</td>\n",
       "      <td>NaN</td>\n",
       "      <td>NaN</td>\n",
       "      <td>[{'id': 3, 'milestones': [], 'cancellationMile...</td>\n",
       "      <td>Cancellation policy</td>\n",
       "      <td>NaN</td>\n",
       "      <td>[{'accessibilityLabel': None, 'icon': None, 't...</td>\n",
       "      <td>House rules</td>\n",
       "      <td>NaN</td>\n",
       "      <td>NaN</td>\n",
       "      <td>NaN</td>\n",
       "      <td>More information about house rules</td>\n",
       "      <td>NaN</td>\n",
       "      <td>Show more</td>\n",
       "      <td>NaN</td>\n",
       "      <td>More information about cancellation policy</td>\n",
       "      <td>NaN</td>\n",
       "      <td>Show more</td>\n",
       "      <td>NaN</td>\n",
       "      <td>Things to know</td>\n",
       "      <td>Safety &amp; property</td>\n",
       "      <td>[{'title': 'Exterior security cameras on prope...</td>\n",
       "      <td>More information about safety and property</td>\n",
       "      <td>NaN</td>\n",
       "      <td>Show more</td>\n",
       "      <td>NaN</td>\n",
       "      <td>NaN</td>\n",
       "      <td>Photo tour</td>\n",
       "      <td>[{'accessibilityLabel': 'Living room image 1',...</td>\n",
       "      <td>NaN</td>\n",
       "      <td>NaN</td>\n",
       "      <td>NaN</td>\n",
       "      <td>NaN</td>\n",
       "      <td>NaN</td>\n",
       "      <td>NaN</td>\n",
       "      <td>NaN</td>\n",
       "      <td>NaN</td>\n",
       "      <td>NaN</td>\n",
       "      <td>NaN</td>\n",
       "      <td>NaN</td>\n",
       "      <td>NaN</td>\n",
       "      <td>NaN</td>\n",
       "      <td>NaN</td>\n",
       "    </tr>\n",
       "    <tr>\n",
       "      <th>1</th>\n",
       "      <td>Rental unit in Calgary · ★4.84 · Studio · 2 be...</td>\n",
       "      <td>Entire rental unit</td>\n",
       "      <td>Calgary</td>\n",
       "      <td>3</td>\n",
       "      <td>en</td>\n",
       "      <td>51.052710</td>\n",
       "      <td>-114.047400</td>\n",
       "      <td>1</td>\n",
       "      <td>Entire home/apt</td>\n",
       "      <td>268.0</td>\n",
       "      <td>4.85</td>\n",
       "      <td>4.88</td>\n",
       "      <td>4.93</td>\n",
       "      <td>4.88</td>\n",
       "      <td>4.83</td>\n",
       "      <td>4.94</td>\n",
       "      <td>4.84</td>\n",
       "      <td>CA</td>\n",
       "      <td>36314346</td>\n",
       "      <td>False</td>\n",
       "      <td>False</td>\n",
       "      <td>False</td>\n",
       "      <td>20511008</td>\n",
       "      <td>Cory</td>\n",
       "      <td>https://a0.muscache.com/im/pictures/user/a9779...</td>\n",
       "      <td>False</td>\n",
       "      <td>True</td>\n",
       "      <td>21</td>\n",
       "      <td>1</td>\n",
       "      <td>268</td>\n",
       "      <td>4.84</td>\n",
       "      <td>Entire rental unit</td>\n",
       "      <td>NaN</td>\n",
       "      <td>NaN</td>\n",
       "      <td>False</td>\n",
       "      <td>NaN</td>\n",
       "      <td>[{'cancellationPolicyId': 62, 'milestones': []...</td>\n",
       "      <td>NaN</td>\n",
       "      <td>NaN</td>\n",
       "      <td>NaN</td>\n",
       "      <td>NaN</td>\n",
       "      <td>NaN</td>\n",
       "      <td>NaN</td>\n",
       "      <td>NaN</td>\n",
       "      <td>NaN</td>\n",
       "      <td>NaN</td>\n",
       "      <td>NaN</td>\n",
       "      <td>NaN</td>\n",
       "      <td>NaN</td>\n",
       "      <td>Rated 4.84 out of 5 from 268 reviews.</td>\n",
       "      <td>4.84</td>\n",
       "      <td>NaN</td>\n",
       "      <td>NaN</td>\n",
       "      <td>NaN</td>\n",
       "      <td>NaN</td>\n",
       "      <td>NaN</td>\n",
       "      <td>Availability</td>\n",
       "      <td>Add your travel dates for exact pricing</td>\n",
       "      <td>Prices on calendar do not include taxes and fees</td>\n",
       "      <td>4.84</td>\n",
       "      <td>268.0</td>\n",
       "      <td>Rated 4.84 out of 5 from 268 reviews.</td>\n",
       "      <td>[{'title': 'Entire rental unit'}, {'title': '2...</td>\n",
       "      <td>Service animals</td>\n",
       "      <td>NaN</td>\n",
       "      <td>Service animals aren’t pets, so there’s no nee...</td>\n",
       "      <td>NaN</td>\n",
       "      <td>NaN</td>\n",
       "      <td>https://a0.muscache.com/pictures/adafb11b-41e9...</td>\n",
       "      <td>NaN</td>\n",
       "      <td>About this space</td>\n",
       "      <td>NaN</td>\n",
       "      <td>[{'title': None, 'subtitle': None, 'media': No...</td>\n",
       "      <td>NaN</td>\n",
       "      <td>NaN</td>\n",
       "      <td>NaN</td>\n",
       "      <td>[{'accessibilityLabel': 'Cozy Suite In The Hea...</td>\n",
       "      <td>NaN</td>\n",
       "      <td>NaN</td>\n",
       "      <td>Show all photos</td>\n",
       "      <td>NaN</td>\n",
       "      <td>pdp.hero.image</td>\n",
       "      <td>image</td>\n",
       "      <td>hero</td>\n",
       "      <td>NaN</td>\n",
       "      <td>NaN</td>\n",
       "      <td>NaN</td>\n",
       "      <td>NaN</td>\n",
       "      <td>NaN</td>\n",
       "      <td>NaN</td>\n",
       "      <td>NaN</td>\n",
       "      <td>Cozy Suite In The Heart Of Bridgeland - BL246108</td>\n",
       "      <td>NaN</td>\n",
       "      <td>NaN</td>\n",
       "      <td>NaN</td>\n",
       "      <td>[{'icon': 'SYSTEM_CHECK_IN', 'title': 'Self ch...</td>\n",
       "      <td>Welcome to Calgary and we invite you to Bridge...</td>\n",
       "      <td>9</td>\n",
       "      <td>6</td>\n",
       "      <td>True</td>\n",
       "      <td>NaN</td>\n",
       "      <td>NaN</td>\n",
       "      <td>NaN</td>\n",
       "      <td>What this place offers</td>\n",
       "      <td>[{'id': 'top_ranked_amenities_36314346', 'titl...</td>\n",
       "      <td>[{'id': 'pdp_v3_bathroom_36314346', 'title': '...</td>\n",
       "      <td>NaN</td>\n",
       "      <td>NaN</td>\n",
       "      <td>Show all 26 amenities</td>\n",
       "      <td>NaN</td>\n",
       "      <td>NaN</td>\n",
       "      <td>COMPACT_TODAY_NAV</td>\n",
       "      <td>NaN</td>\n",
       "      <td>51.052710</td>\n",
       "      <td>-114.047400</td>\n",
       "      <td>NaN</td>\n",
       "      <td>NaN</td>\n",
       "      <td>[{'id': 'neighborhood-preview_36314346', 'disp...</td>\n",
       "      <td>NaN</td>\n",
       "      <td>[{'id': 'neighborhood-seeAll_36314346', 'displ...</td>\n",
       "      <td>Calgary, Alberta, Canada</td>\n",
       "      <td>Where you’ll be</td>\n",
       "      <td>152</td>\n",
       "      <td>NaN</td>\n",
       "      <td>4.84 out of 5 stars from 268 reviews</td>\n",
       "      <td>COMPACT_STAR</td>\n",
       "      <td>4.84 · 268 reviews</td>\n",
       "      <td>NaN</td>\n",
       "      <td>[{'localizedRating': '4.9', 'percentage': 0.98...</td>\n",
       "      <td>NaN</td>\n",
       "      <td>NaN</td>\n",
       "      <td>NaN</td>\n",
       "      <td>[{'id': 62, 'milestones': [], 'cancellationMil...</td>\n",
       "      <td>Cancellation policy</td>\n",
       "      <td>NaN</td>\n",
       "      <td>[{'accessibilityLabel': None, 'icon': None, 't...</td>\n",
       "      <td>House rules</td>\n",
       "      <td>NaN</td>\n",
       "      <td>NaN</td>\n",
       "      <td>NaN</td>\n",
       "      <td>More information about house rules</td>\n",
       "      <td>NaN</td>\n",
       "      <td>Show more</td>\n",
       "      <td>NaN</td>\n",
       "      <td>More information about cancellation policy</td>\n",
       "      <td>NaN</td>\n",
       "      <td>Show more</td>\n",
       "      <td>NaN</td>\n",
       "      <td>Things to know</td>\n",
       "      <td>Safety &amp; property</td>\n",
       "      <td>[{'title': 'Carbon monoxide alarm', 'subtitle'...</td>\n",
       "      <td>More information about safety and property</td>\n",
       "      <td>NaN</td>\n",
       "      <td>Show more</td>\n",
       "      <td>NaN</td>\n",
       "      <td>NaN</td>\n",
       "      <td>NaN</td>\n",
       "      <td>[{'accessibilityLabel': 'Listing image 1', 'ba...</td>\n",
       "      <td>NaN</td>\n",
       "      <td>NaN</td>\n",
       "      <td>Show Host guidebook</td>\n",
       "      <td>NaN</td>\n",
       "      <td>NaN</td>\n",
       "      <td>NaN</td>\n",
       "      <td>Show more</td>\n",
       "      <td>NaN</td>\n",
       "      <td>NaN</td>\n",
       "      <td>NaN</td>\n",
       "      <td>NaN</td>\n",
       "      <td>NaN</td>\n",
       "      <td>NaN</td>\n",
       "      <td>NaN</td>\n",
       "    </tr>\n",
       "    <tr>\n",
       "      <th>2</th>\n",
       "      <td>Guest suite in Calgary · ★4.94 · 1 bedroom · 1...</td>\n",
       "      <td>Entire guest suite</td>\n",
       "      <td>Calgary</td>\n",
       "      <td>2</td>\n",
       "      <td>en</td>\n",
       "      <td>51.058770</td>\n",
       "      <td>-114.041540</td>\n",
       "      <td>1</td>\n",
       "      <td>Entire home/apt</td>\n",
       "      <td>69.0</td>\n",
       "      <td>4.90</td>\n",
       "      <td>4.96</td>\n",
       "      <td>4.97</td>\n",
       "      <td>4.99</td>\n",
       "      <td>4.97</td>\n",
       "      <td>4.93</td>\n",
       "      <td>4.94</td>\n",
       "      <td>CA</td>\n",
       "      <td>671115779168748813</td>\n",
       "      <td>False</td>\n",
       "      <td>False</td>\n",
       "      <td>False</td>\n",
       "      <td>26975570</td>\n",
       "      <td>Carrie</td>\n",
       "      <td>https://a0.muscache.com/im/pictures/user/e2bcd...</td>\n",
       "      <td>False</td>\n",
       "      <td>True</td>\n",
       "      <td>365</td>\n",
       "      <td>3</td>\n",
       "      <td>69</td>\n",
       "      <td>4.94</td>\n",
       "      <td>Entire guest suite</td>\n",
       "      <td>NaN</td>\n",
       "      <td>NaN</td>\n",
       "      <td>False</td>\n",
       "      <td>NaN</td>\n",
       "      <td>[{'cancellationPolicyId': 4, 'milestones': [],...</td>\n",
       "      <td>NaN</td>\n",
       "      <td>NaN</td>\n",
       "      <td>NaN</td>\n",
       "      <td>NaN</td>\n",
       "      <td>NaN</td>\n",
       "      <td>NaN</td>\n",
       "      <td>NaN</td>\n",
       "      <td>NaN</td>\n",
       "      <td>NaN</td>\n",
       "      <td>NaN</td>\n",
       "      <td>NaN</td>\n",
       "      <td>NaN</td>\n",
       "      <td>Rated 4.94 out of 5 from 69 reviews.</td>\n",
       "      <td>4.94</td>\n",
       "      <td>NaN</td>\n",
       "      <td>NaN</td>\n",
       "      <td>NaN</td>\n",
       "      <td>NaN</td>\n",
       "      <td>NaN</td>\n",
       "      <td>Availability</td>\n",
       "      <td>Add your travel dates for exact pricing</td>\n",
       "      <td>Prices on calendar do not include taxes and fees</td>\n",
       "      <td>4.94</td>\n",
       "      <td>69.0</td>\n",
       "      <td>Rated 4.94 out of 5 from 69 reviews.</td>\n",
       "      <td>[{'title': 'Entire guest suite'}, {'title': '1...</td>\n",
       "      <td>Service animals</td>\n",
       "      <td>NaN</td>\n",
       "      <td>Service animals aren’t pets, so there’s no nee...</td>\n",
       "      <td>NaN</td>\n",
       "      <td>NaN</td>\n",
       "      <td>https://a0.muscache.com/pictures/adafb11b-41e9...</td>\n",
       "      <td>NaN</td>\n",
       "      <td>About this space</td>\n",
       "      <td>NaN</td>\n",
       "      <td>[{'title': None, 'subtitle': None, 'media': No...</td>\n",
       "      <td>NaN</td>\n",
       "      <td>NaN</td>\n",
       "      <td>NaN</td>\n",
       "      <td>[{'accessibilityLabel': 'Your own private entr...</td>\n",
       "      <td>NaN</td>\n",
       "      <td>NaN</td>\n",
       "      <td>Show all photos</td>\n",
       "      <td>NaN</td>\n",
       "      <td>pdp.hero.image</td>\n",
       "      <td>image</td>\n",
       "      <td>hero</td>\n",
       "      <td>NaN</td>\n",
       "      <td>NaN</td>\n",
       "      <td>NaN</td>\n",
       "      <td>NaN</td>\n",
       "      <td>NaN</td>\n",
       "      <td>NaN</td>\n",
       "      <td>NaN</td>\n",
       "      <td>Modern suite overlooking downtown</td>\n",
       "      <td>NaN</td>\n",
       "      <td>NaN</td>\n",
       "      <td>NaN</td>\n",
       "      <td>[{'icon': 'SYSTEM_GOLDEN_TROPHY', 'title': 'To...</td>\n",
       "      <td>In Calgary's most vibrant neighborhood, overlo...</td>\n",
       "      <td>9</td>\n",
       "      <td>6</td>\n",
       "      <td>True</td>\n",
       "      <td>NaN</td>\n",
       "      <td>NaN</td>\n",
       "      <td>NaN</td>\n",
       "      <td>What this place offers</td>\n",
       "      <td>[{'id': 'top_ranked_amenities_6711157791687488...</td>\n",
       "      <td>[{'id': 'pdp_v3_scenic_view_671115779168748813...</td>\n",
       "      <td>NaN</td>\n",
       "      <td>NaN</td>\n",
       "      <td>Show all 50 amenities</td>\n",
       "      <td>NaN</td>\n",
       "      <td>NaN</td>\n",
       "      <td>COMPACT_TODAY_NAV</td>\n",
       "      <td>NaN</td>\n",
       "      <td>51.058770</td>\n",
       "      <td>-114.041540</td>\n",
       "      <td>NaN</td>\n",
       "      <td>NaN</td>\n",
       "      <td>[{'id': 'neighborhood-preview_6711157791687488...</td>\n",
       "      <td>NaN</td>\n",
       "      <td>[{'id': 'neighborhood-seeAll_67111577916874881...</td>\n",
       "      <td>Calgary, Alberta, Canada</td>\n",
       "      <td>Where you’ll be</td>\n",
       "      <td>500</td>\n",
       "      <td>NaN</td>\n",
       "      <td>4.94 out of 5 stars from 69 reviews</td>\n",
       "      <td>COMPACT_STAR</td>\n",
       "      <td>Guest favorite</td>\n",
       "      <td>This home is in the &lt;b&gt;top 5%&lt;/b&gt; of eligible ...</td>\n",
       "      <td>[{'localizedRating': '4.9', 'percentage': 0.98...</td>\n",
       "      <td>NaN</td>\n",
       "      <td>NaN</td>\n",
       "      <td>NaN</td>\n",
       "      <td>[{'id': 4, 'milestones': [], 'cancellationMile...</td>\n",
       "      <td>Cancellation policy</td>\n",
       "      <td>NaN</td>\n",
       "      <td>[{'accessibilityLabel': None, 'icon': None, 't...</td>\n",
       "      <td>House rules</td>\n",
       "      <td>NaN</td>\n",
       "      <td>NaN</td>\n",
       "      <td>NaN</td>\n",
       "      <td>More information about house rules</td>\n",
       "      <td>NaN</td>\n",
       "      <td>Show more</td>\n",
       "      <td>NaN</td>\n",
       "      <td>More information about cancellation policy</td>\n",
       "      <td>NaN</td>\n",
       "      <td>Show more</td>\n",
       "      <td>NaN</td>\n",
       "      <td>Things to know</td>\n",
       "      <td>Safety &amp; property</td>\n",
       "      <td>[{'title': 'Carbon monoxide alarm', 'subtitle'...</td>\n",
       "      <td>More information about safety and property</td>\n",
       "      <td>NaN</td>\n",
       "      <td>Show more</td>\n",
       "      <td>NaN</td>\n",
       "      <td>NaN</td>\n",
       "      <td>Photo tour</td>\n",
       "      <td>[{'accessibilityLabel': 'Living area with comf...</td>\n",
       "      <td>NaN</td>\n",
       "      <td>NaN</td>\n",
       "      <td>NaN</td>\n",
       "      <td>NaN</td>\n",
       "      <td>NaN</td>\n",
       "      <td>NaN</td>\n",
       "      <td>Show more</td>\n",
       "      <td>NaN</td>\n",
       "      <td>Where you’ll sleep</td>\n",
       "      <td>[{'title': 'Bedroom', 'subtitle': '1 queen bed...</td>\n",
       "      <td>NaN</td>\n",
       "      <td>NaN</td>\n",
       "      <td>NaN</td>\n",
       "      <td>NaN</td>\n",
       "    </tr>\n",
       "  </tbody>\n",
       "</table>\n",
       "</div>"
      ],
      "text/plain": [
       "                                               title        propertyType  \\\n",
       "0  Home in Calgary · ★4.95 · 1 bedroom · 1 bed · ...         Entire home   \n",
       "1  Rental unit in Calgary · ★4.84 · Studio · 2 be...  Entire rental unit   \n",
       "2  Guest suite in Calgary · ★4.94 · 1 bedroom · 1...  Entire guest suite   \n",
       "\n",
       "  location  personCapacity descriptionLanguage  listingLat  listingLng  \\\n",
       "0  Calgary               2                  en   51.055354 -114.028776   \n",
       "1  Calgary               3                  en   51.052710 -114.047400   \n",
       "2  Calgary               2                  en   51.058770 -114.041540   \n",
       "\n",
       "   homeTier         roomType  visibleReviewCount  valueRating  locationRating  \\\n",
       "0         1  Entire home/apt                21.0         5.00            5.00   \n",
       "1         1  Entire home/apt               268.0         4.85            4.88   \n",
       "2         1  Entire home/apt                69.0         4.90            4.96   \n",
       "\n",
       "   communicationRating  checkinRating  accuracyRating  cleanlinessRating  \\\n",
       "0                 5.00           5.00            5.00               5.00   \n",
       "1                 4.93           4.88            4.83               4.94   \n",
       "2                 4.97           4.99            4.97               4.93   \n",
       "\n",
       "   guestSatisfactionOverall productCountry          property_id  \\\n",
       "0                      4.95             CA  1143371712266502884   \n",
       "1                      4.84             CA             36314346   \n",
       "2                      4.94             CA   671115779168748813   \n",
       "\n",
       "  bookingData.allowsChildren bookingData.allowsInfants bookingData.allowsPets  \\\n",
       "0                       True                      True                  False   \n",
       "1                      False                     False                  False   \n",
       "2                      False                     False                  False   \n",
       "\n",
       "   bookingData.hostId bookingData.hostName  \\\n",
       "0            38955414                Haley   \n",
       "1            20511008                 Cory   \n",
       "2            26975570               Carrie   \n",
       "\n",
       "                     bookingData.hostProfilePhotoUrl  \\\n",
       "0  https://a0.muscache.com/im/pictures/user/User/...   \n",
       "1  https://a0.muscache.com/im/pictures/user/a9779...   \n",
       "2  https://a0.muscache.com/im/pictures/user/e2bcd...   \n",
       "\n",
       "   bookingData.isHotelRatePlanEnabled  bookingData.isSuperhost  \\\n",
       "0                               False                     True   \n",
       "1                               False                     True   \n",
       "2                               False                     True   \n",
       "\n",
       "   bookingData.maxNights  bookingData.minNights  bookingData.reviewsCount  \\\n",
       "0                     30                      1                        21   \n",
       "1                     21                      1                       268   \n",
       "2                    365                      3                        69   \n",
       "\n",
       "   bookingData.reviewsRating bookingData.roomAndPropertyType  \\\n",
       "0                       4.95                     Entire home   \n",
       "1                       4.84              Entire rental unit   \n",
       "2                       4.94              Entire guest suite   \n",
       "\n",
       "   bookingData.barPrice  bookingData.chinaDiscountModalData  \\\n",
       "0                   NaN                                 NaN   \n",
       "1                   NaN                                 NaN   \n",
       "2                   NaN                                 NaN   \n",
       "\n",
       "   bookingData.canInstantBook  bookingData.price  \\\n",
       "0                        True                NaN   \n",
       "1                       False                NaN   \n",
       "2                       False                NaN   \n",
       "\n",
       "                    bookingData.cancellationPolicies  \\\n",
       "0  [{'cancellationPolicyId': 3, 'milestones': [],...   \n",
       "1  [{'cancellationPolicyId': 62, 'milestones': []...   \n",
       "2  [{'cancellationPolicyId': 4, 'milestones': [],...   \n",
       "\n",
       "   bookingData.structuredDisplayPrice  bookingData.productItemDetail  \\\n",
       "0                                 NaN                            NaN   \n",
       "1                                 NaN                            NaN   \n",
       "2                                 NaN                            NaN   \n",
       "\n",
       "   sections.bookIt.available  sections.bookIt.title  \\\n",
       "0                        NaN                    NaN   \n",
       "1                        NaN                    NaN   \n",
       "2                        NaN                    NaN   \n",
       "\n",
       "   sections.bookIt.cancellationPolicyLoggingEventData  \\\n",
       "0                                                NaN    \n",
       "1                                                NaN    \n",
       "2                                                NaN    \n",
       "\n",
       "   sections.bookIt.calendarTitle  sections.bookIt.calendarSubtitle  \\\n",
       "0                            NaN                               NaN   \n",
       "1                            NaN                               NaN   \n",
       "2                            NaN                               NaN   \n",
       "\n",
       "   sections.bookIt.descriptionItems  sections.bookIt.discountCopy  \\\n",
       "0                               NaN                           NaN   \n",
       "1                               NaN                           NaN   \n",
       "2                               NaN                           NaN   \n",
       "\n",
       "   sections.bookIt.maxGuestCapacity  sections.bookIt.barPrice  \\\n",
       "0                               NaN                       NaN   \n",
       "1                               NaN                       NaN   \n",
       "2                               NaN                       NaN   \n",
       "\n",
       "   sections.bookIt.bookItButtonByPlacement  \\\n",
       "0                                      NaN   \n",
       "1                                      NaN   \n",
       "2                                      NaN   \n",
       "\n",
       "  sections.bookIt.reviewItem.accessibilityLabel  \\\n",
       "0          Rated 4.95 out of 5 from 21 reviews.   \n",
       "1         Rated 4.84 out of 5 from 268 reviews.   \n",
       "2          Rated 4.94 out of 5 from 69 reviews.   \n",
       "\n",
       "  sections.bookIt.reviewItem.title  sections.bookIt.structuredDisplayPrice  \\\n",
       "0                             4.95                                     NaN   \n",
       "1                             4.84                                     NaN   \n",
       "2                             4.94                                     NaN   \n",
       "\n",
       "   sections.bookIt.selectedDatesLink  sections.bookIt.selectedNights  \\\n",
       "0                                NaN                             NaN   \n",
       "1                                NaN                             NaN   \n",
       "2                                NaN                             NaN   \n",
       "\n",
       "   sections.bookIt.productId  sections.education.pdpEducationContentData  \\\n",
       "0                        NaN                                         NaN   \n",
       "1                        NaN                                         NaN   \n",
       "2                        NaN                                         NaN   \n",
       "\n",
       "  sections.availabilityCalendarDefault.title  \\\n",
       "0                               Availability   \n",
       "1                               Availability   \n",
       "2                               Availability   \n",
       "\n",
       "  sections.availabilityCalendarDefault.subtitle  \\\n",
       "0       Add your travel dates for exact pricing   \n",
       "1       Add your travel dates for exact pricing   \n",
       "2       Add your travel dates for exact pricing   \n",
       "\n",
       "  sections.availabilityCalendarDefault.priceDisclaimer  \\\n",
       "0   Prices on calendar do not include taxes and fees     \n",
       "1   Prices on calendar do not include taxes and fees     \n",
       "2   Prices on calendar do not include taxes and fees     \n",
       "\n",
       "   sections.availabilityCalendarDefault.reviewRating  \\\n",
       "0                                               4.95   \n",
       "1                                               4.84   \n",
       "2                                               4.94   \n",
       "\n",
       "   sections.availabilityCalendarDefault.reviewCount  \\\n",
       "0                                              21.0   \n",
       "1                                             268.0   \n",
       "2                                              69.0   \n",
       "\n",
       "  sections.availabilityCalendarDefault.reviewAccessibilityLabel  \\\n",
       "0               Rated 4.95 out of 5 from 21 reviews.              \n",
       "1              Rated 4.84 out of 5 from 268 reviews.              \n",
       "2               Rated 4.94 out of 5 from 69 reviews.              \n",
       "\n",
       "  sections.availabilityCalendarDefault.descriptionItems  \\\n",
       "0  [{'title': 'Entire home'}, {'title': '1 bed'},...      \n",
       "1  [{'title': 'Entire rental unit'}, {'title': '2...      \n",
       "2  [{'title': 'Entire guest suite'}, {'title': '1...      \n",
       "\n",
       "  sections.petCounts.title  sections.petCounts.titleStyle  \\\n",
       "0          Service animals                            NaN   \n",
       "1          Service animals                            NaN   \n",
       "2          Service animals                            NaN   \n",
       "\n",
       "                    sections.petCounts.html.htmlText  \\\n",
       "0  Service animals aren’t pets, so there’s no nee...   \n",
       "1  Service animals aren’t pets, so there’s no nee...   \n",
       "2  Service animals aren’t pets, so there’s no nee...   \n",
       "\n",
       "   sections.petCounts.html.recommendedNumberOfLines  sections.petCounts.icon  \\\n",
       "0                                               NaN                      NaN   \n",
       "1                                               NaN                      NaN   \n",
       "2                                               NaN                      NaN   \n",
       "\n",
       "                sections.petCounts.mediaItem.baseUrl  \\\n",
       "0  https://a0.muscache.com/pictures/adafb11b-41e9...   \n",
       "1  https://a0.muscache.com/pictures/adafb11b-41e9...   \n",
       "2  https://a0.muscache.com/pictures/adafb11b-41e9...   \n",
       "\n",
       "   sections.petCounts.subtitle sections.description.title  \\\n",
       "0                          NaN           About this space   \n",
       "1                          NaN           About this space   \n",
       "2                          NaN           About this space   \n",
       "\n",
       "   sections.description.subtitle  \\\n",
       "0                            NaN   \n",
       "1                            NaN   \n",
       "2                            NaN   \n",
       "\n",
       "                          sections.description.items  \\\n",
       "0  [{'title': None, 'subtitle': None, 'media': No...   \n",
       "1  [{'title': None, 'subtitle': None, 'media': No...   \n",
       "2  [{'title': None, 'subtitle': None, 'media': No...   \n",
       "\n",
       "   sections.description.logoData  sections.description.mediaItems  \\\n",
       "0                            NaN                              NaN   \n",
       "1                            NaN                              NaN   \n",
       "2                            NaN                              NaN   \n",
       "\n",
       "   sections.hero.mediaItems  \\\n",
       "0                       NaN   \n",
       "1                       NaN   \n",
       "2                       NaN   \n",
       "\n",
       "                         sections.hero.previewImages  \\\n",
       "0  [{'accessibilityLabel': 'Cute Inner City Haven...   \n",
       "1  [{'accessibilityLabel': 'Cozy Suite In The Hea...   \n",
       "2  [{'accessibilityLabel': 'Your own private entr...   \n",
       "\n",
       "   sections.hero.seePhotosButton.accessibilityLabel  \\\n",
       "0                                               NaN   \n",
       "1                                               NaN   \n",
       "2                                               NaN   \n",
       "\n",
       "   sections.hero.seePhotosButton.icon sections.hero.seePhotosButton.title  \\\n",
       "0                                 NaN                     Show all photos   \n",
       "1                                 NaN                     Show all photos   \n",
       "2                                 NaN                     Show all photos   \n",
       "\n",
       "   sections.hero.seePhotosButton.subtitle  \\\n",
       "0                                     NaN   \n",
       "1                                     NaN   \n",
       "2                                     NaN   \n",
       "\n",
       "  sections.hero.previewImageLoggingEventData.loggingId  \\\n",
       "0                                     pdp.hero.image     \n",
       "1                                     pdp.hero.image     \n",
       "2                                     pdp.hero.image     \n",
       "\n",
       "  sections.hero.previewImageLoggingEventData.component  \\\n",
       "0                                              image     \n",
       "1                                              image     \n",
       "2                                              image     \n",
       "\n",
       "  sections.hero.previewImageLoggingEventData.section  \\\n",
       "0                                               hero   \n",
       "1                                               hero   \n",
       "2                                               hero   \n",
       "\n",
       "   sections.hero.previewImageLoggingEventData.eventData  \\\n",
       "0                                                NaN      \n",
       "1                                                NaN      \n",
       "2                                                NaN      \n",
       "\n",
       "   sections.hero.previewImageLoggingEventData.eventDataSchemaName  \\\n",
       "0                                                NaN                \n",
       "1                                                NaN                \n",
       "2                                                NaN                \n",
       "\n",
       "   sections.title.billboardButton  sections.title.kicker  \\\n",
       "0                             NaN                    NaN   \n",
       "1                             NaN                    NaN   \n",
       "2                             NaN                    NaN   \n",
       "\n",
       "   sections.title.kickerItems  sections.title.actionableIcon  \\\n",
       "0                         NaN                            NaN   \n",
       "1                         NaN                            NaN   \n",
       "2                         NaN                            NaN   \n",
       "\n",
       "   sections.title.icon                              sections.title.title  \\\n",
       "0                  NaN  Cute Inner City Haven with Country-like Serenity   \n",
       "1                  NaN  Cozy Suite In The Heart Of Bridgeland - BL246108   \n",
       "2                  NaN                 Modern suite overlooking downtown   \n",
       "\n",
       "   sections.title.overviewItems  sections.title.subtitle  \\\n",
       "0                           NaN                      NaN   \n",
       "1                           NaN                      NaN   \n",
       "2                           NaN                      NaN   \n",
       "\n",
       "   sections.highlights.title  \\\n",
       "0                        NaN   \n",
       "1                        NaN   \n",
       "2                        NaN   \n",
       "\n",
       "                      sections.highlights.highlights  \\\n",
       "0  [{'icon': 'SYSTEM_GOLDEN_TROPHY', 'title': 'To...   \n",
       "1  [{'icon': 'SYSTEM_CHECK_IN', 'title': 'Self ch...   \n",
       "2  [{'icon': 'SYSTEM_GOLDEN_TROPHY', 'title': 'To...   \n",
       "\n",
       "  sections.descriptionDefault.descriptionSummary.htmlText  \\\n",
       "0  Welcome to our unique home, offering country s...        \n",
       "1  Welcome to Calgary and we invite you to Bridge...        \n",
       "2  In Calgary's most vibrant neighborhood, overlo...        \n",
       "\n",
       "   sections.descriptionDefault.descriptionSummary.minimumNumberOfLinesForTruncation  \\\n",
       "0                                                  9                                  \n",
       "1                                                  9                                  \n",
       "2                                                  9                                  \n",
       "\n",
       "   sections.descriptionDefault.descriptionSummary.recommendedNumberOfLines  \\\n",
       "0                                                  6                         \n",
       "1                                                  6                         \n",
       "2                                                  6                         \n",
       "\n",
       "   sections.descriptionDefault.hasExtraDescriptionDetails  \\\n",
       "0                                               True        \n",
       "1                                               True        \n",
       "2                                               True        \n",
       "\n",
       "   sections.descriptionDefault.htmlDescription  \\\n",
       "0                                          NaN   \n",
       "1                                          NaN   \n",
       "2                                          NaN   \n",
       "\n",
       "   sections.descriptionDefault.hostQuote sections.descriptionDefault.title  \\\n",
       "0                                    NaN                               NaN   \n",
       "1                                    NaN                               NaN   \n",
       "2                                    NaN                               NaN   \n",
       "\n",
       "  sections.amenities.title          sections.amenities.previewAmenitiesGroups  \\\n",
       "0   What this place offers  [{'id': 'top_ranked_amenities_1143371712266502...   \n",
       "1   What this place offers  [{'id': 'top_ranked_amenities_36314346', 'titl...   \n",
       "2   What this place offers  [{'id': 'top_ranked_amenities_6711157791687488...   \n",
       "\n",
       "            sections.amenities.seeAllAmenitiesGroups  \\\n",
       "0  [{'id': 'pdp_v3_bathroom_1143371712266502884',...   \n",
       "1  [{'id': 'pdp_v3_bathroom_36314346', 'title': '...   \n",
       "2  [{'id': 'pdp_v3_scenic_view_671115779168748813...   \n",
       "\n",
       "   sections.amenities.seeAllAmenitiesButton.accessibilityLabel  \\\n",
       "0                                                NaN             \n",
       "1                                                NaN             \n",
       "2                                                NaN             \n",
       "\n",
       "   sections.amenities.seeAllAmenitiesButton.icon  \\\n",
       "0                                            NaN   \n",
       "1                                            NaN   \n",
       "2                                            NaN   \n",
       "\n",
       "  sections.amenities.seeAllAmenitiesButton.title  \\\n",
       "0                          Show all 16 amenities   \n",
       "1                          Show all 26 amenities   \n",
       "2                          Show all 50 amenities   \n",
       "\n",
       "   sections.amenities.seeAllAmenitiesButton.subtitle  \\\n",
       "0                                                NaN   \n",
       "1                                                NaN   \n",
       "2                                                NaN   \n",
       "\n",
       "   sections.location.address sections.location.homeIcon  \\\n",
       "0                        NaN              COMPACT_HOUSE   \n",
       "1                        NaN          COMPACT_TODAY_NAV   \n",
       "2                        NaN          COMPACT_TODAY_NAV   \n",
       "\n",
       "   sections.location.hostGuidebookButton  sections.location.lat  \\\n",
       "0                                    NaN              51.055354   \n",
       "1                                    NaN              51.052710   \n",
       "2                                    NaN              51.058770   \n",
       "\n",
       "   sections.location.lng  sections.location.locationDisclaimer  \\\n",
       "0            -114.028776                                   NaN   \n",
       "1            -114.047400                                   NaN   \n",
       "2            -114.041540                                   NaN   \n",
       "\n",
       "   sections.location.locationDisclaimerItems  \\\n",
       "0                                        NaN   \n",
       "1                                        NaN   \n",
       "2                                        NaN   \n",
       "\n",
       "            sections.location.previewLocationDetails  \\\n",
       "0                                                 []   \n",
       "1  [{'id': 'neighborhood-preview_36314346', 'disp...   \n",
       "2  [{'id': 'neighborhood-preview_6711157791687488...   \n",
       "\n",
       "   sections.location.seeAllDetailsButton  \\\n",
       "0                                    NaN   \n",
       "1                                    NaN   \n",
       "2                                    NaN   \n",
       "\n",
       "             sections.location.seeAllLocationDetails  \\\n",
       "0                                                 []   \n",
       "1  [{'id': 'neighborhood-seeAll_36314346', 'displ...   \n",
       "2  [{'id': 'neighborhood-seeAll_67111577916874881...   \n",
       "\n",
       "  sections.location.subtitle sections.location.title  \\\n",
       "0   Calgary, Alberta, Canada         Where you’ll be   \n",
       "1   Calgary, Alberta, Canada         Where you’ll be   \n",
       "2   Calgary, Alberta, Canada         Where you’ll be   \n",
       "\n",
       "   sections.location.mapMarkerRadiusInMeters  sections.reviewsDefault.title  \\\n",
       "0                                        500                            NaN   \n",
       "1                                        152                            NaN   \n",
       "2                                        500                            NaN   \n",
       "\n",
       "  sections.reviewsDefault.heading.accessibilityLabel  \\\n",
       "0                4.95 out of 5 stars from 21 reviews   \n",
       "1               4.84 out of 5 stars from 268 reviews   \n",
       "2                4.94 out of 5 stars from 69 reviews   \n",
       "\n",
       "  sections.reviewsDefault.heading.icon sections.reviewsDefault.heading.title  \\\n",
       "0                         COMPACT_STAR                        Guest favorite   \n",
       "1                         COMPACT_STAR                    4.84 · 268 reviews   \n",
       "2                         COMPACT_STAR                        Guest favorite   \n",
       "\n",
       "            sections.reviewsDefault.heading.subtitle  \\\n",
       "0  This home is in the <b>top 1%</b> of eligible ...   \n",
       "1                                                NaN   \n",
       "2  This home is in the <b>top 5%</b> of eligible ...   \n",
       "\n",
       "                     sections.reviewsDefault.ratings  \\\n",
       "0  [{'localizedRating': '5.0', 'percentage': 1, '...   \n",
       "1  [{'localizedRating': '4.9', 'percentage': 0.98...   \n",
       "2  [{'localizedRating': '4.9', 'percentage': 0.98...   \n",
       "\n",
       "   sections.policies.additionalHouseRules  \\\n",
       "0                                     NaN   \n",
       "1                                     NaN   \n",
       "2                                     NaN   \n",
       "\n",
       "   sections.policies.additionalHouseRulesTitle  \\\n",
       "0                                          NaN   \n",
       "1                                          NaN   \n",
       "2                                          NaN   \n",
       "\n",
       "   sections.policies.cancellationPolicyForDisplay  \\\n",
       "0                                             NaN   \n",
       "1                                             NaN   \n",
       "2                                             NaN   \n",
       "\n",
       "              sections.policies.cancellationPolicies  \\\n",
       "0  [{'id': 3, 'milestones': [], 'cancellationMile...   \n",
       "1  [{'id': 62, 'milestones': [], 'cancellationMil...   \n",
       "2  [{'id': 4, 'milestones': [], 'cancellationMile...   \n",
       "\n",
       "  sections.policies.cancellationPolicyTitle  sections.policies.discountData  \\\n",
       "0                       Cancellation policy                             NaN   \n",
       "1                       Cancellation policy                             NaN   \n",
       "2                       Cancellation policy                             NaN   \n",
       "\n",
       "                        sections.policies.houseRules  \\\n",
       "0  [{'accessibilityLabel': None, 'icon': None, 't...   \n",
       "1  [{'accessibilityLabel': None, 'icon': None, 't...   \n",
       "2  [{'accessibilityLabel': None, 'icon': None, 't...   \n",
       "\n",
       "  sections.policies.houseRulesTitle  sections.policies.listingExpectations  \\\n",
       "0                       House rules                                    NaN   \n",
       "1                       House rules                                    NaN   \n",
       "2                       House rules                                    NaN   \n",
       "\n",
       "   sections.policies.listingExpectationsTitle  sections.policies.reportButton  \\\n",
       "0                                         NaN                             NaN   \n",
       "1                                         NaN                             NaN   \n",
       "2                                         NaN                             NaN   \n",
       "\n",
       "  sections.policies.seeAllHouseRulesButton.accessibilityLabel  \\\n",
       "0                 More information about house rules            \n",
       "1                 More information about house rules            \n",
       "2                 More information about house rules            \n",
       "\n",
       "   sections.policies.seeAllHouseRulesButton.icon  \\\n",
       "0                                            NaN   \n",
       "1                                            NaN   \n",
       "2                                            NaN   \n",
       "\n",
       "  sections.policies.seeAllHouseRulesButton.title  \\\n",
       "0                                      Show more   \n",
       "1                                      Show more   \n",
       "2                                      Show more   \n",
       "\n",
       "   sections.policies.seeAllHouseRulesButton.subtitle  \\\n",
       "0                                                NaN   \n",
       "1                                                NaN   \n",
       "2                                                NaN   \n",
       "\n",
       "  sections.policies.seeCancellationPolicyButton.accessibilityLabel  \\\n",
       "0         More information about cancellation policy                 \n",
       "1         More information about cancellation policy                 \n",
       "2         More information about cancellation policy                 \n",
       "\n",
       "   sections.policies.seeCancellationPolicyButton.icon  \\\n",
       "0                                                NaN    \n",
       "1                                                NaN    \n",
       "2                                                NaN    \n",
       "\n",
       "  sections.policies.seeCancellationPolicyButton.title  \\\n",
       "0                                          Show more    \n",
       "1                                          Show more    \n",
       "2                                          Show more    \n",
       "\n",
       "   sections.policies.seeCancellationPolicyButton.subtitle  \\\n",
       "0                                                NaN        \n",
       "1                                                NaN        \n",
       "2                                                NaN        \n",
       "\n",
       "  sections.policies.title sections.policies.safetyAndPropertyTitle  \\\n",
       "0          Things to know                        Safety & property   \n",
       "1          Things to know                        Safety & property   \n",
       "2          Things to know                        Safety & property   \n",
       "\n",
       "        sections.policies.previewSafetyAndProperties  \\\n",
       "0  [{'title': 'Exterior security cameras on prope...   \n",
       "1  [{'title': 'Carbon monoxide alarm', 'subtitle'...   \n",
       "2  [{'title': 'Carbon monoxide alarm', 'subtitle'...   \n",
       "\n",
       "  sections.policies.seeAllSafetyAndPropertyButton.accessibilityLabel  \\\n",
       "0         More information about safety and property                   \n",
       "1         More information about safety and property                   \n",
       "2         More information about safety and property                   \n",
       "\n",
       "   sections.policies.seeAllSafetyAndPropertyButton.icon  \\\n",
       "0                                                NaN      \n",
       "1                                                NaN      \n",
       "2                                                NaN      \n",
       "\n",
       "  sections.policies.seeAllSafetyAndPropertyButton.title  \\\n",
       "0                                          Show more      \n",
       "1                                          Show more      \n",
       "2                                          Show more      \n",
       "\n",
       "   sections.policies.seeAllSafetyAndPropertyButton.subtitle  \\\n",
       "0                                                NaN          \n",
       "1                                                NaN          \n",
       "2                                                NaN          \n",
       "\n",
       "   sections.policies.safetyExpectationsAndAmenities sections.photoTour.title  \\\n",
       "0                                               NaN               Photo tour   \n",
       "1                                               NaN                      NaN   \n",
       "2                                               NaN               Photo tour   \n",
       "\n",
       "                       sections.photoTour.mediaItems  \\\n",
       "0  [{'accessibilityLabel': 'Living room image 1',...   \n",
       "1  [{'accessibilityLabel': 'Listing image 1', 'ba...   \n",
       "2  [{'accessibilityLabel': 'Living area with comf...   \n",
       "\n",
       "   sections.location.hostGuidebookButton.accessibilityLabel  \\\n",
       "0                                                NaN          \n",
       "1                                                NaN          \n",
       "2                                                NaN          \n",
       "\n",
       "   sections.location.hostGuidebookButton.icon  \\\n",
       "0                                         NaN   \n",
       "1                                         NaN   \n",
       "2                                         NaN   \n",
       "\n",
       "  sections.location.hostGuidebookButton.title  \\\n",
       "0                                         NaN   \n",
       "1                         Show Host guidebook   \n",
       "2                                         NaN   \n",
       "\n",
       "   sections.location.hostGuidebookButton.subtitle  \\\n",
       "0                                             NaN   \n",
       "1                                             NaN   \n",
       "2                                             NaN   \n",
       "\n",
       "   sections.location.seeAllDetailsButton.accessibilityLabel  \\\n",
       "0                                                NaN          \n",
       "1                                                NaN          \n",
       "2                                                NaN          \n",
       "\n",
       "   sections.location.seeAllDetailsButton.icon  \\\n",
       "0                                         NaN   \n",
       "1                                         NaN   \n",
       "2                                         NaN   \n",
       "\n",
       "  sections.location.seeAllDetailsButton.title  \\\n",
       "0                                         NaN   \n",
       "1                                   Show more   \n",
       "2                                   Show more   \n",
       "\n",
       "   sections.location.seeAllDetailsButton.subtitle  \\\n",
       "0                                             NaN   \n",
       "1                                             NaN   \n",
       "2                                             NaN   \n",
       "\n",
       "  sections.sleepingArrangement.title  \\\n",
       "0                                NaN   \n",
       "1                                NaN   \n",
       "2                 Where you’ll sleep   \n",
       "\n",
       "     sections.sleepingArrangement.arrangementDetails  \\\n",
       "0                                                NaN   \n",
       "1                                                NaN   \n",
       "2  [{'title': 'Bedroom', 'subtitle': '1 queen bed...   \n",
       "\n",
       "  sections.title.actionableIcon.accessibilityLabel  \\\n",
       "0                                              NaN   \n",
       "1                                              NaN   \n",
       "2                                              NaN   \n",
       "\n",
       "  sections.title.actionableIcon.icon  sections.title.actionableIcon.title  \\\n",
       "0                                NaN                                  NaN   \n",
       "1                                NaN                                  NaN   \n",
       "2                                NaN                                  NaN   \n",
       "\n",
       "   sections.title.actionableIcon.subtitle  \n",
       "0                                     NaN  \n",
       "1                                     NaN  \n",
       "2                                     NaN  "
      ]
     },
     "execution_count": 4,
     "metadata": {},
     "output_type": "execute_result"
    }
   ],
   "source": [
    "dp.head(3)"
   ]
  },
  {
   "cell_type": "code",
   "execution_count": 5,
   "metadata": {},
   "outputs": [
    {
     "name": "stdout",
     "output_type": "stream",
     "text": [
      "<class 'pandas.core.frame.DataFrame'>\n",
      "RangeIndex: 495 entries, 0 to 494\n",
      "Columns: 172 entries, title to sections.title.actionableIcon.subtitle\n",
      "dtypes: bool(4), float64(89), int64(10), object(69)\n",
      "memory usage: 651.7+ KB\n"
     ]
    }
   ],
   "source": [
    "dp.info()"
   ]
  },
  {
   "cell_type": "code",
   "execution_count": 6,
   "metadata": {},
   "outputs": [
    {
     "data": {
      "text/plain": [
       "(495, 172)"
      ]
     },
     "execution_count": 6,
     "metadata": {},
     "output_type": "execute_result"
    }
   ],
   "source": [
    "dp.shape"
   ]
  },
  {
   "cell_type": "code",
   "execution_count": 7,
   "metadata": {},
   "outputs": [
    {
     "name": "stdout",
     "output_type": "stream",
     "text": [
      "                                                    Missing Values  Percentage\n",
      "sections.title.billboardButton                                 495  100.000000\n",
      "sections.title.kicker                                          495  100.000000\n",
      "sections.amenities.seeAllAmenitiesButton.subtitle              495  100.000000\n",
      "sections.amenities.seeAllAmenitiesButton.icon                  495  100.000000\n",
      "sections.amenities.seeAllAmenitiesButton.access...             495  100.000000\n",
      "sections.descriptionDefault.hostQuote                          495  100.000000\n",
      "sections.descriptionDefault.htmlDescription                    495  100.000000\n",
      "sections.highlights.title                                      495  100.000000\n",
      "sections.title.subtitle                                        495  100.000000\n",
      "sections.title.overviewItems                                   495  100.000000\n",
      "sections.title.icon                                            495  100.000000\n",
      "sections.title.actionableIcon                                  495  100.000000\n",
      "sections.title.kickerItems                                     495  100.000000\n",
      "sections.hero.previewImageLoggingEventData.even...             495  100.000000\n",
      "sections.education.pdpEducationContentData                     495  100.000000\n",
      "sections.hero.previewImageLoggingEventData.even...             495  100.000000\n",
      "sections.hero.seePhotosButton.subtitle                         495  100.000000\n",
      "sections.hero.seePhotosButton.icon                             495  100.000000\n",
      "sections.hero.seePhotosButton.accessibilityLabel               495  100.000000\n",
      "sections.hero.mediaItems                                       495  100.000000\n",
      "sections.description.mediaItems                                495  100.000000\n",
      "sections.description.logoData                                  495  100.000000\n",
      "sections.description.subtitle                                  495  100.000000\n",
      "sections.petCounts.subtitle                                    495  100.000000\n",
      "sections.petCounts.icon                                        495  100.000000\n",
      "sections.petCounts.html.recommendedNumberOfLines               495  100.000000\n",
      "sections.location.address                                      495  100.000000\n",
      "sections.location.hostGuidebookButton                          495  100.000000\n",
      "sections.location.locationDisclaimer                           495  100.000000\n",
      "sections.location.locationDisclaimerItems                      495  100.000000\n",
      "sections.title.actionableIcon.title                            495  100.000000\n",
      "sections.location.seeAllDetailsButton.subtitle                 495  100.000000\n",
      "sections.location.seeAllDetailsButton.icon                     495  100.000000\n",
      "sections.location.seeAllDetailsButton.accessibi...             495  100.000000\n",
      "sections.location.hostGuidebookButton.subtitle                 495  100.000000\n",
      "sections.location.hostGuidebookButton.icon                     495  100.000000\n",
      "sections.location.hostGuidebookButton.accessibi...             495  100.000000\n",
      "sections.policies.safetyExpectationsAndAmenities               495  100.000000\n",
      "sections.policies.seeAllSafetyAndPropertyButton...             495  100.000000\n",
      "sections.policies.seeAllSafetyAndPropertyButton...             495  100.000000\n",
      "sections.policies.seeCancellationPolicyButton.s...             495  100.000000\n",
      "sections.policies.seeCancellationPolicyButton.icon             495  100.000000\n",
      "sections.policies.seeAllHouseRulesButton.subtitle              495  100.000000\n",
      "sections.policies.seeAllHouseRulesButton.icon                  495  100.000000\n",
      "sections.policies.reportButton                                 495  100.000000\n",
      "sections.policies.listingExpectationsTitle                     495  100.000000\n",
      "sections.policies.listingExpectations                          495  100.000000\n",
      "sections.policies.discountData                                 495  100.000000\n",
      "sections.policies.cancellationPolicyForDisplay                 495  100.000000\n",
      "sections.policies.additionalHouseRulesTitle                    495  100.000000\n",
      "sections.policies.additionalHouseRules                         495  100.000000\n",
      "sections.reviewsDefault.title                                  495  100.000000\n",
      "sections.location.seeAllDetailsButton                          495  100.000000\n",
      "sections.petCounts.titleStyle                                  495  100.000000\n",
      "sections.title.actionableIcon.subtitle                         495  100.000000\n",
      "sections.bookIt.productId                                      495  100.000000\n",
      "bookingData.chinaDiscountModalData                             495  100.000000\n",
      "sections.bookIt.title                                          495  100.000000\n",
      "sections.bookIt.calendarSubtitle                               495  100.000000\n",
      "sections.bookIt.available                                      495  100.000000\n",
      "sections.bookIt.descriptionItems                               495  100.000000\n",
      "sections.bookIt.discountCopy                                   495  100.000000\n",
      "bookingData.productItemDetail                                  495  100.000000\n",
      "sections.bookIt.maxGuestCapacity                               495  100.000000\n",
      "sections.bookIt.barPrice                                       495  100.000000\n",
      "sections.bookIt.bookItButtonByPlacement                        495  100.000000\n",
      "bookingData.structuredDisplayPrice                             495  100.000000\n",
      "sections.bookIt.calendarTitle                                  495  100.000000\n",
      "bookingData.price                                              495  100.000000\n",
      "sections.bookIt.structuredDisplayPrice                         495  100.000000\n",
      "sections.bookIt.selectedDatesLink                              495  100.000000\n",
      "sections.bookIt.selectedNights                                 495  100.000000\n",
      "bookingData.barPrice                                           495  100.000000\n",
      "sections.bookIt.cancellationPolicyLoggingEventData             495  100.000000\n",
      "sections.title.actionableIcon.accessibilityLabel               493   99.595960\n",
      "sections.title.actionableIcon.icon                             493   99.595960\n",
      "sections.descriptionDefault.title                              447   90.303030\n",
      "sections.location.hostGuidebookButton.title                    340   68.686869\n",
      "sections.location.seeAllDetailsButton.title                    201   40.606061\n",
      "sections.reviewsDefault.heading.subtitle                       201   40.606061\n",
      "bookingData.allowsInfants                                      193   38.989899\n",
      "sections.sleepingArrangement.title                             191   38.585859\n",
      "sections.sleepingArrangement.arrangementDetails                191   38.585859\n",
      "bookingData.allowsChildren                                     181   36.565657\n",
      "sections.photoTour.title                                       119   24.040404\n",
      "sections.reviewsDefault.heading.icon                            69   13.939394\n",
      "sections.reviewsDefault.ratings                                 69   13.939394\n",
      "sections.bookIt.reviewItem.accessibilityLabel                   59   11.919192\n",
      "checkinRating                                                   40    8.080808\n",
      "sections.availabilityCalendarDefault.reviewAcce...              40    8.080808\n",
      "sections.reviewsDefault.heading.accessibilityLabel              40    8.080808\n",
      "sections.availabilityCalendarDefault.reviewRating               40    8.080808\n",
      "guestSatisfactionOverall                                        40    8.080808\n",
      "cleanlinessRating                                               40    8.080808\n",
      "accuracyRating                                                  40    8.080808\n",
      "communicationRating                                             40    8.080808\n",
      "sections.availabilityCalendarDefault.reviewCount                40    8.080808\n",
      "sections.reviewsDefault.heading.title                           40    8.080808\n",
      "visibleReviewCount                                              40    8.080808\n",
      "locationRating                                                  40    8.080808\n",
      "valueRating                                                     40    8.080808\n",
      "bookingData.allowsPets                                          31    6.262626\n",
      "sections.bookIt.reviewItem.title                                12    2.424242\n",
      "property_id                                                      0    0.000000\n",
      "homeTier                                                         0    0.000000\n",
      "listingLng                                                       0    0.000000\n",
      "listingLat                                                       0    0.000000\n",
      "bookingData.hostId                                               0    0.000000\n",
      "location                                                         0    0.000000\n",
      "sections.policies.cancellationPolicies                           0    0.000000\n",
      "sections.policies.cancellationPolicyTitle                        0    0.000000\n",
      "descriptionLanguage                                              0    0.000000\n",
      "sections.policies.houseRules                                     0    0.000000\n",
      "sections.policies.houseRulesTitle                                0    0.000000\n",
      "sections.policies.previewSafetyAndProperties                     0    0.000000\n",
      "productCountry                                                   0    0.000000\n",
      "sections.policies.safetyAndPropertyTitle                         0    0.000000\n",
      "sections.policies.seeAllHouseRulesButton.access...               0    0.000000\n",
      "sections.policies.seeAllHouseRulesButton.title                   0    0.000000\n",
      "sections.policies.seeCancellationPolicyButton.a...               0    0.000000\n",
      "sections.photoTour.mediaItems                                    0    0.000000\n",
      "sections.policies.seeCancellationPolicyButton.t...               0    0.000000\n",
      "sections.policies.seeAllSafetyAndPropertyButton...               0    0.000000\n",
      "sections.policies.title                                          0    0.000000\n",
      "sections.policies.seeAllSafetyAndPropertyButton...               0    0.000000\n",
      "personCapacity                                                   0    0.000000\n",
      "roomType                                                         0    0.000000\n",
      "sections.location.lat                                            0    0.000000\n",
      "bookingData.hostName                                             0    0.000000\n",
      "sections.location.mapMarkerRadiusInMeters                        0    0.000000\n",
      "sections.descriptionDefault.descriptionSummary....               0    0.000000\n",
      "sections.highlights.highlights                                   0    0.000000\n",
      "bookingData.canInstantBook                                       0    0.000000\n",
      "bookingData.cancellationPolicies                                 0    0.000000\n",
      "sections.title.title                                             0    0.000000\n",
      "propertyType                                                     0    0.000000\n",
      "sections.hero.previewImageLoggingEventData.section               0    0.000000\n",
      "sections.hero.previewImageLoggingEventData.comp...               0    0.000000\n",
      "sections.hero.previewImageLoggingEventData.logg...               0    0.000000\n",
      "sections.hero.seePhotosButton.title                              0    0.000000\n",
      "sections.hero.previewImages                                      0    0.000000\n",
      "sections.description.items                                       0    0.000000\n",
      "sections.description.title                                       0    0.000000\n",
      "sections.petCounts.mediaItem.baseUrl                             0    0.000000\n",
      "sections.petCounts.html.htmlText                                 0    0.000000\n",
      "sections.petCounts.title                                         0    0.000000\n",
      "sections.availabilityCalendarDefault.descriptio...               0    0.000000\n",
      "sections.availabilityCalendarDefault.priceDiscl...               0    0.000000\n",
      "sections.availabilityCalendarDefault.subtitle                    0    0.000000\n",
      "sections.descriptionDefault.descriptionSummary....               0    0.000000\n",
      "sections.descriptionDefault.descriptionSummary....               0    0.000000\n",
      "sections.descriptionDefault.hasExtraDescription...               0    0.000000\n",
      "sections.availabilityCalendarDefault.title                       0    0.000000\n",
      "sections.location.title                                          0    0.000000\n",
      "sections.location.subtitle                                       0    0.000000\n",
      "sections.location.seeAllLocationDetails                          0    0.000000\n",
      "bookingData.hostProfilePhotoUrl                                  0    0.000000\n",
      "sections.location.previewLocationDetails                         0    0.000000\n",
      "bookingData.isHotelRatePlanEnabled                               0    0.000000\n",
      "bookingData.isSuperhost                                          0    0.000000\n",
      "sections.location.lng                                            0    0.000000\n",
      "bookingData.maxNights                                            0    0.000000\n",
      "sections.amenities.title                                         0    0.000000\n",
      "sections.location.homeIcon                                       0    0.000000\n",
      "bookingData.minNights                                            0    0.000000\n",
      "bookingData.reviewsCount                                         0    0.000000\n",
      "sections.amenities.seeAllAmenitiesButton.title                   0    0.000000\n",
      "bookingData.reviewsRating                                        0    0.000000\n",
      "bookingData.roomAndPropertyType                                  0    0.000000\n",
      "sections.amenities.seeAllAmenitiesGroups                         0    0.000000\n",
      "sections.amenities.previewAmenitiesGroups                        0    0.000000\n",
      "title                                                            0    0.000000\n"
     ]
    }
   ],
   "source": [
    "# find missing values columns in descending order\n",
    "missing_values = dp.isnull().sum().sort_values(ascending=False)\n",
    "missing_percentage = (missing_values / len(dp)) * 100\n",
    "\n",
    "missing_data = pd.DataFrame({'Missing Values': missing_values, 'Percentage': missing_percentage})\n",
    "print(missing_data)\n",
    "\n"
   ]
  },
  {
   "cell_type": "markdown",
   "metadata": {},
   "source": [
    "#### we'll drop columns with more than 35% missing values"
   ]
  },
  {
   "cell_type": "code",
   "execution_count": 8,
   "metadata": {},
   "outputs": [
    {
     "data": {
      "text/plain": [
       "(495, 88)"
      ]
     },
     "execution_count": 8,
     "metadata": {},
     "output_type": "execute_result"
    }
   ],
   "source": [
    "dp = dp.dropna(thresh=0.65 * len(dp), axis=1)\n",
    "dp.shape"
   ]
  },
  {
   "cell_type": "code",
   "execution_count": 9,
   "metadata": {},
   "outputs": [
    {
     "data": {
      "text/html": [
       "<div>\n",
       "<style scoped>\n",
       "    .dataframe tbody tr th:only-of-type {\n",
       "        vertical-align: middle;\n",
       "    }\n",
       "\n",
       "    .dataframe tbody tr th {\n",
       "        vertical-align: top;\n",
       "    }\n",
       "\n",
       "    .dataframe thead th {\n",
       "        text-align: right;\n",
       "    }\n",
       "</style>\n",
       "<table border=\"1\" class=\"dataframe\">\n",
       "  <thead>\n",
       "    <tr style=\"text-align: right;\">\n",
       "      <th></th>\n",
       "      <th>title</th>\n",
       "      <th>propertyType</th>\n",
       "      <th>location</th>\n",
       "      <th>personCapacity</th>\n",
       "      <th>descriptionLanguage</th>\n",
       "      <th>listingLat</th>\n",
       "      <th>listingLng</th>\n",
       "      <th>homeTier</th>\n",
       "      <th>roomType</th>\n",
       "      <th>visibleReviewCount</th>\n",
       "      <th>valueRating</th>\n",
       "      <th>locationRating</th>\n",
       "      <th>communicationRating</th>\n",
       "      <th>checkinRating</th>\n",
       "      <th>accuracyRating</th>\n",
       "      <th>cleanlinessRating</th>\n",
       "      <th>guestSatisfactionOverall</th>\n",
       "      <th>productCountry</th>\n",
       "      <th>property_id</th>\n",
       "      <th>bookingData.allowsPets</th>\n",
       "      <th>bookingData.hostId</th>\n",
       "      <th>bookingData.hostName</th>\n",
       "      <th>bookingData.hostProfilePhotoUrl</th>\n",
       "      <th>bookingData.isHotelRatePlanEnabled</th>\n",
       "      <th>bookingData.isSuperhost</th>\n",
       "      <th>bookingData.maxNights</th>\n",
       "      <th>bookingData.minNights</th>\n",
       "      <th>bookingData.reviewsCount</th>\n",
       "      <th>bookingData.reviewsRating</th>\n",
       "      <th>bookingData.roomAndPropertyType</th>\n",
       "      <th>bookingData.canInstantBook</th>\n",
       "      <th>bookingData.cancellationPolicies</th>\n",
       "      <th>sections.bookIt.reviewItem.accessibilityLabel</th>\n",
       "      <th>sections.bookIt.reviewItem.title</th>\n",
       "      <th>sections.availabilityCalendarDefault.title</th>\n",
       "      <th>sections.availabilityCalendarDefault.subtitle</th>\n",
       "      <th>sections.availabilityCalendarDefault.priceDisclaimer</th>\n",
       "      <th>sections.availabilityCalendarDefault.reviewRating</th>\n",
       "      <th>sections.availabilityCalendarDefault.reviewCount</th>\n",
       "      <th>sections.availabilityCalendarDefault.reviewAccessibilityLabel</th>\n",
       "      <th>sections.availabilityCalendarDefault.descriptionItems</th>\n",
       "      <th>sections.petCounts.title</th>\n",
       "      <th>sections.petCounts.html.htmlText</th>\n",
       "      <th>sections.petCounts.mediaItem.baseUrl</th>\n",
       "      <th>sections.description.title</th>\n",
       "      <th>sections.description.items</th>\n",
       "      <th>sections.hero.previewImages</th>\n",
       "      <th>sections.hero.seePhotosButton.title</th>\n",
       "      <th>sections.hero.previewImageLoggingEventData.loggingId</th>\n",
       "      <th>sections.hero.previewImageLoggingEventData.component</th>\n",
       "      <th>sections.hero.previewImageLoggingEventData.section</th>\n",
       "      <th>sections.title.title</th>\n",
       "      <th>sections.highlights.highlights</th>\n",
       "      <th>sections.descriptionDefault.descriptionSummary.htmlText</th>\n",
       "      <th>sections.descriptionDefault.descriptionSummary.minimumNumberOfLinesForTruncation</th>\n",
       "      <th>sections.descriptionDefault.descriptionSummary.recommendedNumberOfLines</th>\n",
       "      <th>sections.descriptionDefault.hasExtraDescriptionDetails</th>\n",
       "      <th>sections.amenities.title</th>\n",
       "      <th>sections.amenities.previewAmenitiesGroups</th>\n",
       "      <th>sections.amenities.seeAllAmenitiesGroups</th>\n",
       "      <th>sections.amenities.seeAllAmenitiesButton.title</th>\n",
       "      <th>sections.location.homeIcon</th>\n",
       "      <th>sections.location.lat</th>\n",
       "      <th>sections.location.lng</th>\n",
       "      <th>sections.location.previewLocationDetails</th>\n",
       "      <th>sections.location.seeAllLocationDetails</th>\n",
       "      <th>sections.location.subtitle</th>\n",
       "      <th>sections.location.title</th>\n",
       "      <th>sections.location.mapMarkerRadiusInMeters</th>\n",
       "      <th>sections.reviewsDefault.heading.accessibilityLabel</th>\n",
       "      <th>sections.reviewsDefault.heading.icon</th>\n",
       "      <th>sections.reviewsDefault.heading.title</th>\n",
       "      <th>sections.reviewsDefault.ratings</th>\n",
       "      <th>sections.policies.cancellationPolicies</th>\n",
       "      <th>sections.policies.cancellationPolicyTitle</th>\n",
       "      <th>sections.policies.houseRules</th>\n",
       "      <th>sections.policies.houseRulesTitle</th>\n",
       "      <th>sections.policies.seeAllHouseRulesButton.accessibilityLabel</th>\n",
       "      <th>sections.policies.seeAllHouseRulesButton.title</th>\n",
       "      <th>sections.policies.seeCancellationPolicyButton.accessibilityLabel</th>\n",
       "      <th>sections.policies.seeCancellationPolicyButton.title</th>\n",
       "      <th>sections.policies.title</th>\n",
       "      <th>sections.policies.safetyAndPropertyTitle</th>\n",
       "      <th>sections.policies.previewSafetyAndProperties</th>\n",
       "      <th>sections.policies.seeAllSafetyAndPropertyButton.accessibilityLabel</th>\n",
       "      <th>sections.policies.seeAllSafetyAndPropertyButton.title</th>\n",
       "      <th>sections.photoTour.title</th>\n",
       "      <th>sections.photoTour.mediaItems</th>\n",
       "    </tr>\n",
       "  </thead>\n",
       "  <tbody>\n",
       "    <tr>\n",
       "      <th>0</th>\n",
       "      <td>Home in Calgary · ★4.95 · 1 bedroom · 1 bed · ...</td>\n",
       "      <td>Entire home</td>\n",
       "      <td>Calgary</td>\n",
       "      <td>2</td>\n",
       "      <td>en</td>\n",
       "      <td>51.055354</td>\n",
       "      <td>-114.028776</td>\n",
       "      <td>1</td>\n",
       "      <td>Entire home/apt</td>\n",
       "      <td>21.0</td>\n",
       "      <td>5.00</td>\n",
       "      <td>5.00</td>\n",
       "      <td>5.00</td>\n",
       "      <td>5.00</td>\n",
       "      <td>5.00</td>\n",
       "      <td>5.00</td>\n",
       "      <td>4.95</td>\n",
       "      <td>CA</td>\n",
       "      <td>1143371712266502884</td>\n",
       "      <td>False</td>\n",
       "      <td>38955414</td>\n",
       "      <td>Haley</td>\n",
       "      <td>https://a0.muscache.com/im/pictures/user/User/...</td>\n",
       "      <td>False</td>\n",
       "      <td>True</td>\n",
       "      <td>30</td>\n",
       "      <td>1</td>\n",
       "      <td>21</td>\n",
       "      <td>4.95</td>\n",
       "      <td>Entire home</td>\n",
       "      <td>True</td>\n",
       "      <td>[{'cancellationPolicyId': 3, 'milestones': [],...</td>\n",
       "      <td>Rated 4.95 out of 5 from 21 reviews.</td>\n",
       "      <td>4.95</td>\n",
       "      <td>Availability</td>\n",
       "      <td>Add your travel dates for exact pricing</td>\n",
       "      <td>Prices on calendar do not include taxes and fees</td>\n",
       "      <td>4.95</td>\n",
       "      <td>21.0</td>\n",
       "      <td>Rated 4.95 out of 5 from 21 reviews.</td>\n",
       "      <td>[{'title': 'Entire home'}, {'title': '1 bed'},...</td>\n",
       "      <td>Service animals</td>\n",
       "      <td>Service animals aren’t pets, so there’s no nee...</td>\n",
       "      <td>https://a0.muscache.com/pictures/adafb11b-41e9...</td>\n",
       "      <td>About this space</td>\n",
       "      <td>[{'title': None, 'subtitle': None, 'media': No...</td>\n",
       "      <td>[{'accessibilityLabel': 'Cute Inner City Haven...</td>\n",
       "      <td>Show all photos</td>\n",
       "      <td>pdp.hero.image</td>\n",
       "      <td>image</td>\n",
       "      <td>hero</td>\n",
       "      <td>Cute Inner City Haven with Country-like Serenity</td>\n",
       "      <td>[{'icon': 'SYSTEM_GOLDEN_TROPHY', 'title': 'To...</td>\n",
       "      <td>Welcome to our unique home, offering country s...</td>\n",
       "      <td>9</td>\n",
       "      <td>6</td>\n",
       "      <td>True</td>\n",
       "      <td>What this place offers</td>\n",
       "      <td>[{'id': 'top_ranked_amenities_1143371712266502...</td>\n",
       "      <td>[{'id': 'pdp_v3_bathroom_1143371712266502884',...</td>\n",
       "      <td>Show all 16 amenities</td>\n",
       "      <td>COMPACT_HOUSE</td>\n",
       "      <td>51.055354</td>\n",
       "      <td>-114.028776</td>\n",
       "      <td>[]</td>\n",
       "      <td>[]</td>\n",
       "      <td>Calgary, Alberta, Canada</td>\n",
       "      <td>Where you’ll be</td>\n",
       "      <td>500</td>\n",
       "      <td>4.95 out of 5 stars from 21 reviews</td>\n",
       "      <td>COMPACT_STAR</td>\n",
       "      <td>Guest favorite</td>\n",
       "      <td>[{'localizedRating': '5.0', 'percentage': 1, '...</td>\n",
       "      <td>[{'id': 3, 'milestones': [], 'cancellationMile...</td>\n",
       "      <td>Cancellation policy</td>\n",
       "      <td>[{'accessibilityLabel': None, 'icon': None, 't...</td>\n",
       "      <td>House rules</td>\n",
       "      <td>More information about house rules</td>\n",
       "      <td>Show more</td>\n",
       "      <td>More information about cancellation policy</td>\n",
       "      <td>Show more</td>\n",
       "      <td>Things to know</td>\n",
       "      <td>Safety &amp; property</td>\n",
       "      <td>[{'title': 'Exterior security cameras on prope...</td>\n",
       "      <td>More information about safety and property</td>\n",
       "      <td>Show more</td>\n",
       "      <td>Photo tour</td>\n",
       "      <td>[{'accessibilityLabel': 'Living room image 1',...</td>\n",
       "    </tr>\n",
       "    <tr>\n",
       "      <th>1</th>\n",
       "      <td>Rental unit in Calgary · ★4.84 · Studio · 2 be...</td>\n",
       "      <td>Entire rental unit</td>\n",
       "      <td>Calgary</td>\n",
       "      <td>3</td>\n",
       "      <td>en</td>\n",
       "      <td>51.052710</td>\n",
       "      <td>-114.047400</td>\n",
       "      <td>1</td>\n",
       "      <td>Entire home/apt</td>\n",
       "      <td>268.0</td>\n",
       "      <td>4.85</td>\n",
       "      <td>4.88</td>\n",
       "      <td>4.93</td>\n",
       "      <td>4.88</td>\n",
       "      <td>4.83</td>\n",
       "      <td>4.94</td>\n",
       "      <td>4.84</td>\n",
       "      <td>CA</td>\n",
       "      <td>36314346</td>\n",
       "      <td>False</td>\n",
       "      <td>20511008</td>\n",
       "      <td>Cory</td>\n",
       "      <td>https://a0.muscache.com/im/pictures/user/a9779...</td>\n",
       "      <td>False</td>\n",
       "      <td>True</td>\n",
       "      <td>21</td>\n",
       "      <td>1</td>\n",
       "      <td>268</td>\n",
       "      <td>4.84</td>\n",
       "      <td>Entire rental unit</td>\n",
       "      <td>False</td>\n",
       "      <td>[{'cancellationPolicyId': 62, 'milestones': []...</td>\n",
       "      <td>Rated 4.84 out of 5 from 268 reviews.</td>\n",
       "      <td>4.84</td>\n",
       "      <td>Availability</td>\n",
       "      <td>Add your travel dates for exact pricing</td>\n",
       "      <td>Prices on calendar do not include taxes and fees</td>\n",
       "      <td>4.84</td>\n",
       "      <td>268.0</td>\n",
       "      <td>Rated 4.84 out of 5 from 268 reviews.</td>\n",
       "      <td>[{'title': 'Entire rental unit'}, {'title': '2...</td>\n",
       "      <td>Service animals</td>\n",
       "      <td>Service animals aren’t pets, so there’s no nee...</td>\n",
       "      <td>https://a0.muscache.com/pictures/adafb11b-41e9...</td>\n",
       "      <td>About this space</td>\n",
       "      <td>[{'title': None, 'subtitle': None, 'media': No...</td>\n",
       "      <td>[{'accessibilityLabel': 'Cozy Suite In The Hea...</td>\n",
       "      <td>Show all photos</td>\n",
       "      <td>pdp.hero.image</td>\n",
       "      <td>image</td>\n",
       "      <td>hero</td>\n",
       "      <td>Cozy Suite In The Heart Of Bridgeland - BL246108</td>\n",
       "      <td>[{'icon': 'SYSTEM_CHECK_IN', 'title': 'Self ch...</td>\n",
       "      <td>Welcome to Calgary and we invite you to Bridge...</td>\n",
       "      <td>9</td>\n",
       "      <td>6</td>\n",
       "      <td>True</td>\n",
       "      <td>What this place offers</td>\n",
       "      <td>[{'id': 'top_ranked_amenities_36314346', 'titl...</td>\n",
       "      <td>[{'id': 'pdp_v3_bathroom_36314346', 'title': '...</td>\n",
       "      <td>Show all 26 amenities</td>\n",
       "      <td>COMPACT_TODAY_NAV</td>\n",
       "      <td>51.052710</td>\n",
       "      <td>-114.047400</td>\n",
       "      <td>[{'id': 'neighborhood-preview_36314346', 'disp...</td>\n",
       "      <td>[{'id': 'neighborhood-seeAll_36314346', 'displ...</td>\n",
       "      <td>Calgary, Alberta, Canada</td>\n",
       "      <td>Where you’ll be</td>\n",
       "      <td>152</td>\n",
       "      <td>4.84 out of 5 stars from 268 reviews</td>\n",
       "      <td>COMPACT_STAR</td>\n",
       "      <td>4.84 · 268 reviews</td>\n",
       "      <td>[{'localizedRating': '4.9', 'percentage': 0.98...</td>\n",
       "      <td>[{'id': 62, 'milestones': [], 'cancellationMil...</td>\n",
       "      <td>Cancellation policy</td>\n",
       "      <td>[{'accessibilityLabel': None, 'icon': None, 't...</td>\n",
       "      <td>House rules</td>\n",
       "      <td>More information about house rules</td>\n",
       "      <td>Show more</td>\n",
       "      <td>More information about cancellation policy</td>\n",
       "      <td>Show more</td>\n",
       "      <td>Things to know</td>\n",
       "      <td>Safety &amp; property</td>\n",
       "      <td>[{'title': 'Carbon monoxide alarm', 'subtitle'...</td>\n",
       "      <td>More information about safety and property</td>\n",
       "      <td>Show more</td>\n",
       "      <td>NaN</td>\n",
       "      <td>[{'accessibilityLabel': 'Listing image 1', 'ba...</td>\n",
       "    </tr>\n",
       "    <tr>\n",
       "      <th>2</th>\n",
       "      <td>Guest suite in Calgary · ★4.94 · 1 bedroom · 1...</td>\n",
       "      <td>Entire guest suite</td>\n",
       "      <td>Calgary</td>\n",
       "      <td>2</td>\n",
       "      <td>en</td>\n",
       "      <td>51.058770</td>\n",
       "      <td>-114.041540</td>\n",
       "      <td>1</td>\n",
       "      <td>Entire home/apt</td>\n",
       "      <td>69.0</td>\n",
       "      <td>4.90</td>\n",
       "      <td>4.96</td>\n",
       "      <td>4.97</td>\n",
       "      <td>4.99</td>\n",
       "      <td>4.97</td>\n",
       "      <td>4.93</td>\n",
       "      <td>4.94</td>\n",
       "      <td>CA</td>\n",
       "      <td>671115779168748813</td>\n",
       "      <td>False</td>\n",
       "      <td>26975570</td>\n",
       "      <td>Carrie</td>\n",
       "      <td>https://a0.muscache.com/im/pictures/user/e2bcd...</td>\n",
       "      <td>False</td>\n",
       "      <td>True</td>\n",
       "      <td>365</td>\n",
       "      <td>3</td>\n",
       "      <td>69</td>\n",
       "      <td>4.94</td>\n",
       "      <td>Entire guest suite</td>\n",
       "      <td>False</td>\n",
       "      <td>[{'cancellationPolicyId': 4, 'milestones': [],...</td>\n",
       "      <td>Rated 4.94 out of 5 from 69 reviews.</td>\n",
       "      <td>4.94</td>\n",
       "      <td>Availability</td>\n",
       "      <td>Add your travel dates for exact pricing</td>\n",
       "      <td>Prices on calendar do not include taxes and fees</td>\n",
       "      <td>4.94</td>\n",
       "      <td>69.0</td>\n",
       "      <td>Rated 4.94 out of 5 from 69 reviews.</td>\n",
       "      <td>[{'title': 'Entire guest suite'}, {'title': '1...</td>\n",
       "      <td>Service animals</td>\n",
       "      <td>Service animals aren’t pets, so there’s no nee...</td>\n",
       "      <td>https://a0.muscache.com/pictures/adafb11b-41e9...</td>\n",
       "      <td>About this space</td>\n",
       "      <td>[{'title': None, 'subtitle': None, 'media': No...</td>\n",
       "      <td>[{'accessibilityLabel': 'Your own private entr...</td>\n",
       "      <td>Show all photos</td>\n",
       "      <td>pdp.hero.image</td>\n",
       "      <td>image</td>\n",
       "      <td>hero</td>\n",
       "      <td>Modern suite overlooking downtown</td>\n",
       "      <td>[{'icon': 'SYSTEM_GOLDEN_TROPHY', 'title': 'To...</td>\n",
       "      <td>In Calgary's most vibrant neighborhood, overlo...</td>\n",
       "      <td>9</td>\n",
       "      <td>6</td>\n",
       "      <td>True</td>\n",
       "      <td>What this place offers</td>\n",
       "      <td>[{'id': 'top_ranked_amenities_6711157791687488...</td>\n",
       "      <td>[{'id': 'pdp_v3_scenic_view_671115779168748813...</td>\n",
       "      <td>Show all 50 amenities</td>\n",
       "      <td>COMPACT_TODAY_NAV</td>\n",
       "      <td>51.058770</td>\n",
       "      <td>-114.041540</td>\n",
       "      <td>[{'id': 'neighborhood-preview_6711157791687488...</td>\n",
       "      <td>[{'id': 'neighborhood-seeAll_67111577916874881...</td>\n",
       "      <td>Calgary, Alberta, Canada</td>\n",
       "      <td>Where you’ll be</td>\n",
       "      <td>500</td>\n",
       "      <td>4.94 out of 5 stars from 69 reviews</td>\n",
       "      <td>COMPACT_STAR</td>\n",
       "      <td>Guest favorite</td>\n",
       "      <td>[{'localizedRating': '4.9', 'percentage': 0.98...</td>\n",
       "      <td>[{'id': 4, 'milestones': [], 'cancellationMile...</td>\n",
       "      <td>Cancellation policy</td>\n",
       "      <td>[{'accessibilityLabel': None, 'icon': None, 't...</td>\n",
       "      <td>House rules</td>\n",
       "      <td>More information about house rules</td>\n",
       "      <td>Show more</td>\n",
       "      <td>More information about cancellation policy</td>\n",
       "      <td>Show more</td>\n",
       "      <td>Things to know</td>\n",
       "      <td>Safety &amp; property</td>\n",
       "      <td>[{'title': 'Carbon monoxide alarm', 'subtitle'...</td>\n",
       "      <td>More information about safety and property</td>\n",
       "      <td>Show more</td>\n",
       "      <td>Photo tour</td>\n",
       "      <td>[{'accessibilityLabel': 'Living area with comf...</td>\n",
       "    </tr>\n",
       "  </tbody>\n",
       "</table>\n",
       "</div>"
      ],
      "text/plain": [
       "                                               title        propertyType  \\\n",
       "0  Home in Calgary · ★4.95 · 1 bedroom · 1 bed · ...         Entire home   \n",
       "1  Rental unit in Calgary · ★4.84 · Studio · 2 be...  Entire rental unit   \n",
       "2  Guest suite in Calgary · ★4.94 · 1 bedroom · 1...  Entire guest suite   \n",
       "\n",
       "  location  personCapacity descriptionLanguage  listingLat  listingLng  \\\n",
       "0  Calgary               2                  en   51.055354 -114.028776   \n",
       "1  Calgary               3                  en   51.052710 -114.047400   \n",
       "2  Calgary               2                  en   51.058770 -114.041540   \n",
       "\n",
       "   homeTier         roomType  visibleReviewCount  valueRating  locationRating  \\\n",
       "0         1  Entire home/apt                21.0         5.00            5.00   \n",
       "1         1  Entire home/apt               268.0         4.85            4.88   \n",
       "2         1  Entire home/apt                69.0         4.90            4.96   \n",
       "\n",
       "   communicationRating  checkinRating  accuracyRating  cleanlinessRating  \\\n",
       "0                 5.00           5.00            5.00               5.00   \n",
       "1                 4.93           4.88            4.83               4.94   \n",
       "2                 4.97           4.99            4.97               4.93   \n",
       "\n",
       "   guestSatisfactionOverall productCountry          property_id  \\\n",
       "0                      4.95             CA  1143371712266502884   \n",
       "1                      4.84             CA             36314346   \n",
       "2                      4.94             CA   671115779168748813   \n",
       "\n",
       "  bookingData.allowsPets  bookingData.hostId bookingData.hostName  \\\n",
       "0                  False            38955414                Haley   \n",
       "1                  False            20511008                 Cory   \n",
       "2                  False            26975570               Carrie   \n",
       "\n",
       "                     bookingData.hostProfilePhotoUrl  \\\n",
       "0  https://a0.muscache.com/im/pictures/user/User/...   \n",
       "1  https://a0.muscache.com/im/pictures/user/a9779...   \n",
       "2  https://a0.muscache.com/im/pictures/user/e2bcd...   \n",
       "\n",
       "   bookingData.isHotelRatePlanEnabled  bookingData.isSuperhost  \\\n",
       "0                               False                     True   \n",
       "1                               False                     True   \n",
       "2                               False                     True   \n",
       "\n",
       "   bookingData.maxNights  bookingData.minNights  bookingData.reviewsCount  \\\n",
       "0                     30                      1                        21   \n",
       "1                     21                      1                       268   \n",
       "2                    365                      3                        69   \n",
       "\n",
       "   bookingData.reviewsRating bookingData.roomAndPropertyType  \\\n",
       "0                       4.95                     Entire home   \n",
       "1                       4.84              Entire rental unit   \n",
       "2                       4.94              Entire guest suite   \n",
       "\n",
       "   bookingData.canInstantBook  \\\n",
       "0                        True   \n",
       "1                       False   \n",
       "2                       False   \n",
       "\n",
       "                    bookingData.cancellationPolicies  \\\n",
       "0  [{'cancellationPolicyId': 3, 'milestones': [],...   \n",
       "1  [{'cancellationPolicyId': 62, 'milestones': []...   \n",
       "2  [{'cancellationPolicyId': 4, 'milestones': [],...   \n",
       "\n",
       "  sections.bookIt.reviewItem.accessibilityLabel  \\\n",
       "0          Rated 4.95 out of 5 from 21 reviews.   \n",
       "1         Rated 4.84 out of 5 from 268 reviews.   \n",
       "2          Rated 4.94 out of 5 from 69 reviews.   \n",
       "\n",
       "  sections.bookIt.reviewItem.title sections.availabilityCalendarDefault.title  \\\n",
       "0                             4.95                               Availability   \n",
       "1                             4.84                               Availability   \n",
       "2                             4.94                               Availability   \n",
       "\n",
       "  sections.availabilityCalendarDefault.subtitle  \\\n",
       "0       Add your travel dates for exact pricing   \n",
       "1       Add your travel dates for exact pricing   \n",
       "2       Add your travel dates for exact pricing   \n",
       "\n",
       "  sections.availabilityCalendarDefault.priceDisclaimer  \\\n",
       "0   Prices on calendar do not include taxes and fees     \n",
       "1   Prices on calendar do not include taxes and fees     \n",
       "2   Prices on calendar do not include taxes and fees     \n",
       "\n",
       "   sections.availabilityCalendarDefault.reviewRating  \\\n",
       "0                                               4.95   \n",
       "1                                               4.84   \n",
       "2                                               4.94   \n",
       "\n",
       "   sections.availabilityCalendarDefault.reviewCount  \\\n",
       "0                                              21.0   \n",
       "1                                             268.0   \n",
       "2                                              69.0   \n",
       "\n",
       "  sections.availabilityCalendarDefault.reviewAccessibilityLabel  \\\n",
       "0               Rated 4.95 out of 5 from 21 reviews.              \n",
       "1              Rated 4.84 out of 5 from 268 reviews.              \n",
       "2               Rated 4.94 out of 5 from 69 reviews.              \n",
       "\n",
       "  sections.availabilityCalendarDefault.descriptionItems  \\\n",
       "0  [{'title': 'Entire home'}, {'title': '1 bed'},...      \n",
       "1  [{'title': 'Entire rental unit'}, {'title': '2...      \n",
       "2  [{'title': 'Entire guest suite'}, {'title': '1...      \n",
       "\n",
       "  sections.petCounts.title                   sections.petCounts.html.htmlText  \\\n",
       "0          Service animals  Service animals aren’t pets, so there’s no nee...   \n",
       "1          Service animals  Service animals aren’t pets, so there’s no nee...   \n",
       "2          Service animals  Service animals aren’t pets, so there’s no nee...   \n",
       "\n",
       "                sections.petCounts.mediaItem.baseUrl  \\\n",
       "0  https://a0.muscache.com/pictures/adafb11b-41e9...   \n",
       "1  https://a0.muscache.com/pictures/adafb11b-41e9...   \n",
       "2  https://a0.muscache.com/pictures/adafb11b-41e9...   \n",
       "\n",
       "  sections.description.title  \\\n",
       "0           About this space   \n",
       "1           About this space   \n",
       "2           About this space   \n",
       "\n",
       "                          sections.description.items  \\\n",
       "0  [{'title': None, 'subtitle': None, 'media': No...   \n",
       "1  [{'title': None, 'subtitle': None, 'media': No...   \n",
       "2  [{'title': None, 'subtitle': None, 'media': No...   \n",
       "\n",
       "                         sections.hero.previewImages  \\\n",
       "0  [{'accessibilityLabel': 'Cute Inner City Haven...   \n",
       "1  [{'accessibilityLabel': 'Cozy Suite In The Hea...   \n",
       "2  [{'accessibilityLabel': 'Your own private entr...   \n",
       "\n",
       "  sections.hero.seePhotosButton.title  \\\n",
       "0                     Show all photos   \n",
       "1                     Show all photos   \n",
       "2                     Show all photos   \n",
       "\n",
       "  sections.hero.previewImageLoggingEventData.loggingId  \\\n",
       "0                                     pdp.hero.image     \n",
       "1                                     pdp.hero.image     \n",
       "2                                     pdp.hero.image     \n",
       "\n",
       "  sections.hero.previewImageLoggingEventData.component  \\\n",
       "0                                              image     \n",
       "1                                              image     \n",
       "2                                              image     \n",
       "\n",
       "  sections.hero.previewImageLoggingEventData.section  \\\n",
       "0                                               hero   \n",
       "1                                               hero   \n",
       "2                                               hero   \n",
       "\n",
       "                               sections.title.title  \\\n",
       "0  Cute Inner City Haven with Country-like Serenity   \n",
       "1  Cozy Suite In The Heart Of Bridgeland - BL246108   \n",
       "2                 Modern suite overlooking downtown   \n",
       "\n",
       "                      sections.highlights.highlights  \\\n",
       "0  [{'icon': 'SYSTEM_GOLDEN_TROPHY', 'title': 'To...   \n",
       "1  [{'icon': 'SYSTEM_CHECK_IN', 'title': 'Self ch...   \n",
       "2  [{'icon': 'SYSTEM_GOLDEN_TROPHY', 'title': 'To...   \n",
       "\n",
       "  sections.descriptionDefault.descriptionSummary.htmlText  \\\n",
       "0  Welcome to our unique home, offering country s...        \n",
       "1  Welcome to Calgary and we invite you to Bridge...        \n",
       "2  In Calgary's most vibrant neighborhood, overlo...        \n",
       "\n",
       "   sections.descriptionDefault.descriptionSummary.minimumNumberOfLinesForTruncation  \\\n",
       "0                                                  9                                  \n",
       "1                                                  9                                  \n",
       "2                                                  9                                  \n",
       "\n",
       "   sections.descriptionDefault.descriptionSummary.recommendedNumberOfLines  \\\n",
       "0                                                  6                         \n",
       "1                                                  6                         \n",
       "2                                                  6                         \n",
       "\n",
       "   sections.descriptionDefault.hasExtraDescriptionDetails  \\\n",
       "0                                               True        \n",
       "1                                               True        \n",
       "2                                               True        \n",
       "\n",
       "  sections.amenities.title          sections.amenities.previewAmenitiesGroups  \\\n",
       "0   What this place offers  [{'id': 'top_ranked_amenities_1143371712266502...   \n",
       "1   What this place offers  [{'id': 'top_ranked_amenities_36314346', 'titl...   \n",
       "2   What this place offers  [{'id': 'top_ranked_amenities_6711157791687488...   \n",
       "\n",
       "            sections.amenities.seeAllAmenitiesGroups  \\\n",
       "0  [{'id': 'pdp_v3_bathroom_1143371712266502884',...   \n",
       "1  [{'id': 'pdp_v3_bathroom_36314346', 'title': '...   \n",
       "2  [{'id': 'pdp_v3_scenic_view_671115779168748813...   \n",
       "\n",
       "  sections.amenities.seeAllAmenitiesButton.title sections.location.homeIcon  \\\n",
       "0                          Show all 16 amenities              COMPACT_HOUSE   \n",
       "1                          Show all 26 amenities          COMPACT_TODAY_NAV   \n",
       "2                          Show all 50 amenities          COMPACT_TODAY_NAV   \n",
       "\n",
       "   sections.location.lat  sections.location.lng  \\\n",
       "0              51.055354            -114.028776   \n",
       "1              51.052710            -114.047400   \n",
       "2              51.058770            -114.041540   \n",
       "\n",
       "            sections.location.previewLocationDetails  \\\n",
       "0                                                 []   \n",
       "1  [{'id': 'neighborhood-preview_36314346', 'disp...   \n",
       "2  [{'id': 'neighborhood-preview_6711157791687488...   \n",
       "\n",
       "             sections.location.seeAllLocationDetails  \\\n",
       "0                                                 []   \n",
       "1  [{'id': 'neighborhood-seeAll_36314346', 'displ...   \n",
       "2  [{'id': 'neighborhood-seeAll_67111577916874881...   \n",
       "\n",
       "  sections.location.subtitle sections.location.title  \\\n",
       "0   Calgary, Alberta, Canada         Where you’ll be   \n",
       "1   Calgary, Alberta, Canada         Where you’ll be   \n",
       "2   Calgary, Alberta, Canada         Where you’ll be   \n",
       "\n",
       "   sections.location.mapMarkerRadiusInMeters  \\\n",
       "0                                        500   \n",
       "1                                        152   \n",
       "2                                        500   \n",
       "\n",
       "  sections.reviewsDefault.heading.accessibilityLabel  \\\n",
       "0                4.95 out of 5 stars from 21 reviews   \n",
       "1               4.84 out of 5 stars from 268 reviews   \n",
       "2                4.94 out of 5 stars from 69 reviews   \n",
       "\n",
       "  sections.reviewsDefault.heading.icon sections.reviewsDefault.heading.title  \\\n",
       "0                         COMPACT_STAR                        Guest favorite   \n",
       "1                         COMPACT_STAR                    4.84 · 268 reviews   \n",
       "2                         COMPACT_STAR                        Guest favorite   \n",
       "\n",
       "                     sections.reviewsDefault.ratings  \\\n",
       "0  [{'localizedRating': '5.0', 'percentage': 1, '...   \n",
       "1  [{'localizedRating': '4.9', 'percentage': 0.98...   \n",
       "2  [{'localizedRating': '4.9', 'percentage': 0.98...   \n",
       "\n",
       "              sections.policies.cancellationPolicies  \\\n",
       "0  [{'id': 3, 'milestones': [], 'cancellationMile...   \n",
       "1  [{'id': 62, 'milestones': [], 'cancellationMil...   \n",
       "2  [{'id': 4, 'milestones': [], 'cancellationMile...   \n",
       "\n",
       "  sections.policies.cancellationPolicyTitle  \\\n",
       "0                       Cancellation policy   \n",
       "1                       Cancellation policy   \n",
       "2                       Cancellation policy   \n",
       "\n",
       "                        sections.policies.houseRules  \\\n",
       "0  [{'accessibilityLabel': None, 'icon': None, 't...   \n",
       "1  [{'accessibilityLabel': None, 'icon': None, 't...   \n",
       "2  [{'accessibilityLabel': None, 'icon': None, 't...   \n",
       "\n",
       "  sections.policies.houseRulesTitle  \\\n",
       "0                       House rules   \n",
       "1                       House rules   \n",
       "2                       House rules   \n",
       "\n",
       "  sections.policies.seeAllHouseRulesButton.accessibilityLabel  \\\n",
       "0                 More information about house rules            \n",
       "1                 More information about house rules            \n",
       "2                 More information about house rules            \n",
       "\n",
       "  sections.policies.seeAllHouseRulesButton.title  \\\n",
       "0                                      Show more   \n",
       "1                                      Show more   \n",
       "2                                      Show more   \n",
       "\n",
       "  sections.policies.seeCancellationPolicyButton.accessibilityLabel  \\\n",
       "0         More information about cancellation policy                 \n",
       "1         More information about cancellation policy                 \n",
       "2         More information about cancellation policy                 \n",
       "\n",
       "  sections.policies.seeCancellationPolicyButton.title sections.policies.title  \\\n",
       "0                                          Show more           Things to know   \n",
       "1                                          Show more           Things to know   \n",
       "2                                          Show more           Things to know   \n",
       "\n",
       "  sections.policies.safetyAndPropertyTitle  \\\n",
       "0                        Safety & property   \n",
       "1                        Safety & property   \n",
       "2                        Safety & property   \n",
       "\n",
       "        sections.policies.previewSafetyAndProperties  \\\n",
       "0  [{'title': 'Exterior security cameras on prope...   \n",
       "1  [{'title': 'Carbon monoxide alarm', 'subtitle'...   \n",
       "2  [{'title': 'Carbon monoxide alarm', 'subtitle'...   \n",
       "\n",
       "  sections.policies.seeAllSafetyAndPropertyButton.accessibilityLabel  \\\n",
       "0         More information about safety and property                   \n",
       "1         More information about safety and property                   \n",
       "2         More information about safety and property                   \n",
       "\n",
       "  sections.policies.seeAllSafetyAndPropertyButton.title  \\\n",
       "0                                          Show more      \n",
       "1                                          Show more      \n",
       "2                                          Show more      \n",
       "\n",
       "  sections.photoTour.title                      sections.photoTour.mediaItems  \n",
       "0               Photo tour  [{'accessibilityLabel': 'Living room image 1',...  \n",
       "1                      NaN  [{'accessibilityLabel': 'Listing image 1', 'ba...  \n",
       "2               Photo tour  [{'accessibilityLabel': 'Living area with comf...  "
      ]
     },
     "execution_count": 9,
     "metadata": {},
     "output_type": "execute_result"
    }
   ],
   "source": [
    "dp.head(3)"
   ]
  },
  {
   "cell_type": "code",
   "execution_count": 10,
   "metadata": {},
   "outputs": [
    {
     "data": {
      "text/plain": [
       "sections.photoTour.title                                         119\n",
       "sections.reviewsDefault.heading.icon                              69\n",
       "sections.reviewsDefault.ratings                                   69\n",
       "sections.bookIt.reviewItem.accessibilityLabel                     59\n",
       "checkinRating                                                     40\n",
       "accuracyRating                                                    40\n",
       "cleanlinessRating                                                 40\n",
       "guestSatisfactionOverall                                          40\n",
       "valueRating                                                       40\n",
       "sections.availabilityCalendarDefault.reviewRating                 40\n",
       "sections.availabilityCalendarDefault.reviewCount                  40\n",
       "sections.availabilityCalendarDefault.reviewAccessibilityLabel     40\n",
       "sections.reviewsDefault.heading.accessibilityLabel                40\n",
       "communicationRating                                               40\n",
       "sections.reviewsDefault.heading.title                             40\n",
       "locationRating                                                    40\n",
       "visibleReviewCount                                                40\n",
       "bookingData.allowsPets                                            31\n",
       "sections.bookIt.reviewItem.title                                  12\n",
       "dtype: int64"
      ]
     },
     "execution_count": 10,
     "metadata": {},
     "output_type": "execute_result"
    }
   ],
   "source": [
    "# remaining columns with missing values\n",
    "dp.isnull().sum().loc[lambda x: x > 0].sort_values(ascending=False)"
   ]
  },
  {
   "cell_type": "code",
   "execution_count": 11,
   "metadata": {},
   "outputs": [
    {
     "name": "stdout",
     "output_type": "stream",
     "text": [
      "<class 'pandas.core.frame.DataFrame'>\n",
      "RangeIndex: 495 entries, 0 to 494\n",
      "Data columns (total 19 columns):\n",
      " #   Column                                                         Non-Null Count  Dtype  \n",
      "---  ------                                                         --------------  -----  \n",
      " 0   visibleReviewCount                                             455 non-null    float64\n",
      " 1   valueRating                                                    455 non-null    float64\n",
      " 2   locationRating                                                 455 non-null    float64\n",
      " 3   communicationRating                                            455 non-null    float64\n",
      " 4   checkinRating                                                  455 non-null    float64\n",
      " 5   accuracyRating                                                 455 non-null    float64\n",
      " 6   cleanlinessRating                                              455 non-null    float64\n",
      " 7   guestSatisfactionOverall                                       455 non-null    float64\n",
      " 8   bookingData.allowsPets                                         464 non-null    object \n",
      " 9   sections.bookIt.reviewItem.accessibilityLabel                  436 non-null    object \n",
      " 10  sections.bookIt.reviewItem.title                               483 non-null    object \n",
      " 11  sections.availabilityCalendarDefault.reviewRating              455 non-null    float64\n",
      " 12  sections.availabilityCalendarDefault.reviewCount               455 non-null    float64\n",
      " 13  sections.availabilityCalendarDefault.reviewAccessibilityLabel  455 non-null    object \n",
      " 14  sections.reviewsDefault.heading.accessibilityLabel             455 non-null    object \n",
      " 15  sections.reviewsDefault.heading.icon                           426 non-null    object \n",
      " 16  sections.reviewsDefault.heading.title                          455 non-null    object \n",
      " 17  sections.reviewsDefault.ratings                                426 non-null    object \n",
      " 18  sections.photoTour.title                                       376 non-null    object \n",
      "dtypes: float64(10), object(9)\n",
      "memory usage: 73.6+ KB\n"
     ]
    }
   ],
   "source": [
    "missing_dp = dp.loc[:, dp.isnull().sum() > 0]\n",
    "missing_dp.info()"
   ]
  },
  {
   "cell_type": "code",
   "execution_count": 12,
   "metadata": {},
   "outputs": [
    {
     "name": "stderr",
     "output_type": "stream",
     "text": [
      "C:\\Users\\Muhammad_Samar\\AppData\\Local\\Temp\\ipykernel_11096\\1859825008.py:11: FutureWarning: The default value of numeric_only in DataFrame.corr is deprecated. In a future version, it will default to False. Select only valid columns or specify the value of numeric_only to silence this warning.\n",
      "  correlation_matrix = dp_encoded.corr().loc[missing_dp.columns, :]\n"
     ]
    },
    {
     "data": {
      "text/html": [
       "<div>\n",
       "<style scoped>\n",
       "    .dataframe tbody tr th:only-of-type {\n",
       "        vertical-align: middle;\n",
       "    }\n",
       "\n",
       "    .dataframe tbody tr th {\n",
       "        vertical-align: top;\n",
       "    }\n",
       "\n",
       "    .dataframe thead th {\n",
       "        text-align: right;\n",
       "    }\n",
       "</style>\n",
       "<table border=\"1\" class=\"dataframe\">\n",
       "  <thead>\n",
       "    <tr style=\"text-align: right;\">\n",
       "      <th></th>\n",
       "      <th>Highest Correlation</th>\n",
       "      <th>With Column</th>\n",
       "    </tr>\n",
       "  </thead>\n",
       "  <tbody>\n",
       "    <tr>\n",
       "      <th>visibleReviewCount</th>\n",
       "      <td>1.000000</td>\n",
       "      <td>bookingData.reviewsCount</td>\n",
       "    </tr>\n",
       "    <tr>\n",
       "      <th>guestSatisfactionOverall</th>\n",
       "      <td>1.000000</td>\n",
       "      <td>bookingData.reviewsRating</td>\n",
       "    </tr>\n",
       "    <tr>\n",
       "      <th>sections.availabilityCalendarDefault.reviewRating</th>\n",
       "      <td>1.000000</td>\n",
       "      <td>bookingData.reviewsRating</td>\n",
       "    </tr>\n",
       "    <tr>\n",
       "      <th>sections.availabilityCalendarDefault.reviewCount</th>\n",
       "      <td>1.000000</td>\n",
       "      <td>bookingData.reviewsCount</td>\n",
       "    </tr>\n",
       "    <tr>\n",
       "      <th>cleanlinessRating</th>\n",
       "      <td>0.818991</td>\n",
       "      <td>bookingData.reviewsRating</td>\n",
       "    </tr>\n",
       "    <tr>\n",
       "      <th>valueRating</th>\n",
       "      <td>0.808578</td>\n",
       "      <td>bookingData.reviewsRating</td>\n",
       "    </tr>\n",
       "    <tr>\n",
       "      <th>accuracyRating</th>\n",
       "      <td>0.768105</td>\n",
       "      <td>bookingData.reviewsRating</td>\n",
       "    </tr>\n",
       "    <tr>\n",
       "      <th>sections.reviewsDefault.heading.icon</th>\n",
       "      <td>0.723070</td>\n",
       "      <td>bookingData.reviewsRating</td>\n",
       "    </tr>\n",
       "    <tr>\n",
       "      <th>communicationRating</th>\n",
       "      <td>0.692820</td>\n",
       "      <td>bookingData.reviewsRating</td>\n",
       "    </tr>\n",
       "    <tr>\n",
       "      <th>checkinRating</th>\n",
       "      <td>0.605221</td>\n",
       "      <td>bookingData.reviewsRating</td>\n",
       "    </tr>\n",
       "    <tr>\n",
       "      <th>locationRating</th>\n",
       "      <td>0.591636</td>\n",
       "      <td>bookingData.reviewsRating</td>\n",
       "    </tr>\n",
       "    <tr>\n",
       "      <th>sections.reviewsDefault.ratings</th>\n",
       "      <td>0.393232</td>\n",
       "      <td>property_id</td>\n",
       "    </tr>\n",
       "    <tr>\n",
       "      <th>sections.reviewsDefault.heading.accessibilityLabel</th>\n",
       "      <td>0.368060</td>\n",
       "      <td>bookingData.reviewsRating</td>\n",
       "    </tr>\n",
       "    <tr>\n",
       "      <th>sections.reviewsDefault.heading.title</th>\n",
       "      <td>0.365451</td>\n",
       "      <td>bookingData.isSuperhost</td>\n",
       "    </tr>\n",
       "    <tr>\n",
       "      <th>sections.availabilityCalendarDefault.reviewAccessibilityLabel</th>\n",
       "      <td>0.354816</td>\n",
       "      <td>property_id</td>\n",
       "    </tr>\n",
       "    <tr>\n",
       "      <th>sections.bookIt.reviewItem.accessibilityLabel</th>\n",
       "      <td>0.333215</td>\n",
       "      <td>bookingData.reviewsRating</td>\n",
       "    </tr>\n",
       "    <tr>\n",
       "      <th>sections.bookIt.reviewItem.title</th>\n",
       "      <td>0.279961</td>\n",
       "      <td>property_id</td>\n",
       "    </tr>\n",
       "    <tr>\n",
       "      <th>bookingData.allowsPets</th>\n",
       "      <td>0.226100</td>\n",
       "      <td>property_id</td>\n",
       "    </tr>\n",
       "    <tr>\n",
       "      <th>sections.photoTour.title</th>\n",
       "      <td>0.164822</td>\n",
       "      <td>property_id</td>\n",
       "    </tr>\n",
       "  </tbody>\n",
       "</table>\n",
       "</div>"
      ],
      "text/plain": [
       "                                                    Highest Correlation  \\\n",
       "visibleReviewCount                                             1.000000   \n",
       "guestSatisfactionOverall                                       1.000000   \n",
       "sections.availabilityCalendarDefault.reviewRating              1.000000   \n",
       "sections.availabilityCalendarDefault.reviewCount               1.000000   \n",
       "cleanlinessRating                                              0.818991   \n",
       "valueRating                                                    0.808578   \n",
       "accuracyRating                                                 0.768105   \n",
       "sections.reviewsDefault.heading.icon                           0.723070   \n",
       "communicationRating                                            0.692820   \n",
       "checkinRating                                                  0.605221   \n",
       "locationRating                                                 0.591636   \n",
       "sections.reviewsDefault.ratings                                0.393232   \n",
       "sections.reviewsDefault.heading.accessibilityLabel             0.368060   \n",
       "sections.reviewsDefault.heading.title                          0.365451   \n",
       "sections.availabilityCalendarDefault.reviewAcce...             0.354816   \n",
       "sections.bookIt.reviewItem.accessibilityLabel                  0.333215   \n",
       "sections.bookIt.reviewItem.title                               0.279961   \n",
       "bookingData.allowsPets                                         0.226100   \n",
       "sections.photoTour.title                                       0.164822   \n",
       "\n",
       "                                                                  With Column  \n",
       "visibleReviewCount                                   bookingData.reviewsCount  \n",
       "guestSatisfactionOverall                            bookingData.reviewsRating  \n",
       "sections.availabilityCalendarDefault.reviewRating   bookingData.reviewsRating  \n",
       "sections.availabilityCalendarDefault.reviewCount     bookingData.reviewsCount  \n",
       "cleanlinessRating                                   bookingData.reviewsRating  \n",
       "valueRating                                         bookingData.reviewsRating  \n",
       "accuracyRating                                      bookingData.reviewsRating  \n",
       "sections.reviewsDefault.heading.icon                bookingData.reviewsRating  \n",
       "communicationRating                                 bookingData.reviewsRating  \n",
       "checkinRating                                       bookingData.reviewsRating  \n",
       "locationRating                                      bookingData.reviewsRating  \n",
       "sections.reviewsDefault.ratings                                   property_id  \n",
       "sections.reviewsDefault.heading.accessibilityLabel  bookingData.reviewsRating  \n",
       "sections.reviewsDefault.heading.title                 bookingData.isSuperhost  \n",
       "sections.availabilityCalendarDefault.reviewAcce...                property_id  \n",
       "sections.bookIt.reviewItem.accessibilityLabel       bookingData.reviewsRating  \n",
       "sections.bookIt.reviewItem.title                                  property_id  \n",
       "bookingData.allowsPets                                            property_id  \n",
       "sections.photoTour.title                                          property_id  "
      ]
     },
     "execution_count": 12,
     "metadata": {},
     "output_type": "execute_result"
    }
   ],
   "source": [
    "from sklearn.preprocessing import LabelEncoder\n",
    "\n",
    "# Copy dataframe to avoid modifying the original\n",
    "dp_encoded = dp.copy()\n",
    "\n",
    "# Encode categorical (object) columns in missing_dp\n",
    "for col in missing_dp.select_dtypes(include=['object']).columns:\n",
    "    dp_encoded[col] = LabelEncoder().fit_transform(dp_encoded[col].astype(str))  # Convert to string before encoding\n",
    "\n",
    "# Compute correlation of missing columns with all other columns in dp\n",
    "correlation_matrix = dp_encoded.corr().loc[missing_dp.columns, :]\n",
    "\n",
    "# Remove self-correlations\n",
    "correlation_matrix = correlation_matrix.drop(columns=missing_dp.columns)\n",
    "\n",
    "# Get the highest correlation values and corresponding column names\n",
    "highest_correlation_values = correlation_matrix.abs().max(axis=1)\n",
    "highest_correlation_columns = correlation_matrix.abs().idxmax(axis=1)\n",
    "\n",
    "# Combine results into a DataFrame\n",
    "correlation_results = pd.DataFrame({\n",
    "    'Highest Correlation': highest_correlation_values,\n",
    "    'With Column': highest_correlation_columns\n",
    "}).sort_values(by='Highest Correlation', ascending=False)\n",
    "\n",
    "correlation_results\n"
   ]
  },
  {
   "cell_type": "code",
   "execution_count": 13,
   "metadata": {},
   "outputs": [
    {
     "name": "stderr",
     "output_type": "stream",
     "text": [
      "C:\\Users\\Muhammad_Samar\\AppData\\Local\\Temp\\ipykernel_11096\\1558420298.py:2: FutureWarning: The default value of numeric_only in DataFrame.corr is deprecated. In a future version, it will default to False. Select only valid columns or specify the value of numeric_only to silence this warning.\n",
      "  correlation_check = dp_encoded.corr().loc[['visibleReviewCount', 'guestSatisfactionOverall', 'sections.availabilityCalendarDefault.reviewRating']]\n"
     ]
    },
    {
     "data": {
      "text/html": [
       "<div>\n",
       "<style scoped>\n",
       "    .dataframe tbody tr th:only-of-type {\n",
       "        vertical-align: middle;\n",
       "    }\n",
       "\n",
       "    .dataframe tbody tr th {\n",
       "        vertical-align: top;\n",
       "    }\n",
       "\n",
       "    .dataframe thead th {\n",
       "        text-align: right;\n",
       "    }\n",
       "</style>\n",
       "<table border=\"1\" class=\"dataframe\">\n",
       "  <thead>\n",
       "    <tr style=\"text-align: right;\">\n",
       "      <th></th>\n",
       "      <th>personCapacity</th>\n",
       "      <th>listingLat</th>\n",
       "      <th>listingLng</th>\n",
       "      <th>homeTier</th>\n",
       "      <th>visibleReviewCount</th>\n",
       "      <th>valueRating</th>\n",
       "      <th>locationRating</th>\n",
       "      <th>communicationRating</th>\n",
       "      <th>checkinRating</th>\n",
       "      <th>accuracyRating</th>\n",
       "      <th>cleanlinessRating</th>\n",
       "      <th>guestSatisfactionOverall</th>\n",
       "      <th>property_id</th>\n",
       "      <th>bookingData.allowsPets</th>\n",
       "      <th>bookingData.hostId</th>\n",
       "      <th>bookingData.isHotelRatePlanEnabled</th>\n",
       "      <th>bookingData.isSuperhost</th>\n",
       "      <th>bookingData.maxNights</th>\n",
       "      <th>bookingData.minNights</th>\n",
       "      <th>bookingData.reviewsCount</th>\n",
       "      <th>bookingData.reviewsRating</th>\n",
       "      <th>bookingData.canInstantBook</th>\n",
       "      <th>sections.bookIt.reviewItem.accessibilityLabel</th>\n",
       "      <th>sections.bookIt.reviewItem.title</th>\n",
       "      <th>sections.availabilityCalendarDefault.reviewRating</th>\n",
       "      <th>sections.availabilityCalendarDefault.reviewCount</th>\n",
       "      <th>sections.availabilityCalendarDefault.reviewAccessibilityLabel</th>\n",
       "      <th>sections.descriptionDefault.descriptionSummary.minimumNumberOfLinesForTruncation</th>\n",
       "      <th>sections.descriptionDefault.descriptionSummary.recommendedNumberOfLines</th>\n",
       "      <th>sections.descriptionDefault.hasExtraDescriptionDetails</th>\n",
       "      <th>sections.location.lat</th>\n",
       "      <th>sections.location.lng</th>\n",
       "      <th>sections.location.mapMarkerRadiusInMeters</th>\n",
       "      <th>sections.reviewsDefault.heading.accessibilityLabel</th>\n",
       "      <th>sections.reviewsDefault.heading.icon</th>\n",
       "      <th>sections.reviewsDefault.heading.title</th>\n",
       "      <th>sections.reviewsDefault.ratings</th>\n",
       "      <th>sections.photoTour.title</th>\n",
       "    </tr>\n",
       "  </thead>\n",
       "  <tbody>\n",
       "    <tr>\n",
       "      <th>visibleReviewCount</th>\n",
       "      <td>0.057098</td>\n",
       "      <td>0.015321</td>\n",
       "      <td>-0.048932</td>\n",
       "      <td>NaN</td>\n",
       "      <td>1.000000</td>\n",
       "      <td>-0.051671</td>\n",
       "      <td>-0.156255</td>\n",
       "      <td>-0.100881</td>\n",
       "      <td>-0.079018</td>\n",
       "      <td>-0.050272</td>\n",
       "      <td>-0.153182</td>\n",
       "      <td>-0.111994</td>\n",
       "      <td>-0.705207</td>\n",
       "      <td>-0.213526</td>\n",
       "      <td>-0.286218</td>\n",
       "      <td>NaN</td>\n",
       "      <td>0.132990</td>\n",
       "      <td>0.149223</td>\n",
       "      <td>-0.089222</td>\n",
       "      <td>1.000000</td>\n",
       "      <td>-0.111994</td>\n",
       "      <td>-0.133335</td>\n",
       "      <td>-0.178161</td>\n",
       "      <td>-0.165543</td>\n",
       "      <td>-0.111994</td>\n",
       "      <td>1.000000</td>\n",
       "      <td>-0.217793</td>\n",
       "      <td>NaN</td>\n",
       "      <td>NaN</td>\n",
       "      <td>NaN</td>\n",
       "      <td>0.015413</td>\n",
       "      <td>-0.048988</td>\n",
       "      <td>0.050693</td>\n",
       "      <td>-0.067985</td>\n",
       "      <td>-0.214616</td>\n",
       "      <td>0.099980</td>\n",
       "      <td>-0.284553</td>\n",
       "      <td>0.090259</td>\n",
       "    </tr>\n",
       "    <tr>\n",
       "      <th>guestSatisfactionOverall</th>\n",
       "      <td>-0.026406</td>\n",
       "      <td>-0.064334</td>\n",
       "      <td>-0.072489</td>\n",
       "      <td>NaN</td>\n",
       "      <td>-0.111994</td>\n",
       "      <td>0.808578</td>\n",
       "      <td>0.591636</td>\n",
       "      <td>0.692820</td>\n",
       "      <td>0.605221</td>\n",
       "      <td>0.768105</td>\n",
       "      <td>0.818991</td>\n",
       "      <td>1.000000</td>\n",
       "      <td>0.142638</td>\n",
       "      <td>0.051957</td>\n",
       "      <td>-0.075039</td>\n",
       "      <td>NaN</td>\n",
       "      <td>0.301071</td>\n",
       "      <td>-0.105447</td>\n",
       "      <td>0.117810</td>\n",
       "      <td>-0.111994</td>\n",
       "      <td>1.000000</td>\n",
       "      <td>0.028963</td>\n",
       "      <td>0.781831</td>\n",
       "      <td>0.938738</td>\n",
       "      <td>1.000000</td>\n",
       "      <td>-0.111994</td>\n",
       "      <td>0.906447</td>\n",
       "      <td>NaN</td>\n",
       "      <td>NaN</td>\n",
       "      <td>NaN</td>\n",
       "      <td>-0.064345</td>\n",
       "      <td>-0.072501</td>\n",
       "      <td>0.073456</td>\n",
       "      <td>0.703943</td>\n",
       "      <td>0.187692</td>\n",
       "      <td>0.567459</td>\n",
       "      <td>0.740799</td>\n",
       "      <td>-0.065025</td>\n",
       "    </tr>\n",
       "    <tr>\n",
       "      <th>sections.availabilityCalendarDefault.reviewRating</th>\n",
       "      <td>-0.026406</td>\n",
       "      <td>-0.064334</td>\n",
       "      <td>-0.072489</td>\n",
       "      <td>NaN</td>\n",
       "      <td>-0.111994</td>\n",
       "      <td>0.808578</td>\n",
       "      <td>0.591636</td>\n",
       "      <td>0.692820</td>\n",
       "      <td>0.605221</td>\n",
       "      <td>0.768105</td>\n",
       "      <td>0.818991</td>\n",
       "      <td>1.000000</td>\n",
       "      <td>0.142638</td>\n",
       "      <td>0.051957</td>\n",
       "      <td>-0.075039</td>\n",
       "      <td>NaN</td>\n",
       "      <td>0.301071</td>\n",
       "      <td>-0.105447</td>\n",
       "      <td>0.117810</td>\n",
       "      <td>-0.111994</td>\n",
       "      <td>1.000000</td>\n",
       "      <td>0.028963</td>\n",
       "      <td>0.781831</td>\n",
       "      <td>0.938738</td>\n",
       "      <td>1.000000</td>\n",
       "      <td>-0.111994</td>\n",
       "      <td>0.906447</td>\n",
       "      <td>NaN</td>\n",
       "      <td>NaN</td>\n",
       "      <td>NaN</td>\n",
       "      <td>-0.064345</td>\n",
       "      <td>-0.072501</td>\n",
       "      <td>0.073456</td>\n",
       "      <td>0.703943</td>\n",
       "      <td>0.187692</td>\n",
       "      <td>0.567459</td>\n",
       "      <td>0.740799</td>\n",
       "      <td>-0.065025</td>\n",
       "    </tr>\n",
       "  </tbody>\n",
       "</table>\n",
       "</div>"
      ],
      "text/plain": [
       "                                                   personCapacity  listingLat  \\\n",
       "visibleReviewCount                                       0.057098    0.015321   \n",
       "guestSatisfactionOverall                                -0.026406   -0.064334   \n",
       "sections.availabilityCalendarDefault.reviewRating       -0.026406   -0.064334   \n",
       "\n",
       "                                                   listingLng  homeTier  \\\n",
       "visibleReviewCount                                  -0.048932       NaN   \n",
       "guestSatisfactionOverall                            -0.072489       NaN   \n",
       "sections.availabilityCalendarDefault.reviewRating   -0.072489       NaN   \n",
       "\n",
       "                                                   visibleReviewCount  \\\n",
       "visibleReviewCount                                           1.000000   \n",
       "guestSatisfactionOverall                                    -0.111994   \n",
       "sections.availabilityCalendarDefault.reviewRating           -0.111994   \n",
       "\n",
       "                                                   valueRating  \\\n",
       "visibleReviewCount                                   -0.051671   \n",
       "guestSatisfactionOverall                              0.808578   \n",
       "sections.availabilityCalendarDefault.reviewRating     0.808578   \n",
       "\n",
       "                                                   locationRating  \\\n",
       "visibleReviewCount                                      -0.156255   \n",
       "guestSatisfactionOverall                                 0.591636   \n",
       "sections.availabilityCalendarDefault.reviewRating        0.591636   \n",
       "\n",
       "                                                   communicationRating  \\\n",
       "visibleReviewCount                                           -0.100881   \n",
       "guestSatisfactionOverall                                      0.692820   \n",
       "sections.availabilityCalendarDefault.reviewRating             0.692820   \n",
       "\n",
       "                                                   checkinRating  \\\n",
       "visibleReviewCount                                     -0.079018   \n",
       "guestSatisfactionOverall                                0.605221   \n",
       "sections.availabilityCalendarDefault.reviewRating       0.605221   \n",
       "\n",
       "                                                   accuracyRating  \\\n",
       "visibleReviewCount                                      -0.050272   \n",
       "guestSatisfactionOverall                                 0.768105   \n",
       "sections.availabilityCalendarDefault.reviewRating        0.768105   \n",
       "\n",
       "                                                   cleanlinessRating  \\\n",
       "visibleReviewCount                                         -0.153182   \n",
       "guestSatisfactionOverall                                    0.818991   \n",
       "sections.availabilityCalendarDefault.reviewRating           0.818991   \n",
       "\n",
       "                                                   guestSatisfactionOverall  \\\n",
       "visibleReviewCount                                                -0.111994   \n",
       "guestSatisfactionOverall                                           1.000000   \n",
       "sections.availabilityCalendarDefault.reviewRating                  1.000000   \n",
       "\n",
       "                                                   property_id  \\\n",
       "visibleReviewCount                                   -0.705207   \n",
       "guestSatisfactionOverall                              0.142638   \n",
       "sections.availabilityCalendarDefault.reviewRating     0.142638   \n",
       "\n",
       "                                                   bookingData.allowsPets  \\\n",
       "visibleReviewCount                                              -0.213526   \n",
       "guestSatisfactionOverall                                         0.051957   \n",
       "sections.availabilityCalendarDefault.reviewRating                0.051957   \n",
       "\n",
       "                                                   bookingData.hostId  \\\n",
       "visibleReviewCount                                          -0.286218   \n",
       "guestSatisfactionOverall                                    -0.075039   \n",
       "sections.availabilityCalendarDefault.reviewRating           -0.075039   \n",
       "\n",
       "                                                   bookingData.isHotelRatePlanEnabled  \\\n",
       "visibleReviewCount                                                                NaN   \n",
       "guestSatisfactionOverall                                                          NaN   \n",
       "sections.availabilityCalendarDefault.reviewRating                                 NaN   \n",
       "\n",
       "                                                   bookingData.isSuperhost  \\\n",
       "visibleReviewCount                                                0.132990   \n",
       "guestSatisfactionOverall                                          0.301071   \n",
       "sections.availabilityCalendarDefault.reviewRating                 0.301071   \n",
       "\n",
       "                                                   bookingData.maxNights  \\\n",
       "visibleReviewCount                                              0.149223   \n",
       "guestSatisfactionOverall                                       -0.105447   \n",
       "sections.availabilityCalendarDefault.reviewRating              -0.105447   \n",
       "\n",
       "                                                   bookingData.minNights  \\\n",
       "visibleReviewCount                                             -0.089222   \n",
       "guestSatisfactionOverall                                        0.117810   \n",
       "sections.availabilityCalendarDefault.reviewRating               0.117810   \n",
       "\n",
       "                                                   bookingData.reviewsCount  \\\n",
       "visibleReviewCount                                                 1.000000   \n",
       "guestSatisfactionOverall                                          -0.111994   \n",
       "sections.availabilityCalendarDefault.reviewRating                 -0.111994   \n",
       "\n",
       "                                                   bookingData.reviewsRating  \\\n",
       "visibleReviewCount                                                 -0.111994   \n",
       "guestSatisfactionOverall                                            1.000000   \n",
       "sections.availabilityCalendarDefault.reviewRating                   1.000000   \n",
       "\n",
       "                                                   bookingData.canInstantBook  \\\n",
       "visibleReviewCount                                                  -0.133335   \n",
       "guestSatisfactionOverall                                             0.028963   \n",
       "sections.availabilityCalendarDefault.reviewRating                    0.028963   \n",
       "\n",
       "                                                   sections.bookIt.reviewItem.accessibilityLabel  \\\n",
       "visibleReviewCount                                                                     -0.178161   \n",
       "guestSatisfactionOverall                                                                0.781831   \n",
       "sections.availabilityCalendarDefault.reviewRating                                       0.781831   \n",
       "\n",
       "                                                   sections.bookIt.reviewItem.title  \\\n",
       "visibleReviewCount                                                        -0.165543   \n",
       "guestSatisfactionOverall                                                   0.938738   \n",
       "sections.availabilityCalendarDefault.reviewRating                          0.938738   \n",
       "\n",
       "                                                   sections.availabilityCalendarDefault.reviewRating  \\\n",
       "visibleReviewCount                                                                         -0.111994   \n",
       "guestSatisfactionOverall                                                                    1.000000   \n",
       "sections.availabilityCalendarDefault.reviewRating                                           1.000000   \n",
       "\n",
       "                                                   sections.availabilityCalendarDefault.reviewCount  \\\n",
       "visibleReviewCount                                                                         1.000000   \n",
       "guestSatisfactionOverall                                                                  -0.111994   \n",
       "sections.availabilityCalendarDefault.reviewRating                                         -0.111994   \n",
       "\n",
       "                                                   sections.availabilityCalendarDefault.reviewAccessibilityLabel  \\\n",
       "visibleReviewCount                                                                         -0.217793               \n",
       "guestSatisfactionOverall                                                                    0.906447               \n",
       "sections.availabilityCalendarDefault.reviewRating                                           0.906447               \n",
       "\n",
       "                                                   sections.descriptionDefault.descriptionSummary.minimumNumberOfLinesForTruncation  \\\n",
       "visibleReviewCount                                                                               NaN                                  \n",
       "guestSatisfactionOverall                                                                         NaN                                  \n",
       "sections.availabilityCalendarDefault.reviewRating                                                NaN                                  \n",
       "\n",
       "                                                   sections.descriptionDefault.descriptionSummary.recommendedNumberOfLines  \\\n",
       "visibleReviewCount                                                                               NaN                         \n",
       "guestSatisfactionOverall                                                                         NaN                         \n",
       "sections.availabilityCalendarDefault.reviewRating                                                NaN                         \n",
       "\n",
       "                                                   sections.descriptionDefault.hasExtraDescriptionDetails  \\\n",
       "visibleReviewCount                                                                               NaN        \n",
       "guestSatisfactionOverall                                                                         NaN        \n",
       "sections.availabilityCalendarDefault.reviewRating                                                NaN        \n",
       "\n",
       "                                                   sections.location.lat  \\\n",
       "visibleReviewCount                                              0.015413   \n",
       "guestSatisfactionOverall                                       -0.064345   \n",
       "sections.availabilityCalendarDefault.reviewRating              -0.064345   \n",
       "\n",
       "                                                   sections.location.lng  \\\n",
       "visibleReviewCount                                             -0.048988   \n",
       "guestSatisfactionOverall                                       -0.072501   \n",
       "sections.availabilityCalendarDefault.reviewRating              -0.072501   \n",
       "\n",
       "                                                   sections.location.mapMarkerRadiusInMeters  \\\n",
       "visibleReviewCount                                                                  0.050693   \n",
       "guestSatisfactionOverall                                                            0.073456   \n",
       "sections.availabilityCalendarDefault.reviewRating                                   0.073456   \n",
       "\n",
       "                                                   sections.reviewsDefault.heading.accessibilityLabel  \\\n",
       "visibleReviewCount                                                                         -0.067985    \n",
       "guestSatisfactionOverall                                                                    0.703943    \n",
       "sections.availabilityCalendarDefault.reviewRating                                           0.703943    \n",
       "\n",
       "                                                   sections.reviewsDefault.heading.icon  \\\n",
       "visibleReviewCount                                                            -0.214616   \n",
       "guestSatisfactionOverall                                                       0.187692   \n",
       "sections.availabilityCalendarDefault.reviewRating                              0.187692   \n",
       "\n",
       "                                                   sections.reviewsDefault.heading.title  \\\n",
       "visibleReviewCount                                                              0.099980   \n",
       "guestSatisfactionOverall                                                        0.567459   \n",
       "sections.availabilityCalendarDefault.reviewRating                               0.567459   \n",
       "\n",
       "                                                   sections.reviewsDefault.ratings  \\\n",
       "visibleReviewCount                                                       -0.284553   \n",
       "guestSatisfactionOverall                                                  0.740799   \n",
       "sections.availabilityCalendarDefault.reviewRating                         0.740799   \n",
       "\n",
       "                                                   sections.photoTour.title  \n",
       "visibleReviewCount                                                 0.090259  \n",
       "guestSatisfactionOverall                                          -0.065025  \n",
       "sections.availabilityCalendarDefault.reviewRating                 -0.065025  "
      ]
     },
     "execution_count": 13,
     "metadata": {},
     "output_type": "execute_result"
    }
   ],
   "source": [
    "# Check correlation among highly correlated columns and all dp columns\n",
    "correlation_check = dp_encoded.corr().loc[['visibleReviewCount', 'guestSatisfactionOverall', 'sections.availabilityCalendarDefault.reviewRating']]\n",
    "correlation_check"
   ]
  },
  {
   "cell_type": "markdown",
   "metadata": {},
   "source": [
    "- We'll use RF for `visibleReviewCount`, `guestSatisfactionOverall`, `sections.availabilityCalendarDefault.reviewRating\t`\n",
    "- we'll use basic techniques mean, median, mode for other colums."
   ]
  },
  {
   "cell_type": "markdown",
   "metadata": {},
   "source": [
    "#### Filling remaining cols with basic techniques `mean, median, mode`"
   ]
  },
  {
   "cell_type": "code",
   "execution_count": 14,
   "metadata": {},
   "outputs": [
    {
     "name": "stdout",
     "output_type": "stream",
     "text": [
      "Missing values filled in dp successfully!\n"
     ]
    }
   ],
   "source": [
    "# Exclude the 3 target columns from filling\n",
    "exclude_cols = ['visibleReviewCount', 'guestSatisfactionOverall', 'sections.availabilityCalendarDefault.reviewRating']\n",
    "\n",
    "# Fill numerical columns (except excluded ones) with mean\n",
    "num_cols = dp.select_dtypes(include=['float64']).columns.drop(exclude_cols)\n",
    "dp[num_cols] = dp[num_cols].apply(lambda x: x.fillna(x.mean()) if x.isnull().sum() > 0 else x)\n",
    "\n",
    "# Fill categorical columns with mode\n",
    "cat_cols = dp.select_dtypes(include=['object', 'bool']).columns\n",
    "dp[cat_cols] = dp[cat_cols].apply(lambda x: x.fillna(x.mode()[0]) if x.isnull().sum() > 0 else x)\n",
    "\n",
    "print(\"Missing values filled in dp successfully!\")"
   ]
  },
  {
   "cell_type": "code",
   "execution_count": 15,
   "metadata": {},
   "outputs": [
    {
     "data": {
      "text/plain": [
       "visibleReviewCount                                   40\n",
       "guestSatisfactionOverall                             40\n",
       "sections.availabilityCalendarDefault.reviewRating    40\n",
       "dtype: int64"
      ]
     },
     "execution_count": 15,
     "metadata": {},
     "output_type": "execute_result"
    }
   ],
   "source": [
    "dp.isnull().sum().loc[lambda x: x > 0].sort_values(ascending=False)"
   ]
  },
  {
   "cell_type": "markdown",
   "metadata": {},
   "source": [
    "#### Now we'll fill these 3 cols using RF"
   ]
  },
  {
   "cell_type": "code",
   "execution_count": 16,
   "metadata": {},
   "outputs": [],
   "source": [
    "from sklearn.ensemble import RandomForestRegressor\n",
    "from sklearn.preprocessing import LabelEncoder\n",
    "\n",
    "# Encode categorical features\n",
    "dp_encoded = dp.copy()  # Work on a copy to avoid modifying the original\n",
    "categorical_features = dp_encoded.select_dtypes(include=['object', 'category']).columns\n",
    "le_objects = {}\n",
    "\n",
    "for col in categorical_features:\n",
    "    col_le = LabelEncoder()\n",
    "    dp_encoded[col] = col_le.fit_transform(dp_encoded[col].astype(str))  # Convert to string to handle NaNs\n",
    "    le_objects[col] = col_le  # Store encoder for reverse transformation\n",
    "\n",
    "# Function to impute missing values with RF while dropping specific columns\n",
    "def impute_missing(target_col, drop_cols):\n",
    "    temp = dp_encoded.copy()\n",
    "    temp.drop(columns=drop_cols, inplace=True)\n",
    "\n",
    "    missing_dp = temp[temp[target_col].isnull()]\n",
    "    without_missing_dp = temp.dropna()\n",
    "\n",
    "    if missing_dp.empty or without_missing_dp.empty:\n",
    "        return\n",
    "\n",
    "    rf = RandomForestRegressor(n_estimators=100, random_state=42)\n",
    "    rf.fit(without_missing_dp.drop(columns=[target_col]), without_missing_dp[target_col])\n",
    "\n",
    "    y_pred = rf.predict(missing_dp.drop(columns=[target_col]))\n",
    "    dp_encoded.loc[dp_encoded[target_col].isnull(), target_col] = y_pred  # Fill in encoded dp\n",
    "\n",
    "# Impute missing values step by step\n",
    "impute_missing('visibleReviewCount', ['guestSatisfactionOverall', 'sections.availabilityCalendarDefault.reviewRating'])\n",
    "impute_missing('guestSatisfactionOverall', ['sections.availabilityCalendarDefault.reviewRating'])\n",
    "impute_missing('sections.availabilityCalendarDefault.reviewRating', [])\n",
    "\n",
    "# Reverse Encoding: Convert numeric labels back to original categories\n",
    "for col, encoder in le_objects.items():\n",
    "    dp_encoded[col] = encoder.inverse_transform(dp_encoded[col].astype(int))\n",
    "\n",
    "# Update original dp with reverse-encoded values\n",
    "dp.update(dp_encoded)"
   ]
  },
  {
   "cell_type": "code",
   "execution_count": 17,
   "metadata": {},
   "outputs": [
    {
     "data": {
      "text/plain": [
       "title                                                                               0\n",
       "propertyType                                                                        0\n",
       "sections.location.previewLocationDetails                                            0\n",
       "sections.location.lng                                                               0\n",
       "sections.location.lat                                                               0\n",
       "sections.location.homeIcon                                                          0\n",
       "sections.amenities.seeAllAmenitiesButton.title                                      0\n",
       "sections.amenities.seeAllAmenitiesGroups                                            0\n",
       "sections.amenities.previewAmenitiesGroups                                           0\n",
       "sections.amenities.title                                                            0\n",
       "sections.descriptionDefault.hasExtraDescriptionDetails                              0\n",
       "sections.descriptionDefault.descriptionSummary.recommendedNumberOfLines             0\n",
       "sections.descriptionDefault.descriptionSummary.minimumNumberOfLinesForTruncation    0\n",
       "sections.descriptionDefault.descriptionSummary.htmlText                             0\n",
       "sections.highlights.highlights                                                      0\n",
       "sections.title.title                                                                0\n",
       "sections.hero.previewImageLoggingEventData.section                                  0\n",
       "sections.hero.previewImageLoggingEventData.component                                0\n",
       "sections.hero.previewImageLoggingEventData.loggingId                                0\n",
       "sections.hero.seePhotosButton.title                                                 0\n",
       "sections.hero.previewImages                                                         0\n",
       "sections.location.seeAllLocationDetails                                             0\n",
       "sections.location.subtitle                                                          0\n",
       "sections.location.title                                                             0\n",
       "sections.policies.seeAllHouseRulesButton.title                                      0\n",
       "sections.photoTour.title                                                            0\n",
       "sections.policies.seeAllSafetyAndPropertyButton.title                               0\n",
       "sections.policies.seeAllSafetyAndPropertyButton.accessibilityLabel                  0\n",
       "sections.policies.previewSafetyAndProperties                                        0\n",
       "sections.policies.safetyAndPropertyTitle                                            0\n",
       "sections.policies.title                                                             0\n",
       "sections.policies.seeCancellationPolicyButton.title                                 0\n",
       "sections.policies.seeCancellationPolicyButton.accessibilityLabel                    0\n",
       "sections.policies.seeAllHouseRulesButton.accessibilityLabel                         0\n",
       "sections.location.mapMarkerRadiusInMeters                                           0\n",
       "sections.policies.houseRulesTitle                                                   0\n",
       "sections.policies.houseRules                                                        0\n",
       "sections.policies.cancellationPolicyTitle                                           0\n",
       "sections.policies.cancellationPolicies                                              0\n",
       "sections.reviewsDefault.ratings                                                     0\n",
       "sections.reviewsDefault.heading.title                                               0\n",
       "sections.reviewsDefault.heading.icon                                                0\n",
       "sections.reviewsDefault.heading.accessibilityLabel                                  0\n",
       "sections.description.items                                                          0\n",
       "sections.description.title                                                          0\n",
       "sections.petCounts.mediaItem.baseUrl                                                0\n",
       "locationRating                                                                      0\n",
       "bookingData.allowsPets                                                              0\n",
       "property_id                                                                         0\n",
       "productCountry                                                                      0\n",
       "guestSatisfactionOverall                                                            0\n",
       "cleanlinessRating                                                                   0\n",
       "accuracyRating                                                                      0\n",
       "checkinRating                                                                       0\n",
       "communicationRating                                                                 0\n",
       "valueRating                                                                         0\n",
       "bookingData.hostName                                                                0\n",
       "visibleReviewCount                                                                  0\n",
       "roomType                                                                            0\n",
       "homeTier                                                                            0\n",
       "listingLng                                                                          0\n",
       "listingLat                                                                          0\n",
       "descriptionLanguage                                                                 0\n",
       "personCapacity                                                                      0\n",
       "location                                                                            0\n",
       "bookingData.hostId                                                                  0\n",
       "bookingData.hostProfilePhotoUrl                                                     0\n",
       "sections.petCounts.html.htmlText                                                    0\n",
       "sections.bookIt.reviewItem.title                                                    0\n",
       "sections.petCounts.title                                                            0\n",
       "sections.availabilityCalendarDefault.descriptionItems                               0\n",
       "sections.availabilityCalendarDefault.reviewAccessibilityLabel                       0\n",
       "sections.availabilityCalendarDefault.reviewCount                                    0\n",
       "sections.availabilityCalendarDefault.reviewRating                                   0\n",
       "sections.availabilityCalendarDefault.priceDisclaimer                                0\n",
       "sections.availabilityCalendarDefault.subtitle                                       0\n",
       "sections.availabilityCalendarDefault.title                                          0\n",
       "sections.bookIt.reviewItem.accessibilityLabel                                       0\n",
       "bookingData.isHotelRatePlanEnabled                                                  0\n",
       "bookingData.cancellationPolicies                                                    0\n",
       "bookingData.canInstantBook                                                          0\n",
       "bookingData.roomAndPropertyType                                                     0\n",
       "bookingData.reviewsRating                                                           0\n",
       "bookingData.reviewsCount                                                            0\n",
       "bookingData.minNights                                                               0\n",
       "bookingData.maxNights                                                               0\n",
       "bookingData.isSuperhost                                                             0\n",
       "sections.photoTour.mediaItems                                                       0\n",
       "dtype: int64"
      ]
     },
     "execution_count": 17,
     "metadata": {},
     "output_type": "execute_result"
    }
   ],
   "source": [
    "dp.isnull().sum().sort_values(ascending=False)"
   ]
  },
  {
   "cell_type": "markdown",
   "metadata": {},
   "source": [
    "### All missing values filled in `**Detailed_Property**` file"
   ]
  },
  {
   "cell_type": "markdown",
   "metadata": {},
   "source": [
    "__________________"
   ]
  },
  {
   "cell_type": "code",
   "execution_count": 18,
   "metadata": {},
   "outputs": [],
   "source": [
    "pbp = pd.read_csv('property_by_place.csv')"
   ]
  },
  {
   "cell_type": "code",
   "execution_count": 19,
   "metadata": {},
   "outputs": [
    {
     "data": {
      "text/html": [
       "<div>\n",
       "<style scoped>\n",
       "    .dataframe tbody tr th:only-of-type {\n",
       "        vertical-align: middle;\n",
       "    }\n",
       "\n",
       "    .dataframe tbody tr th {\n",
       "        vertical-align: top;\n",
       "    }\n",
       "\n",
       "    .dataframe thead th {\n",
       "        text-align: right;\n",
       "    }\n",
       "</style>\n",
       "<table border=\"1\" class=\"dataframe\">\n",
       "  <thead>\n",
       "    <tr style=\"text-align: right;\">\n",
       "      <th></th>\n",
       "      <th>Unnamed: 0.1</th>\n",
       "      <th>Unnamed: 0</th>\n",
       "      <th>avgRating</th>\n",
       "      <th>listingBathroomLabel</th>\n",
       "      <th>bathrooms</th>\n",
       "      <th>listingBedLabel</th>\n",
       "      <th>bedrooms</th>\n",
       "      <th>beds</th>\n",
       "      <th>businessHostLabel</th>\n",
       "      <th>city</th>\n",
       "      <th>listingGuestLabel</th>\n",
       "      <th>id</th>\n",
       "      <th>isAutoTranslated</th>\n",
       "      <th>isNewListing</th>\n",
       "      <th>isSuperhost</th>\n",
       "      <th>relaxedFilterLabels</th>\n",
       "      <th>localizedCityName</th>\n",
       "      <th>localizedDistanceText</th>\n",
       "      <th>locationTitle</th>\n",
       "      <th>locationContext</th>\n",
       "      <th>listingName</th>\n",
       "      <th>listingObjType</th>\n",
       "      <th>neighborhood</th>\n",
       "      <th>previewTags</th>\n",
       "      <th>publicAddress</th>\n",
       "      <th>reviewsCount</th>\n",
       "      <th>roomType</th>\n",
       "      <th>roomTypeCategory</th>\n",
       "      <th>roomTypeId</th>\n",
       "      <th>spaceType</th>\n",
       "      <th>starRating</th>\n",
       "      <th>title</th>\n",
       "      <th>avgRatingLocalized</th>\n",
       "      <th>accessibilityLabel</th>\n",
       "      <th>price</th>\n",
       "      <th>qualifier</th>\n",
       "      <th>adults</th>\n",
       "      <th>children</th>\n",
       "      <th>infants</th>\n",
       "      <th>pets</th>\n",
       "    </tr>\n",
       "  </thead>\n",
       "  <tbody>\n",
       "    <tr>\n",
       "      <th>0</th>\n",
       "      <td>0</td>\n",
       "      <td>0</td>\n",
       "      <td>4.95</td>\n",
       "      <td>1 bath</td>\n",
       "      <td>1.0</td>\n",
       "      <td>1 bed</td>\n",
       "      <td>1</td>\n",
       "      <td>1</td>\n",
       "      <td>NaN</td>\n",
       "      <td>Calgary</td>\n",
       "      <td>2 guests</td>\n",
       "      <td>1143371712266502884</td>\n",
       "      <td>False</td>\n",
       "      <td>False</td>\n",
       "      <td>True</td>\n",
       "      <td>NaN</td>\n",
       "      <td>Calgary</td>\n",
       "      <td>NaN</td>\n",
       "      <td>NaN</td>\n",
       "      <td>NaN</td>\n",
       "      <td>Cute Inner City Haven with Country-like Serenity</td>\n",
       "      <td>REGULAR</td>\n",
       "      <td>NaN</td>\n",
       "      <td>[]</td>\n",
       "      <td>Calgary, AB, Canada</td>\n",
       "      <td>20</td>\n",
       "      <td>Entire home/apt</td>\n",
       "      <td>entire_home</td>\n",
       "      <td>NaN</td>\n",
       "      <td>Home</td>\n",
       "      <td>5.0</td>\n",
       "      <td>Home in Northeast Calgary</td>\n",
       "      <td>4.95 (20)</td>\n",
       "      <td>$90 CAD per night</td>\n",
       "      <td>$90 CAD</td>\n",
       "      <td>night</td>\n",
       "      <td>1</td>\n",
       "      <td>0</td>\n",
       "      <td>0</td>\n",
       "      <td>0</td>\n",
       "    </tr>\n",
       "    <tr>\n",
       "      <th>1</th>\n",
       "      <td>1</td>\n",
       "      <td>1</td>\n",
       "      <td>4.84</td>\n",
       "      <td>1 bath</td>\n",
       "      <td>1.0</td>\n",
       "      <td>2 beds</td>\n",
       "      <td>0</td>\n",
       "      <td>2</td>\n",
       "      <td>NaN</td>\n",
       "      <td>Calgary</td>\n",
       "      <td>3 guests</td>\n",
       "      <td>36314346</td>\n",
       "      <td>False</td>\n",
       "      <td>False</td>\n",
       "      <td>True</td>\n",
       "      <td>NaN</td>\n",
       "      <td>Calgary</td>\n",
       "      <td>NaN</td>\n",
       "      <td>NaN</td>\n",
       "      <td>NaN</td>\n",
       "      <td>Cozy Suite In The Heart Of Bridgeland - BL246108</td>\n",
       "      <td>REGULAR</td>\n",
       "      <td>NaN</td>\n",
       "      <td>[]</td>\n",
       "      <td>Calgary, AB, Canada</td>\n",
       "      <td>268</td>\n",
       "      <td>Entire home/apt</td>\n",
       "      <td>entire_home</td>\n",
       "      <td>NaN</td>\n",
       "      <td>Apartment</td>\n",
       "      <td>5.0</td>\n",
       "      <td>Apartment in Northeast Calgary</td>\n",
       "      <td>4.84 (268)</td>\n",
       "      <td>$62 CAD per night</td>\n",
       "      <td>$62 CAD</td>\n",
       "      <td>night</td>\n",
       "      <td>1</td>\n",
       "      <td>0</td>\n",
       "      <td>0</td>\n",
       "      <td>0</td>\n",
       "    </tr>\n",
       "    <tr>\n",
       "      <th>2</th>\n",
       "      <td>2</td>\n",
       "      <td>2</td>\n",
       "      <td>4.94</td>\n",
       "      <td>1 bath</td>\n",
       "      <td>1.0</td>\n",
       "      <td>1 bed</td>\n",
       "      <td>1</td>\n",
       "      <td>1</td>\n",
       "      <td>NaN</td>\n",
       "      <td>Calgary</td>\n",
       "      <td>2 guests</td>\n",
       "      <td>671115779168748813</td>\n",
       "      <td>False</td>\n",
       "      <td>False</td>\n",
       "      <td>True</td>\n",
       "      <td>NaN</td>\n",
       "      <td>Calgary</td>\n",
       "      <td>NaN</td>\n",
       "      <td>NaN</td>\n",
       "      <td>NaN</td>\n",
       "      <td>Modern suite overlooking downtown</td>\n",
       "      <td>REGULAR</td>\n",
       "      <td>NaN</td>\n",
       "      <td>[]</td>\n",
       "      <td>Calgary, AB, Canada</td>\n",
       "      <td>69</td>\n",
       "      <td>Entire home/apt</td>\n",
       "      <td>entire_home</td>\n",
       "      <td>NaN</td>\n",
       "      <td>Guest suite</td>\n",
       "      <td>5.0</td>\n",
       "      <td>Guest suite in Northeast Calgary</td>\n",
       "      <td>4.94 (69)</td>\n",
       "      <td>$90 CAD per night</td>\n",
       "      <td>$90 CAD</td>\n",
       "      <td>night</td>\n",
       "      <td>1</td>\n",
       "      <td>0</td>\n",
       "      <td>0</td>\n",
       "      <td>0</td>\n",
       "    </tr>\n",
       "  </tbody>\n",
       "</table>\n",
       "</div>"
      ],
      "text/plain": [
       "   Unnamed: 0.1  Unnamed: 0  avgRating listingBathroomLabel  bathrooms  \\\n",
       "0             0           0       4.95               1 bath        1.0   \n",
       "1             1           1       4.84               1 bath        1.0   \n",
       "2             2           2       4.94               1 bath        1.0   \n",
       "\n",
       "  listingBedLabel  bedrooms  beds  businessHostLabel     city  \\\n",
       "0           1 bed         1     1                NaN  Calgary   \n",
       "1          2 beds         0     2                NaN  Calgary   \n",
       "2           1 bed         1     1                NaN  Calgary   \n",
       "\n",
       "  listingGuestLabel                   id  isAutoTranslated  isNewListing  \\\n",
       "0          2 guests  1143371712266502884             False         False   \n",
       "1          3 guests             36314346             False         False   \n",
       "2          2 guests   671115779168748813             False         False   \n",
       "\n",
       "   isSuperhost  relaxedFilterLabels localizedCityName  localizedDistanceText  \\\n",
       "0         True                  NaN           Calgary                    NaN   \n",
       "1         True                  NaN           Calgary                    NaN   \n",
       "2         True                  NaN           Calgary                    NaN   \n",
       "\n",
       "   locationTitle  locationContext  \\\n",
       "0            NaN              NaN   \n",
       "1            NaN              NaN   \n",
       "2            NaN              NaN   \n",
       "\n",
       "                                        listingName listingObjType  \\\n",
       "0  Cute Inner City Haven with Country-like Serenity        REGULAR   \n",
       "1  Cozy Suite In The Heart Of Bridgeland - BL246108        REGULAR   \n",
       "2                 Modern suite overlooking downtown        REGULAR   \n",
       "\n",
       "   neighborhood previewTags        publicAddress  reviewsCount  \\\n",
       "0           NaN          []  Calgary, AB, Canada            20   \n",
       "1           NaN          []  Calgary, AB, Canada           268   \n",
       "2           NaN          []  Calgary, AB, Canada            69   \n",
       "\n",
       "          roomType roomTypeCategory  roomTypeId    spaceType  starRating  \\\n",
       "0  Entire home/apt      entire_home         NaN         Home         5.0   \n",
       "1  Entire home/apt      entire_home         NaN    Apartment         5.0   \n",
       "2  Entire home/apt      entire_home         NaN  Guest suite         5.0   \n",
       "\n",
       "                              title avgRatingLocalized accessibilityLabel  \\\n",
       "0         Home in Northeast Calgary          4.95 (20)  $90 CAD per night   \n",
       "1    Apartment in Northeast Calgary         4.84 (268)  $62 CAD per night   \n",
       "2  Guest suite in Northeast Calgary          4.94 (69)  $90 CAD per night   \n",
       "\n",
       "     price qualifier  adults  children  infants  pets  \n",
       "0  $90 CAD     night       1         0        0     0  \n",
       "1  $62 CAD     night       1         0        0     0  \n",
       "2  $90 CAD     night       1         0        0     0  "
      ]
     },
     "execution_count": 19,
     "metadata": {},
     "output_type": "execute_result"
    }
   ],
   "source": [
    "pbp.head(3)"
   ]
  },
  {
   "cell_type": "code",
   "execution_count": 20,
   "metadata": {},
   "outputs": [
    {
     "data": {
      "text/html": [
       "<div>\n",
       "<style scoped>\n",
       "    .dataframe tbody tr th:only-of-type {\n",
       "        vertical-align: middle;\n",
       "    }\n",
       "\n",
       "    .dataframe tbody tr th {\n",
       "        vertical-align: top;\n",
       "    }\n",
       "\n",
       "    .dataframe thead th {\n",
       "        text-align: right;\n",
       "    }\n",
       "</style>\n",
       "<table border=\"1\" class=\"dataframe\">\n",
       "  <thead>\n",
       "    <tr style=\"text-align: right;\">\n",
       "      <th></th>\n",
       "      <th>avgRating</th>\n",
       "      <th>listingBathroomLabel</th>\n",
       "      <th>bathrooms</th>\n",
       "      <th>listingBedLabel</th>\n",
       "      <th>bedrooms</th>\n",
       "      <th>beds</th>\n",
       "      <th>businessHostLabel</th>\n",
       "      <th>city</th>\n",
       "      <th>listingGuestLabel</th>\n",
       "      <th>id</th>\n",
       "      <th>isAutoTranslated</th>\n",
       "      <th>isNewListing</th>\n",
       "      <th>isSuperhost</th>\n",
       "      <th>relaxedFilterLabels</th>\n",
       "      <th>localizedCityName</th>\n",
       "      <th>localizedDistanceText</th>\n",
       "      <th>locationTitle</th>\n",
       "      <th>locationContext</th>\n",
       "      <th>listingName</th>\n",
       "      <th>listingObjType</th>\n",
       "      <th>neighborhood</th>\n",
       "      <th>previewTags</th>\n",
       "      <th>publicAddress</th>\n",
       "      <th>reviewsCount</th>\n",
       "      <th>roomType</th>\n",
       "      <th>roomTypeCategory</th>\n",
       "      <th>roomTypeId</th>\n",
       "      <th>spaceType</th>\n",
       "      <th>starRating</th>\n",
       "      <th>title</th>\n",
       "      <th>avgRatingLocalized</th>\n",
       "      <th>accessibilityLabel</th>\n",
       "      <th>price</th>\n",
       "      <th>qualifier</th>\n",
       "      <th>adults</th>\n",
       "      <th>children</th>\n",
       "      <th>infants</th>\n",
       "      <th>pets</th>\n",
       "    </tr>\n",
       "  </thead>\n",
       "  <tbody>\n",
       "    <tr>\n",
       "      <th>0</th>\n",
       "      <td>4.95</td>\n",
       "      <td>1 bath</td>\n",
       "      <td>1.0</td>\n",
       "      <td>1 bed</td>\n",
       "      <td>1</td>\n",
       "      <td>1</td>\n",
       "      <td>NaN</td>\n",
       "      <td>Calgary</td>\n",
       "      <td>2 guests</td>\n",
       "      <td>1143371712266502884</td>\n",
       "      <td>False</td>\n",
       "      <td>False</td>\n",
       "      <td>True</td>\n",
       "      <td>NaN</td>\n",
       "      <td>Calgary</td>\n",
       "      <td>NaN</td>\n",
       "      <td>NaN</td>\n",
       "      <td>NaN</td>\n",
       "      <td>Cute Inner City Haven with Country-like Serenity</td>\n",
       "      <td>REGULAR</td>\n",
       "      <td>NaN</td>\n",
       "      <td>[]</td>\n",
       "      <td>Calgary, AB, Canada</td>\n",
       "      <td>20</td>\n",
       "      <td>Entire home/apt</td>\n",
       "      <td>entire_home</td>\n",
       "      <td>NaN</td>\n",
       "      <td>Home</td>\n",
       "      <td>5.0</td>\n",
       "      <td>Home in Northeast Calgary</td>\n",
       "      <td>4.95 (20)</td>\n",
       "      <td>$90 CAD per night</td>\n",
       "      <td>$90 CAD</td>\n",
       "      <td>night</td>\n",
       "      <td>1</td>\n",
       "      <td>0</td>\n",
       "      <td>0</td>\n",
       "      <td>0</td>\n",
       "    </tr>\n",
       "    <tr>\n",
       "      <th>1</th>\n",
       "      <td>4.84</td>\n",
       "      <td>1 bath</td>\n",
       "      <td>1.0</td>\n",
       "      <td>2 beds</td>\n",
       "      <td>0</td>\n",
       "      <td>2</td>\n",
       "      <td>NaN</td>\n",
       "      <td>Calgary</td>\n",
       "      <td>3 guests</td>\n",
       "      <td>36314346</td>\n",
       "      <td>False</td>\n",
       "      <td>False</td>\n",
       "      <td>True</td>\n",
       "      <td>NaN</td>\n",
       "      <td>Calgary</td>\n",
       "      <td>NaN</td>\n",
       "      <td>NaN</td>\n",
       "      <td>NaN</td>\n",
       "      <td>Cozy Suite In The Heart Of Bridgeland - BL246108</td>\n",
       "      <td>REGULAR</td>\n",
       "      <td>NaN</td>\n",
       "      <td>[]</td>\n",
       "      <td>Calgary, AB, Canada</td>\n",
       "      <td>268</td>\n",
       "      <td>Entire home/apt</td>\n",
       "      <td>entire_home</td>\n",
       "      <td>NaN</td>\n",
       "      <td>Apartment</td>\n",
       "      <td>5.0</td>\n",
       "      <td>Apartment in Northeast Calgary</td>\n",
       "      <td>4.84 (268)</td>\n",
       "      <td>$62 CAD per night</td>\n",
       "      <td>$62 CAD</td>\n",
       "      <td>night</td>\n",
       "      <td>1</td>\n",
       "      <td>0</td>\n",
       "      <td>0</td>\n",
       "      <td>0</td>\n",
       "    </tr>\n",
       "  </tbody>\n",
       "</table>\n",
       "</div>"
      ],
      "text/plain": [
       "   avgRating listingBathroomLabel  bathrooms listingBedLabel  bedrooms  beds  \\\n",
       "0       4.95               1 bath        1.0           1 bed         1     1   \n",
       "1       4.84               1 bath        1.0          2 beds         0     2   \n",
       "\n",
       "   businessHostLabel     city listingGuestLabel                   id  \\\n",
       "0                NaN  Calgary          2 guests  1143371712266502884   \n",
       "1                NaN  Calgary          3 guests             36314346   \n",
       "\n",
       "   isAutoTranslated  isNewListing  isSuperhost  relaxedFilterLabels  \\\n",
       "0             False         False         True                  NaN   \n",
       "1             False         False         True                  NaN   \n",
       "\n",
       "  localizedCityName  localizedDistanceText  locationTitle  locationContext  \\\n",
       "0           Calgary                    NaN            NaN              NaN   \n",
       "1           Calgary                    NaN            NaN              NaN   \n",
       "\n",
       "                                        listingName listingObjType  \\\n",
       "0  Cute Inner City Haven with Country-like Serenity        REGULAR   \n",
       "1  Cozy Suite In The Heart Of Bridgeland - BL246108        REGULAR   \n",
       "\n",
       "   neighborhood previewTags        publicAddress  reviewsCount  \\\n",
       "0           NaN          []  Calgary, AB, Canada            20   \n",
       "1           NaN          []  Calgary, AB, Canada           268   \n",
       "\n",
       "          roomType roomTypeCategory  roomTypeId  spaceType  starRating  \\\n",
       "0  Entire home/apt      entire_home         NaN       Home         5.0   \n",
       "1  Entire home/apt      entire_home         NaN  Apartment         5.0   \n",
       "\n",
       "                            title avgRatingLocalized accessibilityLabel  \\\n",
       "0       Home in Northeast Calgary          4.95 (20)  $90 CAD per night   \n",
       "1  Apartment in Northeast Calgary         4.84 (268)  $62 CAD per night   \n",
       "\n",
       "     price qualifier  adults  children  infants  pets  \n",
       "0  $90 CAD     night       1         0        0     0  \n",
       "1  $62 CAD     night       1         0        0     0  "
      ]
     },
     "execution_count": 20,
     "metadata": {},
     "output_type": "execute_result"
    }
   ],
   "source": [
    "pbp.drop(['Unnamed: 0.1', 'Unnamed: 0'], axis=1, inplace=True)\n",
    "pbp.head(2)"
   ]
  },
  {
   "cell_type": "code",
   "execution_count": 21,
   "metadata": {},
   "outputs": [
    {
     "data": {
      "text/plain": [
       "(500, 38)"
      ]
     },
     "execution_count": 21,
     "metadata": {},
     "output_type": "execute_result"
    }
   ],
   "source": [
    "pbp.shape"
   ]
  },
  {
   "cell_type": "code",
   "execution_count": 22,
   "metadata": {},
   "outputs": [
    {
     "name": "stdout",
     "output_type": "stream",
     "text": [
      "<class 'pandas.core.frame.DataFrame'>\n",
      "RangeIndex: 500 entries, 0 to 499\n",
      "Data columns (total 38 columns):\n",
      " #   Column                 Non-Null Count  Dtype  \n",
      "---  ------                 --------------  -----  \n",
      " 0   avgRating              423 non-null    float64\n",
      " 1   listingBathroomLabel   500 non-null    object \n",
      " 2   bathrooms              500 non-null    float64\n",
      " 3   listingBedLabel        496 non-null    object \n",
      " 4   bedrooms               500 non-null    int64  \n",
      " 5   beds                   500 non-null    int64  \n",
      " 6   businessHostLabel      0 non-null      float64\n",
      " 7   city                   500 non-null    object \n",
      " 8   listingGuestLabel      500 non-null    object \n",
      " 9   id                     500 non-null    int64  \n",
      " 10  isAutoTranslated       500 non-null    bool   \n",
      " 11  isNewListing           500 non-null    bool   \n",
      " 12  isSuperhost            500 non-null    bool   \n",
      " 13  relaxedFilterLabels    0 non-null      float64\n",
      " 14  localizedCityName      500 non-null    object \n",
      " 15  localizedDistanceText  0 non-null      float64\n",
      " 16  locationTitle          0 non-null      float64\n",
      " 17  locationContext        0 non-null      float64\n",
      " 18  listingName            500 non-null    object \n",
      " 19  listingObjType         500 non-null    object \n",
      " 20  neighborhood           0 non-null      float64\n",
      " 21  previewTags            500 non-null    object \n",
      " 22  publicAddress          500 non-null    object \n",
      " 23  reviewsCount           500 non-null    int64  \n",
      " 24  roomType               500 non-null    object \n",
      " 25  roomTypeCategory       500 non-null    object \n",
      " 26  roomTypeId             0 non-null      float64\n",
      " 27  spaceType              500 non-null    object \n",
      " 28  starRating             423 non-null    float64\n",
      " 29  title                  500 non-null    object \n",
      " 30  avgRatingLocalized     490 non-null    object \n",
      " 31  accessibilityLabel     500 non-null    object \n",
      " 32  price                  500 non-null    object \n",
      " 33  qualifier              500 non-null    object \n",
      " 34  adults                 500 non-null    int64  \n",
      " 35  children               500 non-null    int64  \n",
      " 36  infants                500 non-null    int64  \n",
      " 37  pets                   500 non-null    int64  \n",
      "dtypes: bool(3), float64(10), int64(8), object(17)\n",
      "memory usage: 138.3+ KB\n"
     ]
    }
   ],
   "source": [
    "pbp.info()"
   ]
  },
  {
   "cell_type": "code",
   "execution_count": 23,
   "metadata": {},
   "outputs": [
    {
     "data": {
      "text/plain": [
       "relaxedFilterLabels      500\n",
       "neighborhood             500\n",
       "roomTypeId               500\n",
       "businessHostLabel        500\n",
       "locationContext          500\n",
       "locationTitle            500\n",
       "localizedDistanceText    500\n",
       "avgRating                 77\n",
       "starRating                77\n",
       "avgRatingLocalized        10\n",
       "listingBedLabel            4\n",
       "roomTypeCategory           0\n",
       "spaceType                  0\n",
       "title                      0\n",
       "reviewsCount               0\n",
       "accessibilityLabel         0\n",
       "price                      0\n",
       "qualifier                  0\n",
       "adults                     0\n",
       "children                   0\n",
       "infants                    0\n",
       "roomType                   0\n",
       "listingObjType             0\n",
       "publicAddress              0\n",
       "previewTags                0\n",
       "listingBathroomLabel       0\n",
       "listingName                0\n",
       "localizedCityName          0\n",
       "isSuperhost                0\n",
       "isNewListing               0\n",
       "isAutoTranslated           0\n",
       "id                         0\n",
       "listingGuestLabel          0\n",
       "city                       0\n",
       "beds                       0\n",
       "bedrooms                   0\n",
       "bathrooms                  0\n",
       "pets                       0\n",
       "dtype: int64"
      ]
     },
     "execution_count": 23,
     "metadata": {},
     "output_type": "execute_result"
    }
   ],
   "source": [
    "pbp.isnull().sum().sort_values(ascending=False)"
   ]
  },
  {
   "cell_type": "markdown",
   "metadata": {},
   "source": [
    "#### we'll drop columns with 100% missing values"
   ]
  },
  {
   "cell_type": "code",
   "execution_count": 24,
   "metadata": {},
   "outputs": [
    {
     "data": {
      "text/plain": [
       "(500, 31)"
      ]
     },
     "execution_count": 24,
     "metadata": {},
     "output_type": "execute_result"
    }
   ],
   "source": [
    "pbp = pbp.dropna(axis=1, how='all')  \n",
    "pbp.shape"
   ]
  },
  {
   "cell_type": "code",
   "execution_count": 25,
   "metadata": {},
   "outputs": [
    {
     "data": {
      "text/plain": [
       "avgRating             77\n",
       "starRating            77\n",
       "avgRatingLocalized    10\n",
       "listingBedLabel        4\n",
       "dtype: int64"
      ]
     },
     "execution_count": 25,
     "metadata": {},
     "output_type": "execute_result"
    }
   ],
   "source": [
    "# remaining columns with missing values\n",
    "pbp.isnull().sum().loc[lambda x: x > 0].sort_values(ascending=False)"
   ]
  },
  {
   "cell_type": "code",
   "execution_count": 26,
   "metadata": {},
   "outputs": [
    {
     "name": "stdout",
     "output_type": "stream",
     "text": [
      "<class 'pandas.core.frame.DataFrame'>\n",
      "RangeIndex: 500 entries, 0 to 499\n",
      "Data columns (total 4 columns):\n",
      " #   Column              Non-Null Count  Dtype  \n",
      "---  ------              --------------  -----  \n",
      " 0   avgRating           423 non-null    float64\n",
      " 1   listingBedLabel     496 non-null    object \n",
      " 2   starRating          423 non-null    float64\n",
      " 3   avgRatingLocalized  490 non-null    object \n",
      "dtypes: float64(2), object(2)\n",
      "memory usage: 15.8+ KB\n"
     ]
    }
   ],
   "source": [
    "missing_pbp = pbp.loc[:, pbp.isnull().sum() > 0]\n",
    "missing_pbp.info()"
   ]
  },
  {
   "cell_type": "code",
   "execution_count": 27,
   "metadata": {},
   "outputs": [
    {
     "name": "stderr",
     "output_type": "stream",
     "text": [
      "C:\\Users\\Muhammad_Samar\\AppData\\Local\\Temp\\ipykernel_11096\\2787157433.py:11: FutureWarning: The default value of numeric_only in DataFrame.corr is deprecated. In a future version, it will default to False. Select only valid columns or specify the value of numeric_only to silence this warning.\n",
      "  correlation_matrix = pbp_encoded.corr().loc[missing_pbp.columns, :]\n"
     ]
    },
    {
     "data": {
      "text/html": [
       "<div>\n",
       "<style scoped>\n",
       "    .dataframe tbody tr th:only-of-type {\n",
       "        vertical-align: middle;\n",
       "    }\n",
       "\n",
       "    .dataframe tbody tr th {\n",
       "        vertical-align: top;\n",
       "    }\n",
       "\n",
       "    .dataframe thead th {\n",
       "        text-align: right;\n",
       "    }\n",
       "</style>\n",
       "<table border=\"1\" class=\"dataframe\">\n",
       "  <thead>\n",
       "    <tr style=\"text-align: right;\">\n",
       "      <th></th>\n",
       "      <th>Highest Correlation</th>\n",
       "      <th>With Column</th>\n",
       "    </tr>\n",
       "  </thead>\n",
       "  <tbody>\n",
       "    <tr>\n",
       "      <th>listingBedLabel</th>\n",
       "      <td>0.670675</td>\n",
       "      <td>beds</td>\n",
       "    </tr>\n",
       "    <tr>\n",
       "      <th>avgRatingLocalized</th>\n",
       "      <td>0.488897</td>\n",
       "      <td>isNewListing</td>\n",
       "    </tr>\n",
       "    <tr>\n",
       "      <th>starRating</th>\n",
       "      <td>0.456948</td>\n",
       "      <td>isSuperhost</td>\n",
       "    </tr>\n",
       "    <tr>\n",
       "      <th>avgRating</th>\n",
       "      <td>0.364460</td>\n",
       "      <td>isSuperhost</td>\n",
       "    </tr>\n",
       "  </tbody>\n",
       "</table>\n",
       "</div>"
      ],
      "text/plain": [
       "                    Highest Correlation   With Column\n",
       "listingBedLabel                0.670675          beds\n",
       "avgRatingLocalized             0.488897  isNewListing\n",
       "starRating                     0.456948   isSuperhost\n",
       "avgRating                      0.364460   isSuperhost"
      ]
     },
     "execution_count": 27,
     "metadata": {},
     "output_type": "execute_result"
    }
   ],
   "source": [
    "from sklearn.preprocessing import LabelEncoder\n",
    "\n",
    "# Copy dataframe to avoid modifying the original\n",
    "pbp_encoded = pbp.copy()\n",
    "\n",
    "# Encode categorical (object) columns in missing_pbp\n",
    "for col in missing_pbp.select_dtypes(include=['object']).columns:\n",
    "    pbp_encoded[col] = LabelEncoder().fit_transform(pbp_encoded[col].astype(str))  # Convert to string before encoding\n",
    "\n",
    "# Compute correlation of missing columns with all other columns in dp\n",
    "correlation_matrix = pbp_encoded.corr().loc[missing_pbp.columns, :]\n",
    "\n",
    "# Remove self-correlations\n",
    "correlation_matrix = correlation_matrix.drop(columns=missing_pbp.columns)\n",
    "\n",
    "# Get the highest correlation values and corresponding column names\n",
    "highest_correlation_values = correlation_matrix.abs().max(axis=1)\n",
    "highest_correlation_columns = correlation_matrix.abs().idxmax(axis=1)\n",
    "\n",
    "# Combine results into a DataFrame\n",
    "correlation_results = pd.DataFrame({\n",
    "    'Highest Correlation': highest_correlation_values,\n",
    "    'With Column': highest_correlation_columns\n",
    "}).sort_values(by='Highest Correlation', ascending=False)\n",
    "\n",
    "correlation_results\n"
   ]
  },
  {
   "cell_type": "markdown",
   "metadata": {},
   "source": [
    "- We'll use RF for `avgRatingLocalized`, `starRating`\n",
    "- we'll use basic techniques mean, median, mode for `listingBedLabel` and `avgRating`."
   ]
  },
  {
   "cell_type": "code",
   "execution_count": 28,
   "metadata": {},
   "outputs": [
    {
     "data": {
      "text/plain": [
       "array([4.95, 4.84, 4.94,  nan, 4.93, 4.87, 4.97, 4.98, 5.  , 4.92, 4.96,\n",
       "       4.9 , 4.76, 4.7 , 4.81, 4.78, 4.82, 4.68, 4.85, 4.73, 4.77, 4.65,\n",
       "       4.89, 4.67, 4.91, 4.86, 4.88, 4.6 , 4.8 , 4.66, 4.56, 4.75, 4.74,\n",
       "       4.61, 4.69, 4.83, 4.33, 4.63, 4.57, 4.72, 4.  , 4.62, 4.99, 4.79,\n",
       "       4.55])"
      ]
     },
     "execution_count": 28,
     "metadata": {},
     "output_type": "execute_result"
    }
   ],
   "source": [
    "pbp['avgRating'].unique()"
   ]
  },
  {
   "cell_type": "code",
   "execution_count": 29,
   "metadata": {},
   "outputs": [
    {
     "data": {
      "text/plain": [
       "array(['1 bed', '2 beds', '3 beds', '4 beds', '5 beds', '10 beds', nan,\n",
       "       '7 beds', '6 beds'], dtype=object)"
      ]
     },
     "execution_count": 29,
     "metadata": {},
     "output_type": "execute_result"
    }
   ],
   "source": [
    "pbp['listingBedLabel'].unique()"
   ]
  },
  {
   "cell_type": "markdown",
   "metadata": {},
   "source": [
    "#### Filling avgRating cols with basic techniques `mean`"
   ]
  },
  {
   "cell_type": "code",
   "execution_count": 30,
   "metadata": {},
   "outputs": [],
   "source": [
    "pbp['avgRating'].fillna(pbp['avgRating'].mean(), inplace=True)"
   ]
  },
  {
   "cell_type": "markdown",
   "metadata": {},
   "source": [
    "#### Filling listingBedLabel cols with basic techniques `mode`"
   ]
  },
  {
   "cell_type": "code",
   "execution_count": 31,
   "metadata": {},
   "outputs": [],
   "source": [
    "# filling listingBedLabel with mode\n",
    "pbp['listingBedLabel'].fillna(pbp['listingBedLabel'].mode()[0], inplace=True)"
   ]
  },
  {
   "cell_type": "code",
   "execution_count": 32,
   "metadata": {},
   "outputs": [
    {
     "data": {
      "text/plain": [
       "starRating            77\n",
       "avgRatingLocalized    10\n",
       "dtype: int64"
      ]
     },
     "execution_count": 32,
     "metadata": {},
     "output_type": "execute_result"
    }
   ],
   "source": [
    "pbp.isnull().sum().loc[lambda x: x > 0].sort_values(ascending=False)"
   ]
  },
  {
   "cell_type": "markdown",
   "metadata": {},
   "source": [
    "#### Now we'll fill these 2 cols using RF"
   ]
  },
  {
   "cell_type": "code",
   "execution_count": 33,
   "metadata": {},
   "outputs": [],
   "source": [
    "from sklearn.ensemble import RandomForestRegressor\n",
    "from sklearn.preprocessing import LabelEncoder\n",
    "\n",
    "# Encode categorical features\n",
    "pbp_encoded = pbp.copy()  # Work on a copy to preserve original pbp\n",
    "categorical_features = pbp_encoded.select_dtypes(include=['object', 'category']).columns\n",
    "le_objects = {}\n",
    "\n",
    "for col in categorical_features:\n",
    "    col_le = LabelEncoder()\n",
    "    pbp_encoded[col] = col_le.fit_transform(pbp_encoded[col].astype(str))  # Convert to string to handle NaNs\n",
    "    le_objects[col] = col_le  # Store encoder for reverse transformation\n",
    "\n",
    "# Function to impute missing values with RF while dropping specific columns\n",
    "def impute_missing(target_col, drop_cols):\n",
    "    temp = pbp_encoded.copy()\n",
    "    temp.drop(columns=drop_cols, inplace=True)\n",
    "\n",
    "    missing_pbp = temp[temp[target_col].isnull()]\n",
    "    without_missing_pbp = temp.dropna()\n",
    "\n",
    "    if missing_pbp.empty or without_missing_pbp.empty:\n",
    "        return\n",
    "\n",
    "    rf = RandomForestRegressor(n_estimators=100, random_state=42)\n",
    "    rf.fit(without_missing_pbp.drop(columns=[target_col]), without_missing_pbp[target_col])\n",
    "\n",
    "    y_pred = rf.predict(missing_pbp.drop(columns=[target_col]))\n",
    "    pbp_encoded.loc[pbp_encoded[target_col].isnull(), target_col] = y_pred  # Fill in encoded pbp\n",
    "\n",
    "# Impute missing values step by step\n",
    "impute_missing('starRating', ['avgRatingLocalized'])\n",
    "impute_missing('avgRatingLocalized', [])\n",
    "\n",
    "# Reverse Encoding: Convert numeric labels back to original categories\n",
    "for col, encoder in le_objects.items():\n",
    "    pbp_encoded[col] = encoder.inverse_transform(pbp_encoded[col])\n",
    "\n",
    "# Update original pbp with reverse-encoded values\n",
    "pbp.update(pbp_encoded)"
   ]
  },
  {
   "cell_type": "code",
   "execution_count": 34,
   "metadata": {},
   "outputs": [
    {
     "data": {
      "text/plain": [
       "Series([], dtype: int64)"
      ]
     },
     "execution_count": 34,
     "metadata": {},
     "output_type": "execute_result"
    }
   ],
   "source": [
    "pbp.isnull().sum().loc[lambda x: x > 0].sort_values(ascending=False)"
   ]
  },
  {
   "cell_type": "markdown",
   "metadata": {},
   "source": [
    "### All missing values filled in `**Property by Place**` file"
   ]
  },
  {
   "cell_type": "markdown",
   "metadata": {},
   "source": [
    "_____________________________________"
   ]
  },
  {
   "cell_type": "code",
   "execution_count": 35,
   "metadata": {},
   "outputs": [],
   "source": [
    "pr = pd.read_csv('Property_Reviews.csv')"
   ]
  },
  {
   "cell_type": "code",
   "execution_count": 36,
   "metadata": {},
   "outputs": [
    {
     "data": {
      "text/html": [
       "<div>\n",
       "<style scoped>\n",
       "    .dataframe tbody tr th:only-of-type {\n",
       "        vertical-align: middle;\n",
       "    }\n",
       "\n",
       "    .dataframe tbody tr th {\n",
       "        vertical-align: top;\n",
       "    }\n",
       "\n",
       "    .dataframe thead th {\n",
       "        text-align: right;\n",
       "    }\n",
       "</style>\n",
       "<table border=\"1\" class=\"dataframe\">\n",
       "  <thead>\n",
       "    <tr style=\"text-align: right;\">\n",
       "      <th></th>\n",
       "      <th>property_id</th>\n",
       "      <th>review_id</th>\n",
       "      <th>reviewer_name</th>\n",
       "      <th>reviewer_picture_url</th>\n",
       "      <th>reviewer_badges</th>\n",
       "      <th>review_date</th>\n",
       "      <th>rating</th>\n",
       "      <th>comments</th>\n",
       "      <th>disclaimer</th>\n",
       "      <th>localized_date</th>\n",
       "      <th>localized_review</th>\n",
       "      <th>language</th>\n",
       "      <th>reviewee_name</th>\n",
       "    </tr>\n",
       "  </thead>\n",
       "  <tbody>\n",
       "    <tr>\n",
       "      <th>0</th>\n",
       "      <td>1143371712266502884</td>\n",
       "      <td>1342992886713445651</td>\n",
       "      <td>Rachel</td>\n",
       "      <td>https://a0.muscache.com/im/pictures/user/9abdf...</td>\n",
       "      <td>None</td>\n",
       "      <td>Haley</td>\n",
       "      <td>2025-01-26T23:27:07.000Z</td>\n",
       "      <td>4</td>\n",
       "      <td>Super cute little place with a private, retrea...</td>\n",
       "      <td>January 2025</td>\n",
       "      <td>NaN</td>\n",
       "      <td>en</td>\n",
       "      <td>NaN</td>\n",
       "    </tr>\n",
       "    <tr>\n",
       "      <th>1</th>\n",
       "      <td>1143371712266502884</td>\n",
       "      <td>1341009568083458949</td>\n",
       "      <td>Meagan</td>\n",
       "      <td>https://a0.muscache.com/im/pictures/user/User-...</td>\n",
       "      <td>None</td>\n",
       "      <td>Haley</td>\n",
       "      <td>2025-01-24T05:46:37.000Z</td>\n",
       "      <td>5</td>\n",
       "      <td>Communication with the hosts were pleasant and...</td>\n",
       "      <td>January 2025</td>\n",
       "      <td>NaN</td>\n",
       "      <td>en</td>\n",
       "      <td>NaN</td>\n",
       "    </tr>\n",
       "    <tr>\n",
       "      <th>2</th>\n",
       "      <td>1143371712266502884</td>\n",
       "      <td>1337850133475839872</td>\n",
       "      <td>Meron</td>\n",
       "      <td>https://a0.muscache.com/im/pictures/user/User-...</td>\n",
       "      <td>None</td>\n",
       "      <td>Haley</td>\n",
       "      <td>2025-01-19T21:09:23.000Z</td>\n",
       "      <td>5</td>\n",
       "      <td>Very clean, quiet and beautiful home. Very acc...</td>\n",
       "      <td>January 2025</td>\n",
       "      <td>NaN</td>\n",
       "      <td>en</td>\n",
       "      <td>NaN</td>\n",
       "    </tr>\n",
       "  </tbody>\n",
       "</table>\n",
       "</div>"
      ],
      "text/plain": [
       "           property_id            review_id reviewer_name  \\\n",
       "0  1143371712266502884  1342992886713445651        Rachel   \n",
       "1  1143371712266502884  1341009568083458949        Meagan   \n",
       "2  1143371712266502884  1337850133475839872         Meron   \n",
       "\n",
       "                                reviewer_picture_url reviewer_badges  \\\n",
       "0  https://a0.muscache.com/im/pictures/user/9abdf...            None   \n",
       "1  https://a0.muscache.com/im/pictures/user/User-...            None   \n",
       "2  https://a0.muscache.com/im/pictures/user/User-...            None   \n",
       "\n",
       "  review_date                    rating  comments  \\\n",
       "0       Haley  2025-01-26T23:27:07.000Z         4   \n",
       "1       Haley  2025-01-24T05:46:37.000Z         5   \n",
       "2       Haley  2025-01-19T21:09:23.000Z         5   \n",
       "\n",
       "                                          disclaimer localized_date  \\\n",
       "0  Super cute little place with a private, retrea...   January 2025   \n",
       "1  Communication with the hosts were pleasant and...   January 2025   \n",
       "2  Very clean, quiet and beautiful home. Very acc...   January 2025   \n",
       "\n",
       "  localized_review language  reviewee_name  \n",
       "0              NaN       en            NaN  \n",
       "1              NaN       en            NaN  \n",
       "2              NaN       en            NaN  "
      ]
     },
     "execution_count": 36,
     "metadata": {},
     "output_type": "execute_result"
    }
   ],
   "source": [
    "pr.head(3)"
   ]
  },
  {
   "cell_type": "code",
   "execution_count": 37,
   "metadata": {},
   "outputs": [
    {
     "data": {
      "text/plain": [
       "(2226, 13)"
      ]
     },
     "execution_count": 37,
     "metadata": {},
     "output_type": "execute_result"
    }
   ],
   "source": [
    "pr.shape"
   ]
  },
  {
   "cell_type": "code",
   "execution_count": 38,
   "metadata": {},
   "outputs": [
    {
     "name": "stdout",
     "output_type": "stream",
     "text": [
      "<class 'pandas.core.frame.DataFrame'>\n",
      "RangeIndex: 2226 entries, 0 to 2225\n",
      "Data columns (total 13 columns):\n",
      " #   Column                Non-Null Count  Dtype  \n",
      "---  ------                --------------  -----  \n",
      " 0   property_id           2226 non-null   int64  \n",
      " 1   review_id             2226 non-null   int64  \n",
      " 2   reviewer_name         2226 non-null   object \n",
      " 3   reviewer_picture_url  2226 non-null   object \n",
      " 4   reviewer_badges       2226 non-null   object \n",
      " 5   review_date           2226 non-null   object \n",
      " 6   rating                2226 non-null   object \n",
      " 7   comments              2226 non-null   int64  \n",
      " 8   disclaimer            2226 non-null   object \n",
      " 9   localized_date        2226 non-null   object \n",
      " 10  localized_review      6 non-null      object \n",
      " 11  language              2226 non-null   object \n",
      " 12  reviewee_name         0 non-null      float64\n",
      "dtypes: float64(1), int64(3), object(9)\n",
      "memory usage: 226.2+ KB\n"
     ]
    }
   ],
   "source": [
    "pr.info()"
   ]
  },
  {
   "cell_type": "code",
   "execution_count": 39,
   "metadata": {},
   "outputs": [
    {
     "data": {
      "text/plain": [
       "reviewee_name       2226\n",
       "localized_review    2220\n",
       "dtype: int64"
      ]
     },
     "execution_count": 39,
     "metadata": {},
     "output_type": "execute_result"
    }
   ],
   "source": [
    "# remaining columns with missing values\n",
    "pr.isnull().sum().loc[lambda x: x > 0].sort_values(ascending=False)"
   ]
  },
  {
   "cell_type": "markdown",
   "metadata": {},
   "source": [
    "#### These 2 cols have more than 95% missing data, so we'll simply drop them"
   ]
  },
  {
   "cell_type": "code",
   "execution_count": 40,
   "metadata": {},
   "outputs": [],
   "source": [
    "pr.dropna(axis=1, inplace=True)"
   ]
  },
  {
   "cell_type": "markdown",
   "metadata": {},
   "source": [
    "### All missing values filled in `**Property Reviews**` file"
   ]
  },
  {
   "cell_type": "code",
   "execution_count": 41,
   "metadata": {},
   "outputs": [
    {
     "name": "stdout",
     "output_type": "stream",
     "text": [
      "<class 'pandas.core.frame.DataFrame'>\n",
      "RangeIndex: 2226 entries, 0 to 2225\n",
      "Data columns (total 11 columns):\n",
      " #   Column                Non-Null Count  Dtype \n",
      "---  ------                --------------  ----- \n",
      " 0   property_id           2226 non-null   int64 \n",
      " 1   review_id             2226 non-null   int64 \n",
      " 2   reviewer_name         2226 non-null   object\n",
      " 3   reviewer_picture_url  2226 non-null   object\n",
      " 4   reviewer_badges       2226 non-null   object\n",
      " 5   review_date           2226 non-null   object\n",
      " 6   rating                2226 non-null   object\n",
      " 7   comments              2226 non-null   int64 \n",
      " 8   disclaimer            2226 non-null   object\n",
      " 9   localized_date        2226 non-null   object\n",
      " 10  language              2226 non-null   object\n",
      "dtypes: int64(3), object(8)\n",
      "memory usage: 191.4+ KB\n"
     ]
    }
   ],
   "source": [
    "pr.info()"
   ]
  },
  {
   "cell_type": "markdown",
   "metadata": {},
   "source": [
    "### All missing values filled in `**Property Reviews**` file\n",
    "_____________"
   ]
  },
  {
   "cell_type": "markdown",
   "metadata": {},
   "source": [
    "# 🏡 Airbnb Market Analysis & Optimization\n",
    "### ✨ Unlocking Profitable Strategies for Hosts & Investors  \n",
    "\n",
    "The short-term rental market is highly competitive. In this analysis, we explore **real-world Airbnb data** to uncover valuable insights:  \n",
    "\n",
    "✅ **For Existing Hosts:** How to optimize listings for more bookings & revenue.  \n",
    "✅ **For New Investors:** Which property types, locations, and amenities are most profitable.  \n",
    "\n",
    "### 📊 **What's Inside?**\n",
    "- **Data Exploration & Cleaning** (Ensuring quality insights)  \n",
    "- **Key Trends & Patterns** (Finding what works best)  \n",
    "- **Actionable Recommendations** (Helping Airbnb hosts succeed)  \n",
    "\n",
    "Let’s dive into the analysis! 🚀  \n",
    "______"
   ]
  },
  {
   "cell_type": "code",
   "execution_count": 42,
   "metadata": {},
   "outputs": [],
   "source": [
    "# importing libraries for EDA\n",
    "import matplotlib.pyplot as plt\n",
    "from wordcloud import WordCloud\n",
    "import plotly.figure_factory as ff\n",
    "import ast"
   ]
  },
  {
   "cell_type": "markdown",
   "metadata": {},
   "source": [
    "## 🔍 Exploratory Data Analysis (EDA)  \n",
    "Before diving into insights, let’s explore the data to understand:  \n",
    "- How property types, prices, and ratings are distributed  \n",
    "- Missing values (already handled)  \n",
    "- Correlations between different features  "
   ]
  },
  {
   "cell_type": "code",
   "execution_count": 43,
   "metadata": {},
   "outputs": [
    {
     "data": {
      "application/vnd.plotly.v1+json": {
       "config": {
        "plotlyServerURL": "https://plot.ly"
       },
       "data": [
        {
         "alignmentgroup": "True",
         "bingroup": "x",
         "hovertemplate": "guestSatisfactionOverall=%{x}<br>count=%{y}<extra></extra>",
         "legendgroup": "",
         "marker": {
          "color": "#FAD02E",
          "pattern": {
           "shape": ""
          }
         },
         "name": "",
         "nbinsx": 20,
         "offsetgroup": "",
         "orientation": "v",
         "showlegend": false,
         "type": "histogram",
         "x": [
          4.95,
          4.84,
          4.94,
          4.95,
          4.794900000000001,
          4.93,
          4.87,
          4.97,
          4.98,
          4.98,
          4.94,
          5,
          5,
          5,
          4.93,
          4.96,
          4.9,
          4.68,
          4.7,
          4.96,
          4.92,
          4.7,
          5,
          5,
          4.9,
          4.96,
          4.83,
          4.801800000000001,
          4.95,
          4.95,
          4.9,
          4.78,
          4.800000000000002,
          4.84,
          5,
          4.82,
          4.5,
          4.94,
          4.9,
          5,
          4.97,
          4.78,
          4.92,
          4.68,
          4.85,
          4.95,
          4.73,
          4.8017,
          4.85,
          4.93,
          5,
          5,
          4.93,
          4.93,
          4.94,
          4.77,
          4.93,
          5,
          4.799100000000001,
          5,
          4.85,
          4.65,
          4.97,
          5,
          4.96,
          5,
          4.89,
          5,
          4.71,
          5,
          4.93,
          5,
          5,
          4.91,
          4.9,
          4.92,
          4.93,
          4.86,
          4.7983,
          4.88,
          4.6,
          4.94,
          4.81,
          4.67,
          4.8,
          4.8,
          4.97,
          4.8,
          4.66,
          4.82,
          4.89,
          4.85,
          4.92,
          4.56,
          4.82,
          5,
          5,
          4.97,
          4.799800000000001,
          4.7929,
          4.81,
          4.8,
          5,
          5,
          4.97,
          4.82,
          4.88,
          4.84,
          5,
          4.9,
          4.91,
          4.75,
          4.74,
          4.84,
          4.78,
          4.88,
          4.92,
          5,
          5,
          5,
          4.796900000000001,
          4.61,
          4.91,
          5,
          4.92,
          4.8,
          4.84,
          4.69,
          4.799900000000001,
          4.95,
          4.98,
          4.93,
          4.98,
          4.94,
          4.89,
          4.85,
          4.83,
          5,
          4.81,
          4.87,
          4.804600000000001,
          4.96,
          4.84,
          4.33,
          4.88,
          5,
          4.97,
          4.83,
          4.88,
          4.801500000000001,
          5,
          4.8017,
          5,
          4.9,
          4.63,
          4.57,
          4.72,
          4.88,
          5,
          4.88,
          4.94,
          4.88,
          4.89,
          4.25,
          4.96,
          4.85,
          4.76,
          4.8,
          4.75,
          4.84,
          4.98,
          4.86,
          4.93,
          5,
          4.96,
          5,
          4.81,
          4.91,
          4.87,
          4.800000000000001,
          5,
          4.92,
          5,
          4.94,
          4.97,
          4.94,
          5,
          4.95,
          4.67,
          4.96,
          5,
          4.8,
          5,
          4.77,
          4.8,
          4.96,
          4.8047,
          4.9,
          4.84,
          4.95,
          4.95,
          4.94,
          4.794900000000001,
          4.94,
          5,
          4.7,
          4.93,
          4.9,
          4.7,
          4.68,
          5,
          4.93,
          4.97,
          4.83,
          5,
          4.96,
          4.89,
          4.9,
          4.98,
          4.93,
          4.97,
          4.9,
          4.95,
          4.94,
          4.88,
          4.801800000000001,
          5,
          4.9,
          5,
          4.78,
          4.799100000000001,
          4.800000000000002,
          4.82,
          4.98,
          5,
          4.96,
          4.93,
          5,
          4.91,
          4.68,
          4.92,
          4.97,
          5,
          4.8017,
          4.7983,
          4.95,
          4.8,
          4.96,
          4.97,
          5,
          4.77,
          4.85,
          5,
          5,
          4.85,
          4.799800000000001,
          4.796900000000001,
          4.93,
          4.78,
          4.98,
          4.91,
          4.96,
          4.98,
          4.89,
          5,
          5,
          4.94,
          4.95,
          4.85,
          4.91,
          4.87,
          5,
          5,
          4.5,
          4.73,
          4.93,
          4.9,
          4.86,
          4.94,
          4.84,
          4.801500000000001,
          4.88,
          4.65,
          4.85,
          4.94,
          5,
          4.97,
          5,
          4.96,
          4.87,
          4.8017,
          5,
          4.56,
          4.88,
          5,
          4.93,
          4.89,
          4.71,
          4.804600000000001,
          5,
          5,
          4.8,
          4.76,
          5,
          4.84,
          4.8,
          4.799900000000001,
          5,
          4.85,
          4.86,
          4.61,
          5,
          4.92,
          4.91,
          4.67,
          4.8,
          4.92,
          5,
          4.75,
          4.97,
          5,
          4.84,
          4.69,
          4.83,
          4.62,
          4.88,
          4.72,
          4.66,
          4.88,
          4.800000000000001,
          5,
          5,
          4.82,
          4.97,
          4.8,
          4.82,
          4.93,
          4.87,
          4.91,
          4.96,
          4.8,
          4.81,
          5,
          4.33,
          4.67,
          4.81,
          4.9,
          4.92,
          4.91,
          4.63,
          5,
          4.73,
          5,
          4.86,
          4.93,
          4.95,
          4.83,
          4.82,
          4.86,
          4.99,
          4.74,
          4.95,
          4.82,
          4.85,
          4.75,
          4.8,
          4.9,
          4.95,
          4.91,
          4.9,
          4.6,
          4.96,
          4.92,
          4.92,
          5,
          4.94,
          4.8047,
          4.86,
          4.81,
          4.84,
          4.83,
          4.97,
          5,
          4.85,
          5,
          4.91,
          4.88,
          5,
          5,
          4.86,
          4.94,
          4.84,
          4.8,
          4.84,
          4.97,
          4.79,
          4.7,
          4.9,
          4.9,
          4.8017,
          4.94,
          5,
          4.84,
          5,
          4.83,
          5,
          4.97,
          4.96,
          5,
          4.95,
          4.8,
          4.9,
          4.77,
          4.9,
          4.89,
          4.86,
          4.9,
          4.95,
          4.68,
          4.97,
          4.9,
          4.56,
          4.68,
          4.84,
          4.83,
          4.801800000000001,
          4.69,
          4.9,
          4.794900000000001,
          4.799100000000001,
          4.98,
          4.93,
          5,
          4.88,
          4.800000000000002,
          4.93,
          4.82,
          4.84,
          4.61,
          4.85,
          4.76,
          4.96,
          4.98,
          4.95,
          4.91,
          4.92,
          4.67,
          4.8,
          4.9,
          4.33,
          4.94,
          4.7983,
          4.93,
          5,
          4.98,
          4.84,
          4.78,
          4.93,
          4.98,
          4.8,
          4.72,
          4.87,
          4.95,
          4.85,
          4.796900000000001,
          4.62,
          4.78,
          4.799800000000001,
          5,
          4.65,
          4.91,
          4.79,
          4.78,
          4.9,
          4.96,
          5,
          5,
          4.7,
          5,
          4.97,
          4.55,
          4.69,
          4.801500000000001,
          4.94,
          4.87,
          4.94,
          4.95,
          4.96,
          4.8017,
          4.93,
          4.82,
          4.97,
          4.804600000000001,
          5,
          4.71
         ],
         "xaxis": "x",
         "yaxis": "y"
        }
       ],
       "layout": {
        "barmode": "relative",
        "legend": {
         "tracegroupgap": 0
        },
        "template": {
         "data": {
          "bar": [
           {
            "error_x": {
             "color": "#2a3f5f"
            },
            "error_y": {
             "color": "#2a3f5f"
            },
            "marker": {
             "line": {
              "color": "#E5ECF6",
              "width": 0.5
             },
             "pattern": {
              "fillmode": "overlay",
              "size": 10,
              "solidity": 0.2
             }
            },
            "type": "bar"
           }
          ],
          "barpolar": [
           {
            "marker": {
             "line": {
              "color": "#E5ECF6",
              "width": 0.5
             },
             "pattern": {
              "fillmode": "overlay",
              "size": 10,
              "solidity": 0.2
             }
            },
            "type": "barpolar"
           }
          ],
          "carpet": [
           {
            "aaxis": {
             "endlinecolor": "#2a3f5f",
             "gridcolor": "white",
             "linecolor": "white",
             "minorgridcolor": "white",
             "startlinecolor": "#2a3f5f"
            },
            "baxis": {
             "endlinecolor": "#2a3f5f",
             "gridcolor": "white",
             "linecolor": "white",
             "minorgridcolor": "white",
             "startlinecolor": "#2a3f5f"
            },
            "type": "carpet"
           }
          ],
          "choropleth": [
           {
            "colorbar": {
             "outlinewidth": 0,
             "ticks": ""
            },
            "type": "choropleth"
           }
          ],
          "contour": [
           {
            "colorbar": {
             "outlinewidth": 0,
             "ticks": ""
            },
            "colorscale": [
             [
              0,
              "#0d0887"
             ],
             [
              0.1111111111111111,
              "#46039f"
             ],
             [
              0.2222222222222222,
              "#7201a8"
             ],
             [
              0.3333333333333333,
              "#9c179e"
             ],
             [
              0.4444444444444444,
              "#bd3786"
             ],
             [
              0.5555555555555556,
              "#d8576b"
             ],
             [
              0.6666666666666666,
              "#ed7953"
             ],
             [
              0.7777777777777778,
              "#fb9f3a"
             ],
             [
              0.8888888888888888,
              "#fdca26"
             ],
             [
              1,
              "#f0f921"
             ]
            ],
            "type": "contour"
           }
          ],
          "contourcarpet": [
           {
            "colorbar": {
             "outlinewidth": 0,
             "ticks": ""
            },
            "type": "contourcarpet"
           }
          ],
          "heatmap": [
           {
            "colorbar": {
             "outlinewidth": 0,
             "ticks": ""
            },
            "colorscale": [
             [
              0,
              "#0d0887"
             ],
             [
              0.1111111111111111,
              "#46039f"
             ],
             [
              0.2222222222222222,
              "#7201a8"
             ],
             [
              0.3333333333333333,
              "#9c179e"
             ],
             [
              0.4444444444444444,
              "#bd3786"
             ],
             [
              0.5555555555555556,
              "#d8576b"
             ],
             [
              0.6666666666666666,
              "#ed7953"
             ],
             [
              0.7777777777777778,
              "#fb9f3a"
             ],
             [
              0.8888888888888888,
              "#fdca26"
             ],
             [
              1,
              "#f0f921"
             ]
            ],
            "type": "heatmap"
           }
          ],
          "heatmapgl": [
           {
            "colorbar": {
             "outlinewidth": 0,
             "ticks": ""
            },
            "colorscale": [
             [
              0,
              "#0d0887"
             ],
             [
              0.1111111111111111,
              "#46039f"
             ],
             [
              0.2222222222222222,
              "#7201a8"
             ],
             [
              0.3333333333333333,
              "#9c179e"
             ],
             [
              0.4444444444444444,
              "#bd3786"
             ],
             [
              0.5555555555555556,
              "#d8576b"
             ],
             [
              0.6666666666666666,
              "#ed7953"
             ],
             [
              0.7777777777777778,
              "#fb9f3a"
             ],
             [
              0.8888888888888888,
              "#fdca26"
             ],
             [
              1,
              "#f0f921"
             ]
            ],
            "type": "heatmapgl"
           }
          ],
          "histogram": [
           {
            "marker": {
             "pattern": {
              "fillmode": "overlay",
              "size": 10,
              "solidity": 0.2
             }
            },
            "type": "histogram"
           }
          ],
          "histogram2d": [
           {
            "colorbar": {
             "outlinewidth": 0,
             "ticks": ""
            },
            "colorscale": [
             [
              0,
              "#0d0887"
             ],
             [
              0.1111111111111111,
              "#46039f"
             ],
             [
              0.2222222222222222,
              "#7201a8"
             ],
             [
              0.3333333333333333,
              "#9c179e"
             ],
             [
              0.4444444444444444,
              "#bd3786"
             ],
             [
              0.5555555555555556,
              "#d8576b"
             ],
             [
              0.6666666666666666,
              "#ed7953"
             ],
             [
              0.7777777777777778,
              "#fb9f3a"
             ],
             [
              0.8888888888888888,
              "#fdca26"
             ],
             [
              1,
              "#f0f921"
             ]
            ],
            "type": "histogram2d"
           }
          ],
          "histogram2dcontour": [
           {
            "colorbar": {
             "outlinewidth": 0,
             "ticks": ""
            },
            "colorscale": [
             [
              0,
              "#0d0887"
             ],
             [
              0.1111111111111111,
              "#46039f"
             ],
             [
              0.2222222222222222,
              "#7201a8"
             ],
             [
              0.3333333333333333,
              "#9c179e"
             ],
             [
              0.4444444444444444,
              "#bd3786"
             ],
             [
              0.5555555555555556,
              "#d8576b"
             ],
             [
              0.6666666666666666,
              "#ed7953"
             ],
             [
              0.7777777777777778,
              "#fb9f3a"
             ],
             [
              0.8888888888888888,
              "#fdca26"
             ],
             [
              1,
              "#f0f921"
             ]
            ],
            "type": "histogram2dcontour"
           }
          ],
          "mesh3d": [
           {
            "colorbar": {
             "outlinewidth": 0,
             "ticks": ""
            },
            "type": "mesh3d"
           }
          ],
          "parcoords": [
           {
            "line": {
             "colorbar": {
              "outlinewidth": 0,
              "ticks": ""
             }
            },
            "type": "parcoords"
           }
          ],
          "pie": [
           {
            "automargin": true,
            "type": "pie"
           }
          ],
          "scatter": [
           {
            "fillpattern": {
             "fillmode": "overlay",
             "size": 10,
             "solidity": 0.2
            },
            "type": "scatter"
           }
          ],
          "scatter3d": [
           {
            "line": {
             "colorbar": {
              "outlinewidth": 0,
              "ticks": ""
             }
            },
            "marker": {
             "colorbar": {
              "outlinewidth": 0,
              "ticks": ""
             }
            },
            "type": "scatter3d"
           }
          ],
          "scattercarpet": [
           {
            "marker": {
             "colorbar": {
              "outlinewidth": 0,
              "ticks": ""
             }
            },
            "type": "scattercarpet"
           }
          ],
          "scattergeo": [
           {
            "marker": {
             "colorbar": {
              "outlinewidth": 0,
              "ticks": ""
             }
            },
            "type": "scattergeo"
           }
          ],
          "scattergl": [
           {
            "marker": {
             "colorbar": {
              "outlinewidth": 0,
              "ticks": ""
             }
            },
            "type": "scattergl"
           }
          ],
          "scattermapbox": [
           {
            "marker": {
             "colorbar": {
              "outlinewidth": 0,
              "ticks": ""
             }
            },
            "type": "scattermapbox"
           }
          ],
          "scatterpolar": [
           {
            "marker": {
             "colorbar": {
              "outlinewidth": 0,
              "ticks": ""
             }
            },
            "type": "scatterpolar"
           }
          ],
          "scatterpolargl": [
           {
            "marker": {
             "colorbar": {
              "outlinewidth": 0,
              "ticks": ""
             }
            },
            "type": "scatterpolargl"
           }
          ],
          "scatterternary": [
           {
            "marker": {
             "colorbar": {
              "outlinewidth": 0,
              "ticks": ""
             }
            },
            "type": "scatterternary"
           }
          ],
          "surface": [
           {
            "colorbar": {
             "outlinewidth": 0,
             "ticks": ""
            },
            "colorscale": [
             [
              0,
              "#0d0887"
             ],
             [
              0.1111111111111111,
              "#46039f"
             ],
             [
              0.2222222222222222,
              "#7201a8"
             ],
             [
              0.3333333333333333,
              "#9c179e"
             ],
             [
              0.4444444444444444,
              "#bd3786"
             ],
             [
              0.5555555555555556,
              "#d8576b"
             ],
             [
              0.6666666666666666,
              "#ed7953"
             ],
             [
              0.7777777777777778,
              "#fb9f3a"
             ],
             [
              0.8888888888888888,
              "#fdca26"
             ],
             [
              1,
              "#f0f921"
             ]
            ],
            "type": "surface"
           }
          ],
          "table": [
           {
            "cells": {
             "fill": {
              "color": "#EBF0F8"
             },
             "line": {
              "color": "white"
             }
            },
            "header": {
             "fill": {
              "color": "#C8D4E3"
             },
             "line": {
              "color": "white"
             }
            },
            "type": "table"
           }
          ]
         },
         "layout": {
          "annotationdefaults": {
           "arrowcolor": "#2a3f5f",
           "arrowhead": 0,
           "arrowwidth": 1
          },
          "autotypenumbers": "strict",
          "coloraxis": {
           "colorbar": {
            "outlinewidth": 0,
            "ticks": ""
           }
          },
          "colorscale": {
           "diverging": [
            [
             0,
             "#8e0152"
            ],
            [
             0.1,
             "#c51b7d"
            ],
            [
             0.2,
             "#de77ae"
            ],
            [
             0.3,
             "#f1b6da"
            ],
            [
             0.4,
             "#fde0ef"
            ],
            [
             0.5,
             "#f7f7f7"
            ],
            [
             0.6,
             "#e6f5d0"
            ],
            [
             0.7,
             "#b8e186"
            ],
            [
             0.8,
             "#7fbc41"
            ],
            [
             0.9,
             "#4d9221"
            ],
            [
             1,
             "#276419"
            ]
           ],
           "sequential": [
            [
             0,
             "#0d0887"
            ],
            [
             0.1111111111111111,
             "#46039f"
            ],
            [
             0.2222222222222222,
             "#7201a8"
            ],
            [
             0.3333333333333333,
             "#9c179e"
            ],
            [
             0.4444444444444444,
             "#bd3786"
            ],
            [
             0.5555555555555556,
             "#d8576b"
            ],
            [
             0.6666666666666666,
             "#ed7953"
            ],
            [
             0.7777777777777778,
             "#fb9f3a"
            ],
            [
             0.8888888888888888,
             "#fdca26"
            ],
            [
             1,
             "#f0f921"
            ]
           ],
           "sequentialminus": [
            [
             0,
             "#0d0887"
            ],
            [
             0.1111111111111111,
             "#46039f"
            ],
            [
             0.2222222222222222,
             "#7201a8"
            ],
            [
             0.3333333333333333,
             "#9c179e"
            ],
            [
             0.4444444444444444,
             "#bd3786"
            ],
            [
             0.5555555555555556,
             "#d8576b"
            ],
            [
             0.6666666666666666,
             "#ed7953"
            ],
            [
             0.7777777777777778,
             "#fb9f3a"
            ],
            [
             0.8888888888888888,
             "#fdca26"
            ],
            [
             1,
             "#f0f921"
            ]
           ]
          },
          "colorway": [
           "#636efa",
           "#EF553B",
           "#00cc96",
           "#ab63fa",
           "#FFA15A",
           "#19d3f3",
           "#FF6692",
           "#B6E880",
           "#FF97FF",
           "#FECB52"
          ],
          "font": {
           "color": "#2a3f5f"
          },
          "geo": {
           "bgcolor": "white",
           "lakecolor": "white",
           "landcolor": "#E5ECF6",
           "showlakes": true,
           "showland": true,
           "subunitcolor": "white"
          },
          "hoverlabel": {
           "align": "left"
          },
          "hovermode": "closest",
          "mapbox": {
           "style": "light"
          },
          "paper_bgcolor": "white",
          "plot_bgcolor": "#E5ECF6",
          "polar": {
           "angularaxis": {
            "gridcolor": "white",
            "linecolor": "white",
            "ticks": ""
           },
           "bgcolor": "#E5ECF6",
           "radialaxis": {
            "gridcolor": "white",
            "linecolor": "white",
            "ticks": ""
           }
          },
          "scene": {
           "xaxis": {
            "backgroundcolor": "#E5ECF6",
            "gridcolor": "white",
            "gridwidth": 2,
            "linecolor": "white",
            "showbackground": true,
            "ticks": "",
            "zerolinecolor": "white"
           },
           "yaxis": {
            "backgroundcolor": "#E5ECF6",
            "gridcolor": "white",
            "gridwidth": 2,
            "linecolor": "white",
            "showbackground": true,
            "ticks": "",
            "zerolinecolor": "white"
           },
           "zaxis": {
            "backgroundcolor": "#E5ECF6",
            "gridcolor": "white",
            "gridwidth": 2,
            "linecolor": "white",
            "showbackground": true,
            "ticks": "",
            "zerolinecolor": "white"
           }
          },
          "shapedefaults": {
           "line": {
            "color": "#2a3f5f"
           }
          },
          "ternary": {
           "aaxis": {
            "gridcolor": "white",
            "linecolor": "white",
            "ticks": ""
           },
           "baxis": {
            "gridcolor": "white",
            "linecolor": "white",
            "ticks": ""
           },
           "bgcolor": "#E5ECF6",
           "caxis": {
            "gridcolor": "white",
            "linecolor": "white",
            "ticks": ""
           }
          },
          "title": {
           "x": 0.05
          },
          "xaxis": {
           "automargin": true,
           "gridcolor": "white",
           "linecolor": "white",
           "ticks": "",
           "title": {
            "standoff": 15
           },
           "zerolinecolor": "white",
           "zerolinewidth": 2
          },
          "yaxis": {
           "automargin": true,
           "gridcolor": "white",
           "linecolor": "white",
           "ticks": "",
           "title": {
            "standoff": 15
           },
           "zerolinecolor": "white",
           "zerolinewidth": 2
          }
         }
        },
        "title": {
         "text": "📊 Guest Satisfaction Distribution"
        },
        "xaxis": {
         "anchor": "y",
         "domain": [
          0,
          1
         ],
         "title": {
          "text": "guestSatisfactionOverall"
         }
        },
        "yaxis": {
         "anchor": "x",
         "domain": [
          0,
          1
         ],
         "title": {
          "text": "count"
         }
        }
       }
      }
     },
     "metadata": {},
     "output_type": "display_data"
    }
   ],
   "source": [
    "# Distribution of Guest Satisfaction\n",
    "fig = px.histogram(dp, x=\"guestSatisfactionOverall\", nbins=20, \n",
    "                   title=\"📊 Guest Satisfaction Distribution\", \n",
    "                   color_discrete_sequence=[\"#FAD02E\"])  # soft pastel color\n",
    "fig.show()"
   ]
  },
  {
   "cell_type": "markdown",
   "metadata": {},
   "source": [
    "## 🏠 Which Room Type is Most Preferred?  \n",
    "Let’s analyze **room type distribution** to understand what guests prefer the most.  "
   ]
  },
  {
   "cell_type": "code",
   "execution_count": 44,
   "metadata": {},
   "outputs": [
    {
     "data": {
      "application/vnd.plotly.v1+json": {
       "config": {
        "plotlyServerURL": "https://plot.ly"
       },
       "data": [
        {
         "domain": {
          "x": [
           0,
           1
          ],
          "y": [
           0,
           1
          ]
         },
         "hole": 0.4,
         "hovertemplate": "roomType=%{label}<extra></extra>",
         "labels": [
          "Entire home/apt",
          "Entire home/apt",
          "Entire home/apt",
          "Entire home/apt",
          "Entire home/apt",
          "Entire home/apt",
          "Entire home/apt",
          "Entire home/apt",
          "Entire home/apt",
          "Entire home/apt",
          "Entire home/apt",
          "Entire home/apt",
          "Entire home/apt",
          "Entire home/apt",
          "Entire home/apt",
          "Entire home/apt",
          "Entire home/apt",
          "Entire home/apt",
          "Entire home/apt",
          "Entire home/apt",
          "Entire home/apt",
          "Entire home/apt",
          "Entire home/apt",
          "Entire home/apt",
          "Entire home/apt",
          "Entire home/apt",
          "Entire home/apt",
          "Entire home/apt",
          "Entire home/apt",
          "Entire home/apt",
          "Entire home/apt",
          "Private room",
          "Entire home/apt",
          "Entire home/apt",
          "Entire home/apt",
          "Private room",
          "Entire home/apt",
          "Entire home/apt",
          "Entire home/apt",
          "Entire home/apt",
          "Entire home/apt",
          "Entire home/apt",
          "Entire home/apt",
          "Entire home/apt",
          "Entire home/apt",
          "Entire home/apt",
          "Entire home/apt",
          "Entire home/apt",
          "Entire home/apt",
          "Entire home/apt",
          "Entire home/apt",
          "Entire home/apt",
          "Entire home/apt",
          "Entire home/apt",
          "Entire home/apt",
          "Entire home/apt",
          "Entire home/apt",
          "Private room",
          "Private room",
          "Entire home/apt",
          "Entire home/apt",
          "Entire home/apt",
          "Entire home/apt",
          "Entire home/apt",
          "Entire home/apt",
          "Entire home/apt",
          "Entire home/apt",
          "Entire home/apt",
          "Entire home/apt",
          "Private room",
          "Entire home/apt",
          "Entire home/apt",
          "Entire home/apt",
          "Entire home/apt",
          "Entire home/apt",
          "Entire home/apt",
          "Entire home/apt",
          "Entire home/apt",
          "Private room",
          "Entire home/apt",
          "Entire home/apt",
          "Entire home/apt",
          "Entire home/apt",
          "Entire home/apt",
          "Entire home/apt",
          "Entire home/apt",
          "Private room",
          "Entire home/apt",
          "Entire home/apt",
          "Entire home/apt",
          "Entire home/apt",
          "Entire home/apt",
          "Entire home/apt",
          "Entire home/apt",
          "Entire home/apt",
          "Entire home/apt",
          "Entire home/apt",
          "Entire home/apt",
          "Entire home/apt",
          "Entire home/apt",
          "Private room",
          "Entire home/apt",
          "Entire home/apt",
          "Entire home/apt",
          "Entire home/apt",
          "Entire home/apt",
          "Entire home/apt",
          "Entire home/apt",
          "Private room",
          "Entire home/apt",
          "Private room",
          "Entire home/apt",
          "Entire home/apt",
          "Entire home/apt",
          "Entire home/apt",
          "Entire home/apt",
          "Private room",
          "Entire home/apt",
          "Entire home/apt",
          "Entire home/apt",
          "Entire home/apt",
          "Entire home/apt",
          "Entire home/apt",
          "Private room",
          "Entire home/apt",
          "Private room",
          "Entire home/apt",
          "Entire home/apt",
          "Entire home/apt",
          "Entire home/apt",
          "Entire home/apt",
          "Private room",
          "Entire home/apt",
          "Entire home/apt",
          "Entire home/apt",
          "Entire home/apt",
          "Entire home/apt",
          "Entire home/apt",
          "Entire home/apt",
          "Entire home/apt",
          "Entire home/apt",
          "Entire home/apt",
          "Entire home/apt",
          "Entire home/apt",
          "Private room",
          "Entire home/apt",
          "Private room",
          "Entire home/apt",
          "Entire home/apt",
          "Entire home/apt",
          "Entire home/apt",
          "Entire home/apt",
          "Entire home/apt",
          "Entire home/apt",
          "Private room",
          "Entire home/apt",
          "Entire home/apt",
          "Private room",
          "Entire home/apt",
          "Entire home/apt",
          "Entire home/apt",
          "Entire home/apt",
          "Entire home/apt",
          "Entire home/apt",
          "Entire home/apt",
          "Entire home/apt",
          "Entire home/apt",
          "Private room",
          "Private room",
          "Private room",
          "Entire home/apt",
          "Entire home/apt",
          "Entire home/apt",
          "Entire home/apt",
          "Entire home/apt",
          "Entire home/apt",
          "Entire home/apt",
          "Entire home/apt",
          "Entire home/apt",
          "Entire home/apt",
          "Entire home/apt",
          "Entire home/apt",
          "Entire home/apt",
          "Entire home/apt",
          "Entire home/apt",
          "Private room",
          "Entire home/apt",
          "Entire home/apt",
          "Entire home/apt",
          "Entire home/apt",
          "Entire home/apt",
          "Entire home/apt",
          "Entire home/apt",
          "Entire home/apt",
          "Entire home/apt",
          "Private room",
          "Entire home/apt",
          "Entire home/apt",
          "Entire home/apt",
          "Entire home/apt",
          "Entire home/apt",
          "Entire home/apt",
          "Entire home/apt",
          "Entire home/apt",
          "Entire home/apt",
          "Entire home/apt",
          "Entire home/apt",
          "Entire home/apt",
          "Entire home/apt",
          "Entire home/apt",
          "Entire home/apt",
          "Entire home/apt",
          "Entire home/apt",
          "Entire home/apt",
          "Entire home/apt",
          "Entire home/apt",
          "Entire home/apt",
          "Entire home/apt",
          "Entire home/apt",
          "Entire home/apt",
          "Entire home/apt",
          "Entire home/apt",
          "Entire home/apt",
          "Entire home/apt",
          "Entire home/apt",
          "Entire home/apt",
          "Private room",
          "Entire home/apt",
          "Private room",
          "Private room",
          "Private room",
          "Entire home/apt",
          "Private room",
          "Entire home/apt",
          "Entire home/apt",
          "Entire home/apt",
          "Entire home/apt",
          "Entire home/apt",
          "Entire home/apt",
          "Entire home/apt",
          "Entire home/apt",
          "Entire home/apt",
          "Private room",
          "Entire home/apt",
          "Private room",
          "Entire home/apt",
          "Entire home/apt",
          "Entire home/apt",
          "Private room",
          "Entire home/apt",
          "Entire home/apt",
          "Entire home/apt",
          "Entire home/apt",
          "Entire home/apt",
          "Entire home/apt",
          "Entire home/apt",
          "Entire home/apt",
          "Entire home/apt",
          "Entire home/apt",
          "Entire home/apt",
          "Private room",
          "Entire home/apt",
          "Entire home/apt",
          "Entire home/apt",
          "Entire home/apt",
          "Entire home/apt",
          "Entire home/apt",
          "Entire home/apt",
          "Entire home/apt",
          "Entire home/apt",
          "Entire home/apt",
          "Entire home/apt",
          "Entire home/apt",
          "Entire home/apt",
          "Entire home/apt",
          "Private room",
          "Entire home/apt",
          "Entire home/apt",
          "Entire home/apt",
          "Entire home/apt",
          "Entire home/apt",
          "Entire home/apt",
          "Entire home/apt",
          "Entire home/apt",
          "Entire home/apt",
          "Entire home/apt",
          "Private room",
          "Entire home/apt",
          "Entire home/apt",
          "Entire home/apt",
          "Entire home/apt",
          "Entire home/apt",
          "Entire home/apt",
          "Entire home/apt",
          "Private room",
          "Entire home/apt",
          "Entire home/apt",
          "Entire home/apt",
          "Entire home/apt",
          "Entire home/apt",
          "Entire home/apt",
          "Entire home/apt",
          "Entire home/apt",
          "Entire home/apt",
          "Entire home/apt",
          "Entire home/apt",
          "Entire home/apt",
          "Entire home/apt",
          "Entire home/apt",
          "Entire home/apt",
          "Entire home/apt",
          "Entire home/apt",
          "Entire home/apt",
          "Entire home/apt",
          "Entire home/apt",
          "Private room",
          "Entire home/apt",
          "Entire home/apt",
          "Private room",
          "Entire home/apt",
          "Entire home/apt",
          "Entire home/apt",
          "Entire home/apt",
          "Entire home/apt",
          "Entire home/apt",
          "Private room",
          "Entire home/apt",
          "Entire home/apt",
          "Entire home/apt",
          "Entire home/apt",
          "Entire home/apt",
          "Entire home/apt",
          "Entire home/apt",
          "Entire home/apt",
          "Entire home/apt",
          "Entire home/apt",
          "Entire home/apt",
          "Entire home/apt",
          "Entire home/apt",
          "Entire home/apt",
          "Entire home/apt",
          "Private room",
          "Shared room",
          "Entire home/apt",
          "Entire home/apt",
          "Entire home/apt",
          "Entire home/apt",
          "Entire home/apt",
          "Entire home/apt",
          "Private room",
          "Entire home/apt",
          "Entire home/apt",
          "Entire home/apt",
          "Entire home/apt",
          "Entire home/apt",
          "Entire home/apt",
          "Private room",
          "Entire home/apt",
          "Entire home/apt",
          "Entire home/apt",
          "Entire home/apt",
          "Entire home/apt",
          "Entire home/apt",
          "Private room",
          "Entire home/apt",
          "Entire home/apt",
          "Entire home/apt",
          "Entire home/apt",
          "Entire home/apt",
          "Entire home/apt",
          "Entire home/apt",
          "Entire home/apt",
          "Private room",
          "Entire home/apt",
          "Entire home/apt",
          "Entire home/apt",
          "Entire home/apt",
          "Private room",
          "Entire home/apt",
          "Private room",
          "Entire home/apt",
          "Entire home/apt",
          "Entire home/apt",
          "Entire home/apt",
          "Private room",
          "Entire home/apt",
          "Entire home/apt",
          "Entire home/apt",
          "Entire home/apt",
          "Entire home/apt",
          "Entire home/apt",
          "Entire home/apt",
          "Private room",
          "Entire home/apt",
          "Entire home/apt",
          "Entire home/apt",
          "Entire home/apt",
          "Entire home/apt",
          "Entire home/apt",
          "Entire home/apt",
          "Entire home/apt",
          "Entire home/apt",
          "Entire home/apt",
          "Entire home/apt",
          "Entire home/apt",
          "Entire home/apt",
          "Entire home/apt",
          "Entire home/apt",
          "Entire home/apt",
          "Entire home/apt",
          "Entire home/apt",
          "Entire home/apt",
          "Entire home/apt",
          "Entire home/apt",
          "Entire home/apt",
          "Entire home/apt",
          "Entire home/apt",
          "Entire home/apt",
          "Entire home/apt",
          "Entire home/apt",
          "Entire home/apt",
          "Entire home/apt",
          "Entire home/apt",
          "Entire home/apt",
          "Entire home/apt",
          "Entire home/apt",
          "Entire home/apt",
          "Entire home/apt",
          "Entire home/apt",
          "Private room",
          "Entire home/apt",
          "Entire home/apt",
          "Entire home/apt",
          "Entire home/apt",
          "Entire home/apt",
          "Entire home/apt",
          "Entire home/apt",
          "Entire home/apt",
          "Entire home/apt",
          "Entire home/apt",
          "Entire home/apt",
          "Entire home/apt",
          "Entire home/apt",
          "Entire home/apt",
          "Entire home/apt",
          "Entire home/apt",
          "Entire home/apt",
          "Entire home/apt",
          "Entire home/apt",
          "Entire home/apt",
          "Entire home/apt",
          "Private room",
          "Entire home/apt",
          "Private room",
          "Entire home/apt",
          "Entire home/apt",
          "Entire home/apt",
          "Entire home/apt",
          "Entire home/apt",
          "Entire home/apt",
          "Entire home/apt",
          "Entire home/apt",
          "Entire home/apt",
          "Entire home/apt",
          "Entire home/apt",
          "Entire home/apt",
          "Entire home/apt",
          "Entire home/apt",
          "Entire home/apt",
          "Entire home/apt",
          "Entire home/apt",
          "Entire home/apt",
          "Private room",
          "Entire home/apt",
          "Entire home/apt",
          "Entire home/apt",
          "Entire home/apt",
          "Entire home/apt",
          "Private room",
          "Entire home/apt",
          "Entire home/apt",
          "Entire home/apt",
          "Entire home/apt",
          "Entire home/apt",
          "Entire home/apt",
          "Entire home/apt",
          "Entire home/apt",
          "Entire home/apt",
          "Entire home/apt",
          "Entire home/apt",
          "Private room",
          "Private room",
          "Entire home/apt",
          "Private room",
          "Entire home/apt"
         ],
         "legendgroup": "",
         "name": "",
         "showlegend": true,
         "type": "pie"
        }
       ],
       "layout": {
        "legend": {
         "tracegroupgap": 0
        },
        "template": {
         "data": {
          "bar": [
           {
            "error_x": {
             "color": "#2a3f5f"
            },
            "error_y": {
             "color": "#2a3f5f"
            },
            "marker": {
             "line": {
              "color": "#E5ECF6",
              "width": 0.5
             },
             "pattern": {
              "fillmode": "overlay",
              "size": 10,
              "solidity": 0.2
             }
            },
            "type": "bar"
           }
          ],
          "barpolar": [
           {
            "marker": {
             "line": {
              "color": "#E5ECF6",
              "width": 0.5
             },
             "pattern": {
              "fillmode": "overlay",
              "size": 10,
              "solidity": 0.2
             }
            },
            "type": "barpolar"
           }
          ],
          "carpet": [
           {
            "aaxis": {
             "endlinecolor": "#2a3f5f",
             "gridcolor": "white",
             "linecolor": "white",
             "minorgridcolor": "white",
             "startlinecolor": "#2a3f5f"
            },
            "baxis": {
             "endlinecolor": "#2a3f5f",
             "gridcolor": "white",
             "linecolor": "white",
             "minorgridcolor": "white",
             "startlinecolor": "#2a3f5f"
            },
            "type": "carpet"
           }
          ],
          "choropleth": [
           {
            "colorbar": {
             "outlinewidth": 0,
             "ticks": ""
            },
            "type": "choropleth"
           }
          ],
          "contour": [
           {
            "colorbar": {
             "outlinewidth": 0,
             "ticks": ""
            },
            "colorscale": [
             [
              0,
              "#0d0887"
             ],
             [
              0.1111111111111111,
              "#46039f"
             ],
             [
              0.2222222222222222,
              "#7201a8"
             ],
             [
              0.3333333333333333,
              "#9c179e"
             ],
             [
              0.4444444444444444,
              "#bd3786"
             ],
             [
              0.5555555555555556,
              "#d8576b"
             ],
             [
              0.6666666666666666,
              "#ed7953"
             ],
             [
              0.7777777777777778,
              "#fb9f3a"
             ],
             [
              0.8888888888888888,
              "#fdca26"
             ],
             [
              1,
              "#f0f921"
             ]
            ],
            "type": "contour"
           }
          ],
          "contourcarpet": [
           {
            "colorbar": {
             "outlinewidth": 0,
             "ticks": ""
            },
            "type": "contourcarpet"
           }
          ],
          "heatmap": [
           {
            "colorbar": {
             "outlinewidth": 0,
             "ticks": ""
            },
            "colorscale": [
             [
              0,
              "#0d0887"
             ],
             [
              0.1111111111111111,
              "#46039f"
             ],
             [
              0.2222222222222222,
              "#7201a8"
             ],
             [
              0.3333333333333333,
              "#9c179e"
             ],
             [
              0.4444444444444444,
              "#bd3786"
             ],
             [
              0.5555555555555556,
              "#d8576b"
             ],
             [
              0.6666666666666666,
              "#ed7953"
             ],
             [
              0.7777777777777778,
              "#fb9f3a"
             ],
             [
              0.8888888888888888,
              "#fdca26"
             ],
             [
              1,
              "#f0f921"
             ]
            ],
            "type": "heatmap"
           }
          ],
          "heatmapgl": [
           {
            "colorbar": {
             "outlinewidth": 0,
             "ticks": ""
            },
            "colorscale": [
             [
              0,
              "#0d0887"
             ],
             [
              0.1111111111111111,
              "#46039f"
             ],
             [
              0.2222222222222222,
              "#7201a8"
             ],
             [
              0.3333333333333333,
              "#9c179e"
             ],
             [
              0.4444444444444444,
              "#bd3786"
             ],
             [
              0.5555555555555556,
              "#d8576b"
             ],
             [
              0.6666666666666666,
              "#ed7953"
             ],
             [
              0.7777777777777778,
              "#fb9f3a"
             ],
             [
              0.8888888888888888,
              "#fdca26"
             ],
             [
              1,
              "#f0f921"
             ]
            ],
            "type": "heatmapgl"
           }
          ],
          "histogram": [
           {
            "marker": {
             "pattern": {
              "fillmode": "overlay",
              "size": 10,
              "solidity": 0.2
             }
            },
            "type": "histogram"
           }
          ],
          "histogram2d": [
           {
            "colorbar": {
             "outlinewidth": 0,
             "ticks": ""
            },
            "colorscale": [
             [
              0,
              "#0d0887"
             ],
             [
              0.1111111111111111,
              "#46039f"
             ],
             [
              0.2222222222222222,
              "#7201a8"
             ],
             [
              0.3333333333333333,
              "#9c179e"
             ],
             [
              0.4444444444444444,
              "#bd3786"
             ],
             [
              0.5555555555555556,
              "#d8576b"
             ],
             [
              0.6666666666666666,
              "#ed7953"
             ],
             [
              0.7777777777777778,
              "#fb9f3a"
             ],
             [
              0.8888888888888888,
              "#fdca26"
             ],
             [
              1,
              "#f0f921"
             ]
            ],
            "type": "histogram2d"
           }
          ],
          "histogram2dcontour": [
           {
            "colorbar": {
             "outlinewidth": 0,
             "ticks": ""
            },
            "colorscale": [
             [
              0,
              "#0d0887"
             ],
             [
              0.1111111111111111,
              "#46039f"
             ],
             [
              0.2222222222222222,
              "#7201a8"
             ],
             [
              0.3333333333333333,
              "#9c179e"
             ],
             [
              0.4444444444444444,
              "#bd3786"
             ],
             [
              0.5555555555555556,
              "#d8576b"
             ],
             [
              0.6666666666666666,
              "#ed7953"
             ],
             [
              0.7777777777777778,
              "#fb9f3a"
             ],
             [
              0.8888888888888888,
              "#fdca26"
             ],
             [
              1,
              "#f0f921"
             ]
            ],
            "type": "histogram2dcontour"
           }
          ],
          "mesh3d": [
           {
            "colorbar": {
             "outlinewidth": 0,
             "ticks": ""
            },
            "type": "mesh3d"
           }
          ],
          "parcoords": [
           {
            "line": {
             "colorbar": {
              "outlinewidth": 0,
              "ticks": ""
             }
            },
            "type": "parcoords"
           }
          ],
          "pie": [
           {
            "automargin": true,
            "type": "pie"
           }
          ],
          "scatter": [
           {
            "fillpattern": {
             "fillmode": "overlay",
             "size": 10,
             "solidity": 0.2
            },
            "type": "scatter"
           }
          ],
          "scatter3d": [
           {
            "line": {
             "colorbar": {
              "outlinewidth": 0,
              "ticks": ""
             }
            },
            "marker": {
             "colorbar": {
              "outlinewidth": 0,
              "ticks": ""
             }
            },
            "type": "scatter3d"
           }
          ],
          "scattercarpet": [
           {
            "marker": {
             "colorbar": {
              "outlinewidth": 0,
              "ticks": ""
             }
            },
            "type": "scattercarpet"
           }
          ],
          "scattergeo": [
           {
            "marker": {
             "colorbar": {
              "outlinewidth": 0,
              "ticks": ""
             }
            },
            "type": "scattergeo"
           }
          ],
          "scattergl": [
           {
            "marker": {
             "colorbar": {
              "outlinewidth": 0,
              "ticks": ""
             }
            },
            "type": "scattergl"
           }
          ],
          "scattermapbox": [
           {
            "marker": {
             "colorbar": {
              "outlinewidth": 0,
              "ticks": ""
             }
            },
            "type": "scattermapbox"
           }
          ],
          "scatterpolar": [
           {
            "marker": {
             "colorbar": {
              "outlinewidth": 0,
              "ticks": ""
             }
            },
            "type": "scatterpolar"
           }
          ],
          "scatterpolargl": [
           {
            "marker": {
             "colorbar": {
              "outlinewidth": 0,
              "ticks": ""
             }
            },
            "type": "scatterpolargl"
           }
          ],
          "scatterternary": [
           {
            "marker": {
             "colorbar": {
              "outlinewidth": 0,
              "ticks": ""
             }
            },
            "type": "scatterternary"
           }
          ],
          "surface": [
           {
            "colorbar": {
             "outlinewidth": 0,
             "ticks": ""
            },
            "colorscale": [
             [
              0,
              "#0d0887"
             ],
             [
              0.1111111111111111,
              "#46039f"
             ],
             [
              0.2222222222222222,
              "#7201a8"
             ],
             [
              0.3333333333333333,
              "#9c179e"
             ],
             [
              0.4444444444444444,
              "#bd3786"
             ],
             [
              0.5555555555555556,
              "#d8576b"
             ],
             [
              0.6666666666666666,
              "#ed7953"
             ],
             [
              0.7777777777777778,
              "#fb9f3a"
             ],
             [
              0.8888888888888888,
              "#fdca26"
             ],
             [
              1,
              "#f0f921"
             ]
            ],
            "type": "surface"
           }
          ],
          "table": [
           {
            "cells": {
             "fill": {
              "color": "#EBF0F8"
             },
             "line": {
              "color": "white"
             }
            },
            "header": {
             "fill": {
              "color": "#C8D4E3"
             },
             "line": {
              "color": "white"
             }
            },
            "type": "table"
           }
          ]
         },
         "layout": {
          "annotationdefaults": {
           "arrowcolor": "#2a3f5f",
           "arrowhead": 0,
           "arrowwidth": 1
          },
          "autotypenumbers": "strict",
          "coloraxis": {
           "colorbar": {
            "outlinewidth": 0,
            "ticks": ""
           }
          },
          "colorscale": {
           "diverging": [
            [
             0,
             "#8e0152"
            ],
            [
             0.1,
             "#c51b7d"
            ],
            [
             0.2,
             "#de77ae"
            ],
            [
             0.3,
             "#f1b6da"
            ],
            [
             0.4,
             "#fde0ef"
            ],
            [
             0.5,
             "#f7f7f7"
            ],
            [
             0.6,
             "#e6f5d0"
            ],
            [
             0.7,
             "#b8e186"
            ],
            [
             0.8,
             "#7fbc41"
            ],
            [
             0.9,
             "#4d9221"
            ],
            [
             1,
             "#276419"
            ]
           ],
           "sequential": [
            [
             0,
             "#0d0887"
            ],
            [
             0.1111111111111111,
             "#46039f"
            ],
            [
             0.2222222222222222,
             "#7201a8"
            ],
            [
             0.3333333333333333,
             "#9c179e"
            ],
            [
             0.4444444444444444,
             "#bd3786"
            ],
            [
             0.5555555555555556,
             "#d8576b"
            ],
            [
             0.6666666666666666,
             "#ed7953"
            ],
            [
             0.7777777777777778,
             "#fb9f3a"
            ],
            [
             0.8888888888888888,
             "#fdca26"
            ],
            [
             1,
             "#f0f921"
            ]
           ],
           "sequentialminus": [
            [
             0,
             "#0d0887"
            ],
            [
             0.1111111111111111,
             "#46039f"
            ],
            [
             0.2222222222222222,
             "#7201a8"
            ],
            [
             0.3333333333333333,
             "#9c179e"
            ],
            [
             0.4444444444444444,
             "#bd3786"
            ],
            [
             0.5555555555555556,
             "#d8576b"
            ],
            [
             0.6666666666666666,
             "#ed7953"
            ],
            [
             0.7777777777777778,
             "#fb9f3a"
            ],
            [
             0.8888888888888888,
             "#fdca26"
            ],
            [
             1,
             "#f0f921"
            ]
           ]
          },
          "colorway": [
           "#636efa",
           "#EF553B",
           "#00cc96",
           "#ab63fa",
           "#FFA15A",
           "#19d3f3",
           "#FF6692",
           "#B6E880",
           "#FF97FF",
           "#FECB52"
          ],
          "font": {
           "color": "#2a3f5f"
          },
          "geo": {
           "bgcolor": "white",
           "lakecolor": "white",
           "landcolor": "#E5ECF6",
           "showlakes": true,
           "showland": true,
           "subunitcolor": "white"
          },
          "hoverlabel": {
           "align": "left"
          },
          "hovermode": "closest",
          "mapbox": {
           "style": "light"
          },
          "paper_bgcolor": "white",
          "plot_bgcolor": "#E5ECF6",
          "polar": {
           "angularaxis": {
            "gridcolor": "white",
            "linecolor": "white",
            "ticks": ""
           },
           "bgcolor": "#E5ECF6",
           "radialaxis": {
            "gridcolor": "white",
            "linecolor": "white",
            "ticks": ""
           }
          },
          "scene": {
           "xaxis": {
            "backgroundcolor": "#E5ECF6",
            "gridcolor": "white",
            "gridwidth": 2,
            "linecolor": "white",
            "showbackground": true,
            "ticks": "",
            "zerolinecolor": "white"
           },
           "yaxis": {
            "backgroundcolor": "#E5ECF6",
            "gridcolor": "white",
            "gridwidth": 2,
            "linecolor": "white",
            "showbackground": true,
            "ticks": "",
            "zerolinecolor": "white"
           },
           "zaxis": {
            "backgroundcolor": "#E5ECF6",
            "gridcolor": "white",
            "gridwidth": 2,
            "linecolor": "white",
            "showbackground": true,
            "ticks": "",
            "zerolinecolor": "white"
           }
          },
          "shapedefaults": {
           "line": {
            "color": "#2a3f5f"
           }
          },
          "ternary": {
           "aaxis": {
            "gridcolor": "white",
            "linecolor": "white",
            "ticks": ""
           },
           "baxis": {
            "gridcolor": "white",
            "linecolor": "white",
            "ticks": ""
           },
           "bgcolor": "#E5ECF6",
           "caxis": {
            "gridcolor": "white",
            "linecolor": "white",
            "ticks": ""
           }
          },
          "title": {
           "x": 0.05
          },
          "xaxis": {
           "automargin": true,
           "gridcolor": "white",
           "linecolor": "white",
           "ticks": "",
           "title": {
            "standoff": 15
           },
           "zerolinecolor": "white",
           "zerolinewidth": 2
          },
          "yaxis": {
           "automargin": true,
           "gridcolor": "white",
           "linecolor": "white",
           "ticks": "",
           "title": {
            "standoff": 15
           },
           "zerolinecolor": "white",
           "zerolinewidth": 2
          }
         }
        },
        "title": {
         "text": "🏠 Distribution of Room Types"
        }
       }
      }
     },
     "metadata": {},
     "output_type": "display_data"
    }
   ],
   "source": [
    "fig = px.pie(dp, names=\"roomType\", title=\"🏠 Distribution of Room Types\", hole=0.4)\n",
    "fig.show()"
   ]
  },
  {
   "cell_type": "markdown",
   "metadata": {},
   "source": [
    "## 💰 What Price Range Leads to High Ratings?  \n",
    "Analyzing the relationship between **price and rating** helps identify the optimal price range for **maximum bookings & revenue**.  "
   ]
  },
  {
   "cell_type": "code",
   "execution_count": 45,
   "metadata": {},
   "outputs": [
    {
     "data": {
      "application/vnd.plotly.v1+json": {
       "config": {
        "plotlyServerURL": "https://plot.ly"
       },
       "data": [
        {
         "customdata": [
          [
           "$90 CAD",
           "Home in Northeast Calgary",
           "Calgary"
          ],
          [
           "$62 CAD",
           "Apartment in Northeast Calgary",
           "Calgary"
          ],
          [
           "$90 CAD",
           "Guest suite in Northeast Calgary",
           "Calgary"
          ],
          [
           "$150 CAD",
           "Loft in Northeast Calgary",
           "Calgary"
          ],
          [
           "$63 CAD",
           "Apartment in Southeast Calgary",
           "Calgary"
          ],
          [
           "$80 CAD",
           "Home in Northeast Calgary",
           "Calgary"
          ],
          [
           "$90 CAD",
           "Guest suite in Northeast Calgary",
           "Calgary"
          ],
          [
           "$99 CAD",
           "Condo in Southeast Calgary",
           "Calgary"
          ],
          [
           "$82 CAD",
           "Apartment in Downtown Calgary",
           "Calgary"
          ],
          [
           "$89 CAD",
           "Condo in Downtown Calgary",
           "Calgary"
          ],
          [
           "$100 CAD",
           "Apartment in Northwest Calgary",
           "Calgary"
          ],
          [
           "$103 CAD",
           "Apartment in Northwest Calgary",
           "Calgary"
          ],
          [
           "$122 CAD",
           "Condo in Northeast Calgary",
           "Calgary"
          ],
          [
           "$90 CAD",
           "Apartment in Northwest Calgary",
           "Calgary"
          ],
          [
           "$100 CAD",
           "Condo in Downtown Calgary",
           "Calgary"
          ],
          [
           "$100 CAD",
           "Apartment in Downtown Calgary",
           "Calgary"
          ],
          [
           "$71 CAD",
           "Condo in Downtown Calgary",
           "Calgary"
          ],
          [
           "$98 CAD",
           "Condo in Downtown Calgary",
           "Calgary"
          ],
          [
           "$89 CAD",
           "Apartment in Northwest Calgary",
           "Calgary"
          ],
          [
           "$80 CAD",
           "Guest suite in Southeast Calgary",
           "Calgary"
          ],
          [
           "$132 CAD",
           "Loft in Southeast Calgary",
           "Calgary"
          ],
          [
           "$77 CAD",
           "Apartment in Northeast Calgary",
           "Calgary"
          ],
          [
           "$105 CAD",
           "Home in Southeast Calgary",
           "Calgary"
          ],
          [
           "$99 CAD",
           "Apartment in Downtown Calgary",
           "Calgary"
          ],
          [
           "$96 CAD",
           "Condo in Northwest Calgary",
           "Calgary"
          ],
          [
           "$110 CAD",
           "Condo in Northwest Calgary",
           "Calgary"
          ],
          [
           "$91 CAD",
           "Apartment in Northwest Calgary",
           "Calgary"
          ],
          [
           "$98 CAD",
           "Condo in Downtown Calgary",
           "Calgary"
          ],
          [
           "$101 CAD",
           "Apartment in Northwest Calgary",
           "Calgary"
          ],
          [
           "$95 CAD",
           "Condo in Downtown Calgary",
           "Calgary"
          ],
          [
           "$94 CAD",
           "Apartment in Northwest Calgary",
           "Calgary"
          ],
          [
           "$53 CAD",
           "Room in Southeast Calgary",
           "Calgary"
          ],
          [
           "$94 CAD",
           "Condo in Downtown Calgary",
           "Calgary"
          ],
          [
           "$66 CAD",
           "Apartment in Southeast Calgary",
           "Calgary"
          ],
          [
           "$112 CAD",
           "Guesthouse in Southeast Calgary",
           "Calgary"
          ],
          [
           "$45 CAD",
           "Room in Southeast Calgary",
           "Calgary"
          ],
          [
           "$79 CAD",
           "Home in Southeast Calgary",
           "Calgary"
          ],
          [
           "$89 CAD",
           "Condo in Southeast Calgary",
           "Calgary"
          ],
          [
           "$139 CAD",
           "Condo in Downtown Calgary",
           "Calgary"
          ],
          [
           "$125 CAD",
           "Apartment in Southeast Calgary",
           "Calgary"
          ],
          [
           "$107 CAD",
           "Condo in Northwest Calgary",
           "Calgary"
          ],
          [
           "$100 CAD",
           "Condo in Downtown Calgary",
           "Calgary"
          ],
          [
           "$96 CAD",
           "Condo in Downtown Calgary",
           "Calgary"
          ],
          [
           "$74 CAD",
           "Apartment in Northwest Calgary",
           "Calgary"
          ],
          [
           "$102 CAD",
           "Loft in Downtown Calgary",
           "Calgary"
          ],
          [
           "$65 CAD",
           "Apartment in Southeast Calgary",
           "Calgary"
          ],
          [
           "$65 CAD",
           "Home in Southeast Calgary",
           "Calgary"
          ],
          [
           "$90 CAD",
           "Apartment in Northwest Calgary",
           "Calgary"
          ],
          [
           "$62 CAD",
           "Condo in Downtown Calgary",
           "Calgary"
          ],
          [
           "$82 CAD",
           "Condo in Downtown Calgary",
           "Calgary"
          ],
          [
           "$171 CAD",
           "Home in Northeast Calgary",
           "Calgary"
          ],
          [
           "$131 CAD",
           "Apartment in Downtown Calgary",
           "Calgary"
          ],
          [
           "$93 CAD",
           "Condo in Downtown Calgary",
           "Calgary"
          ],
          [
           "$81 CAD",
           "Condo in Downtown Calgary",
           "Calgary"
          ],
          [
           "$115 CAD",
           "Apartment in Downtown Calgary",
           "Calgary"
          ],
          [
           "$87 CAD",
           "Condo in Northwest Calgary",
           "Calgary"
          ],
          [
           "$138 CAD",
           "Condo in Northeast Calgary",
           "Calgary"
          ],
          [
           "$30 CAD",
           "Room in Southeast Calgary",
           "Calgary"
          ],
          [
           "$31 CAD",
           "Room in Northwest Calgary",
           "Calgary"
          ],
          [
           "$145 CAD",
           "Apartment in Downtown Calgary",
           "Calgary"
          ],
          [
           "$43 CAD",
           "Room in Northwest Calgary",
           "Calgary"
          ],
          [
           "$120 CAD",
           "Apartment in Southeast Calgary",
           "Calgary"
          ],
          [
           "$113 CAD",
           "Apartment in Downtown Calgary",
           "Calgary"
          ],
          [
           "$113 CAD",
           "Condo in Northwest Calgary",
           "Calgary"
          ],
          [
           "$100 CAD",
           "Apartment in Downtown Calgary",
           "Calgary"
          ],
          [
           "$225 CAD",
           "Guesthouse in Southeast Calgary",
           "Calgary"
          ],
          [
           "$110 CAD",
           "Condo in Northwest Calgary",
           "Calgary"
          ],
          [
           "$53 CAD",
           "Apartment in Southeast Calgary",
           "Calgary"
          ],
          [
           "$57 CAD",
           "Apartment in Northwest Calgary",
           "Calgary"
          ],
          [
           "$99 CAD",
           "Condo in Downtown Calgary",
           "Calgary"
          ],
          [
           "$69 CAD",
           "Hotel in Southwest Calgary",
           "Calgary"
          ],
          [
           "$104 CAD",
           "Condo in Southeast Calgary",
           "Calgary"
          ],
          [
           "$90 CAD",
           "Apartment in Northwest Calgary",
           "Calgary"
          ],
          [
           "$225 CAD",
           "Home in Northeast Calgary",
           "Calgary"
          ],
          [
           "$113 CAD",
           "Apartment in Beltline",
           "Calgary"
          ],
          [
           "$100 CAD",
           "Apartment in Northwest Calgary",
           "Calgary"
          ],
          [
           "$164 CAD",
           "Home in Southeast Calgary",
           "Calgary"
          ],
          [
           "$91 CAD",
           "Condo in Downtown Calgary",
           "Calgary"
          ],
          [
           "$94 CAD",
           "Condo in Northwest Calgary",
           "Calgary"
          ],
          [
           "$43 CAD",
           "Room in Northwest Calgary",
           "Calgary"
          ],
          [
           "$162 CAD",
           "Condo in Northeast Calgary",
           "Calgary"
          ],
          [
           "$60 CAD",
           "Home in Northeast Calgary",
           "Calgary"
          ],
          [
           "$69 CAD",
           "Home in Northeast Calgary",
           "Calgary"
          ],
          [
           "$64 CAD",
           "Condo in Downtown Calgary",
           "Calgary"
          ],
          [
           "$80 CAD",
           "Condo in Downtown Calgary",
           "Calgary"
          ],
          [
           "$57 CAD",
           "Apartment in Southeast Calgary",
           "Calgary"
          ],
          [
           "$125 CAD",
           "Condo in Beltline",
           "Calgary"
          ],
          [
           "$30 CAD",
           "Room in Northwest Calgary",
           "Calgary"
          ],
          [
           "$90 CAD",
           "Apartment in Northwest Calgary",
           "Calgary"
          ],
          [
           "$96 CAD",
           "Condo in Downtown Calgary",
           "Calgary"
          ],
          [
           "$105 CAD",
           "Condo in Downtown Calgary",
           "Calgary"
          ],
          [
           "$177 CAD",
           "Condo in Beltline",
           "Calgary"
          ],
          [
           "$249 CAD",
           "Home in Northeast Calgary",
           "Calgary"
          ],
          [
           "$100 CAD",
           "Condo in Downtown Calgary",
           "Calgary"
          ],
          [
           "$96 CAD",
           "Apartment in Northwest Calgary",
           "Calgary"
          ],
          [
           "$72 CAD",
           "Condo in Northeast Calgary",
           "Calgary"
          ],
          [
           "$120 CAD",
           "Guesthouse in Southeast Calgary",
           "Calgary"
          ],
          [
           "$94 CAD",
           "Apartment in Southeast Calgary",
           "Calgary"
          ],
          [
           "$88 CAD",
           "Guest suite in Southeast Calgary",
           "Calgary"
          ],
          [
           "$120 CAD",
           "Apartment in Beltline",
           "Calgary"
          ],
          [
           "$116 CAD",
           "Apartment in Downtown Calgary",
           "Calgary"
          ],
          [
           "$40 CAD",
           "Room in Southeast Calgary",
           "Calgary"
          ],
          [
           "$78 CAD",
           "Home in Northeast Calgary",
           "Calgary"
          ],
          [
           "$132 CAD",
           "Home in Northeast Calgary",
           "Calgary"
          ],
          [
           "$80 CAD",
           "Apartment in Southwest Calgary",
           "Calgary"
          ],
          [
           "$168 CAD",
           "Home in Northeast Calgary",
           "Calgary"
          ],
          [
           "$115 CAD",
           "Condo in Downtown Calgary",
           "Calgary"
          ],
          [
           "$136 CAD",
           "Cottage in Southeast Calgary",
           "Calgary"
          ],
          [
           "$100 CAD",
           "Condo in Downtown Calgary",
           "Calgary"
          ],
          [
           "$69 CAD",
           "Hotel in Southwest Calgary",
           "Calgary"
          ],
          [
           "$83 CAD",
           "Apartment in Southeast Calgary",
           "Calgary"
          ],
          [
           "$43 CAD",
           "Place to stay in Northwest Calgary",
           "Calgary"
          ],
          [
           "$69 CAD",
           "Home in Southeast Calgary",
           "Calgary"
          ],
          [
           "$68 CAD",
           "Condo in Downtown Calgary",
           "Calgary"
          ],
          [
           "$98 CAD",
           "Apartment in Northwest Calgary",
           "Calgary"
          ],
          [
           "$113 CAD",
           "Loft in Downtown Calgary",
           "Calgary"
          ],
          [
           "$80 CAD",
           "Guest suite in Southeast Calgary",
           "Calgary"
          ],
          [
           "$40 CAD",
           "Room in Southeast Calgary",
           "Calgary"
          ],
          [
           "$91 CAD",
           "Apartment in Northwest Calgary",
           "Calgary"
          ],
          [
           "$107 CAD",
           "Apartment in Beltline",
           "Calgary"
          ],
          [
           "$519 CAD",
           "Home in Southeast Calgary",
           "Calgary"
          ],
          [
           "$89 CAD",
           "Condo in Downtown Calgary",
           "Calgary"
          ],
          [
           "$97 CAD",
           "Apartment in Northwest Calgary",
           "Calgary"
          ],
          [
           "$101 CAD",
           "Condo in Downtown Calgary",
           "Calgary"
          ],
          [
           "$54 CAD",
           "Room in Beltline",
           "Calgary"
          ],
          [
           "$172 CAD",
           "Condo in Northeast Calgary",
           "Calgary"
          ],
          [
           "$30 CAD",
           "Room in Northeast Calgary",
           "Calgary"
          ],
          [
           "$73 CAD",
           "Apartment in Southeast Calgary",
           "Calgary"
          ],
          [
           "$101 CAD",
           "Apartment in Northwest Calgary",
           "Calgary"
          ],
          [
           "$133 CAD",
           "Apartment in Beltline",
           "Calgary"
          ],
          [
           "$148 CAD",
           "Apartment in Northwest Calgary",
           "Calgary"
          ],
          [
           "$116 CAD",
           "Home in Northwest Calgary",
           "Calgary"
          ],
          [
           "$40 CAD",
           "Room in Northwest Calgary",
           "Calgary"
          ],
          [
           "$89 CAD",
           "Place to stay in Northwest Calgary",
           "Calgary"
          ],
          [
           "$251 CAD",
           "Home in Northeast Calgary",
           "Calgary"
          ],
          [
           "$249 CAD",
           "Condo in Northeast Calgary",
           "Calgary"
          ],
          [
           "$84 CAD",
           "Condo in Downtown Calgary",
           "Calgary"
          ],
          [
           "$85 CAD",
           "Apartment in Downtown Calgary",
           "Calgary"
          ],
          [
           "$75 CAD",
           "Home in Southeast Calgary",
           "Calgary"
          ],
          [
           "$70 CAD",
           "Guest suite in Southeast Calgary",
           "Calgary"
          ],
          [
           "$132 CAD",
           "Condo in Northeast Calgary",
           "Calgary"
          ],
          [
           "$95 CAD",
           "Apartment in Beltline",
           "Calgary"
          ],
          [
           "$95 CAD",
           "Apartment in Beltline",
           "Calgary"
          ],
          [
           "$99 CAD",
           "Home in Northwest Calgary",
           "Calgary"
          ],
          [
           "$126 CAD",
           "Apartment in Northeast Calgary",
           "Calgary"
          ],
          [
           "$40 CAD",
           "Room in Southeast Calgary",
           "Calgary"
          ],
          [
           "$123 CAD",
           "Apartment in Downtown Calgary",
           "Calgary"
          ],
          [
           "$45 CAD",
           "Room in Northwest Calgary",
           "Calgary"
          ],
          [
           "$97 CAD",
           "Apartment in Northwest Calgary",
           "Calgary"
          ],
          [
           "$43 CAD",
           "Room in Northwest Calgary",
           "Calgary"
          ],
          [
           "$68 CAD",
           "Apartment in Northwest Calgary",
           "Calgary"
          ],
          [
           "$122 CAD",
           "Condo in Southwest Calgary",
           "Calgary"
          ],
          [
           "$70 CAD",
           "Apartment in Southeast Calgary",
           "Calgary"
          ],
          [
           "$105 CAD",
           "Apartment in Downtown Calgary",
           "Calgary"
          ],
          [
           "$70 CAD",
           "Guest suite in Southeast Calgary",
           "Calgary"
          ],
          [
           "$82 CAD",
           "Apartment in Northwest Calgary",
           "Calgary"
          ],
          [
           "$31 CAD",
           "Room in Northeast Calgary",
           "Calgary"
          ],
          [
           "$100 CAD",
           "Apartment in Downtown Calgary",
           "Calgary"
          ],
          [
           "$105 CAD",
           "Condo in Downtown Calgary",
           "Calgary"
          ],
          [
           "$40 CAD",
           "Room in Southeast Calgary",
           "Calgary"
          ],
          [
           "$105 CAD",
           "Apartment in Northwest Calgary",
           "Calgary"
          ],
          [
           "$69 CAD",
           "Apartment in Downtown Calgary",
           "Calgary"
          ],
          [
           "$125 CAD",
           "Home in Northeast Calgary",
           "Calgary"
          ],
          [
           "$78 CAD",
           "Condo in Downtown Calgary",
           "Calgary"
          ],
          [
           "$120 CAD",
           "Home in Southeast Calgary",
           "Calgary"
          ],
          [
           "$87 CAD",
           "Home in Northeast Calgary",
           "Calgary"
          ],
          [
           "$105 CAD",
           "Guest suite in Northeast Calgary",
           "Calgary"
          ],
          [
           "$59 CAD",
           "Apartment in Downtown Calgary",
           "Calgary"
          ],
          [
           "$68 CAD",
           "Condo in Downtown Calgary",
           "Calgary"
          ],
          [
           "$30 CAD",
           "Room in Southeast Calgary",
           "Calgary"
          ],
          [
           "$45 CAD",
           "Room in Northwest Calgary",
           "Calgary"
          ],
          [
           "$40 CAD",
           "Room in Southeast Calgary",
           "Calgary"
          ],
          [
           "$79 CAD",
           "Guest suite in Southeast Calgary",
           "Calgary"
          ],
          [
           "$75 CAD",
           "Condo in Beltline",
           "Calgary"
          ],
          [
           "$100 CAD",
           "Home in Southeast Calgary",
           "Calgary"
          ],
          [
           "$91 CAD",
           "Apartment in Downtown Calgary",
           "Calgary"
          ],
          [
           "$115 CAD",
           "Condo in Beltline",
           "Calgary"
          ],
          [
           "$131 CAD",
           "Apartment in Northeast Calgary",
           "Calgary"
          ],
          [
           "$62 CAD",
           "Apartment in Southeast Calgary",
           "Calgary"
          ],
          [
           "$131 CAD",
           "Home in Northeast Calgary",
           "Calgary"
          ],
          [
           "$106 CAD",
           "Apartment in Northwest Calgary",
           "Calgary"
          ],
          [
           "$93 CAD",
           "Apartment in Southwest Calgary",
           "Calgary"
          ],
          [
           "$115 CAD",
           "Apartment in Beltline",
           "Calgary"
          ],
          [
           "$125 CAD",
           "Condo in Downtown Calgary",
           "Calgary"
          ],
          [
           "$128 CAD",
           "Condo in Beltline",
           "Calgary"
          ],
          [
           "$536 CAD",
           "Home in Northeast Calgary",
           "Calgary"
          ],
          [
           "$113 CAD",
           "Apartment in Beltline",
           "Calgary"
          ],
          [
           "$60 CAD",
           "Room in Southeast Calgary",
           "Calgary"
          ],
          [
           "$149 CAD",
           "Apartment in Downtown Calgary",
           "Calgary"
          ],
          [
           "$79 CAD",
           "Apartment in Southeast Calgary",
           "Calgary"
          ],
          [
           "$65 CAD",
           "Apartment in Downtown Calgary",
           "Calgary"
          ],
          [
           "$53 CAD",
           "Bungalow in Southwest Calgary",
           "Calgary"
          ],
          [
           "$127 CAD",
           "Apartment in Beltline",
           "Calgary"
          ],
          [
           "$65 CAD",
           "Apartment in Beltline",
           "Calgary"
          ],
          [
           "$81 CAD",
           "Guest suite in Northeast Calgary",
           "Calgary"
          ],
          [
           "$100 CAD",
           "Condo in Downtown Calgary",
           "Calgary"
          ],
          [
           "$69 CAD",
           "Guest suite in Southeast Calgary",
           "Calgary"
          ],
          [
           "$48 CAD",
           "Room in Southeast Calgary",
           "Calgary"
          ],
          [
           "$52 CAD",
           "Apartment in Southwest Calgary",
           "Calgary"
          ],
          [
           "$87 CAD",
           "Apartment in Northwest Calgary",
           "Calgary"
          ],
          [
           "$62 CAD",
           "Apartment in Northeast Calgary",
           "Calgary"
          ],
          [
           "$150 CAD",
           "Loft in Northeast Calgary",
           "Calgary"
          ],
          [
           "$90 CAD",
           "Home in Northeast Calgary",
           "Calgary"
          ],
          [
           "$100 CAD",
           "Apartment in Northwest Calgary",
           "Calgary"
          ],
          [
           "$63 CAD",
           "Apartment in Southeast Calgary",
           "Calgary"
          ],
          [
           "$90 CAD",
           "Guest suite in Northeast Calgary",
           "Calgary"
          ],
          [
           "$122 CAD",
           "Condo in Northeast Calgary",
           "Calgary"
          ],
          [
           "$89 CAD",
           "Apartment in Northwest Calgary",
           "Calgary"
          ],
          [
           "$80 CAD",
           "Home in Northeast Calgary",
           "Calgary"
          ],
          [
           "$71 CAD",
           "Condo in Downtown Calgary",
           "Calgary"
          ],
          [
           "$77 CAD",
           "Apartment in Northeast Calgary",
           "Calgary"
          ],
          [
           "$98 CAD",
           "Condo in Downtown Calgary",
           "Calgary"
          ],
          [
           "$103 CAD",
           "Apartment in Northwest Calgary",
           "Calgary"
          ],
          [
           "$138 CAD",
           "Condo in Northeast Calgary",
           "Calgary"
          ],
          [
           "$99 CAD",
           "Condo in Southeast Calgary",
           "Calgary"
          ],
          [
           "$91 CAD",
           "Apartment in Northwest Calgary",
           "Calgary"
          ],
          [
           "$90 CAD",
           "Apartment in Northwest Calgary",
           "Calgary"
          ],
          [
           "$110 CAD",
           "Condo in Northwest Calgary",
           "Calgary"
          ],
          [
           "$177 CAD",
           "Condo in Beltline",
           "Calgary"
          ],
          [
           "$139 CAD",
           "Condo in Downtown Calgary",
           "Calgary"
          ],
          [
           "$82 CAD",
           "Apartment in Downtown Calgary",
           "Calgary"
          ],
          [
           "$100 CAD",
           "Condo in Downtown Calgary",
           "Calgary"
          ],
          [
           "$107 CAD",
           "Condo in Northwest Calgary",
           "Calgary"
          ],
          [
           "$94 CAD",
           "Apartment in Northwest Calgary",
           "Calgary"
          ],
          [
           "$101 CAD",
           "Apartment in Northwest Calgary",
           "Calgary"
          ],
          [
           "$89 CAD",
           "Condo in Southeast Calgary",
           "Calgary"
          ],
          [
           "$162 CAD",
           "Condo in Northeast Calgary",
           "Calgary"
          ],
          [
           "$98 CAD",
           "Condo in Downtown Calgary",
           "Calgary"
          ],
          [
           "$30 CAD",
           "Room in Southeast Calgary",
           "Calgary"
          ],
          [
           "$96 CAD",
           "Condo in Northwest Calgary",
           "Calgary"
          ],
          [
           "$69 CAD",
           "Hotel in Southwest Calgary",
           "Calgary"
          ],
          [
           "$53 CAD",
           "Room in Southeast Calgary",
           "Calgary"
          ],
          [
           "$31 CAD",
           "Room in Northwest Calgary",
           "Calgary"
          ],
          [
           "$43 CAD",
           "Room in Northwest Calgary",
           "Calgary"
          ],
          [
           "$94 CAD",
           "Condo in Downtown Calgary",
           "Calgary"
          ],
          [
           "$45 CAD",
           "Room in Southeast Calgary",
           "Calgary"
          ],
          [
           "$89 CAD",
           "Condo in Downtown Calgary",
           "Calgary"
          ],
          [
           "$112 CAD",
           "Guesthouse in Southeast Calgary",
           "Calgary"
          ],
          [
           "$100 CAD",
           "Apartment in Downtown Calgary",
           "Calgary"
          ],
          [
           "$81 CAD",
           "Condo in Downtown Calgary",
           "Calgary"
          ],
          [
           "$57 CAD",
           "Apartment in Northwest Calgary",
           "Calgary"
          ],
          [
           "$113 CAD",
           "Apartment in Beltline",
           "Calgary"
          ],
          [
           "$74 CAD",
           "Apartment in Northwest Calgary",
           "Calgary"
          ],
          [
           "$96 CAD",
           "Condo in Downtown Calgary",
           "Calgary"
          ],
          [
           "$113 CAD",
           "Condo in Northwest Calgary",
           "Calgary"
          ],
          [
           "$54 CAD",
           "Room in Beltline",
           "Calgary"
          ],
          [
           "$90 CAD",
           "Apartment in Northwest Calgary",
           "Calgary"
          ],
          [
           "$43 CAD",
           "Room in Northwest Calgary",
           "Calgary"
          ],
          [
           "$65 CAD",
           "Apartment in Southeast Calgary",
           "Calgary"
          ],
          [
           "$125 CAD",
           "Condo in Beltline",
           "Calgary"
          ],
          [
           "$80 CAD",
           "Guest suite in Southeast Calgary",
           "Calgary"
          ],
          [
           "$30 CAD",
           "Room in Northwest Calgary",
           "Calgary"
          ],
          [
           "$125 CAD",
           "Apartment in Southeast Calgary",
           "Calgary"
          ],
          [
           "$87 CAD",
           "Condo in Northwest Calgary",
           "Calgary"
          ],
          [
           "$62 CAD",
           "Condo in Downtown Calgary",
           "Calgary"
          ],
          [
           "$80 CAD",
           "Apartment in Southwest Calgary",
           "Calgary"
          ],
          [
           "$171 CAD",
           "Home in Northeast Calgary",
           "Calgary"
          ],
          [
           "$102 CAD",
           "Loft in Downtown Calgary",
           "Calgary"
          ],
          [
           "$120 CAD",
           "Apartment in Beltline",
           "Calgary"
          ],
          [
           "$89 CAD",
           "Condo in Downtown Calgary",
           "Calgary"
          ],
          [
           "$82 CAD",
           "Condo in Downtown Calgary",
           "Calgary"
          ],
          [
           "$100 CAD",
           "Condo in Downtown Calgary",
           "Calgary"
          ],
          [
           "$116 CAD",
           "Home in Northwest Calgary",
           "Calgary"
          ],
          [
           "$43 CAD",
           "Place to stay in Northwest Calgary",
           "Calgary"
          ],
          [
           "$95 CAD",
           "Apartment in Beltline",
           "Calgary"
          ],
          [
           "$89 CAD",
           "Place to stay in Northwest Calgary",
           "Calgary"
          ],
          [
           "$249 CAD",
           "Condo in Northeast Calgary",
           "Calgary"
          ],
          [
           "$99 CAD",
           "Apartment in Downtown Calgary",
           "Calgary"
          ],
          [
           "$110 CAD",
           "Condo in Northwest Calgary",
           "Calgary"
          ],
          [
           "$69 CAD",
           "Home in Northeast Calgary",
           "Calgary"
          ],
          [
           "$95 CAD",
           "Condo in Downtown Calgary",
           "Calgary"
          ],
          [
           "$249 CAD",
           "Home in Northeast Calgary",
           "Calgary"
          ],
          [
           "$131 CAD",
           "Home in Northeast Calgary",
           "Calgary"
          ],
          [
           "$90 CAD",
           "Guest suite in Northeast Calgary",
           "Calgary"
          ],
          [
           "$519 CAD",
           "Home in Southeast Calgary",
           "Calgary"
          ],
          [
           "$105 CAD",
           "Home in Southeast Calgary",
           "Calgary"
          ],
          [
           "$79 CAD",
           "Home in Southeast Calgary",
           "Calgary"
          ],
          [
           "$65 CAD",
           "Home in Southeast Calgary",
           "Calgary"
          ],
          [
           "$40 CAD",
           "Room in Northwest Calgary",
           "Calgary"
          ],
          [
           "$100 CAD",
           "Apartment in Northwest Calgary",
           "Calgary"
          ],
          [
           "$94 CAD",
           "Condo in Northwest Calgary",
           "Calgary"
          ],
          [
           "$279 CAD",
           "Condo in Beltline",
           "Calgary"
          ],
          [
           "$66 CAD",
           "Apartment in Southeast Calgary",
           "Calgary"
          ],
          [
           "$122 CAD",
           "Condo in Southwest Calgary",
           "Calgary"
          ],
          [
           "$78 CAD",
           "Condo in Downtown Calgary",
           "Calgary"
          ],
          [
           "$113 CAD",
           "Apartment in Downtown Calgary",
           "Calgary"
          ],
          [
           "$59 CAD",
           "Apartment in Downtown Calgary",
           "Calgary"
          ],
          [
           "$115 CAD",
           "Apartment in Downtown Calgary",
           "Calgary"
          ],
          [
           "$157 CAD",
           "Condo in Beltline",
           "Calgary"
          ],
          [
           "$45 CAD",
           "Room in Northwest Calgary",
           "Calgary"
          ],
          [
           "$90 CAD",
           "Apartment in Northwest Calgary",
           "Calgary"
          ],
          [
           "$115 CAD",
           "Condo in Beltline",
           "Calgary"
          ],
          [
           "$132 CAD",
           "Condo in Northeast Calgary",
           "Calgary"
          ],
          [
           "$105 CAD",
           "Apartment in Downtown Calgary",
           "Calgary"
          ],
          [
           "$149 CAD",
           "Apartment in Downtown Calgary",
           "Calgary"
          ],
          [
           "$96 CAD",
           "Apartment in Northwest Calgary",
           "Calgary"
          ],
          [
           "$68 CAD",
           "Apartment in Northwest Calgary",
           "Calgary"
          ],
          [
           "$69 CAD",
           "Hotel in Southwest Calgary",
           "Calgary"
          ],
          [
           "$93 CAD",
           "Condo in Downtown Calgary",
           "Calgary"
          ],
          [
           "$53 CAD",
           "Apartment in Southeast Calgary",
           "Calgary"
          ],
          [
           "$99 CAD",
           "Condo in Downtown Calgary",
           "Calgary"
          ],
          [
           "$95 CAD",
           "Apartment in Beltline",
           "Calgary"
          ],
          [
           "$107 CAD",
           "Apartment in Beltline",
           "Calgary"
          ],
          [
           "$132 CAD",
           "Home in Northeast Calgary",
           "Calgary"
          ],
          [
           "$90 CAD",
           "Apartment in Northwest Calgary",
           "Calgary"
          ],
          [
           "$68 CAD",
           "Condo in Downtown Calgary",
           "Calgary"
          ],
          [
           "$131 CAD",
           "Apartment in Downtown Calgary",
           "Calgary"
          ],
          [
           "$98 CAD",
           "Apartment in Northwest Calgary",
           "Calgary"
          ],
          [
           "$43 CAD",
           "Room in Northwest Calgary",
           "Calgary"
          ],
          [
           "$78 CAD",
           "Home in Northeast Calgary",
           "Calgary"
          ],
          [
           "$133 CAD",
           "Apartment in Beltline",
           "Calgary"
          ],
          [
           "$127 CAD",
           "Apartment in Beltline",
           "Calgary"
          ],
          [
           "$120 CAD",
           "Apartment in Southeast Calgary",
           "Calgary"
          ],
          [
           "$75 CAD",
           "Condo in Beltline",
           "Calgary"
          ],
          [
           "$97 CAD",
           "Apartment in Northwest Calgary",
           "Calgary"
          ],
          [
           "$120 CAD",
           "Guesthouse in Southeast Calgary",
           "Calgary"
          ],
          [
           "$172 CAD",
           "Condo in Northeast Calgary",
           "Calgary"
          ],
          [
           "$99 CAD",
           "Apartment in Beltline",
           "Calgary"
          ],
          [
           "$65 CAD",
           "Apartment in Downtown Calgary",
           "Calgary"
          ],
          [
           "$30 CAD",
           "Room in Northeast Calgary",
           "Calgary"
          ],
          [
           "$132 CAD",
           "Loft in Southeast Calgary",
           "Calgary"
          ],
          [
           "$100 CAD",
           "Apartment in Downtown Calgary",
           "Calgary"
          ],
          [
           "$45 CAD",
           "Room in Northwest Calgary",
           "Calgary"
          ],
          [
           "$88 CAD",
           "Guest suite in Southeast Calgary",
           "Calgary"
          ],
          [
           "$115 CAD",
           "Apartment in Beltline",
           "Calgary"
          ],
          [
           "$74 CAD",
           "Condo in Downtown Calgary",
           "Calgary"
          ],
          [
           "$101 CAD",
           "Apartment in Northwest Calgary",
           "Calgary"
          ],
          [
           "$97 CAD",
           "Apartment in Northwest Calgary",
           "Calgary"
          ],
          [
           "$63 CAD",
           "Apartment in Downtown Calgary",
           "Calgary"
          ],
          [
           "$40 CAD",
           "Room in Southeast Calgary",
           "Calgary"
          ],
          [
           "$53 CAD",
           "Apartment in Downtown Calgary",
           "Calgary"
          ],
          [
           "$96 CAD",
           "Condo in Downtown Calgary",
           "Calgary"
          ],
          [
           "$136 CAD",
           "Cottage in Southeast Calgary",
           "Calgary"
          ],
          [
           "$93 CAD",
           "Apartment in Southwest Calgary",
           "Calgary"
          ],
          [
           "$145 CAD",
           "Apartment in Downtown Calgary",
           "Calgary"
          ],
          [
           "$105 CAD",
           "Apartment in Northwest Calgary",
           "Calgary"
          ],
          [
           "$72 CAD",
           "Condo in Northeast Calgary",
           "Calgary"
          ],
          [
           "$113 CAD",
           "Apartment in Beltline",
           "Calgary"
          ],
          [
           "$65 CAD",
           "Apartment in Beltline",
           "Calgary"
          ],
          [
           "$83 CAD",
           "Condo in Downtown Calgary",
           "Calgary"
          ],
          [
           "$104 CAD",
           "Condo in Southeast Calgary",
           "Calgary"
          ],
          [
           "$90 CAD",
           "Apartment in Beltline",
           "Calgary"
          ],
          [
           "$66 CAD",
           "Apartment in Downtown Calgary",
           "Calgary"
          ],
          [
           "$133 CAD",
           "Condo in Beltline",
           "Calgary"
          ],
          [
           "$57 CAD",
           "Apartment in Southeast Calgary",
           "Calgary"
          ],
          [
           "$40 CAD",
           "Room in Southeast Calgary",
           "Calgary"
          ],
          [
           "$28 CAD",
           "Shared room in Northwest Calgary",
           "Calgary"
          ],
          [
           "$126 CAD",
           "Apartment in Northeast Calgary",
           "Calgary"
          ],
          [
           "$80 CAD",
           "Condo in Downtown Calgary",
           "Calgary"
          ],
          [
           "$64 CAD",
           "Condo in Downtown Calgary",
           "Calgary"
          ],
          [
           "$82 CAD",
           "Apartment in Northwest Calgary",
           "Calgary"
          ],
          [
           "$100 CAD",
           "Condo in Downtown Calgary",
           "Calgary"
          ],
          [
           "$120 CAD",
           "Condo in Beltline",
           "Calgary"
          ],
          [
           "$31 CAD",
           "Room in Northeast Calgary",
           "Calgary"
          ],
          [
           "$92 CAD",
           "Condo in Downtown Calgary",
           "Calgary"
          ],
          [
           "$99 CAD",
           "Apartment in Beltline",
           "Calgary"
          ],
          [
           "$141 CAD",
           "Condo in Beltline",
           "Calgary"
          ],
          [
           "$95 CAD",
           "Condo in Beltline",
           "Calgary"
          ],
          [
           "$91 CAD",
           "Condo in Downtown Calgary",
           "Calgary"
          ],
          [
           "$148 CAD",
           "Apartment in Northwest Calgary",
           "Calgary"
          ],
          [
           "$45 CAD",
           "Room in Calgary",
           "Calgary"
          ],
          [
           "$115 CAD",
           "Condo in Calgary",
           "Calgary"
          ],
          [
           "$121 CAD",
           "Condo in Calgary",
           "Calgary"
          ],
          [
           "$101 CAD",
           "Apartment in Calgary",
           "Calgary"
          ],
          [
           "$68 CAD",
           "Condo in Calgary",
           "Calgary"
          ],
          [
           "$107 CAD",
           "Condo in Calgary",
           "Calgary"
          ],
          [
           "$105 CAD",
           "Condo in Calgary",
           "Calgary"
          ],
          [
           "$40 CAD",
           "Room in Calgary",
           "Calgary"
          ],
          [
           "$69 CAD",
           "Home in Calgary",
           "Calgary"
          ],
          [
           "$71 CAD",
           "Apartment in Calgary",
           "Calgary"
          ],
          [
           "$79 CAD",
           "Apartment in Calgary",
           "Calgary"
          ],
          [
           "$80 CAD",
           "Condo in Calgary",
           "Calgary"
          ],
          [
           "$101 CAD",
           "Condo in Calgary",
           "Calgary"
          ],
          [
           "$105 CAD",
           "Condo in Calgary",
           "Calgary"
          ],
          [
           "$60 CAD",
           "Home in Calgary",
           "Calgary"
          ],
          [
           "$175 CAD",
           "Condo in Calgary",
           "Calgary"
          ],
          [
           "$40 CAD",
           "Room in Calgary",
           "Calgary"
          ],
          [
           "$164 CAD",
           "Home in Calgary",
           "Calgary"
          ],
          [
           "$178 CAD",
           "Condo in Calgary",
           "Calgary"
          ],
          [
           "$536 CAD",
           "Home in Calgary",
           "Calgary"
          ],
          [
           "$52 CAD",
           "Apartment in Calgary",
           "Calgary"
          ],
          [
           "$37 CAD",
           "Room in Calgary",
           "Calgary"
          ],
          [
           "$75 CAD",
           "Guest suite in Calgary",
           "Calgary"
          ],
          [
           "$40 CAD",
           "Room in Calgary",
           "Calgary"
          ],
          [
           "$123 CAD",
           "Condo in Calgary",
           "Calgary"
          ],
          [
           "$135 CAD",
           "Condo in Calgary",
           "Calgary"
          ],
          [
           "$85 CAD",
           "Apartment in Calgary",
           "Calgary"
          ],
          [
           "$84 CAD",
           "Condo in Calgary",
           "Calgary"
          ],
          [
           "$47 CAD",
           "Room in Chestermere",
           "Chestermere"
          ],
          [
           "$117 CAD",
           "Condo in Calgary",
           "Calgary"
          ],
          [
           "$110 CAD",
           "Condo in Calgary",
           "Calgary"
          ],
          [
           "$65 CAD",
           "Apartment in Calgary",
           "Calgary"
          ],
          [
           "$128 CAD",
           "Condo in Calgary",
           "Calgary"
          ],
          [
           "$81 CAD",
           "Guest suite in Calgary",
           "Calgary"
          ],
          [
           "$125 CAD",
           "Home in Calgary",
           "Calgary"
          ],
          [
           "$100 CAD",
           "Condo in Calgary",
           "Calgary"
          ],
          [
           "$30 CAD",
           "Room in Calgary",
           "Calgary"
          ],
          [
           "$99 CAD",
           "Home in Calgary",
           "Calgary"
          ],
          [
           "$80 CAD",
           "Home in Calgary",
           "Calgary"
          ],
          [
           "$153 CAD",
           "Apartment in Calgary",
           "Calgary"
          ],
          [
           "$89 CAD",
           "Apartment in Northwest Calgary",
           "Calgary"
          ],
          [
           "$94 CAD",
           "Apartment in Northwest Calgary",
           "Calgary"
          ],
          [
           "$139 CAD",
           "Condo in Downtown Calgary",
           "Calgary"
          ],
          [
           "$90 CAD",
           "Apartment in Northwest Calgary",
           "Calgary"
          ],
          [
           "$100 CAD",
           "Apartment in Northwest Calgary",
           "Calgary"
          ],
          [
           "$103 CAD",
           "Apartment in Northwest Calgary",
           "Calgary"
          ],
          [
           "$62 CAD",
           "Apartment in Northeast Calgary",
           "Calgary"
          ],
          [
           "$90 CAD",
           "Apartment in Northwest Calgary",
           "Calgary"
          ],
          [
           "$91 CAD",
           "Apartment in Northwest Calgary",
           "Calgary"
          ],
          [
           "$90 CAD",
           "Apartment in Northwest Calgary",
           "Calgary"
          ],
          [
           "$107 CAD",
           "Condo in Northwest Calgary",
           "Calgary"
          ],
          [
           "$110 CAD",
           "Condo in Northwest Calgary",
           "Calgary"
          ],
          [
           "$110 CAD",
           "Condo in Northwest Calgary",
           "Calgary"
          ],
          [
           "$148 CAD",
           "Apartment in Northwest Calgary",
           "Calgary"
          ],
          [
           "$90 CAD",
           "Apartment in Northwest Calgary",
           "Calgary"
          ],
          [
           "$96 CAD",
           "Condo in Northwest Calgary",
           "Calgary"
          ],
          [
           "$87 CAD",
           "Condo in Northwest Calgary",
           "Calgary"
          ],
          [
           "$71 CAD",
           "Condo in Downtown Calgary",
           "Calgary"
          ],
          [
           "$177 CAD",
           "Condo in Beltline",
           "Calgary"
          ],
          [
           "$94 CAD",
           "Condo in Northwest Calgary",
           "Calgary"
          ],
          [
           "$82 CAD",
           "Apartment in Northwest Calgary",
           "Calgary"
          ],
          [
           "$101 CAD",
           "Apartment in Northwest Calgary",
           "Calgary"
          ],
          [
           "$74 CAD",
           "Apartment in Northwest Calgary",
           "Calgary"
          ],
          [
           "$113 CAD",
           "Condo in Northwest Calgary",
           "Calgary"
          ],
          [
           "$87 CAD",
           "Apartment in Northwest Calgary",
           "Calgary"
          ],
          [
           "$96 CAD",
           "Apartment in Northwest Calgary",
           "Calgary"
          ],
          [
           "$98 CAD",
           "Condo in Downtown Calgary",
           "Calgary"
          ],
          [
           "$99 CAD",
           "Home in Northwest Calgary",
           "Calgary"
          ],
          [
           "$97 CAD",
           "Apartment in Northwest Calgary",
           "Calgary"
          ],
          [
           "$98 CAD",
           "Condo in Downtown Calgary",
           "Calgary"
          ],
          [
           "$101 CAD",
           "Apartment in Northwest Calgary",
           "Calgary"
          ],
          [
           "$100 CAD",
           "Apartment in Northwest Calgary",
           "Calgary"
          ],
          [
           "$63 CAD",
           "Apartment in Southeast Calgary",
           "Calgary"
          ],
          [
           "$31 CAD",
           "Room in Northwest Calgary",
           "Calgary"
          ],
          [
           "$82 CAD",
           "Apartment in Downtown Calgary",
           "Calgary"
          ],
          [
           "$100 CAD",
           "Condo in Downtown Calgary",
           "Calgary"
          ],
          [
           "$57 CAD",
           "Apartment in Northwest Calgary",
           "Calgary"
          ],
          [
           "$78 CAD",
           "Condo in Downtown Calgary",
           "Calgary"
          ],
          [
           "$94 CAD",
           "Condo in Downtown Calgary",
           "Calgary"
          ],
          [
           "$81 CAD",
           "Condo in Downtown Calgary",
           "Calgary"
          ],
          [
           "$43 CAD",
           "Room in Northwest Calgary",
           "Calgary"
          ],
          [
           "$83 CAD",
           "Condo in Downtown Calgary",
           "Calgary"
          ],
          [
           "$98 CAD",
           "Apartment in Northwest Calgary",
           "Calgary"
          ],
          [
           "$97 CAD",
           "Apartment in Northwest Calgary",
           "Calgary"
          ],
          [
           "$59 CAD",
           "Apartment in Downtown Calgary",
           "Calgary"
          ],
          [
           "$68 CAD",
           "Condo in Downtown Calgary",
           "Calgary"
          ],
          [
           "$100 CAD",
           "Apartment in Downtown Calgary",
           "Calgary"
          ],
          [
           "$89 CAD",
           "Condo in Downtown Calgary",
           "Calgary"
          ],
          [
           "$90 CAD",
           "Home in Northeast Calgary",
           "Calgary"
          ],
          [
           "$113 CAD",
           "Apartment in Beltline",
           "Calgary"
          ],
          [
           "$96 CAD",
           "Condo in Downtown Calgary",
           "Calgary"
          ],
          [
           "$65 CAD",
           "Apartment in Downtown Calgary",
           "Calgary"
          ],
          [
           "$71 CAD",
           "Apartment in Northwest Calgary",
           "Calgary"
          ],
          [
           "$98 CAD",
           "Apartment in Northwest Calgary",
           "Calgary"
          ],
          [
           "$126 CAD",
           "Apartment in Northeast Calgary",
           "Calgary"
          ],
          [
           "$90 CAD",
           "Guest suite in Northeast Calgary",
           "Calgary"
          ],
          [
           "$43 CAD",
           "Room in Northwest Calgary",
           "Calgary"
          ],
          [
           "$82 CAD",
           "Condo in Downtown Calgary",
           "Calgary"
          ],
          [
           "$54 CAD",
           "Room in Beltline",
           "Calgary"
          ],
          [
           "$89 CAD",
           "Place to stay in Northwest Calgary",
           "Calgary"
          ],
          [
           "$74 CAD",
           "Condo in Downtown Calgary",
           "Calgary"
          ],
          [
           "$78 CAD",
           "Apartment in Northwest Calgary",
           "Calgary"
          ],
          [
           "$138 CAD",
           "Condo in Northeast Calgary",
           "Calgary"
          ],
          [
           "$116 CAD",
           "Home in Northwest Calgary",
           "Calgary"
          ],
          [
           "$125 CAD",
           "Condo in Beltline",
           "Calgary"
          ],
          [
           "$53 CAD",
           "Apartment in Downtown Calgary",
           "Calgary"
          ],
          [
           "$106 CAD",
           "Apartment in Northwest Calgary",
           "Calgary"
          ],
          [
           "$95 CAD",
           "Condo in Downtown Calgary",
           "Calgary"
          ],
          [
           "$62 CAD",
           "Condo in Downtown Calgary",
           "Calgary"
          ],
          [
           "$89 CAD",
           "Condo in Downtown Calgary",
           "Calgary"
          ],
          [
           "$63 CAD",
           "Apartment in Downtown Calgary",
           "Calgary"
          ],
          [
           "$100 CAD",
           "Condo in Downtown Calgary",
           "Calgary"
          ],
          [
           "$120 CAD",
           "Apartment in Beltline",
           "Calgary"
          ],
          [
           "$80 CAD",
           "Apartment in Southwest Calgary",
           "Calgary"
          ],
          [
           "$113 CAD",
           "Apartment in Downtown Calgary",
           "Calgary"
          ],
          [
           "$66 CAD",
           "Apartment in Downtown Calgary",
           "Calgary"
          ],
          [
           "$92 CAD",
           "Apartment in Northwest Calgary",
           "Calgary"
          ],
          [
           "$53 CAD",
           "Room in Southeast Calgary",
           "Calgary"
          ],
          [
           "$79 CAD",
           "Apartment in Downtown Calgary",
           "Calgary"
          ],
          [
           "$95 CAD",
           "Apartment in Beltline",
           "Calgary"
          ],
          [
           "$91 CAD",
           "Apartment in Northwest Calgary",
           "Calgary"
          ],
          [
           "$99 CAD",
           "Apartment in Downtown Calgary",
           "Calgary"
          ],
          [
           "$77 CAD",
           "Apartment in Northeast Calgary",
           "Calgary"
          ],
          [
           "$69 CAD",
           "Hotel in Southwest Calgary",
           "Calgary"
          ],
          [
           "$99 CAD",
           "Condo in Southeast Calgary",
           "Calgary"
          ],
          [
           "$70 CAD",
           "Home in Northwest Calgary",
           "Calgary"
          ],
          [
           "$69 CAD",
           "Apartment in Downtown Calgary",
           "Calgary"
          ],
          [
           "$122 CAD",
           "Condo in Southwest Calgary",
           "Calgary"
          ],
          [
           "$89 CAD",
           "Condo in Southeast Calgary",
           "Calgary"
          ],
          [
           "$80 CAD",
           "Apartment in Downtown Calgary",
           "Calgary"
          ],
          [
           "$279 CAD",
           "Condo in Beltline",
           "Calgary"
          ],
          [
           "$65 CAD",
           "Apartment in Southeast Calgary",
           "Calgary"
          ],
          [
           "$115 CAD",
           "Condo in Beltline",
           "Calgary"
          ],
          [
           "$105 CAD",
           "Apartment in Downtown Calgary",
           "Calgary"
          ],
          [
           "$93 CAD",
           "Condo in Downtown Calgary",
           "Calgary"
          ],
          [
           "$45 CAD",
           "Room in Southeast Calgary",
           "Calgary"
          ],
          [
           "$30 CAD",
           "Room in Northwest Calgary",
           "Calgary"
          ],
          [
           "$95 CAD",
           "Apartment in Beltline",
           "Calgary"
          ],
          [
           "$30 CAD",
           "Room in Southeast Calgary",
           "Calgary"
          ],
          [
           "$99 CAD",
           "Condo in Downtown Calgary",
           "Calgary"
          ]
         ],
         "hovertemplate": "avgRating=%{marker.color}<br>price=%{customdata[0]}<br>title=%{customdata[1]}<br>city=%{customdata[2]}<extra></extra>",
         "legendgroup": "",
         "marker": {
          "color": [
           4.95,
           4.84,
           4.94,
           4.95,
           4.87418439716312,
           4.93,
           4.87,
           4.97,
           4.98,
           4.98,
           4.93,
           5,
           5,
           5,
           4.92,
           4.96,
           4.9,
           4.76,
           4.7,
           4.96,
           4.92,
           4.7,
           5,
           4.87418439716312,
           4.9,
           4.96,
           4.81,
           4.87418439716312,
           4.96,
           4.95,
           4.9,
           4.78,
           4.87418439716312,
           4.84,
           5,
           4.82,
           4.87418439716312,
           4.94,
           4.9,
           5,
           4.97,
           4.78,
           4.92,
           4.68,
           4.85,
           4.95,
           4.73,
           4.87418439716312,
           4.85,
           4.93,
           5,
           5,
           4.93,
           4.93,
           4.94,
           4.77,
           4.93,
           4.87418439716312,
           4.87418439716312,
           4.87418439716312,
           4.87418439716312,
           4.85,
           4.65,
           4.97,
           5,
           4.96,
           5,
           4.89,
           4.87418439716312,
           4.67,
           4.87418439716312,
           4.93,
           4.87418439716312,
           5,
           4.91,
           4.9,
           4.92,
           4.93,
           4.86,
           4.87418439716312,
           4.88,
           4.6,
           4.94,
           4.81,
           4.67,
           4.8,
           5,
           4.97,
           4.8,
           4.66,
           4.82,
           4.89,
           4.85,
           4.92,
           4.56,
           4.82,
           5,
           5,
           4.97,
           4.87418439716312,
           4.87418439716312,
           4.81,
           4.8,
           5,
           4.87418439716312,
           4.97,
           4.82,
           4.88,
           4.84,
           4.87418439716312,
           4.9,
           4.91,
           4.75,
           4.74,
           4.84,
           4.78,
           4.88,
           4.92,
           5,
           5,
           5,
           4.87418439716312,
           4.61,
           4.91,
           5,
           4.92,
           4.8,
           4.84,
           4.69,
           4.87418439716312,
           4.95,
           4.98,
           4.93,
           4.98,
           4.94,
           4.89,
           4.85,
           4.83,
           4.87418439716312,
           4.81,
           4.89,
           4.87418439716312,
           4.96,
           4.84,
           4.33,
           4.88,
           4.87418439716312,
           4.97,
           4.83,
           4.87418439716312,
           4.88,
           4.87418439716312,
           4.87418439716312,
           4.87418439716312,
           5,
           4.9,
           4.63,
           4.57,
           4.72,
           4.88,
           5,
           4.88,
           4.94,
           4.88,
           4.89,
           4,
           4.96,
           4.85,
           4.76,
           4.8,
           4.73,
           4.84,
           4.98,
           4.86,
           4.93,
           5,
           4.96,
           4.87418439716312,
           4.81,
           4.91,
           4.87,
           4.87418439716312,
           4.87418439716312,
           4.92,
           5,
           4.94,
           4.97,
           4.93,
           5,
           4.95,
           4.67,
           4.96,
           5,
           4.8,
           5,
           4.77,
           4.8,
           4.96,
           4.87418439716312,
           4.9,
           4.84,
           4.95,
           4.95,
           4.93,
           4.87418439716312,
           4.94,
           5,
           4.7,
           4.93,
           4.9,
           4.7,
           4.76,
           5,
           4.93,
           4.97,
           4.81,
           5,
           4.96,
           4.89,
           4.9,
           4.98,
           4.92,
           4.97,
           4.9,
           4.96,
           4.94,
           4.88,
           4.87418439716312,
           4.87418439716312,
           4.9,
           4.87418439716312,
           4.78,
           4.87418439716312,
           4.87418439716312,
           4.87418439716312,
           4.82,
           4.98,
           5,
           4.96,
           4.93,
           4.87418439716312,
           4.91,
           4.68,
           4.92,
           4.97,
           5,
           4.87418439716312,
           4.87418439716312,
           4.95,
           5,
           4.96,
           4.97,
           5,
           4.77,
           4.85,
           4.87418439716312,
           5,
           4.85,
           4.87418439716312,
           4.87418439716312,
           4.93,
           4.78,
           4.98,
           4.91,
           4.96,
           4.98,
           4.89,
           4.87418439716312,
           5,
           4.94,
           4.95,
           4.85,
           4.91,
           4.87,
           5,
           5,
           4.87418439716312,
           4.73,
           4.93,
           4.9,
           4.86,
           4.94,
           4.84,
           4.87418439716312,
           4.88,
           4.65,
           4.85,
           4.94,
           5,
           4.97,
           4.87418439716312,
           4.96,
           4.89,
           4.87418439716312,
           5,
           4.56,
           4.88,
           4.87418439716312,
           4.93,
           4.89,
           4.67,
           4.87418439716312,
           5,
           5,
           4.8,
           4.76,
           5,
           4.84,
           4.87418439716312,
           4.8,
           4.87418439716312,
           5,
           4.85,
           4.86,
           4.61,
           5,
           4.92,
           4.91,
           4.67,
           4.8,
           4.92,
           5,
           4.73,
           4.97,
           4.87418439716312,
           4.87,
           4.69,
           4.83,
           4.62,
           4.88,
           4.72,
           4.66,
           4.88,
           4.87418439716312,
           4.87418439716312,
           5,
           4.82,
           4.97,
           4.8,
           4.82,
           4.93,
           4.86,
           4.91,
           4.97,
           4.8,
           4.81,
           4.87418439716312,
           4.33,
           4.67,
           4.81,
           4.9,
           4.92,
           4.91,
           4.63,
           4.87418439716312,
           4.73,
           5,
           4.86,
           4.93,
           4.95,
           4.83,
           4.82,
           4.86,
           4.99,
           4.74,
           4.96,
           4.82,
           4.86,
           4.75,
           4.8,
           4.9,
           4.95,
           4.91,
           4.9,
           4.6,
           4.96,
           4.92,
           4.92,
           5,
           4.94,
           4.87418439716312,
           4.86,
           4.81,
           4.84,
           5,
           4.97,
           5,
           4.85,
           5,
           5,
           4.88,
           5,
           5,
           4.86,
           4.94,
           4.84,
           4.8,
           4.84,
           4.97,
           4.79,
           4.7,
           4.9,
           4.9,
           4.87418439716312,
           4.93,
           5,
           4.84,
           5,
           4.81,
           4.87418439716312,
           4.97,
           4.96,
           5,
           4.95,
           4.8,
           4.9,
           4.77,
           4.9,
           4.89,
           4.86,
           4.9,
           4.96,
           4.68,
           4.97,
           4.9,
           4.56,
           4.76,
           4.84,
           4.83,
           4.87418439716312,
           4.69,
           4.9,
           4.87418439716312,
           4.87418439716312,
           4.98,
           4.92,
           4.87418439716312,
           4.88,
           4.87418439716312,
           4.93,
           4.87418439716312,
           4.82,
           4.84,
           4.61,
           4.85,
           4.76,
           4.96,
           4.98,
           4.95,
           4.91,
           4.92,
           4.67,
           4.8,
           4.9,
           4.33,
           4.94,
           4.87418439716312,
           4.93,
           5,
           4.98,
           4.87,
           4.75,
           4.93,
           4.98,
           5,
           4.72,
           4.87,
           4.95,
           4.85,
           4.87418439716312,
           4.62,
           4.78,
           4.87418439716312,
           4.87418439716312,
           4.65,
           4.91,
           4.79,
           4.78,
           4.9,
           4.96,
           5,
           4.87418439716312,
           4.7,
           4.87418439716312,
           4.97,
           4.55,
           4.69,
           4.87418439716312,
           4.94,
           4.87,
           4.94,
           4.95,
           4.96,
           4.87418439716312,
           4.93,
           4.82,
           4.97,
           4.87418439716312,
           4.87418439716312,
           4.67
          ],
          "coloraxis": "coloraxis",
          "symbol": "circle"
         },
         "mode": "markers",
         "name": "",
         "orientation": "v",
         "showlegend": false,
         "type": "scatter",
         "x": [
          90,
          62,
          90,
          150,
          63,
          80,
          90,
          99,
          82,
          89,
          100,
          103,
          122,
          90,
          100,
          100,
          71,
          98,
          89,
          80,
          132,
          77,
          105,
          99,
          96,
          110,
          91,
          98,
          101,
          95,
          94,
          53,
          94,
          66,
          112,
          45,
          79,
          89,
          139,
          125,
          107,
          100,
          96,
          74,
          102,
          65,
          65,
          90,
          62,
          82,
          171,
          131,
          93,
          81,
          115,
          87,
          138,
          30,
          31,
          145,
          43,
          120,
          113,
          113,
          100,
          225,
          110,
          53,
          57,
          99,
          69,
          104,
          90,
          225,
          113,
          100,
          164,
          91,
          94,
          43,
          162,
          60,
          69,
          64,
          80,
          57,
          125,
          30,
          90,
          96,
          105,
          177,
          249,
          100,
          96,
          72,
          120,
          94,
          88,
          120,
          116,
          40,
          78,
          132,
          80,
          168,
          115,
          136,
          100,
          69,
          83,
          43,
          69,
          68,
          98,
          113,
          80,
          40,
          91,
          107,
          519,
          89,
          97,
          101,
          54,
          172,
          30,
          73,
          101,
          133,
          148,
          116,
          40,
          89,
          251,
          249,
          84,
          85,
          75,
          70,
          132,
          95,
          95,
          99,
          126,
          40,
          123,
          45,
          97,
          43,
          68,
          122,
          70,
          105,
          70,
          82,
          31,
          100,
          105,
          40,
          105,
          69,
          125,
          78,
          120,
          87,
          105,
          59,
          68,
          30,
          45,
          40,
          79,
          75,
          100,
          91,
          115,
          131,
          62,
          131,
          106,
          93,
          115,
          125,
          128,
          536,
          113,
          60,
          149,
          79,
          65,
          53,
          127,
          65,
          81,
          100,
          69,
          48,
          52,
          87,
          62,
          150,
          90,
          100,
          63,
          90,
          122,
          89,
          80,
          71,
          77,
          98,
          103,
          138,
          99,
          91,
          90,
          110,
          177,
          139,
          82,
          100,
          107,
          94,
          101,
          89,
          162,
          98,
          30,
          96,
          69,
          53,
          31,
          43,
          94,
          45,
          89,
          112,
          100,
          81,
          57,
          113,
          74,
          96,
          113,
          54,
          90,
          43,
          65,
          125,
          80,
          30,
          125,
          87,
          62,
          80,
          171,
          102,
          120,
          89,
          82,
          100,
          116,
          43,
          95,
          89,
          249,
          99,
          110,
          69,
          95,
          249,
          131,
          90,
          519,
          105,
          79,
          65,
          40,
          100,
          94,
          279,
          66,
          122,
          78,
          113,
          59,
          115,
          157,
          45,
          90,
          115,
          132,
          105,
          149,
          96,
          68,
          69,
          93,
          53,
          99,
          95,
          107,
          132,
          90,
          68,
          131,
          98,
          43,
          78,
          133,
          127,
          120,
          75,
          97,
          120,
          172,
          99,
          65,
          30,
          132,
          100,
          45,
          88,
          115,
          74,
          101,
          97,
          63,
          40,
          53,
          96,
          136,
          93,
          145,
          105,
          72,
          113,
          65,
          83,
          104,
          90,
          66,
          133,
          57,
          40,
          28,
          126,
          80,
          64,
          82,
          100,
          120,
          31,
          92,
          99,
          141,
          95,
          91,
          148,
          45,
          115,
          121,
          101,
          68,
          107,
          105,
          40,
          69,
          71,
          79,
          80,
          101,
          105,
          60,
          175,
          40,
          164,
          178,
          536,
          52,
          37,
          75,
          40,
          123,
          135,
          85,
          84,
          47,
          117,
          110,
          65,
          128,
          81,
          125,
          100,
          30,
          99,
          80,
          153,
          89,
          94,
          139,
          90,
          100,
          103,
          62,
          90,
          91,
          90,
          107,
          110,
          110,
          148,
          90,
          96,
          87,
          71,
          177,
          94,
          82,
          101,
          74,
          113,
          87,
          96,
          98,
          99,
          97,
          98,
          101,
          100,
          63,
          31,
          82,
          100,
          57,
          78,
          94,
          81,
          43,
          83,
          98,
          97,
          59,
          68,
          100,
          89,
          90,
          113,
          96,
          65,
          71,
          98,
          126,
          90,
          43,
          82,
          54,
          89,
          74,
          78,
          138,
          116,
          125,
          53,
          106,
          95,
          62,
          89,
          63,
          100,
          120,
          80,
          113,
          66,
          92,
          53,
          79,
          95,
          91,
          99,
          77,
          69,
          99,
          70,
          69,
          122,
          89,
          80,
          279,
          65,
          115,
          105,
          93,
          45,
          30,
          95,
          30,
          99
         ],
         "xaxis": "x",
         "y": [
          4.95,
          4.84,
          4.94,
          4.95,
          4.87418439716312,
          4.93,
          4.87,
          4.97,
          4.98,
          4.98,
          4.93,
          5,
          5,
          5,
          4.92,
          4.96,
          4.9,
          4.76,
          4.7,
          4.96,
          4.92,
          4.7,
          5,
          4.87418439716312,
          4.9,
          4.96,
          4.81,
          4.87418439716312,
          4.96,
          4.95,
          4.9,
          4.78,
          4.87418439716312,
          4.84,
          5,
          4.82,
          4.87418439716312,
          4.94,
          4.9,
          5,
          4.97,
          4.78,
          4.92,
          4.68,
          4.85,
          4.95,
          4.73,
          4.87418439716312,
          4.85,
          4.93,
          5,
          5,
          4.93,
          4.93,
          4.94,
          4.77,
          4.93,
          4.87418439716312,
          4.87418439716312,
          4.87418439716312,
          4.87418439716312,
          4.85,
          4.65,
          4.97,
          5,
          4.96,
          5,
          4.89,
          4.87418439716312,
          4.67,
          4.87418439716312,
          4.93,
          4.87418439716312,
          5,
          4.91,
          4.9,
          4.92,
          4.93,
          4.86,
          4.87418439716312,
          4.88,
          4.6,
          4.94,
          4.81,
          4.67,
          4.8,
          5,
          4.97,
          4.8,
          4.66,
          4.82,
          4.89,
          4.85,
          4.92,
          4.56,
          4.82,
          5,
          5,
          4.97,
          4.87418439716312,
          4.87418439716312,
          4.81,
          4.8,
          5,
          4.87418439716312,
          4.97,
          4.82,
          4.88,
          4.84,
          4.87418439716312,
          4.9,
          4.91,
          4.75,
          4.74,
          4.84,
          4.78,
          4.88,
          4.92,
          5,
          5,
          5,
          4.87418439716312,
          4.61,
          4.91,
          5,
          4.92,
          4.8,
          4.84,
          4.69,
          4.87418439716312,
          4.95,
          4.98,
          4.93,
          4.98,
          4.94,
          4.89,
          4.85,
          4.83,
          4.87418439716312,
          4.81,
          4.89,
          4.87418439716312,
          4.96,
          4.84,
          4.33,
          4.88,
          4.87418439716312,
          4.97,
          4.83,
          4.87418439716312,
          4.88,
          4.87418439716312,
          4.87418439716312,
          4.87418439716312,
          5,
          4.9,
          4.63,
          4.57,
          4.72,
          4.88,
          5,
          4.88,
          4.94,
          4.88,
          4.89,
          4,
          4.96,
          4.85,
          4.76,
          4.8,
          4.73,
          4.84,
          4.98,
          4.86,
          4.93,
          5,
          4.96,
          4.87418439716312,
          4.81,
          4.91,
          4.87,
          4.87418439716312,
          4.87418439716312,
          4.92,
          5,
          4.94,
          4.97,
          4.93,
          5,
          4.95,
          4.67,
          4.96,
          5,
          4.8,
          5,
          4.77,
          4.8,
          4.96,
          4.87418439716312,
          4.9,
          4.84,
          4.95,
          4.95,
          4.93,
          4.87418439716312,
          4.94,
          5,
          4.7,
          4.93,
          4.9,
          4.7,
          4.76,
          5,
          4.93,
          4.97,
          4.81,
          5,
          4.96,
          4.89,
          4.9,
          4.98,
          4.92,
          4.97,
          4.9,
          4.96,
          4.94,
          4.88,
          4.87418439716312,
          4.87418439716312,
          4.9,
          4.87418439716312,
          4.78,
          4.87418439716312,
          4.87418439716312,
          4.87418439716312,
          4.82,
          4.98,
          5,
          4.96,
          4.93,
          4.87418439716312,
          4.91,
          4.68,
          4.92,
          4.97,
          5,
          4.87418439716312,
          4.87418439716312,
          4.95,
          5,
          4.96,
          4.97,
          5,
          4.77,
          4.85,
          4.87418439716312,
          5,
          4.85,
          4.87418439716312,
          4.87418439716312,
          4.93,
          4.78,
          4.98,
          4.91,
          4.96,
          4.98,
          4.89,
          4.87418439716312,
          5,
          4.94,
          4.95,
          4.85,
          4.91,
          4.87,
          5,
          5,
          4.87418439716312,
          4.73,
          4.93,
          4.9,
          4.86,
          4.94,
          4.84,
          4.87418439716312,
          4.88,
          4.65,
          4.85,
          4.94,
          5,
          4.97,
          4.87418439716312,
          4.96,
          4.89,
          4.87418439716312,
          5,
          4.56,
          4.88,
          4.87418439716312,
          4.93,
          4.89,
          4.67,
          4.87418439716312,
          5,
          5,
          4.8,
          4.76,
          5,
          4.84,
          4.87418439716312,
          4.8,
          4.87418439716312,
          5,
          4.85,
          4.86,
          4.61,
          5,
          4.92,
          4.91,
          4.67,
          4.8,
          4.92,
          5,
          4.73,
          4.97,
          4.87418439716312,
          4.87,
          4.69,
          4.83,
          4.62,
          4.88,
          4.72,
          4.66,
          4.88,
          4.87418439716312,
          4.87418439716312,
          5,
          4.82,
          4.97,
          4.8,
          4.82,
          4.93,
          4.86,
          4.91,
          4.97,
          4.8,
          4.81,
          4.87418439716312,
          4.33,
          4.67,
          4.81,
          4.9,
          4.92,
          4.91,
          4.63,
          4.87418439716312,
          4.73,
          5,
          4.86,
          4.93,
          4.95,
          4.83,
          4.82,
          4.86,
          4.99,
          4.74,
          4.96,
          4.82,
          4.86,
          4.75,
          4.8,
          4.9,
          4.95,
          4.91,
          4.9,
          4.6,
          4.96,
          4.92,
          4.92,
          5,
          4.94,
          4.87418439716312,
          4.86,
          4.81,
          4.84,
          5,
          4.97,
          5,
          4.85,
          5,
          5,
          4.88,
          5,
          5,
          4.86,
          4.94,
          4.84,
          4.8,
          4.84,
          4.97,
          4.79,
          4.7,
          4.9,
          4.9,
          4.87418439716312,
          4.93,
          5,
          4.84,
          5,
          4.81,
          4.87418439716312,
          4.97,
          4.96,
          5,
          4.95,
          4.8,
          4.9,
          4.77,
          4.9,
          4.89,
          4.86,
          4.9,
          4.96,
          4.68,
          4.97,
          4.9,
          4.56,
          4.76,
          4.84,
          4.83,
          4.87418439716312,
          4.69,
          4.9,
          4.87418439716312,
          4.87418439716312,
          4.98,
          4.92,
          4.87418439716312,
          4.88,
          4.87418439716312,
          4.93,
          4.87418439716312,
          4.82,
          4.84,
          4.61,
          4.85,
          4.76,
          4.96,
          4.98,
          4.95,
          4.91,
          4.92,
          4.67,
          4.8,
          4.9,
          4.33,
          4.94,
          4.87418439716312,
          4.93,
          5,
          4.98,
          4.87,
          4.75,
          4.93,
          4.98,
          5,
          4.72,
          4.87,
          4.95,
          4.85,
          4.87418439716312,
          4.62,
          4.78,
          4.87418439716312,
          4.87418439716312,
          4.65,
          4.91,
          4.79,
          4.78,
          4.9,
          4.96,
          5,
          4.87418439716312,
          4.7,
          4.87418439716312,
          4.97,
          4.55,
          4.69,
          4.87418439716312,
          4.94,
          4.87,
          4.94,
          4.95,
          4.96,
          4.87418439716312,
          4.93,
          4.82,
          4.97,
          4.87418439716312,
          4.87418439716312,
          4.67
         ],
         "yaxis": "y"
        },
        {
         "hovertemplate": "<b>OLS trendline</b><br>avgRating = 0.000407111 * numeric_price + 4.83452<br>R<sup>2</sup>=0.037851<br><br>avgRating=%{y} <b>(trend)</b><extra></extra>",
         "legendgroup": "",
         "marker": {
          "symbol": "circle"
         },
         "mode": "lines",
         "name": "",
         "showlegend": false,
         "type": "scatter",
         "x": [
          28,
          30,
          30,
          30,
          30,
          30,
          30,
          30,
          30,
          30,
          30,
          31,
          31,
          31,
          31,
          31,
          37,
          40,
          40,
          40,
          40,
          40,
          40,
          40,
          40,
          40,
          40,
          40,
          40,
          43,
          43,
          43,
          43,
          43,
          43,
          43,
          43,
          43,
          43,
          45,
          45,
          45,
          45,
          45,
          45,
          45,
          45,
          47,
          48,
          52,
          52,
          53,
          53,
          53,
          53,
          53,
          53,
          53,
          53,
          54,
          54,
          54,
          57,
          57,
          57,
          57,
          57,
          59,
          59,
          59,
          60,
          60,
          60,
          62,
          62,
          62,
          62,
          62,
          62,
          62,
          63,
          63,
          63,
          63,
          63,
          64,
          64,
          65,
          65,
          65,
          65,
          65,
          65,
          65,
          65,
          65,
          65,
          65,
          66,
          66,
          66,
          66,
          68,
          68,
          68,
          68,
          68,
          68,
          68,
          69,
          69,
          69,
          69,
          69,
          69,
          69,
          69,
          69,
          69,
          69,
          69,
          70,
          70,
          70,
          70,
          71,
          71,
          71,
          71,
          71,
          72,
          72,
          73,
          74,
          74,
          74,
          74,
          74,
          75,
          75,
          75,
          75,
          77,
          77,
          77,
          78,
          78,
          78,
          78,
          78,
          78,
          79,
          79,
          79,
          79,
          79,
          79,
          80,
          80,
          80,
          80,
          80,
          80,
          80,
          80,
          80,
          80,
          80,
          80,
          80,
          81,
          81,
          81,
          81,
          81,
          82,
          82,
          82,
          82,
          82,
          82,
          82,
          82,
          82,
          83,
          83,
          83,
          84,
          84,
          85,
          85,
          87,
          87,
          87,
          87,
          87,
          87,
          88,
          88,
          89,
          89,
          89,
          89,
          89,
          89,
          89,
          89,
          89,
          89,
          89,
          89,
          89,
          89,
          89,
          90,
          90,
          90,
          90,
          90,
          90,
          90,
          90,
          90,
          90,
          90,
          90,
          90,
          90,
          90,
          90,
          90,
          90,
          90,
          90,
          90,
          91,
          91,
          91,
          91,
          91,
          91,
          91,
          91,
          92,
          92,
          93,
          93,
          93,
          93,
          93,
          94,
          94,
          94,
          94,
          94,
          94,
          94,
          94,
          94,
          94,
          95,
          95,
          95,
          95,
          95,
          95,
          95,
          95,
          95,
          95,
          96,
          96,
          96,
          96,
          96,
          96,
          96,
          96,
          96,
          96,
          96,
          97,
          97,
          97,
          97,
          97,
          97,
          98,
          98,
          98,
          98,
          98,
          98,
          98,
          98,
          98,
          98,
          99,
          99,
          99,
          99,
          99,
          99,
          99,
          99,
          99,
          99,
          99,
          99,
          99,
          99,
          100,
          100,
          100,
          100,
          100,
          100,
          100,
          100,
          100,
          100,
          100,
          100,
          100,
          100,
          100,
          100,
          100,
          100,
          100,
          100,
          100,
          100,
          100,
          100,
          101,
          101,
          101,
          101,
          101,
          101,
          101,
          101,
          101,
          102,
          102,
          103,
          103,
          103,
          104,
          104,
          105,
          105,
          105,
          105,
          105,
          105,
          105,
          105,
          105,
          105,
          105,
          105,
          106,
          106,
          107,
          107,
          107,
          107,
          107,
          107,
          110,
          110,
          110,
          110,
          110,
          110,
          110,
          112,
          112,
          113,
          113,
          113,
          113,
          113,
          113,
          113,
          113,
          113,
          113,
          113,
          113,
          115,
          115,
          115,
          115,
          115,
          115,
          115,
          115,
          115,
          116,
          116,
          116,
          116,
          117,
          120,
          120,
          120,
          120,
          120,
          120,
          120,
          120,
          120,
          121,
          122,
          122,
          122,
          122,
          122,
          123,
          123,
          125,
          125,
          125,
          125,
          125,
          125,
          125,
          125,
          126,
          126,
          126,
          127,
          127,
          128,
          128,
          131,
          131,
          131,
          131,
          131,
          132,
          132,
          132,
          132,
          132,
          132,
          133,
          133,
          133,
          135,
          136,
          136,
          138,
          138,
          138,
          139,
          139,
          139,
          141,
          145,
          145,
          148,
          148,
          148,
          149,
          149,
          150,
          150,
          153,
          157,
          162,
          162,
          164,
          164,
          168,
          171,
          171,
          172,
          172,
          175,
          177,
          177,
          177,
          178,
          225,
          225,
          249,
          249,
          249,
          249,
          251,
          279,
          279,
          519,
          519,
          536,
          536
         ],
         "xaxis": "x",
         "y": [
          4.845920316015186,
          4.846734537809555,
          4.846734537809555,
          4.846734537809555,
          4.846734537809555,
          4.846734537809555,
          4.846734537809555,
          4.846734537809555,
          4.846734537809555,
          4.846734537809555,
          4.846734537809555,
          4.84714164870674,
          4.84714164870674,
          4.84714164870674,
          4.84714164870674,
          4.84714164870674,
          4.849584314089848,
          4.850805646781401,
          4.850805646781401,
          4.850805646781401,
          4.850805646781401,
          4.850805646781401,
          4.850805646781401,
          4.850805646781401,
          4.850805646781401,
          4.850805646781401,
          4.850805646781401,
          4.850805646781401,
          4.850805646781401,
          4.852026979472955,
          4.852026979472955,
          4.852026979472955,
          4.852026979472955,
          4.852026979472955,
          4.852026979472955,
          4.852026979472955,
          4.852026979472955,
          4.852026979472955,
          4.852026979472955,
          4.852841201267323,
          4.852841201267323,
          4.852841201267323,
          4.852841201267323,
          4.852841201267323,
          4.852841201267323,
          4.852841201267323,
          4.852841201267323,
          4.853655423061693,
          4.854062533958878,
          4.855690977547616,
          4.855690977547616,
          4.8560980884448,
          4.8560980884448,
          4.8560980884448,
          4.8560980884448,
          4.8560980884448,
          4.8560980884448,
          4.8560980884448,
          4.8560980884448,
          4.856505199341985,
          4.856505199341985,
          4.856505199341985,
          4.8577265320335385,
          4.8577265320335385,
          4.8577265320335385,
          4.8577265320335385,
          4.8577265320335385,
          4.858540753827908,
          4.858540753827908,
          4.858540753827908,
          4.858947864725093,
          4.858947864725093,
          4.858947864725093,
          4.859762086519462,
          4.859762086519462,
          4.859762086519462,
          4.859762086519462,
          4.859762086519462,
          4.859762086519462,
          4.859762086519462,
          4.8601691974166465,
          4.8601691974166465,
          4.8601691974166465,
          4.8601691974166465,
          4.8601691974166465,
          4.860576308313831,
          4.860576308313831,
          4.860983419211015,
          4.860983419211015,
          4.860983419211015,
          4.860983419211015,
          4.860983419211015,
          4.860983419211015,
          4.860983419211015,
          4.860983419211015,
          4.860983419211015,
          4.860983419211015,
          4.860983419211015,
          4.8613905301082,
          4.8613905301082,
          4.8613905301082,
          4.8613905301082,
          4.86220475190257,
          4.86220475190257,
          4.86220475190257,
          4.86220475190257,
          4.86220475190257,
          4.86220475190257,
          4.86220475190257,
          4.862611862799754,
          4.862611862799754,
          4.862611862799754,
          4.862611862799754,
          4.862611862799754,
          4.862611862799754,
          4.862611862799754,
          4.862611862799754,
          4.862611862799754,
          4.862611862799754,
          4.862611862799754,
          4.862611862799754,
          4.8630189736969385,
          4.8630189736969385,
          4.8630189736969385,
          4.8630189736969385,
          4.863426084594123,
          4.863426084594123,
          4.863426084594123,
          4.863426084594123,
          4.863426084594123,
          4.863833195491308,
          4.863833195491308,
          4.864240306388492,
          4.864647417285677,
          4.864647417285677,
          4.864647417285677,
          4.864647417285677,
          4.864647417285677,
          4.865054528182862,
          4.865054528182862,
          4.865054528182862,
          4.865054528182862,
          4.86586874997723,
          4.86586874997723,
          4.86586874997723,
          4.866275860874415,
          4.866275860874415,
          4.866275860874415,
          4.866275860874415,
          4.866275860874415,
          4.866275860874415,
          4.8666829717716,
          4.8666829717716,
          4.8666829717716,
          4.8666829717716,
          4.8666829717716,
          4.8666829717716,
          4.867090082668785,
          4.867090082668785,
          4.867090082668785,
          4.867090082668785,
          4.867090082668785,
          4.867090082668785,
          4.867090082668785,
          4.867090082668785,
          4.867090082668785,
          4.867090082668785,
          4.867090082668785,
          4.867090082668785,
          4.867090082668785,
          4.867497193565969,
          4.867497193565969,
          4.867497193565969,
          4.867497193565969,
          4.867497193565969,
          4.867904304463154,
          4.867904304463154,
          4.867904304463154,
          4.867904304463154,
          4.867904304463154,
          4.867904304463154,
          4.867904304463154,
          4.867904304463154,
          4.867904304463154,
          4.868311415360338,
          4.868311415360338,
          4.868311415360338,
          4.868718526257522,
          4.868718526257522,
          4.869125637154707,
          4.869125637154707,
          4.869939858949077,
          4.869939858949077,
          4.869939858949077,
          4.869939858949077,
          4.869939858949077,
          4.869939858949077,
          4.870346969846261,
          4.870346969846261,
          4.8707540807434455,
          4.8707540807434455,
          4.8707540807434455,
          4.8707540807434455,
          4.8707540807434455,
          4.8707540807434455,
          4.8707540807434455,
          4.8707540807434455,
          4.8707540807434455,
          4.8707540807434455,
          4.8707540807434455,
          4.8707540807434455,
          4.8707540807434455,
          4.8707540807434455,
          4.8707540807434455,
          4.87116119164063,
          4.87116119164063,
          4.87116119164063,
          4.87116119164063,
          4.87116119164063,
          4.87116119164063,
          4.87116119164063,
          4.87116119164063,
          4.87116119164063,
          4.87116119164063,
          4.87116119164063,
          4.87116119164063,
          4.87116119164063,
          4.87116119164063,
          4.87116119164063,
          4.87116119164063,
          4.87116119164063,
          4.87116119164063,
          4.87116119164063,
          4.87116119164063,
          4.87116119164063,
          4.871568302537815,
          4.871568302537815,
          4.871568302537815,
          4.871568302537815,
          4.871568302537815,
          4.871568302537815,
          4.871568302537815,
          4.871568302537815,
          4.871975413434999,
          4.871975413434999,
          4.872382524332184,
          4.872382524332184,
          4.872382524332184,
          4.872382524332184,
          4.872382524332184,
          4.872789635229369,
          4.872789635229369,
          4.872789635229369,
          4.872789635229369,
          4.872789635229369,
          4.872789635229369,
          4.872789635229369,
          4.872789635229369,
          4.872789635229369,
          4.872789635229369,
          4.8731967461265535,
          4.8731967461265535,
          4.8731967461265535,
          4.8731967461265535,
          4.8731967461265535,
          4.8731967461265535,
          4.8731967461265535,
          4.8731967461265535,
          4.8731967461265535,
          4.8731967461265535,
          4.873603857023737,
          4.873603857023737,
          4.873603857023737,
          4.873603857023737,
          4.873603857023737,
          4.873603857023737,
          4.873603857023737,
          4.873603857023737,
          4.873603857023737,
          4.873603857023737,
          4.873603857023737,
          4.874010967920922,
          4.874010967920922,
          4.874010967920922,
          4.874010967920922,
          4.874010967920922,
          4.874010967920922,
          4.874418078818107,
          4.874418078818107,
          4.874418078818107,
          4.874418078818107,
          4.874418078818107,
          4.874418078818107,
          4.874418078818107,
          4.874418078818107,
          4.874418078818107,
          4.874418078818107,
          4.874825189715292,
          4.874825189715292,
          4.874825189715292,
          4.874825189715292,
          4.874825189715292,
          4.874825189715292,
          4.874825189715292,
          4.874825189715292,
          4.874825189715292,
          4.874825189715292,
          4.874825189715292,
          4.874825189715292,
          4.874825189715292,
          4.874825189715292,
          4.875232300612476,
          4.875232300612476,
          4.875232300612476,
          4.875232300612476,
          4.875232300612476,
          4.875232300612476,
          4.875232300612476,
          4.875232300612476,
          4.875232300612476,
          4.875232300612476,
          4.875232300612476,
          4.875232300612476,
          4.875232300612476,
          4.875232300612476,
          4.875232300612476,
          4.875232300612476,
          4.875232300612476,
          4.875232300612476,
          4.875232300612476,
          4.875232300612476,
          4.875232300612476,
          4.875232300612476,
          4.875232300612476,
          4.875232300612476,
          4.875639411509661,
          4.875639411509661,
          4.875639411509661,
          4.875639411509661,
          4.875639411509661,
          4.875639411509661,
          4.875639411509661,
          4.875639411509661,
          4.875639411509661,
          4.876046522406845,
          4.876046522406845,
          4.87645363330403,
          4.87645363330403,
          4.87645363330403,
          4.876860744201214,
          4.876860744201214,
          4.877267855098399,
          4.877267855098399,
          4.877267855098399,
          4.877267855098399,
          4.877267855098399,
          4.877267855098399,
          4.877267855098399,
          4.877267855098399,
          4.877267855098399,
          4.877267855098399,
          4.877267855098399,
          4.877267855098399,
          4.877674965995584,
          4.877674965995584,
          4.878082076892769,
          4.878082076892769,
          4.878082076892769,
          4.878082076892769,
          4.878082076892769,
          4.878082076892769,
          4.879303409584322,
          4.879303409584322,
          4.879303409584322,
          4.879303409584322,
          4.879303409584322,
          4.879303409584322,
          4.879303409584322,
          4.880117631378691,
          4.880117631378691,
          4.880524742275876,
          4.880524742275876,
          4.880524742275876,
          4.880524742275876,
          4.880524742275876,
          4.880524742275876,
          4.880524742275876,
          4.880524742275876,
          4.880524742275876,
          4.880524742275876,
          4.880524742275876,
          4.880524742275876,
          4.881338964070245,
          4.881338964070245,
          4.881338964070245,
          4.881338964070245,
          4.881338964070245,
          4.881338964070245,
          4.881338964070245,
          4.881338964070245,
          4.881338964070245,
          4.881746074967429,
          4.881746074967429,
          4.881746074967429,
          4.881746074967429,
          4.882153185864614,
          4.883374518556168,
          4.883374518556168,
          4.883374518556168,
          4.883374518556168,
          4.883374518556168,
          4.883374518556168,
          4.883374518556168,
          4.883374518556168,
          4.883374518556168,
          4.8837816294533525,
          4.884188740350537,
          4.884188740350537,
          4.884188740350537,
          4.884188740350537,
          4.884188740350537,
          4.884595851247722,
          4.884595851247722,
          4.885410073042091,
          4.885410073042091,
          4.885410073042091,
          4.885410073042091,
          4.885410073042091,
          4.885410073042091,
          4.885410073042091,
          4.885410073042091,
          4.885817183939276,
          4.885817183939276,
          4.885817183939276,
          4.88622429483646,
          4.88622429483646,
          4.886631405733644,
          4.886631405733644,
          4.887852738425198,
          4.887852738425198,
          4.887852738425198,
          4.887852738425198,
          4.887852738425198,
          4.888259849322383,
          4.888259849322383,
          4.888259849322383,
          4.888259849322383,
          4.888259849322383,
          4.888259849322383,
          4.888666960219568,
          4.888666960219568,
          4.888666960219568,
          4.889481182013936,
          4.889888292911121,
          4.889888292911121,
          4.890702514705491,
          4.890702514705491,
          4.890702514705491,
          4.891109625602675,
          4.891109625602675,
          4.891109625602675,
          4.891923847397044,
          4.893552290985783,
          4.893552290985783,
          4.894773623677336,
          4.894773623677336,
          4.894773623677336,
          4.895180734574521,
          4.895180734574521,
          4.895587845471706,
          4.895587845471706,
          4.8968091781632594,
          4.898437621751998,
          4.900473176237921,
          4.900473176237921,
          4.90128739803229,
          4.90128739803229,
          4.902915841621028,
          4.904137174312582,
          4.904137174312582,
          4.9045442852097665,
          4.9045442852097665,
          4.90576561790132,
          4.90657983969569,
          4.90657983969569,
          4.90657983969569,
          4.906986950592874,
          4.926121162760549,
          4.926121162760549,
          4.9358918242929795,
          4.9358918242929795,
          4.9358918242929795,
          4.9358918242929795,
          4.936706046087349,
          4.948105151208518,
          4.948105151208518,
          5.045811766532818,
          5.045811766532818,
          5.0527326517849565,
          5.0527326517849565
         ],
         "yaxis": "y"
        }
       ],
       "layout": {
        "coloraxis": {
         "colorbar": {
          "title": {
           "text": "avgRating"
          }
         },
         "colorscale": [
          [
           0,
           "#440154"
          ],
          [
           0.1111111111111111,
           "#482878"
          ],
          [
           0.2222222222222222,
           "#3e4989"
          ],
          [
           0.3333333333333333,
           "#31688e"
          ],
          [
           0.4444444444444444,
           "#26828e"
          ],
          [
           0.5555555555555556,
           "#1f9e89"
          ],
          [
           0.6666666666666666,
           "#35b779"
          ],
          [
           0.7777777777777778,
           "#6ece58"
          ],
          [
           0.8888888888888888,
           "#b5de2b"
          ],
          [
           1,
           "#fde725"
          ]
         ]
        },
        "legend": {
         "tracegroupgap": 0
        },
        "template": {
         "data": {
          "bar": [
           {
            "error_x": {
             "color": "#2a3f5f"
            },
            "error_y": {
             "color": "#2a3f5f"
            },
            "marker": {
             "line": {
              "color": "#E5ECF6",
              "width": 0.5
             },
             "pattern": {
              "fillmode": "overlay",
              "size": 10,
              "solidity": 0.2
             }
            },
            "type": "bar"
           }
          ],
          "barpolar": [
           {
            "marker": {
             "line": {
              "color": "#E5ECF6",
              "width": 0.5
             },
             "pattern": {
              "fillmode": "overlay",
              "size": 10,
              "solidity": 0.2
             }
            },
            "type": "barpolar"
           }
          ],
          "carpet": [
           {
            "aaxis": {
             "endlinecolor": "#2a3f5f",
             "gridcolor": "white",
             "linecolor": "white",
             "minorgridcolor": "white",
             "startlinecolor": "#2a3f5f"
            },
            "baxis": {
             "endlinecolor": "#2a3f5f",
             "gridcolor": "white",
             "linecolor": "white",
             "minorgridcolor": "white",
             "startlinecolor": "#2a3f5f"
            },
            "type": "carpet"
           }
          ],
          "choropleth": [
           {
            "colorbar": {
             "outlinewidth": 0,
             "ticks": ""
            },
            "type": "choropleth"
           }
          ],
          "contour": [
           {
            "colorbar": {
             "outlinewidth": 0,
             "ticks": ""
            },
            "colorscale": [
             [
              0,
              "#0d0887"
             ],
             [
              0.1111111111111111,
              "#46039f"
             ],
             [
              0.2222222222222222,
              "#7201a8"
             ],
             [
              0.3333333333333333,
              "#9c179e"
             ],
             [
              0.4444444444444444,
              "#bd3786"
             ],
             [
              0.5555555555555556,
              "#d8576b"
             ],
             [
              0.6666666666666666,
              "#ed7953"
             ],
             [
              0.7777777777777778,
              "#fb9f3a"
             ],
             [
              0.8888888888888888,
              "#fdca26"
             ],
             [
              1,
              "#f0f921"
             ]
            ],
            "type": "contour"
           }
          ],
          "contourcarpet": [
           {
            "colorbar": {
             "outlinewidth": 0,
             "ticks": ""
            },
            "type": "contourcarpet"
           }
          ],
          "heatmap": [
           {
            "colorbar": {
             "outlinewidth": 0,
             "ticks": ""
            },
            "colorscale": [
             [
              0,
              "#0d0887"
             ],
             [
              0.1111111111111111,
              "#46039f"
             ],
             [
              0.2222222222222222,
              "#7201a8"
             ],
             [
              0.3333333333333333,
              "#9c179e"
             ],
             [
              0.4444444444444444,
              "#bd3786"
             ],
             [
              0.5555555555555556,
              "#d8576b"
             ],
             [
              0.6666666666666666,
              "#ed7953"
             ],
             [
              0.7777777777777778,
              "#fb9f3a"
             ],
             [
              0.8888888888888888,
              "#fdca26"
             ],
             [
              1,
              "#f0f921"
             ]
            ],
            "type": "heatmap"
           }
          ],
          "heatmapgl": [
           {
            "colorbar": {
             "outlinewidth": 0,
             "ticks": ""
            },
            "colorscale": [
             [
              0,
              "#0d0887"
             ],
             [
              0.1111111111111111,
              "#46039f"
             ],
             [
              0.2222222222222222,
              "#7201a8"
             ],
             [
              0.3333333333333333,
              "#9c179e"
             ],
             [
              0.4444444444444444,
              "#bd3786"
             ],
             [
              0.5555555555555556,
              "#d8576b"
             ],
             [
              0.6666666666666666,
              "#ed7953"
             ],
             [
              0.7777777777777778,
              "#fb9f3a"
             ],
             [
              0.8888888888888888,
              "#fdca26"
             ],
             [
              1,
              "#f0f921"
             ]
            ],
            "type": "heatmapgl"
           }
          ],
          "histogram": [
           {
            "marker": {
             "pattern": {
              "fillmode": "overlay",
              "size": 10,
              "solidity": 0.2
             }
            },
            "type": "histogram"
           }
          ],
          "histogram2d": [
           {
            "colorbar": {
             "outlinewidth": 0,
             "ticks": ""
            },
            "colorscale": [
             [
              0,
              "#0d0887"
             ],
             [
              0.1111111111111111,
              "#46039f"
             ],
             [
              0.2222222222222222,
              "#7201a8"
             ],
             [
              0.3333333333333333,
              "#9c179e"
             ],
             [
              0.4444444444444444,
              "#bd3786"
             ],
             [
              0.5555555555555556,
              "#d8576b"
             ],
             [
              0.6666666666666666,
              "#ed7953"
             ],
             [
              0.7777777777777778,
              "#fb9f3a"
             ],
             [
              0.8888888888888888,
              "#fdca26"
             ],
             [
              1,
              "#f0f921"
             ]
            ],
            "type": "histogram2d"
           }
          ],
          "histogram2dcontour": [
           {
            "colorbar": {
             "outlinewidth": 0,
             "ticks": ""
            },
            "colorscale": [
             [
              0,
              "#0d0887"
             ],
             [
              0.1111111111111111,
              "#46039f"
             ],
             [
              0.2222222222222222,
              "#7201a8"
             ],
             [
              0.3333333333333333,
              "#9c179e"
             ],
             [
              0.4444444444444444,
              "#bd3786"
             ],
             [
              0.5555555555555556,
              "#d8576b"
             ],
             [
              0.6666666666666666,
              "#ed7953"
             ],
             [
              0.7777777777777778,
              "#fb9f3a"
             ],
             [
              0.8888888888888888,
              "#fdca26"
             ],
             [
              1,
              "#f0f921"
             ]
            ],
            "type": "histogram2dcontour"
           }
          ],
          "mesh3d": [
           {
            "colorbar": {
             "outlinewidth": 0,
             "ticks": ""
            },
            "type": "mesh3d"
           }
          ],
          "parcoords": [
           {
            "line": {
             "colorbar": {
              "outlinewidth": 0,
              "ticks": ""
             }
            },
            "type": "parcoords"
           }
          ],
          "pie": [
           {
            "automargin": true,
            "type": "pie"
           }
          ],
          "scatter": [
           {
            "fillpattern": {
             "fillmode": "overlay",
             "size": 10,
             "solidity": 0.2
            },
            "type": "scatter"
           }
          ],
          "scatter3d": [
           {
            "line": {
             "colorbar": {
              "outlinewidth": 0,
              "ticks": ""
             }
            },
            "marker": {
             "colorbar": {
              "outlinewidth": 0,
              "ticks": ""
             }
            },
            "type": "scatter3d"
           }
          ],
          "scattercarpet": [
           {
            "marker": {
             "colorbar": {
              "outlinewidth": 0,
              "ticks": ""
             }
            },
            "type": "scattercarpet"
           }
          ],
          "scattergeo": [
           {
            "marker": {
             "colorbar": {
              "outlinewidth": 0,
              "ticks": ""
             }
            },
            "type": "scattergeo"
           }
          ],
          "scattergl": [
           {
            "marker": {
             "colorbar": {
              "outlinewidth": 0,
              "ticks": ""
             }
            },
            "type": "scattergl"
           }
          ],
          "scattermapbox": [
           {
            "marker": {
             "colorbar": {
              "outlinewidth": 0,
              "ticks": ""
             }
            },
            "type": "scattermapbox"
           }
          ],
          "scatterpolar": [
           {
            "marker": {
             "colorbar": {
              "outlinewidth": 0,
              "ticks": ""
             }
            },
            "type": "scatterpolar"
           }
          ],
          "scatterpolargl": [
           {
            "marker": {
             "colorbar": {
              "outlinewidth": 0,
              "ticks": ""
             }
            },
            "type": "scatterpolargl"
           }
          ],
          "scatterternary": [
           {
            "marker": {
             "colorbar": {
              "outlinewidth": 0,
              "ticks": ""
             }
            },
            "type": "scatterternary"
           }
          ],
          "surface": [
           {
            "colorbar": {
             "outlinewidth": 0,
             "ticks": ""
            },
            "colorscale": [
             [
              0,
              "#0d0887"
             ],
             [
              0.1111111111111111,
              "#46039f"
             ],
             [
              0.2222222222222222,
              "#7201a8"
             ],
             [
              0.3333333333333333,
              "#9c179e"
             ],
             [
              0.4444444444444444,
              "#bd3786"
             ],
             [
              0.5555555555555556,
              "#d8576b"
             ],
             [
              0.6666666666666666,
              "#ed7953"
             ],
             [
              0.7777777777777778,
              "#fb9f3a"
             ],
             [
              0.8888888888888888,
              "#fdca26"
             ],
             [
              1,
              "#f0f921"
             ]
            ],
            "type": "surface"
           }
          ],
          "table": [
           {
            "cells": {
             "fill": {
              "color": "#EBF0F8"
             },
             "line": {
              "color": "white"
             }
            },
            "header": {
             "fill": {
              "color": "#C8D4E3"
             },
             "line": {
              "color": "white"
             }
            },
            "type": "table"
           }
          ]
         },
         "layout": {
          "annotationdefaults": {
           "arrowcolor": "#2a3f5f",
           "arrowhead": 0,
           "arrowwidth": 1
          },
          "autotypenumbers": "strict",
          "coloraxis": {
           "colorbar": {
            "outlinewidth": 0,
            "ticks": ""
           }
          },
          "colorscale": {
           "diverging": [
            [
             0,
             "#8e0152"
            ],
            [
             0.1,
             "#c51b7d"
            ],
            [
             0.2,
             "#de77ae"
            ],
            [
             0.3,
             "#f1b6da"
            ],
            [
             0.4,
             "#fde0ef"
            ],
            [
             0.5,
             "#f7f7f7"
            ],
            [
             0.6,
             "#e6f5d0"
            ],
            [
             0.7,
             "#b8e186"
            ],
            [
             0.8,
             "#7fbc41"
            ],
            [
             0.9,
             "#4d9221"
            ],
            [
             1,
             "#276419"
            ]
           ],
           "sequential": [
            [
             0,
             "#0d0887"
            ],
            [
             0.1111111111111111,
             "#46039f"
            ],
            [
             0.2222222222222222,
             "#7201a8"
            ],
            [
             0.3333333333333333,
             "#9c179e"
            ],
            [
             0.4444444444444444,
             "#bd3786"
            ],
            [
             0.5555555555555556,
             "#d8576b"
            ],
            [
             0.6666666666666666,
             "#ed7953"
            ],
            [
             0.7777777777777778,
             "#fb9f3a"
            ],
            [
             0.8888888888888888,
             "#fdca26"
            ],
            [
             1,
             "#f0f921"
            ]
           ],
           "sequentialminus": [
            [
             0,
             "#0d0887"
            ],
            [
             0.1111111111111111,
             "#46039f"
            ],
            [
             0.2222222222222222,
             "#7201a8"
            ],
            [
             0.3333333333333333,
             "#9c179e"
            ],
            [
             0.4444444444444444,
             "#bd3786"
            ],
            [
             0.5555555555555556,
             "#d8576b"
            ],
            [
             0.6666666666666666,
             "#ed7953"
            ],
            [
             0.7777777777777778,
             "#fb9f3a"
            ],
            [
             0.8888888888888888,
             "#fdca26"
            ],
            [
             1,
             "#f0f921"
            ]
           ]
          },
          "colorway": [
           "#636efa",
           "#EF553B",
           "#00cc96",
           "#ab63fa",
           "#FFA15A",
           "#19d3f3",
           "#FF6692",
           "#B6E880",
           "#FF97FF",
           "#FECB52"
          ],
          "font": {
           "color": "#2a3f5f"
          },
          "geo": {
           "bgcolor": "white",
           "lakecolor": "white",
           "landcolor": "#E5ECF6",
           "showlakes": true,
           "showland": true,
           "subunitcolor": "white"
          },
          "hoverlabel": {
           "align": "left"
          },
          "hovermode": "closest",
          "mapbox": {
           "style": "light"
          },
          "paper_bgcolor": "white",
          "plot_bgcolor": "#E5ECF6",
          "polar": {
           "angularaxis": {
            "gridcolor": "white",
            "linecolor": "white",
            "ticks": ""
           },
           "bgcolor": "#E5ECF6",
           "radialaxis": {
            "gridcolor": "white",
            "linecolor": "white",
            "ticks": ""
           }
          },
          "scene": {
           "xaxis": {
            "backgroundcolor": "#E5ECF6",
            "gridcolor": "white",
            "gridwidth": 2,
            "linecolor": "white",
            "showbackground": true,
            "ticks": "",
            "zerolinecolor": "white"
           },
           "yaxis": {
            "backgroundcolor": "#E5ECF6",
            "gridcolor": "white",
            "gridwidth": 2,
            "linecolor": "white",
            "showbackground": true,
            "ticks": "",
            "zerolinecolor": "white"
           },
           "zaxis": {
            "backgroundcolor": "#E5ECF6",
            "gridcolor": "white",
            "gridwidth": 2,
            "linecolor": "white",
            "showbackground": true,
            "ticks": "",
            "zerolinecolor": "white"
           }
          },
          "shapedefaults": {
           "line": {
            "color": "#2a3f5f"
           }
          },
          "ternary": {
           "aaxis": {
            "gridcolor": "white",
            "linecolor": "white",
            "ticks": ""
           },
           "baxis": {
            "gridcolor": "white",
            "linecolor": "white",
            "ticks": ""
           },
           "bgcolor": "#E5ECF6",
           "caxis": {
            "gridcolor": "white",
            "linecolor": "white",
            "ticks": ""
           }
          },
          "title": {
           "x": 0.05
          },
          "xaxis": {
           "automargin": true,
           "gridcolor": "white",
           "linecolor": "white",
           "ticks": "",
           "title": {
            "standoff": 15
           },
           "zerolinecolor": "white",
           "zerolinewidth": 2
          },
          "yaxis": {
           "automargin": true,
           "gridcolor": "white",
           "linecolor": "white",
           "ticks": "",
           "title": {
            "standoff": 15
           },
           "zerolinecolor": "white",
           "zerolinewidth": 2
          }
         }
        },
        "title": {
         "text": "💰 Price vs Ratings"
        },
        "xaxis": {
         "anchor": "y",
         "domain": [
          0,
          1
         ],
         "title": {
          "text": "Price (CAD)"
         }
        },
        "yaxis": {
         "anchor": "x",
         "domain": [
          0,
          1
         ],
         "title": {
          "text": "Average Rating"
         }
        }
       }
      }
     },
     "metadata": {},
     "output_type": "display_data"
    }
   ],
   "source": [
    "# Convert price to numeric\n",
    "# Extract numeric price for analysis\n",
    "pbp[\"numeric_price\"] = pbp[\"price\"].str.replace(r\"[^\\d.]\", \"\", regex=True).astype(float)\n",
    "\n",
    "# Create scatter plot with improved hover info\n",
    "fig = px.scatter(\n",
    "    pbp, \n",
    "    x=\"numeric_price\", \n",
    "    y=\"avgRating\", \n",
    "    title=\"💰 Price vs Ratings\",\n",
    "    trendline=\"ols\",\n",
    "    color=\"avgRating\", \n",
    "    color_continuous_scale=\"Viridis\",\n",
    "    hover_data={\"price\": True, \"title\": True, \"city\": True, \"numeric_price\": False}  # Hide numeric_price\n",
    ")\n",
    "\n",
    "fig.update_layout(xaxis_title=\"Price (CAD)\", yaxis_title=\"Average Rating\")\n",
    "fig.show()\n"
   ]
  },
  {
   "cell_type": "markdown",
   "metadata": {},
   "source": [
    "## 🛋️ Which Amenities Matter the Most?  \n",
    "Guests often book properties based on available **amenities**. Let’s explore which ones are commonly found in **highly-rated** listings.  "
   ]
  },
  {
   "cell_type": "code",
   "execution_count": 46,
   "metadata": {},
   "outputs": [
    {
     "data": {
      "image/png": "[encoded data removed]",
      "text/plain": [
       "<Figure size 1000x500 with 1 Axes>"
      ]
     },
     "metadata": {},
     "output_type": "display_data"
    }
   ],
   "source": [
    "# Extract amenity titles\n",
    "amenities_list = []\n",
    "\n",
    "for groups in dp[\"sections.amenities.seeAllAmenitiesGroups\"].dropna():\n",
    "    try:\n",
    "        # Convert string representation of a list to an actual list\n",
    "        if isinstance(groups, str):\n",
    "            groups = ast.literal_eval(groups)  # Safely converts string to Python list\n",
    "        \n",
    "        # Extract amenity titles\n",
    "        if isinstance(groups, list):\n",
    "            for group in groups:\n",
    "                if isinstance(group, dict) and \"amenities\" in group:\n",
    "                    for amenity in group[\"amenities\"]:\n",
    "                        if isinstance(amenity, dict) and \"title\" in amenity and amenity.get(\"available\", True):\n",
    "                            amenities_list.append(amenity[\"title\"])\n",
    "    except (ValueError, SyntaxError):\n",
    "        continue  # Skip bad entries\n",
    "\n",
    "# Generate word cloud\n",
    "if amenities_list:\n",
    "    wordcloud = WordCloud(width=800, height=400, background_color=\"white\").generate(\" \".join(amenities_list))\n",
    "\n",
    "    plt.figure(figsize=(10, 5))\n",
    "    plt.imshow(wordcloud, interpolation=\"bilinear\")\n",
    "    plt.axis(\"off\")\n",
    "    plt.title(\"Most Common Amenities in High-Rated Properties\")\n",
    "    plt.show()\n",
    "else:\n",
    "    print(\"⚠️ No valid amenities found for word cloud.\")"
   ]
  },
  {
   "cell_type": "markdown",
   "metadata": {},
   "source": [
    "## 🏙️ Market Gaps: Which Cities Have the Most & Least Competition?  \n",
    "Understanding **where most Airbnb listings are located** can help new investors find **less competitive areas** and help existing hosts adjust pricing based on demand.  \n",
    "This analysis will highlight:  \n",
    "✅ Cities with **high competition** (more listings)  \n",
    "✅ Cities with **low competition** (great investment potential)  "
   ]
  },
  {
   "cell_type": "code",
   "execution_count": 53,
   "metadata": {},
   "outputs": [
    {
     "data": {
      "application/vnd.plotly.v1+json": {
       "config": {
        "plotlyServerURL": "https://plot.ly"
       },
       "data": [
        {
         "alignmentgroup": "True",
         "hovertemplate": "City=%{x}<br>Number of Listings=%{y}<extra></extra>",
         "legendgroup": "",
         "marker": {
          "color": "#636EFA",
          "pattern": {
           "shape": ""
          }
         },
         "name": "",
         "offsetgroup": "",
         "orientation": "v",
         "showlegend": false,
         "textposition": "auto",
         "type": "bar",
         "x": [
          "Calgary",
          "Chestermere"
         ],
         "xaxis": "x",
         "y": [
          499,
          1
         ],
         "yaxis": "y"
        }
       ],
       "layout": {
        "barmode": "relative",
        "legend": {
         "tracegroupgap": 0
        },
        "template": {
         "data": {
          "bar": [
           {
            "error_x": {
             "color": "#2a3f5f"
            },
            "error_y": {
             "color": "#2a3f5f"
            },
            "marker": {
             "line": {
              "color": "#E5ECF6",
              "width": 0.5
             },
             "pattern": {
              "fillmode": "overlay",
              "size": 10,
              "solidity": 0.2
             }
            },
            "type": "bar"
           }
          ],
          "barpolar": [
           {
            "marker": {
             "line": {
              "color": "#E5ECF6",
              "width": 0.5
             },
             "pattern": {
              "fillmode": "overlay",
              "size": 10,
              "solidity": 0.2
             }
            },
            "type": "barpolar"
           }
          ],
          "carpet": [
           {
            "aaxis": {
             "endlinecolor": "#2a3f5f",
             "gridcolor": "white",
             "linecolor": "white",
             "minorgridcolor": "white",
             "startlinecolor": "#2a3f5f"
            },
            "baxis": {
             "endlinecolor": "#2a3f5f",
             "gridcolor": "white",
             "linecolor": "white",
             "minorgridcolor": "white",
             "startlinecolor": "#2a3f5f"
            },
            "type": "carpet"
           }
          ],
          "choropleth": [
           {
            "colorbar": {
             "outlinewidth": 0,
             "ticks": ""
            },
            "type": "choropleth"
           }
          ],
          "contour": [
           {
            "colorbar": {
             "outlinewidth": 0,
             "ticks": ""
            },
            "colorscale": [
             [
              0,
              "#0d0887"
             ],
             [
              0.1111111111111111,
              "#46039f"
             ],
             [
              0.2222222222222222,
              "#7201a8"
             ],
             [
              0.3333333333333333,
              "#9c179e"
             ],
             [
              0.4444444444444444,
              "#bd3786"
             ],
             [
              0.5555555555555556,
              "#d8576b"
             ],
             [
              0.6666666666666666,
              "#ed7953"
             ],
             [
              0.7777777777777778,
              "#fb9f3a"
             ],
             [
              0.8888888888888888,
              "#fdca26"
             ],
             [
              1,
              "#f0f921"
             ]
            ],
            "type": "contour"
           }
          ],
          "contourcarpet": [
           {
            "colorbar": {
             "outlinewidth": 0,
             "ticks": ""
            },
            "type": "contourcarpet"
           }
          ],
          "heatmap": [
           {
            "colorbar": {
             "outlinewidth": 0,
             "ticks": ""
            },
            "colorscale": [
             [
              0,
              "#0d0887"
             ],
             [
              0.1111111111111111,
              "#46039f"
             ],
             [
              0.2222222222222222,
              "#7201a8"
             ],
             [
              0.3333333333333333,
              "#9c179e"
             ],
             [
              0.4444444444444444,
              "#bd3786"
             ],
             [
              0.5555555555555556,
              "#d8576b"
             ],
             [
              0.6666666666666666,
              "#ed7953"
             ],
             [
              0.7777777777777778,
              "#fb9f3a"
             ],
             [
              0.8888888888888888,
              "#fdca26"
             ],
             [
              1,
              "#f0f921"
             ]
            ],
            "type": "heatmap"
           }
          ],
          "heatmapgl": [
           {
            "colorbar": {
             "outlinewidth": 0,
             "ticks": ""
            },
            "colorscale": [
             [
              0,
              "#0d0887"
             ],
             [
              0.1111111111111111,
              "#46039f"
             ],
             [
              0.2222222222222222,
              "#7201a8"
             ],
             [
              0.3333333333333333,
              "#9c179e"
             ],
             [
              0.4444444444444444,
              "#bd3786"
             ],
             [
              0.5555555555555556,
              "#d8576b"
             ],
             [
              0.6666666666666666,
              "#ed7953"
             ],
             [
              0.7777777777777778,
              "#fb9f3a"
             ],
             [
              0.8888888888888888,
              "#fdca26"
             ],
             [
              1,
              "#f0f921"
             ]
            ],
            "type": "heatmapgl"
           }
          ],
          "histogram": [
           {
            "marker": {
             "pattern": {
              "fillmode": "overlay",
              "size": 10,
              "solidity": 0.2
             }
            },
            "type": "histogram"
           }
          ],
          "histogram2d": [
           {
            "colorbar": {
             "outlinewidth": 0,
             "ticks": ""
            },
            "colorscale": [
             [
              0,
              "#0d0887"
             ],
             [
              0.1111111111111111,
              "#46039f"
             ],
             [
              0.2222222222222222,
              "#7201a8"
             ],
             [
              0.3333333333333333,
              "#9c179e"
             ],
             [
              0.4444444444444444,
              "#bd3786"
             ],
             [
              0.5555555555555556,
              "#d8576b"
             ],
             [
              0.6666666666666666,
              "#ed7953"
             ],
             [
              0.7777777777777778,
              "#fb9f3a"
             ],
             [
              0.8888888888888888,
              "#fdca26"
             ],
             [
              1,
              "#f0f921"
             ]
            ],
            "type": "histogram2d"
           }
          ],
          "histogram2dcontour": [
           {
            "colorbar": {
             "outlinewidth": 0,
             "ticks": ""
            },
            "colorscale": [
             [
              0,
              "#0d0887"
             ],
             [
              0.1111111111111111,
              "#46039f"
             ],
             [
              0.2222222222222222,
              "#7201a8"
             ],
             [
              0.3333333333333333,
              "#9c179e"
             ],
             [
              0.4444444444444444,
              "#bd3786"
             ],
             [
              0.5555555555555556,
              "#d8576b"
             ],
             [
              0.6666666666666666,
              "#ed7953"
             ],
             [
              0.7777777777777778,
              "#fb9f3a"
             ],
             [
              0.8888888888888888,
              "#fdca26"
             ],
             [
              1,
              "#f0f921"
             ]
            ],
            "type": "histogram2dcontour"
           }
          ],
          "mesh3d": [
           {
            "colorbar": {
             "outlinewidth": 0,
             "ticks": ""
            },
            "type": "mesh3d"
           }
          ],
          "parcoords": [
           {
            "line": {
             "colorbar": {
              "outlinewidth": 0,
              "ticks": ""
             }
            },
            "type": "parcoords"
           }
          ],
          "pie": [
           {
            "automargin": true,
            "type": "pie"
           }
          ],
          "scatter": [
           {
            "fillpattern": {
             "fillmode": "overlay",
             "size": 10,
             "solidity": 0.2
            },
            "type": "scatter"
           }
          ],
          "scatter3d": [
           {
            "line": {
             "colorbar": {
              "outlinewidth": 0,
              "ticks": ""
             }
            },
            "marker": {
             "colorbar": {
              "outlinewidth": 0,
              "ticks": ""
             }
            },
            "type": "scatter3d"
           }
          ],
          "scattercarpet": [
           {
            "marker": {
             "colorbar": {
              "outlinewidth": 0,
              "ticks": ""
             }
            },
            "type": "scattercarpet"
           }
          ],
          "scattergeo": [
           {
            "marker": {
             "colorbar": {
              "outlinewidth": 0,
              "ticks": ""
             }
            },
            "type": "scattergeo"
           }
          ],
          "scattergl": [
           {
            "marker": {
             "colorbar": {
              "outlinewidth": 0,
              "ticks": ""
             }
            },
            "type": "scattergl"
           }
          ],
          "scattermapbox": [
           {
            "marker": {
             "colorbar": {
              "outlinewidth": 0,
              "ticks": ""
             }
            },
            "type": "scattermapbox"
           }
          ],
          "scatterpolar": [
           {
            "marker": {
             "colorbar": {
              "outlinewidth": 0,
              "ticks": ""
             }
            },
            "type": "scatterpolar"
           }
          ],
          "scatterpolargl": [
           {
            "marker": {
             "colorbar": {
              "outlinewidth": 0,
              "ticks": ""
             }
            },
            "type": "scatterpolargl"
           }
          ],
          "scatterternary": [
           {
            "marker": {
             "colorbar": {
              "outlinewidth": 0,
              "ticks": ""
             }
            },
            "type": "scatterternary"
           }
          ],
          "surface": [
           {
            "colorbar": {
             "outlinewidth": 0,
             "ticks": ""
            },
            "colorscale": [
             [
              0,
              "#0d0887"
             ],
             [
              0.1111111111111111,
              "#46039f"
             ],
             [
              0.2222222222222222,
              "#7201a8"
             ],
             [
              0.3333333333333333,
              "#9c179e"
             ],
             [
              0.4444444444444444,
              "#bd3786"
             ],
             [
              0.5555555555555556,
              "#d8576b"
             ],
             [
              0.6666666666666666,
              "#ed7953"
             ],
             [
              0.7777777777777778,
              "#fb9f3a"
             ],
             [
              0.8888888888888888,
              "#fdca26"
             ],
             [
              1,
              "#f0f921"
             ]
            ],
            "type": "surface"
           }
          ],
          "table": [
           {
            "cells": {
             "fill": {
              "color": "#EBF0F8"
             },
             "line": {
              "color": "white"
             }
            },
            "header": {
             "fill": {
              "color": "#C8D4E3"
             },
             "line": {
              "color": "white"
             }
            },
            "type": "table"
           }
          ]
         },
         "layout": {
          "annotationdefaults": {
           "arrowcolor": "#2a3f5f",
           "arrowhead": 0,
           "arrowwidth": 1
          },
          "autotypenumbers": "strict",
          "coloraxis": {
           "colorbar": {
            "outlinewidth": 0,
            "ticks": ""
           }
          },
          "colorscale": {
           "diverging": [
            [
             0,
             "#8e0152"
            ],
            [
             0.1,
             "#c51b7d"
            ],
            [
             0.2,
             "#de77ae"
            ],
            [
             0.3,
             "#f1b6da"
            ],
            [
             0.4,
             "#fde0ef"
            ],
            [
             0.5,
             "#f7f7f7"
            ],
            [
             0.6,
             "#e6f5d0"
            ],
            [
             0.7,
             "#b8e186"
            ],
            [
             0.8,
             "#7fbc41"
            ],
            [
             0.9,
             "#4d9221"
            ],
            [
             1,
             "#276419"
            ]
           ],
           "sequential": [
            [
             0,
             "#0d0887"
            ],
            [
             0.1111111111111111,
             "#46039f"
            ],
            [
             0.2222222222222222,
             "#7201a8"
            ],
            [
             0.3333333333333333,
             "#9c179e"
            ],
            [
             0.4444444444444444,
             "#bd3786"
            ],
            [
             0.5555555555555556,
             "#d8576b"
            ],
            [
             0.6666666666666666,
             "#ed7953"
            ],
            [
             0.7777777777777778,
             "#fb9f3a"
            ],
            [
             0.8888888888888888,
             "#fdca26"
            ],
            [
             1,
             "#f0f921"
            ]
           ],
           "sequentialminus": [
            [
             0,
             "#0d0887"
            ],
            [
             0.1111111111111111,
             "#46039f"
            ],
            [
             0.2222222222222222,
             "#7201a8"
            ],
            [
             0.3333333333333333,
             "#9c179e"
            ],
            [
             0.4444444444444444,
             "#bd3786"
            ],
            [
             0.5555555555555556,
             "#d8576b"
            ],
            [
             0.6666666666666666,
             "#ed7953"
            ],
            [
             0.7777777777777778,
             "#fb9f3a"
            ],
            [
             0.8888888888888888,
             "#fdca26"
            ],
            [
             1,
             "#f0f921"
            ]
           ]
          },
          "colorway": [
           "#636efa",
           "#EF553B",
           "#00cc96",
           "#ab63fa",
           "#FFA15A",
           "#19d3f3",
           "#FF6692",
           "#B6E880",
           "#FF97FF",
           "#FECB52"
          ],
          "font": {
           "color": "#2a3f5f"
          },
          "geo": {
           "bgcolor": "white",
           "lakecolor": "white",
           "landcolor": "#E5ECF6",
           "showlakes": true,
           "showland": true,
           "subunitcolor": "white"
          },
          "hoverlabel": {
           "align": "left"
          },
          "hovermode": "closest",
          "mapbox": {
           "style": "light"
          },
          "paper_bgcolor": "white",
          "plot_bgcolor": "#E5ECF6",
          "polar": {
           "angularaxis": {
            "gridcolor": "white",
            "linecolor": "white",
            "ticks": ""
           },
           "bgcolor": "#E5ECF6",
           "radialaxis": {
            "gridcolor": "white",
            "linecolor": "white",
            "ticks": ""
           }
          },
          "scene": {
           "xaxis": {
            "backgroundcolor": "#E5ECF6",
            "gridcolor": "white",
            "gridwidth": 2,
            "linecolor": "white",
            "showbackground": true,
            "ticks": "",
            "zerolinecolor": "white"
           },
           "yaxis": {
            "backgroundcolor": "#E5ECF6",
            "gridcolor": "white",
            "gridwidth": 2,
            "linecolor": "white",
            "showbackground": true,
            "ticks": "",
            "zerolinecolor": "white"
           },
           "zaxis": {
            "backgroundcolor": "#E5ECF6",
            "gridcolor": "white",
            "gridwidth": 2,
            "linecolor": "white",
            "showbackground": true,
            "ticks": "",
            "zerolinecolor": "white"
           }
          },
          "shapedefaults": {
           "line": {
            "color": "#2a3f5f"
           }
          },
          "ternary": {
           "aaxis": {
            "gridcolor": "white",
            "linecolor": "white",
            "ticks": ""
           },
           "baxis": {
            "gridcolor": "white",
            "linecolor": "white",
            "ticks": ""
           },
           "bgcolor": "#E5ECF6",
           "caxis": {
            "gridcolor": "white",
            "linecolor": "white",
            "ticks": ""
           }
          },
          "title": {
           "x": 0.05
          },
          "xaxis": {
           "automargin": true,
           "gridcolor": "white",
           "linecolor": "white",
           "ticks": "",
           "title": {
            "standoff": 15
           },
           "zerolinecolor": "white",
           "zerolinewidth": 2
          },
          "yaxis": {
           "automargin": true,
           "gridcolor": "white",
           "linecolor": "white",
           "ticks": "",
           "title": {
            "standoff": 15
           },
           "zerolinecolor": "white",
           "zerolinewidth": 2
          }
         }
        },
        "title": {
         "text": "🏙️ Number of Listings by City"
        },
        "xaxis": {
         "anchor": "y",
         "domain": [
          0,
          1
         ],
         "title": {
          "text": "City"
         }
        },
        "yaxis": {
         "anchor": "x",
         "domain": [
          0,
          1
         ],
         "title": {
          "text": "Number of Listings"
         }
        }
       }
      }
     },
     "metadata": {},
     "output_type": "display_data"
    }
   ],
   "source": [
    "fig = px.bar(pbp[\"city\"].value_counts().reset_index(), \n",
    "             x=\"index\", y=\"city\", \n",
    "             title=\"🏙️ Number of Listings by City\", \n",
    "             labels={\"index\": \"City\", \"city\": \"Number of Listings\"},\n",
    "             color_discrete_sequence=[\"#636EFA\"])  # Blue color theme\n",
    "fig.show()"
   ]
  },
  {
   "cell_type": "markdown",
   "metadata": {},
   "source": [
    "## 🔍 What Factors Impact Property Ratings?  \n",
    "Hosts often wonder **what makes a listing highly rated**. This correlation heatmap will reveal which factors (e.g., **cleanliness, communication, location**) have the **biggest impact** on guest satisfaction.  "
   ]
  },
  {
   "cell_type": "code",
   "execution_count": 48,
   "metadata": {},
   "outputs": [
    {
     "data": {
      "application/vnd.plotly.v1+json": {
       "config": {
        "plotlyServerURL": "https://plot.ly"
       },
       "data": [
        {
         "colorscale": [
          [
           0,
           "#440154"
          ],
          [
           0.1111111111111111,
           "#482878"
          ],
          [
           0.2222222222222222,
           "#3e4989"
          ],
          [
           0.3333333333333333,
           "#31688e"
          ],
          [
           0.4444444444444444,
           "#26828e"
          ],
          [
           0.5555555555555556,
           "#1f9e89"
          ],
          [
           0.6666666666666666,
           "#35b779"
          ],
          [
           0.7777777777777778,
           "#6ece58"
          ],
          [
           0.8888888888888888,
           "#b5de2b"
          ],
          [
           1,
           "#fde725"
          ]
         ],
         "reversescale": false,
         "showscale": true,
         "type": "heatmap",
         "x": [
          "guestSatisfactionOverall",
          "cleanlinessRating",
          "communicationRating",
          "locationRating",
          "accuracyRating",
          "valueRating"
         ],
         "y": [
          "guestSatisfactionOverall",
          "cleanlinessRating",
          "communicationRating",
          "locationRating",
          "accuracyRating",
          "valueRating"
         ],
         "z": [
          [
           1,
           0.8,
           0.68,
           0.58,
           0.75,
           0.79
          ],
          [
           0.8,
           1,
           0.59,
           0.48,
           0.69,
           0.7
          ],
          [
           0.68,
           0.59,
           1,
           0.5,
           0.59,
           0.6
          ],
          [
           0.58,
           0.48,
           0.5,
           1,
           0.46,
           0.53
          ],
          [
           0.75,
           0.69,
           0.59,
           0.46,
           1,
           0.84
          ],
          [
           0.79,
           0.7,
           0.6,
           0.53,
           0.84,
           1
          ]
         ]
        }
       ],
       "layout": {
        "annotations": [
         {
          "font": {
           "color": "#000000"
          },
          "showarrow": false,
          "text": "1.0",
          "x": "guestSatisfactionOverall",
          "xref": "x",
          "y": "guestSatisfactionOverall",
          "yref": "y"
         },
         {
          "font": {
           "color": "#000000"
          },
          "showarrow": false,
          "text": "0.8",
          "x": "cleanlinessRating",
          "xref": "x",
          "y": "guestSatisfactionOverall",
          "yref": "y"
         },
         {
          "font": {
           "color": "#FFFFFF"
          },
          "showarrow": false,
          "text": "0.68",
          "x": "communicationRating",
          "xref": "x",
          "y": "guestSatisfactionOverall",
          "yref": "y"
         },
         {
          "font": {
           "color": "#FFFFFF"
          },
          "showarrow": false,
          "text": "0.58",
          "x": "locationRating",
          "xref": "x",
          "y": "guestSatisfactionOverall",
          "yref": "y"
         },
         {
          "font": {
           "color": "#000000"
          },
          "showarrow": false,
          "text": "0.75",
          "x": "accuracyRating",
          "xref": "x",
          "y": "guestSatisfactionOverall",
          "yref": "y"
         },
         {
          "font": {
           "color": "#000000"
          },
          "showarrow": false,
          "text": "0.79",
          "x": "valueRating",
          "xref": "x",
          "y": "guestSatisfactionOverall",
          "yref": "y"
         },
         {
          "font": {
           "color": "#000000"
          },
          "showarrow": false,
          "text": "0.8",
          "x": "guestSatisfactionOverall",
          "xref": "x",
          "y": "cleanlinessRating",
          "yref": "y"
         },
         {
          "font": {
           "color": "#000000"
          },
          "showarrow": false,
          "text": "1.0",
          "x": "cleanlinessRating",
          "xref": "x",
          "y": "cleanlinessRating",
          "yref": "y"
         },
         {
          "font": {
           "color": "#FFFFFF"
          },
          "showarrow": false,
          "text": "0.59",
          "x": "communicationRating",
          "xref": "x",
          "y": "cleanlinessRating",
          "yref": "y"
         },
         {
          "font": {
           "color": "#FFFFFF"
          },
          "showarrow": false,
          "text": "0.48",
          "x": "locationRating",
          "xref": "x",
          "y": "cleanlinessRating",
          "yref": "y"
         },
         {
          "font": {
           "color": "#FFFFFF"
          },
          "showarrow": false,
          "text": "0.69",
          "x": "accuracyRating",
          "xref": "x",
          "y": "cleanlinessRating",
          "yref": "y"
         },
         {
          "font": {
           "color": "#FFFFFF"
          },
          "showarrow": false,
          "text": "0.7",
          "x": "valueRating",
          "xref": "x",
          "y": "cleanlinessRating",
          "yref": "y"
         },
         {
          "font": {
           "color": "#FFFFFF"
          },
          "showarrow": false,
          "text": "0.68",
          "x": "guestSatisfactionOverall",
          "xref": "x",
          "y": "communicationRating",
          "yref": "y"
         },
         {
          "font": {
           "color": "#FFFFFF"
          },
          "showarrow": false,
          "text": "0.59",
          "x": "cleanlinessRating",
          "xref": "x",
          "y": "communicationRating",
          "yref": "y"
         },
         {
          "font": {
           "color": "#000000"
          },
          "showarrow": false,
          "text": "1.0",
          "x": "communicationRating",
          "xref": "x",
          "y": "communicationRating",
          "yref": "y"
         },
         {
          "font": {
           "color": "#FFFFFF"
          },
          "showarrow": false,
          "text": "0.5",
          "x": "locationRating",
          "xref": "x",
          "y": "communicationRating",
          "yref": "y"
         },
         {
          "font": {
           "color": "#FFFFFF"
          },
          "showarrow": false,
          "text": "0.59",
          "x": "accuracyRating",
          "xref": "x",
          "y": "communicationRating",
          "yref": "y"
         },
         {
          "font": {
           "color": "#FFFFFF"
          },
          "showarrow": false,
          "text": "0.6",
          "x": "valueRating",
          "xref": "x",
          "y": "communicationRating",
          "yref": "y"
         },
         {
          "font": {
           "color": "#FFFFFF"
          },
          "showarrow": false,
          "text": "0.58",
          "x": "guestSatisfactionOverall",
          "xref": "x",
          "y": "locationRating",
          "yref": "y"
         },
         {
          "font": {
           "color": "#FFFFFF"
          },
          "showarrow": false,
          "text": "0.48",
          "x": "cleanlinessRating",
          "xref": "x",
          "y": "locationRating",
          "yref": "y"
         },
         {
          "font": {
           "color": "#FFFFFF"
          },
          "showarrow": false,
          "text": "0.5",
          "x": "communicationRating",
          "xref": "x",
          "y": "locationRating",
          "yref": "y"
         },
         {
          "font": {
           "color": "#000000"
          },
          "showarrow": false,
          "text": "1.0",
          "x": "locationRating",
          "xref": "x",
          "y": "locationRating",
          "yref": "y"
         },
         {
          "font": {
           "color": "#FFFFFF"
          },
          "showarrow": false,
          "text": "0.46",
          "x": "accuracyRating",
          "xref": "x",
          "y": "locationRating",
          "yref": "y"
         },
         {
          "font": {
           "color": "#FFFFFF"
          },
          "showarrow": false,
          "text": "0.53",
          "x": "valueRating",
          "xref": "x",
          "y": "locationRating",
          "yref": "y"
         },
         {
          "font": {
           "color": "#000000"
          },
          "showarrow": false,
          "text": "0.75",
          "x": "guestSatisfactionOverall",
          "xref": "x",
          "y": "accuracyRating",
          "yref": "y"
         },
         {
          "font": {
           "color": "#FFFFFF"
          },
          "showarrow": false,
          "text": "0.69",
          "x": "cleanlinessRating",
          "xref": "x",
          "y": "accuracyRating",
          "yref": "y"
         },
         {
          "font": {
           "color": "#FFFFFF"
          },
          "showarrow": false,
          "text": "0.59",
          "x": "communicationRating",
          "xref": "x",
          "y": "accuracyRating",
          "yref": "y"
         },
         {
          "font": {
           "color": "#FFFFFF"
          },
          "showarrow": false,
          "text": "0.46",
          "x": "locationRating",
          "xref": "x",
          "y": "accuracyRating",
          "yref": "y"
         },
         {
          "font": {
           "color": "#000000"
          },
          "showarrow": false,
          "text": "1.0",
          "x": "accuracyRating",
          "xref": "x",
          "y": "accuracyRating",
          "yref": "y"
         },
         {
          "font": {
           "color": "#000000"
          },
          "showarrow": false,
          "text": "0.84",
          "x": "valueRating",
          "xref": "x",
          "y": "accuracyRating",
          "yref": "y"
         },
         {
          "font": {
           "color": "#000000"
          },
          "showarrow": false,
          "text": "0.79",
          "x": "guestSatisfactionOverall",
          "xref": "x",
          "y": "valueRating",
          "yref": "y"
         },
         {
          "font": {
           "color": "#FFFFFF"
          },
          "showarrow": false,
          "text": "0.7",
          "x": "cleanlinessRating",
          "xref": "x",
          "y": "valueRating",
          "yref": "y"
         },
         {
          "font": {
           "color": "#FFFFFF"
          },
          "showarrow": false,
          "text": "0.6",
          "x": "communicationRating",
          "xref": "x",
          "y": "valueRating",
          "yref": "y"
         },
         {
          "font": {
           "color": "#FFFFFF"
          },
          "showarrow": false,
          "text": "0.53",
          "x": "locationRating",
          "xref": "x",
          "y": "valueRating",
          "yref": "y"
         },
         {
          "font": {
           "color": "#000000"
          },
          "showarrow": false,
          "text": "0.84",
          "x": "accuracyRating",
          "xref": "x",
          "y": "valueRating",
          "yref": "y"
         },
         {
          "font": {
           "color": "#000000"
          },
          "showarrow": false,
          "text": "1.0",
          "x": "valueRating",
          "xref": "x",
          "y": "valueRating",
          "yref": "y"
         }
        ],
        "template": {
         "data": {
          "bar": [
           {
            "error_x": {
             "color": "#2a3f5f"
            },
            "error_y": {
             "color": "#2a3f5f"
            },
            "marker": {
             "line": {
              "color": "#E5ECF6",
              "width": 0.5
             },
             "pattern": {
              "fillmode": "overlay",
              "size": 10,
              "solidity": 0.2
             }
            },
            "type": "bar"
           }
          ],
          "barpolar": [
           {
            "marker": {
             "line": {
              "color": "#E5ECF6",
              "width": 0.5
             },
             "pattern": {
              "fillmode": "overlay",
              "size": 10,
              "solidity": 0.2
             }
            },
            "type": "barpolar"
           }
          ],
          "carpet": [
           {
            "aaxis": {
             "endlinecolor": "#2a3f5f",
             "gridcolor": "white",
             "linecolor": "white",
             "minorgridcolor": "white",
             "startlinecolor": "#2a3f5f"
            },
            "baxis": {
             "endlinecolor": "#2a3f5f",
             "gridcolor": "white",
             "linecolor": "white",
             "minorgridcolor": "white",
             "startlinecolor": "#2a3f5f"
            },
            "type": "carpet"
           }
          ],
          "choropleth": [
           {
            "colorbar": {
             "outlinewidth": 0,
             "ticks": ""
            },
            "type": "choropleth"
           }
          ],
          "contour": [
           {
            "colorbar": {
             "outlinewidth": 0,
             "ticks": ""
            },
            "colorscale": [
             [
              0,
              "#0d0887"
             ],
             [
              0.1111111111111111,
              "#46039f"
             ],
             [
              0.2222222222222222,
              "#7201a8"
             ],
             [
              0.3333333333333333,
              "#9c179e"
             ],
             [
              0.4444444444444444,
              "#bd3786"
             ],
             [
              0.5555555555555556,
              "#d8576b"
             ],
             [
              0.6666666666666666,
              "#ed7953"
             ],
             [
              0.7777777777777778,
              "#fb9f3a"
             ],
             [
              0.8888888888888888,
              "#fdca26"
             ],
             [
              1,
              "#f0f921"
             ]
            ],
            "type": "contour"
           }
          ],
          "contourcarpet": [
           {
            "colorbar": {
             "outlinewidth": 0,
             "ticks": ""
            },
            "type": "contourcarpet"
           }
          ],
          "heatmap": [
           {
            "colorbar": {
             "outlinewidth": 0,
             "ticks": ""
            },
            "colorscale": [
             [
              0,
              "#0d0887"
             ],
             [
              0.1111111111111111,
              "#46039f"
             ],
             [
              0.2222222222222222,
              "#7201a8"
             ],
             [
              0.3333333333333333,
              "#9c179e"
             ],
             [
              0.4444444444444444,
              "#bd3786"
             ],
             [
              0.5555555555555556,
              "#d8576b"
             ],
             [
              0.6666666666666666,
              "#ed7953"
             ],
             [
              0.7777777777777778,
              "#fb9f3a"
             ],
             [
              0.8888888888888888,
              "#fdca26"
             ],
             [
              1,
              "#f0f921"
             ]
            ],
            "type": "heatmap"
           }
          ],
          "heatmapgl": [
           {
            "colorbar": {
             "outlinewidth": 0,
             "ticks": ""
            },
            "colorscale": [
             [
              0,
              "#0d0887"
             ],
             [
              0.1111111111111111,
              "#46039f"
             ],
             [
              0.2222222222222222,
              "#7201a8"
             ],
             [
              0.3333333333333333,
              "#9c179e"
             ],
             [
              0.4444444444444444,
              "#bd3786"
             ],
             [
              0.5555555555555556,
              "#d8576b"
             ],
             [
              0.6666666666666666,
              "#ed7953"
             ],
             [
              0.7777777777777778,
              "#fb9f3a"
             ],
             [
              0.8888888888888888,
              "#fdca26"
             ],
             [
              1,
              "#f0f921"
             ]
            ],
            "type": "heatmapgl"
           }
          ],
          "histogram": [
           {
            "marker": {
             "pattern": {
              "fillmode": "overlay",
              "size": 10,
              "solidity": 0.2
             }
            },
            "type": "histogram"
           }
          ],
          "histogram2d": [
           {
            "colorbar": {
             "outlinewidth": 0,
             "ticks": ""
            },
            "colorscale": [
             [
              0,
              "#0d0887"
             ],
             [
              0.1111111111111111,
              "#46039f"
             ],
             [
              0.2222222222222222,
              "#7201a8"
             ],
             [
              0.3333333333333333,
              "#9c179e"
             ],
             [
              0.4444444444444444,
              "#bd3786"
             ],
             [
              0.5555555555555556,
              "#d8576b"
             ],
             [
              0.6666666666666666,
              "#ed7953"
             ],
             [
              0.7777777777777778,
              "#fb9f3a"
             ],
             [
              0.8888888888888888,
              "#fdca26"
             ],
             [
              1,
              "#f0f921"
             ]
            ],
            "type": "histogram2d"
           }
          ],
          "histogram2dcontour": [
           {
            "colorbar": {
             "outlinewidth": 0,
             "ticks": ""
            },
            "colorscale": [
             [
              0,
              "#0d0887"
             ],
             [
              0.1111111111111111,
              "#46039f"
             ],
             [
              0.2222222222222222,
              "#7201a8"
             ],
             [
              0.3333333333333333,
              "#9c179e"
             ],
             [
              0.4444444444444444,
              "#bd3786"
             ],
             [
              0.5555555555555556,
              "#d8576b"
             ],
             [
              0.6666666666666666,
              "#ed7953"
             ],
             [
              0.7777777777777778,
              "#fb9f3a"
             ],
             [
              0.8888888888888888,
              "#fdca26"
             ],
             [
              1,
              "#f0f921"
             ]
            ],
            "type": "histogram2dcontour"
           }
          ],
          "mesh3d": [
           {
            "colorbar": {
             "outlinewidth": 0,
             "ticks": ""
            },
            "type": "mesh3d"
           }
          ],
          "parcoords": [
           {
            "line": {
             "colorbar": {
              "outlinewidth": 0,
              "ticks": ""
             }
            },
            "type": "parcoords"
           }
          ],
          "pie": [
           {
            "automargin": true,
            "type": "pie"
           }
          ],
          "scatter": [
           {
            "fillpattern": {
             "fillmode": "overlay",
             "size": 10,
             "solidity": 0.2
            },
            "type": "scatter"
           }
          ],
          "scatter3d": [
           {
            "line": {
             "colorbar": {
              "outlinewidth": 0,
              "ticks": ""
             }
            },
            "marker": {
             "colorbar": {
              "outlinewidth": 0,
              "ticks": ""
             }
            },
            "type": "scatter3d"
           }
          ],
          "scattercarpet": [
           {
            "marker": {
             "colorbar": {
              "outlinewidth": 0,
              "ticks": ""
             }
            },
            "type": "scattercarpet"
           }
          ],
          "scattergeo": [
           {
            "marker": {
             "colorbar": {
              "outlinewidth": 0,
              "ticks": ""
             }
            },
            "type": "scattergeo"
           }
          ],
          "scattergl": [
           {
            "marker": {
             "colorbar": {
              "outlinewidth": 0,
              "ticks": ""
             }
            },
            "type": "scattergl"
           }
          ],
          "scattermapbox": [
           {
            "marker": {
             "colorbar": {
              "outlinewidth": 0,
              "ticks": ""
             }
            },
            "type": "scattermapbox"
           }
          ],
          "scatterpolar": [
           {
            "marker": {
             "colorbar": {
              "outlinewidth": 0,
              "ticks": ""
             }
            },
            "type": "scatterpolar"
           }
          ],
          "scatterpolargl": [
           {
            "marker": {
             "colorbar": {
              "outlinewidth": 0,
              "ticks": ""
             }
            },
            "type": "scatterpolargl"
           }
          ],
          "scatterternary": [
           {
            "marker": {
             "colorbar": {
              "outlinewidth": 0,
              "ticks": ""
             }
            },
            "type": "scatterternary"
           }
          ],
          "surface": [
           {
            "colorbar": {
             "outlinewidth": 0,
             "ticks": ""
            },
            "colorscale": [
             [
              0,
              "#0d0887"
             ],
             [
              0.1111111111111111,
              "#46039f"
             ],
             [
              0.2222222222222222,
              "#7201a8"
             ],
             [
              0.3333333333333333,
              "#9c179e"
             ],
             [
              0.4444444444444444,
              "#bd3786"
             ],
             [
              0.5555555555555556,
              "#d8576b"
             ],
             [
              0.6666666666666666,
              "#ed7953"
             ],
             [
              0.7777777777777778,
              "#fb9f3a"
             ],
             [
              0.8888888888888888,
              "#fdca26"
             ],
             [
              1,
              "#f0f921"
             ]
            ],
            "type": "surface"
           }
          ],
          "table": [
           {
            "cells": {
             "fill": {
              "color": "#EBF0F8"
             },
             "line": {
              "color": "white"
             }
            },
            "header": {
             "fill": {
              "color": "#C8D4E3"
             },
             "line": {
              "color": "white"
             }
            },
            "type": "table"
           }
          ]
         },
         "layout": {
          "annotationdefaults": {
           "arrowcolor": "#2a3f5f",
           "arrowhead": 0,
           "arrowwidth": 1
          },
          "autotypenumbers": "strict",
          "coloraxis": {
           "colorbar": {
            "outlinewidth": 0,
            "ticks": ""
           }
          },
          "colorscale": {
           "diverging": [
            [
             0,
             "#8e0152"
            ],
            [
             0.1,
             "#c51b7d"
            ],
            [
             0.2,
             "#de77ae"
            ],
            [
             0.3,
             "#f1b6da"
            ],
            [
             0.4,
             "#fde0ef"
            ],
            [
             0.5,
             "#f7f7f7"
            ],
            [
             0.6,
             "#e6f5d0"
            ],
            [
             0.7,
             "#b8e186"
            ],
            [
             0.8,
             "#7fbc41"
            ],
            [
             0.9,
             "#4d9221"
            ],
            [
             1,
             "#276419"
            ]
           ],
           "sequential": [
            [
             0,
             "#0d0887"
            ],
            [
             0.1111111111111111,
             "#46039f"
            ],
            [
             0.2222222222222222,
             "#7201a8"
            ],
            [
             0.3333333333333333,
             "#9c179e"
            ],
            [
             0.4444444444444444,
             "#bd3786"
            ],
            [
             0.5555555555555556,
             "#d8576b"
            ],
            [
             0.6666666666666666,
             "#ed7953"
            ],
            [
             0.7777777777777778,
             "#fb9f3a"
            ],
            [
             0.8888888888888888,
             "#fdca26"
            ],
            [
             1,
             "#f0f921"
            ]
           ],
           "sequentialminus": [
            [
             0,
             "#0d0887"
            ],
            [
             0.1111111111111111,
             "#46039f"
            ],
            [
             0.2222222222222222,
             "#7201a8"
            ],
            [
             0.3333333333333333,
             "#9c179e"
            ],
            [
             0.4444444444444444,
             "#bd3786"
            ],
            [
             0.5555555555555556,
             "#d8576b"
            ],
            [
             0.6666666666666666,
             "#ed7953"
            ],
            [
             0.7777777777777778,
             "#fb9f3a"
            ],
            [
             0.8888888888888888,
             "#fdca26"
            ],
            [
             1,
             "#f0f921"
            ]
           ]
          },
          "colorway": [
           "#636efa",
           "#EF553B",
           "#00cc96",
           "#ab63fa",
           "#FFA15A",
           "#19d3f3",
           "#FF6692",
           "#B6E880",
           "#FF97FF",
           "#FECB52"
          ],
          "font": {
           "color": "#2a3f5f"
          },
          "geo": {
           "bgcolor": "white",
           "lakecolor": "white",
           "landcolor": "#E5ECF6",
           "showlakes": true,
           "showland": true,
           "subunitcolor": "white"
          },
          "hoverlabel": {
           "align": "left"
          },
          "hovermode": "closest",
          "mapbox": {
           "style": "light"
          },
          "paper_bgcolor": "white",
          "plot_bgcolor": "#E5ECF6",
          "polar": {
           "angularaxis": {
            "gridcolor": "white",
            "linecolor": "white",
            "ticks": ""
           },
           "bgcolor": "#E5ECF6",
           "radialaxis": {
            "gridcolor": "white",
            "linecolor": "white",
            "ticks": ""
           }
          },
          "scene": {
           "xaxis": {
            "backgroundcolor": "#E5ECF6",
            "gridcolor": "white",
            "gridwidth": 2,
            "linecolor": "white",
            "showbackground": true,
            "ticks": "",
            "zerolinecolor": "white"
           },
           "yaxis": {
            "backgroundcolor": "#E5ECF6",
            "gridcolor": "white",
            "gridwidth": 2,
            "linecolor": "white",
            "showbackground": true,
            "ticks": "",
            "zerolinecolor": "white"
           },
           "zaxis": {
            "backgroundcolor": "#E5ECF6",
            "gridcolor": "white",
            "gridwidth": 2,
            "linecolor": "white",
            "showbackground": true,
            "ticks": "",
            "zerolinecolor": "white"
           }
          },
          "shapedefaults": {
           "line": {
            "color": "#2a3f5f"
           }
          },
          "ternary": {
           "aaxis": {
            "gridcolor": "white",
            "linecolor": "white",
            "ticks": ""
           },
           "baxis": {
            "gridcolor": "white",
            "linecolor": "white",
            "ticks": ""
           },
           "bgcolor": "#E5ECF6",
           "caxis": {
            "gridcolor": "white",
            "linecolor": "white",
            "ticks": ""
           }
          },
          "title": {
           "x": 0.05
          },
          "xaxis": {
           "automargin": true,
           "gridcolor": "white",
           "linecolor": "white",
           "ticks": "",
           "title": {
            "standoff": 15
           },
           "zerolinecolor": "white",
           "zerolinewidth": 2
          },
          "yaxis": {
           "automargin": true,
           "gridcolor": "white",
           "linecolor": "white",
           "ticks": "",
           "title": {
            "standoff": 15
           },
           "zerolinecolor": "white",
           "zerolinewidth": 2
          }
         }
        },
        "title": {
         "text": "🔍 Factors Affecting Guest Satisfaction"
        },
        "xaxis": {
         "dtick": 1,
         "gridcolor": "rgb(0, 0, 0)",
         "side": "top",
         "ticks": ""
        },
        "yaxis": {
         "dtick": 1,
         "ticks": "",
         "ticksuffix": "  "
        }
       }
      }
     },
     "metadata": {},
     "output_type": "display_data"
    }
   ],
   "source": [
    "# Select relevant rating columns\n",
    "rating_cols = [\"guestSatisfactionOverall\", \"cleanlinessRating\", \"communicationRating\",\n",
    "               \"locationRating\", \"accuracyRating\", \"valueRating\"]\n",
    "\n",
    "corr_matrix = dp[rating_cols].corr()\n",
    "\n",
    "fig = ff.create_annotated_heatmap(\n",
    "    z=np.round(corr_matrix.values, 2), \n",
    "    x=rating_cols, \n",
    "    y=rating_cols, \n",
    "    colorscale=\"Viridis\", \n",
    "    showscale=True\n",
    ")\n",
    "\n",
    "fig.update_layout(title=\"🔍 Factors Affecting Guest Satisfaction\")\n",
    "fig.show()"
   ]
  },
  {
   "cell_type": "markdown",
   "metadata": {},
   "source": [
    "## 🛏️ What Property Size Gets the Best Ratings?  \n",
    "For **new investors**, choosing the right **number of bedrooms** is key.  \n",
    "We analyze **how bedroom count affects guest ratings** to find the best-performing property sizes.  "
   ]
  },
  {
   "cell_type": "code",
   "execution_count": 49,
   "metadata": {},
   "outputs": [
    {
     "data": {
      "application/vnd.plotly.v1+json": {
       "config": {
        "plotlyServerURL": "https://plot.ly"
       },
       "data": [
        {
         "alignmentgroup": "True",
         "hovertemplate": "bedrooms=%{x}<br>avgRating=%{y}<extra></extra>",
         "legendgroup": "1",
         "marker": {
          "color": "#636efa"
         },
         "name": "1",
         "notched": false,
         "offsetgroup": "1",
         "orientation": "v",
         "showlegend": true,
         "type": "box",
         "x": [
          1,
          1,
          1,
          1,
          1,
          1,
          1,
          1,
          1,
          1,
          1,
          1,
          1,
          1,
          1,
          1,
          1,
          1,
          1,
          1,
          1,
          1,
          1,
          1,
          1,
          1,
          1,
          1,
          1,
          1,
          1,
          1,
          1,
          1,
          1,
          1,
          1,
          1,
          1,
          1,
          1,
          1,
          1,
          1,
          1,
          1,
          1,
          1,
          1,
          1,
          1,
          1,
          1,
          1,
          1,
          1,
          1,
          1,
          1,
          1,
          1,
          1,
          1,
          1,
          1,
          1,
          1,
          1,
          1,
          1,
          1,
          1,
          1,
          1,
          1,
          1,
          1,
          1,
          1,
          1,
          1,
          1,
          1,
          1,
          1,
          1,
          1,
          1,
          1,
          1,
          1,
          1,
          1,
          1,
          1,
          1,
          1,
          1,
          1,
          1,
          1,
          1,
          1,
          1,
          1,
          1,
          1,
          1,
          1,
          1,
          1,
          1,
          1,
          1,
          1,
          1,
          1,
          1,
          1,
          1,
          1,
          1,
          1,
          1,
          1,
          1,
          1,
          1,
          1,
          1,
          1,
          1,
          1,
          1,
          1,
          1,
          1,
          1,
          1,
          1,
          1,
          1,
          1,
          1,
          1,
          1,
          1,
          1,
          1,
          1,
          1,
          1,
          1,
          1,
          1,
          1,
          1,
          1,
          1,
          1,
          1,
          1,
          1,
          1,
          1,
          1,
          1,
          1,
          1,
          1,
          1,
          1,
          1,
          1,
          1,
          1,
          1,
          1,
          1,
          1,
          1,
          1,
          1,
          1,
          1,
          1,
          1,
          1,
          1,
          1,
          1,
          1,
          1,
          1,
          1,
          1,
          1,
          1,
          1,
          1,
          1,
          1,
          1,
          1,
          1,
          1,
          1,
          1,
          1,
          1,
          1,
          1,
          1,
          1,
          1,
          1,
          1,
          1,
          1,
          1,
          1,
          1,
          1,
          1,
          1,
          1,
          1,
          1,
          1,
          1,
          1,
          1,
          1,
          1,
          1,
          1,
          1,
          1,
          1,
          1,
          1,
          1,
          1,
          1,
          1,
          1,
          1,
          1,
          1,
          1,
          1,
          1,
          1,
          1,
          1,
          1,
          1,
          1,
          1,
          1,
          1,
          1,
          1,
          1,
          1,
          1,
          1,
          1,
          1,
          1,
          1,
          1,
          1,
          1,
          1,
          1,
          1,
          1,
          1,
          1,
          1,
          1,
          1,
          1,
          1,
          1,
          1,
          1,
          1,
          1,
          1,
          1,
          1,
          1,
          1,
          1,
          1,
          1,
          1,
          1,
          1,
          1,
          1,
          1,
          1,
          1,
          1,
          1,
          1,
          1,
          1,
          1,
          1,
          1,
          1,
          1,
          1,
          1,
          1,
          1,
          1,
          1
         ],
         "x0": " ",
         "xaxis": "x",
         "y": [
          4.95,
          4.94,
          4.95,
          4.87418439716312,
          4.93,
          4.87,
          4.97,
          4.98,
          4.93,
          5,
          5,
          4.96,
          4.9,
          4.7,
          4.92,
          4.7,
          4.87418439716312,
          4.9,
          4.96,
          4.81,
          4.96,
          4.9,
          4.78,
          4.82,
          4.97,
          4.92,
          4.68,
          4.85,
          4.95,
          4.73,
          4.87418439716312,
          4.85,
          4.93,
          4.77,
          4.87418439716312,
          4.87418439716312,
          4.87418439716312,
          4.87418439716312,
          4.85,
          4.97,
          5,
          4.96,
          4.89,
          4.87418439716312,
          4.87418439716312,
          4.93,
          4.87418439716312,
          4.91,
          4.9,
          4.86,
          4.87418439716312,
          4.81,
          4.67,
          4.8,
          5,
          4.97,
          4.8,
          4.92,
          5,
          4.97,
          4.87418439716312,
          4.81,
          4.8,
          4.87418439716312,
          4.88,
          4.87418439716312,
          4.9,
          4.91,
          4.75,
          4.74,
          4.84,
          4.88,
          4.92,
          5,
          4.87418439716312,
          4.91,
          5,
          4.8,
          4.95,
          4.93,
          4.98,
          4.85,
          4.81,
          4.87418439716312,
          4.96,
          4.33,
          4.88,
          4.97,
          4.83,
          4.87418439716312,
          4.88,
          4.87418439716312,
          4.9,
          4.63,
          4.57,
          4.88,
          5,
          4.88,
          4.89,
          4.85,
          4.76,
          4.8,
          4.73,
          4.84,
          4.98,
          4.86,
          5,
          4.96,
          4.87418439716312,
          4.81,
          4.91,
          4.87418439716312,
          4.87418439716312,
          5,
          4.97,
          4.93,
          4.67,
          4.96,
          4.8,
          5,
          4.8,
          4.96,
          4.87418439716312,
          4.9,
          4.95,
          4.95,
          4.93,
          4.87418439716312,
          4.94,
          4.7,
          4.93,
          4.9,
          4.7,
          5,
          4.97,
          4.81,
          5,
          4.96,
          4.98,
          4.97,
          4.9,
          4.96,
          4.87418439716312,
          4.9,
          4.87418439716312,
          4.78,
          4.87418439716312,
          4.87418439716312,
          4.82,
          4.96,
          4.87418439716312,
          4.91,
          4.68,
          4.92,
          4.97,
          5,
          4.87418439716312,
          4.87418439716312,
          4.95,
          5,
          4.97,
          4.77,
          4.85,
          4.87418439716312,
          4.85,
          4.87418439716312,
          4.87418439716312,
          4.91,
          4.96,
          4.98,
          4.87418439716312,
          4.91,
          4.87,
          4.73,
          4.93,
          4.9,
          4.86,
          4.87418439716312,
          4.88,
          4.85,
          4.97,
          4.87418439716312,
          4.96,
          4.88,
          4.87418439716312,
          4.93,
          4.89,
          4.87418439716312,
          5,
          4.8,
          4.76,
          4.84,
          4.87418439716312,
          4.8,
          4.85,
          4.86,
          4.91,
          4.67,
          4.8,
          4.92,
          5,
          4.73,
          4.97,
          4.87418439716312,
          4.87,
          4.83,
          4.62,
          4.88,
          4.72,
          4.88,
          4.87418439716312,
          4.87418439716312,
          5,
          4.97,
          4.8,
          4.93,
          4.86,
          4.91,
          4.8,
          4.81,
          4.87418439716312,
          4.33,
          4.67,
          4.81,
          4.9,
          4.92,
          4.91,
          4.63,
          4.87418439716312,
          4.73,
          4.95,
          4.83,
          4.86,
          4.99,
          4.74,
          4.96,
          4.86,
          4.75,
          4.9,
          4.95,
          4.91,
          4.9,
          4.92,
          4.87418439716312,
          4.86,
          4.84,
          4.85,
          5,
          5,
          4.88,
          5,
          5,
          4.8,
          4.7,
          4.9,
          4.87418439716312,
          4.93,
          5,
          5,
          4.81,
          4.87418439716312,
          4.97,
          4.96,
          4.95,
          4.8,
          4.9,
          4.77,
          4.9,
          4.86,
          4.9,
          4.96,
          4.68,
          4.97,
          4.9,
          4.83,
          4.9,
          4.87418439716312,
          4.87418439716312,
          4.98,
          4.87418439716312,
          4.88,
          4.87418439716312,
          4.84,
          4.85,
          4.76,
          4.96,
          4.95,
          4.91,
          4.92,
          4.67,
          4.9,
          4.33,
          4.94,
          4.87418439716312,
          5,
          4.98,
          4.87,
          5,
          4.72,
          4.85,
          4.87418439716312,
          4.62,
          4.87418439716312,
          4.87418439716312,
          4.91,
          4.79,
          4.78,
          4.9,
          4.96,
          4.87418439716312,
          4.7,
          4.87418439716312,
          4.97,
          4.87418439716312,
          4.87,
          4.95,
          4.96,
          4.93,
          4.82,
          4.97,
          4.87418439716312,
          4.87418439716312
         ],
         "y0": " ",
         "yaxis": "y"
        },
        {
         "alignmentgroup": "True",
         "hovertemplate": "bedrooms=%{x}<br>avgRating=%{y}<extra></extra>",
         "legendgroup": "0",
         "marker": {
          "color": "#EF553B"
         },
         "name": "0",
         "notched": false,
         "offsetgroup": "0",
         "orientation": "v",
         "showlegend": true,
         "type": "box",
         "x": [
          0,
          0,
          0,
          0,
          0,
          0,
          0,
          0,
          0,
          0,
          0,
          0,
          0,
          0,
          0,
          0,
          0
         ],
         "x0": " ",
         "xaxis": "x",
         "y": [
          4.84,
          4.98,
          4.76,
          4.96,
          4.84,
          4.78,
          4.84,
          4.84,
          4.76,
          4.98,
          4.96,
          4.84,
          5,
          4.84,
          4.76,
          4.98,
          4.69
         ],
         "y0": " ",
         "yaxis": "y"
        },
        {
         "alignmentgroup": "True",
         "hovertemplate": "bedrooms=%{x}<br>avgRating=%{y}<extra></extra>",
         "legendgroup": "2",
         "marker": {
          "color": "#00cc96"
         },
         "name": "2",
         "notched": false,
         "offsetgroup": "2",
         "orientation": "v",
         "showlegend": true,
         "type": "box",
         "x": [
          2,
          2,
          2,
          2,
          2,
          2,
          2,
          2,
          2,
          2,
          2,
          2,
          2,
          2,
          2,
          2,
          2,
          2,
          2,
          2,
          2,
          2,
          2,
          2,
          2,
          2,
          2,
          2,
          2,
          2,
          2,
          2,
          2,
          2,
          2,
          2,
          2,
          2,
          2,
          2,
          2,
          2,
          2,
          2,
          2,
          2,
          2,
          2,
          2,
          2,
          2,
          2,
          2,
          2,
          2,
          2,
          2,
          2,
          2,
          2,
          2,
          2,
          2,
          2,
          2,
          2,
          2,
          2,
          2,
          2,
          2,
          2,
          2,
          2,
          2,
          2,
          2,
          2,
          2,
          2,
          2,
          2,
          2,
          2,
          2,
          2,
          2,
          2,
          2,
          2,
          2,
          2,
          2,
          2,
          2,
          2,
          2,
          2,
          2,
          2,
          2,
          2,
          2,
          2,
          2,
          2,
          2,
          2,
          2,
          2,
          2,
          2,
          2,
          2,
          2,
          2,
          2,
          2,
          2,
          2,
          2,
          2,
          2,
          2,
          2,
          2,
          2,
          2,
          2,
          2,
          2,
          2,
          2,
          2,
          2,
          2,
          2,
          2,
          2,
          2
         ],
         "x0": " ",
         "xaxis": "x",
         "y": [
          5,
          4.92,
          5,
          4.87418439716312,
          4.95,
          4.87418439716312,
          5,
          4.87418439716312,
          4.94,
          4.9,
          5,
          4.78,
          4.93,
          5,
          4.93,
          4.94,
          4.65,
          5,
          4.67,
          5,
          4.92,
          4.93,
          4.6,
          4.94,
          4.66,
          4.82,
          4.89,
          4.56,
          4.82,
          5,
          4.87418439716312,
          5,
          4.97,
          4.82,
          4.84,
          5,
          4.61,
          4.69,
          4.87418439716312,
          4.98,
          4.89,
          4.83,
          4.87418439716312,
          4.84,
          4.87418439716312,
          4.87418439716312,
          4.87418439716312,
          5,
          4.72,
          4.88,
          4.94,
          4,
          4.96,
          4.87,
          4.92,
          5,
          5,
          4.77,
          5,
          4.89,
          4.9,
          4.92,
          4.94,
          4.87418439716312,
          4.87418439716312,
          5,
          4.93,
          5,
          4.93,
          4.78,
          4.98,
          4.89,
          5,
          4.94,
          4.95,
          5,
          4.87418439716312,
          4.94,
          4.65,
          4.94,
          5,
          4.87418439716312,
          5,
          4.56,
          4.67,
          5,
          5,
          4.87418439716312,
          5,
          4.61,
          5,
          4.69,
          4.66,
          4.82,
          4.82,
          4.97,
          5,
          4.86,
          4.93,
          4.82,
          4.82,
          4.8,
          4.6,
          4.96,
          4.92,
          5,
          4.81,
          5,
          4.97,
          4.94,
          4.84,
          4.84,
          4.97,
          4.79,
          4.9,
          5,
          4.89,
          4.56,
          4.84,
          4.87418439716312,
          4.69,
          4.92,
          4.87418439716312,
          4.93,
          4.82,
          4.61,
          4.8,
          4.93,
          4.75,
          4.98,
          4.87,
          4.95,
          4.78,
          4.65,
          5,
          4.55,
          4.94,
          4.94,
          4.87418439716312,
          4.67
         ],
         "y0": " ",
         "yaxis": "y"
        },
        {
         "alignmentgroup": "True",
         "hovertemplate": "bedrooms=%{x}<br>avgRating=%{y}<extra></extra>",
         "legendgroup": "3",
         "marker": {
          "color": "#ab63fa"
         },
         "name": "3",
         "notched": false,
         "offsetgroup": "3",
         "orientation": "v",
         "showlegend": true,
         "type": "box",
         "x": [
          3,
          3,
          3,
          3,
          3,
          3,
          3,
          3,
          3,
          3,
          3,
          3,
          3,
          3,
          3,
          3
         ],
         "x0": " ",
         "xaxis": "x",
         "y": [
          5,
          4.93,
          4.88,
          4.85,
          5,
          4.89,
          4.93,
          4.95,
          4.93,
          4.88,
          5,
          4.85,
          5,
          4.89,
          4.86,
          4.93
         ],
         "y0": " ",
         "yaxis": "y"
        },
        {
         "alignmentgroup": "True",
         "hovertemplate": "bedrooms=%{x}<br>avgRating=%{y}<extra></extra>",
         "legendgroup": "5",
         "marker": {
          "color": "#FFA15A"
         },
         "name": "5",
         "notched": false,
         "offsetgroup": "5",
         "orientation": "v",
         "showlegend": true,
         "type": "box",
         "x": [
          5,
          5,
          5,
          5,
          5
         ],
         "x0": " ",
         "xaxis": "x",
         "y": [
          4.92,
          4.94,
          4.94,
          4.92,
          4.94
         ],
         "y0": " ",
         "yaxis": "y"
        }
       ],
       "layout": {
        "boxmode": "overlay",
        "legend": {
         "title": {
          "text": "bedrooms"
         },
         "tracegroupgap": 0
        },
        "template": {
         "data": {
          "bar": [
           {
            "error_x": {
             "color": "#2a3f5f"
            },
            "error_y": {
             "color": "#2a3f5f"
            },
            "marker": {
             "line": {
              "color": "#E5ECF6",
              "width": 0.5
             },
             "pattern": {
              "fillmode": "overlay",
              "size": 10,
              "solidity": 0.2
             }
            },
            "type": "bar"
           }
          ],
          "barpolar": [
           {
            "marker": {
             "line": {
              "color": "#E5ECF6",
              "width": 0.5
             },
             "pattern": {
              "fillmode": "overlay",
              "size": 10,
              "solidity": 0.2
             }
            },
            "type": "barpolar"
           }
          ],
          "carpet": [
           {
            "aaxis": {
             "endlinecolor": "#2a3f5f",
             "gridcolor": "white",
             "linecolor": "white",
             "minorgridcolor": "white",
             "startlinecolor": "#2a3f5f"
            },
            "baxis": {
             "endlinecolor": "#2a3f5f",
             "gridcolor": "white",
             "linecolor": "white",
             "minorgridcolor": "white",
             "startlinecolor": "#2a3f5f"
            },
            "type": "carpet"
           }
          ],
          "choropleth": [
           {
            "colorbar": {
             "outlinewidth": 0,
             "ticks": ""
            },
            "type": "choropleth"
           }
          ],
          "contour": [
           {
            "colorbar": {
             "outlinewidth": 0,
             "ticks": ""
            },
            "colorscale": [
             [
              0,
              "#0d0887"
             ],
             [
              0.1111111111111111,
              "#46039f"
             ],
             [
              0.2222222222222222,
              "#7201a8"
             ],
             [
              0.3333333333333333,
              "#9c179e"
             ],
             [
              0.4444444444444444,
              "#bd3786"
             ],
             [
              0.5555555555555556,
              "#d8576b"
             ],
             [
              0.6666666666666666,
              "#ed7953"
             ],
             [
              0.7777777777777778,
              "#fb9f3a"
             ],
             [
              0.8888888888888888,
              "#fdca26"
             ],
             [
              1,
              "#f0f921"
             ]
            ],
            "type": "contour"
           }
          ],
          "contourcarpet": [
           {
            "colorbar": {
             "outlinewidth": 0,
             "ticks": ""
            },
            "type": "contourcarpet"
           }
          ],
          "heatmap": [
           {
            "colorbar": {
             "outlinewidth": 0,
             "ticks": ""
            },
            "colorscale": [
             [
              0,
              "#0d0887"
             ],
             [
              0.1111111111111111,
              "#46039f"
             ],
             [
              0.2222222222222222,
              "#7201a8"
             ],
             [
              0.3333333333333333,
              "#9c179e"
             ],
             [
              0.4444444444444444,
              "#bd3786"
             ],
             [
              0.5555555555555556,
              "#d8576b"
             ],
             [
              0.6666666666666666,
              "#ed7953"
             ],
             [
              0.7777777777777778,
              "#fb9f3a"
             ],
             [
              0.8888888888888888,
              "#fdca26"
             ],
             [
              1,
              "#f0f921"
             ]
            ],
            "type": "heatmap"
           }
          ],
          "heatmapgl": [
           {
            "colorbar": {
             "outlinewidth": 0,
             "ticks": ""
            },
            "colorscale": [
             [
              0,
              "#0d0887"
             ],
             [
              0.1111111111111111,
              "#46039f"
             ],
             [
              0.2222222222222222,
              "#7201a8"
             ],
             [
              0.3333333333333333,
              "#9c179e"
             ],
             [
              0.4444444444444444,
              "#bd3786"
             ],
             [
              0.5555555555555556,
              "#d8576b"
             ],
             [
              0.6666666666666666,
              "#ed7953"
             ],
             [
              0.7777777777777778,
              "#fb9f3a"
             ],
             [
              0.8888888888888888,
              "#fdca26"
             ],
             [
              1,
              "#f0f921"
             ]
            ],
            "type": "heatmapgl"
           }
          ],
          "histogram": [
           {
            "marker": {
             "pattern": {
              "fillmode": "overlay",
              "size": 10,
              "solidity": 0.2
             }
            },
            "type": "histogram"
           }
          ],
          "histogram2d": [
           {
            "colorbar": {
             "outlinewidth": 0,
             "ticks": ""
            },
            "colorscale": [
             [
              0,
              "#0d0887"
             ],
             [
              0.1111111111111111,
              "#46039f"
             ],
             [
              0.2222222222222222,
              "#7201a8"
             ],
             [
              0.3333333333333333,
              "#9c179e"
             ],
             [
              0.4444444444444444,
              "#bd3786"
             ],
             [
              0.5555555555555556,
              "#d8576b"
             ],
             [
              0.6666666666666666,
              "#ed7953"
             ],
             [
              0.7777777777777778,
              "#fb9f3a"
             ],
             [
              0.8888888888888888,
              "#fdca26"
             ],
             [
              1,
              "#f0f921"
             ]
            ],
            "type": "histogram2d"
           }
          ],
          "histogram2dcontour": [
           {
            "colorbar": {
             "outlinewidth": 0,
             "ticks": ""
            },
            "colorscale": [
             [
              0,
              "#0d0887"
             ],
             [
              0.1111111111111111,
              "#46039f"
             ],
             [
              0.2222222222222222,
              "#7201a8"
             ],
             [
              0.3333333333333333,
              "#9c179e"
             ],
             [
              0.4444444444444444,
              "#bd3786"
             ],
             [
              0.5555555555555556,
              "#d8576b"
             ],
             [
              0.6666666666666666,
              "#ed7953"
             ],
             [
              0.7777777777777778,
              "#fb9f3a"
             ],
             [
              0.8888888888888888,
              "#fdca26"
             ],
             [
              1,
              "#f0f921"
             ]
            ],
            "type": "histogram2dcontour"
           }
          ],
          "mesh3d": [
           {
            "colorbar": {
             "outlinewidth": 0,
             "ticks": ""
            },
            "type": "mesh3d"
           }
          ],
          "parcoords": [
           {
            "line": {
             "colorbar": {
              "outlinewidth": 0,
              "ticks": ""
             }
            },
            "type": "parcoords"
           }
          ],
          "pie": [
           {
            "automargin": true,
            "type": "pie"
           }
          ],
          "scatter": [
           {
            "fillpattern": {
             "fillmode": "overlay",
             "size": 10,
             "solidity": 0.2
            },
            "type": "scatter"
           }
          ],
          "scatter3d": [
           {
            "line": {
             "colorbar": {
              "outlinewidth": 0,
              "ticks": ""
             }
            },
            "marker": {
             "colorbar": {
              "outlinewidth": 0,
              "ticks": ""
             }
            },
            "type": "scatter3d"
           }
          ],
          "scattercarpet": [
           {
            "marker": {
             "colorbar": {
              "outlinewidth": 0,
              "ticks": ""
             }
            },
            "type": "scattercarpet"
           }
          ],
          "scattergeo": [
           {
            "marker": {
             "colorbar": {
              "outlinewidth": 0,
              "ticks": ""
             }
            },
            "type": "scattergeo"
           }
          ],
          "scattergl": [
           {
            "marker": {
             "colorbar": {
              "outlinewidth": 0,
              "ticks": ""
             }
            },
            "type": "scattergl"
           }
          ],
          "scattermapbox": [
           {
            "marker": {
             "colorbar": {
              "outlinewidth": 0,
              "ticks": ""
             }
            },
            "type": "scattermapbox"
           }
          ],
          "scatterpolar": [
           {
            "marker": {
             "colorbar": {
              "outlinewidth": 0,
              "ticks": ""
             }
            },
            "type": "scatterpolar"
           }
          ],
          "scatterpolargl": [
           {
            "marker": {
             "colorbar": {
              "outlinewidth": 0,
              "ticks": ""
             }
            },
            "type": "scatterpolargl"
           }
          ],
          "scatterternary": [
           {
            "marker": {
             "colorbar": {
              "outlinewidth": 0,
              "ticks": ""
             }
            },
            "type": "scatterternary"
           }
          ],
          "surface": [
           {
            "colorbar": {
             "outlinewidth": 0,
             "ticks": ""
            },
            "colorscale": [
             [
              0,
              "#0d0887"
             ],
             [
              0.1111111111111111,
              "#46039f"
             ],
             [
              0.2222222222222222,
              "#7201a8"
             ],
             [
              0.3333333333333333,
              "#9c179e"
             ],
             [
              0.4444444444444444,
              "#bd3786"
             ],
             [
              0.5555555555555556,
              "#d8576b"
             ],
             [
              0.6666666666666666,
              "#ed7953"
             ],
             [
              0.7777777777777778,
              "#fb9f3a"
             ],
             [
              0.8888888888888888,
              "#fdca26"
             ],
             [
              1,
              "#f0f921"
             ]
            ],
            "type": "surface"
           }
          ],
          "table": [
           {
            "cells": {
             "fill": {
              "color": "#EBF0F8"
             },
             "line": {
              "color": "white"
             }
            },
            "header": {
             "fill": {
              "color": "#C8D4E3"
             },
             "line": {
              "color": "white"
             }
            },
            "type": "table"
           }
          ]
         },
         "layout": {
          "annotationdefaults": {
           "arrowcolor": "#2a3f5f",
           "arrowhead": 0,
           "arrowwidth": 1
          },
          "autotypenumbers": "strict",
          "coloraxis": {
           "colorbar": {
            "outlinewidth": 0,
            "ticks": ""
           }
          },
          "colorscale": {
           "diverging": [
            [
             0,
             "#8e0152"
            ],
            [
             0.1,
             "#c51b7d"
            ],
            [
             0.2,
             "#de77ae"
            ],
            [
             0.3,
             "#f1b6da"
            ],
            [
             0.4,
             "#fde0ef"
            ],
            [
             0.5,
             "#f7f7f7"
            ],
            [
             0.6,
             "#e6f5d0"
            ],
            [
             0.7,
             "#b8e186"
            ],
            [
             0.8,
             "#7fbc41"
            ],
            [
             0.9,
             "#4d9221"
            ],
            [
             1,
             "#276419"
            ]
           ],
           "sequential": [
            [
             0,
             "#0d0887"
            ],
            [
             0.1111111111111111,
             "#46039f"
            ],
            [
             0.2222222222222222,
             "#7201a8"
            ],
            [
             0.3333333333333333,
             "#9c179e"
            ],
            [
             0.4444444444444444,
             "#bd3786"
            ],
            [
             0.5555555555555556,
             "#d8576b"
            ],
            [
             0.6666666666666666,
             "#ed7953"
            ],
            [
             0.7777777777777778,
             "#fb9f3a"
            ],
            [
             0.8888888888888888,
             "#fdca26"
            ],
            [
             1,
             "#f0f921"
            ]
           ],
           "sequentialminus": [
            [
             0,
             "#0d0887"
            ],
            [
             0.1111111111111111,
             "#46039f"
            ],
            [
             0.2222222222222222,
             "#7201a8"
            ],
            [
             0.3333333333333333,
             "#9c179e"
            ],
            [
             0.4444444444444444,
             "#bd3786"
            ],
            [
             0.5555555555555556,
             "#d8576b"
            ],
            [
             0.6666666666666666,
             "#ed7953"
            ],
            [
             0.7777777777777778,
             "#fb9f3a"
            ],
            [
             0.8888888888888888,
             "#fdca26"
            ],
            [
             1,
             "#f0f921"
            ]
           ]
          },
          "colorway": [
           "#636efa",
           "#EF553B",
           "#00cc96",
           "#ab63fa",
           "#FFA15A",
           "#19d3f3",
           "#FF6692",
           "#B6E880",
           "#FF97FF",
           "#FECB52"
          ],
          "font": {
           "color": "#2a3f5f"
          },
          "geo": {
           "bgcolor": "white",
           "lakecolor": "white",
           "landcolor": "#E5ECF6",
           "showlakes": true,
           "showland": true,
           "subunitcolor": "white"
          },
          "hoverlabel": {
           "align": "left"
          },
          "hovermode": "closest",
          "mapbox": {
           "style": "light"
          },
          "paper_bgcolor": "white",
          "plot_bgcolor": "#E5ECF6",
          "polar": {
           "angularaxis": {
            "gridcolor": "white",
            "linecolor": "white",
            "ticks": ""
           },
           "bgcolor": "#E5ECF6",
           "radialaxis": {
            "gridcolor": "white",
            "linecolor": "white",
            "ticks": ""
           }
          },
          "scene": {
           "xaxis": {
            "backgroundcolor": "#E5ECF6",
            "gridcolor": "white",
            "gridwidth": 2,
            "linecolor": "white",
            "showbackground": true,
            "ticks": "",
            "zerolinecolor": "white"
           },
           "yaxis": {
            "backgroundcolor": "#E5ECF6",
            "gridcolor": "white",
            "gridwidth": 2,
            "linecolor": "white",
            "showbackground": true,
            "ticks": "",
            "zerolinecolor": "white"
           },
           "zaxis": {
            "backgroundcolor": "#E5ECF6",
            "gridcolor": "white",
            "gridwidth": 2,
            "linecolor": "white",
            "showbackground": true,
            "ticks": "",
            "zerolinecolor": "white"
           }
          },
          "shapedefaults": {
           "line": {
            "color": "#2a3f5f"
           }
          },
          "ternary": {
           "aaxis": {
            "gridcolor": "white",
            "linecolor": "white",
            "ticks": ""
           },
           "baxis": {
            "gridcolor": "white",
            "linecolor": "white",
            "ticks": ""
           },
           "bgcolor": "#E5ECF6",
           "caxis": {
            "gridcolor": "white",
            "linecolor": "white",
            "ticks": ""
           }
          },
          "title": {
           "x": 0.05
          },
          "xaxis": {
           "automargin": true,
           "gridcolor": "white",
           "linecolor": "white",
           "ticks": "",
           "title": {
            "standoff": 15
           },
           "zerolinecolor": "white",
           "zerolinewidth": 2
          },
          "yaxis": {
           "automargin": true,
           "gridcolor": "white",
           "linecolor": "white",
           "ticks": "",
           "title": {
            "standoff": 15
           },
           "zerolinecolor": "white",
           "zerolinewidth": 2
          }
         }
        },
        "title": {
         "text": "🛏️ How Bedroom Count Affects Ratings"
        },
        "xaxis": {
         "anchor": "y",
         "categoryarray": [
          1,
          0,
          2,
          3,
          5
         ],
         "categoryorder": "array",
         "domain": [
          0,
          1
         ],
         "title": {
          "text": "Number of Bedrooms"
         }
        },
        "yaxis": {
         "anchor": "x",
         "domain": [
          0,
          1
         ],
         "title": {
          "text": "Average Rating"
         }
        }
       }
      }
     },
     "metadata": {},
     "output_type": "display_data"
    }
   ],
   "source": [
    "fig = px.box(pbp, x=\"bedrooms\", y=\"avgRating\",\n",
    "             title=\"🛏️ How Bedroom Count Affects Ratings\",\n",
    "             color=\"bedrooms\")\n",
    "\n",
    "fig.update_layout(xaxis_title=\"Number of Bedrooms\", yaxis_title=\"Average Rating\")\n",
    "fig.show()"
   ]
  },
  {
   "cell_type": "markdown",
   "metadata": {},
   "source": [
    "## ⭐ Do Superhosts Get Better Ratings?  \n",
    "Hosts who achieve **Superhost status** often gain more trust from guests.  \n",
    "But does **being a Superhost really improve ratings?** Let’s analyze the data.  "
   ]
  },
  {
   "cell_type": "code",
   "execution_count": 51,
   "metadata": {},
   "outputs": [
    {
     "data": {
      "application/vnd.plotly.v1+json": {
       "config": {
        "plotlyServerURL": "https://plot.ly"
       },
       "data": [
        {
         "alignmentgroup": "True",
         "hovertemplate": "Superhost Status=%{x}<br>Average Rating=%{y}<extra></extra>",
         "legendgroup": "True",
         "marker": {
          "color": "#636efa"
         },
         "name": "True",
         "notched": false,
         "offsetgroup": "True",
         "orientation": "v",
         "showlegend": true,
         "type": "box",
         "x": [
          true,
          true,
          true,
          true,
          true,
          true,
          true,
          true,
          true,
          true,
          true,
          true,
          true,
          true,
          true,
          true,
          true,
          true,
          true,
          true,
          true,
          true,
          true,
          true,
          true,
          true,
          true,
          true,
          true,
          true,
          true,
          true,
          true,
          true,
          true,
          true,
          true,
          true,
          true,
          true,
          true,
          true,
          true,
          true,
          true,
          true,
          true,
          true,
          true,
          true,
          true,
          true,
          true,
          true,
          true,
          true,
          true,
          true,
          true,
          true,
          true,
          true,
          true,
          true,
          true,
          true,
          true,
          true,
          true,
          true,
          true,
          true,
          true,
          true,
          true,
          true,
          true,
          true,
          true,
          true,
          true,
          true,
          true,
          true,
          true,
          true,
          true,
          true,
          true,
          true,
          true,
          true,
          true,
          true,
          true,
          true,
          true,
          true,
          true,
          true,
          true,
          true,
          true,
          true,
          true,
          true,
          true,
          true,
          true,
          true,
          true,
          true,
          true,
          true,
          true,
          true,
          true,
          true,
          true,
          true,
          true,
          true,
          true,
          true,
          true,
          true,
          true,
          true,
          true,
          true,
          true,
          true,
          true,
          true,
          true,
          true,
          true,
          true,
          true,
          true,
          true,
          true,
          true,
          true,
          true,
          true,
          true,
          true,
          true,
          true,
          true,
          true,
          true,
          true,
          true,
          true,
          true,
          true,
          true,
          true,
          true,
          true,
          true,
          true,
          true,
          true,
          true,
          true,
          true,
          true,
          true,
          true,
          true,
          true,
          true,
          true,
          true,
          true,
          true,
          true,
          true,
          true,
          true,
          true,
          true,
          true,
          true,
          true,
          true,
          true,
          true,
          true,
          true,
          true,
          true,
          true,
          true,
          true,
          true,
          true,
          true,
          true,
          true,
          true,
          true,
          true,
          true,
          true,
          true,
          true,
          true,
          true,
          true,
          true,
          true,
          true,
          true,
          true,
          true,
          true,
          true,
          true,
          true,
          true,
          true,
          true,
          true,
          true,
          true,
          true,
          true,
          true,
          true,
          true,
          true,
          true,
          true,
          true,
          true,
          true,
          true,
          true,
          true,
          true,
          true,
          true,
          true,
          true,
          true,
          true,
          true,
          true,
          true,
          true,
          true,
          true,
          true,
          true,
          true,
          true,
          true,
          true,
          true,
          true,
          true,
          true,
          true,
          true,
          true,
          true,
          true,
          true,
          true,
          true,
          true,
          true,
          true,
          true,
          true,
          true,
          true,
          true,
          true,
          true,
          true,
          true,
          true,
          true,
          true,
          true,
          true,
          true,
          true,
          true,
          true,
          true,
          true,
          true,
          true,
          true,
          true,
          true,
          true,
          true,
          true,
          true,
          true,
          true,
          true,
          true,
          true,
          true,
          true,
          true,
          true,
          true,
          true,
          true,
          true,
          true,
          true,
          true,
          true,
          true,
          true,
          true,
          true,
          true,
          true,
          true,
          true,
          true,
          true,
          true,
          true,
          true,
          true,
          true,
          true,
          true,
          true,
          true,
          true,
          true,
          true,
          true
         ],
         "x0": " ",
         "xaxis": "x",
         "y": [
          4.95,
          4.84,
          4.94,
          4.95,
          4.87418439716312,
          4.93,
          4.87,
          4.97,
          4.98,
          4.98,
          4.93,
          5,
          5,
          4.92,
          4.96,
          4.9,
          4.76,
          4.96,
          4.9,
          4.96,
          4.81,
          4.96,
          4.95,
          4.78,
          4.84,
          5,
          4.82,
          4.87418439716312,
          4.94,
          5,
          4.97,
          4.78,
          4.92,
          4.85,
          4.95,
          4.73,
          4.87418439716312,
          4.85,
          4.93,
          5,
          5,
          4.93,
          4.93,
          4.94,
          4.93,
          4.85,
          4.97,
          4.96,
          5,
          4.89,
          4.67,
          4.93,
          4.87418439716312,
          5,
          4.9,
          4.92,
          4.93,
          4.86,
          4.88,
          4.94,
          4.81,
          4.8,
          4.97,
          4.8,
          4.82,
          4.89,
          4.85,
          4.92,
          4.56,
          4.82,
          5,
          5,
          4.97,
          4.81,
          4.8,
          5,
          4.87418439716312,
          4.97,
          4.82,
          4.88,
          4.84,
          4.9,
          4.91,
          4.75,
          4.74,
          4.78,
          4.88,
          4.92,
          5,
          5,
          5,
          4.91,
          5,
          4.92,
          4.84,
          4.98,
          4.93,
          4.98,
          4.94,
          4.85,
          4.83,
          4.89,
          4.96,
          4.88,
          4.97,
          4.88,
          4.87418439716312,
          4.87418439716312,
          4.9,
          4.72,
          4.88,
          5,
          4.88,
          4.94,
          4.88,
          4.89,
          4,
          4.96,
          4.76,
          4.73,
          4.84,
          4.98,
          4.86,
          4.93,
          5,
          4.96,
          4.81,
          4.91,
          4.87,
          4.87418439716312,
          4.87418439716312,
          4.92,
          5,
          4.94,
          4.97,
          4.93,
          5,
          4.95,
          4.96,
          5,
          4.8,
          4.77,
          4.8,
          4.96,
          4.9,
          4.84,
          4.95,
          4.95,
          4.93,
          4.87418439716312,
          4.94,
          5,
          4.93,
          4.9,
          4.76,
          5,
          4.93,
          4.97,
          4.81,
          4.96,
          4.89,
          4.98,
          4.92,
          4.97,
          4.96,
          4.94,
          4.88,
          4.9,
          4.78,
          4.82,
          4.98,
          5,
          4.96,
          4.93,
          4.92,
          4.97,
          5,
          4.87418439716312,
          4.95,
          4.96,
          4.97,
          5,
          4.85,
          4.87418439716312,
          5,
          4.85,
          4.93,
          4.78,
          4.98,
          4.91,
          4.96,
          4.98,
          5,
          4.94,
          4.95,
          4.85,
          4.91,
          4.87,
          5,
          4.87418439716312,
          4.73,
          4.93,
          4.9,
          4.86,
          4.94,
          4.84,
          4.88,
          4.94,
          5,
          4.97,
          4.87418439716312,
          4.96,
          4.89,
          4.87418439716312,
          5,
          4.56,
          4.88,
          4.93,
          4.89,
          4.67,
          5,
          5,
          4.8,
          4.76,
          5,
          4.8,
          5,
          4.85,
          4.86,
          5,
          4.92,
          4.73,
          4.97,
          4.87418439716312,
          4.88,
          4.88,
          4.87418439716312,
          5,
          4.82,
          4.97,
          4.8,
          4.82,
          4.93,
          4.86,
          4.91,
          4.97,
          4.8,
          4.81,
          4.87418439716312,
          4.81,
          4.9,
          4.92,
          4.91,
          5,
          4.93,
          4.83,
          4.82,
          4.86,
          4.99,
          4.74,
          4.96,
          4.82,
          4.86,
          4.75,
          4.8,
          4.95,
          4.91,
          4.9,
          4.96,
          4.92,
          4.92,
          4.94,
          4.86,
          4.81,
          4.84,
          5,
          4.97,
          5,
          4.85,
          5,
          5,
          4.86,
          4.94,
          4.84,
          4.97,
          4.87418439716312,
          4.93,
          5,
          4.84,
          4.81,
          4.87418439716312,
          4.97,
          4.96,
          5,
          4.8,
          4.9,
          4.9,
          4.89,
          4.86,
          4.9,
          4.96,
          4.97,
          4.9,
          4.56,
          4.76,
          4.9,
          4.87418439716312,
          4.98,
          4.92,
          4.88,
          4.93,
          4.82,
          4.76,
          4.96,
          4.98,
          4.95,
          4.92,
          4.8,
          4.9,
          4.94,
          4.93,
          5,
          4.98,
          4.93,
          4.98,
          4.87,
          4.95,
          4.85,
          4.78,
          4.87418439716312,
          4.91,
          4.79,
          4.78,
          4.96,
          5,
          4.97,
          4.55,
          4.94,
          4.94,
          4.95,
          4.96,
          4.87418439716312,
          4.93,
          4.82,
          4.97,
          4.67
         ],
         "y0": " ",
         "yaxis": "y"
        },
        {
         "alignmentgroup": "True",
         "hovertemplate": "Superhost Status=%{x}<br>Average Rating=%{y}<extra></extra>",
         "legendgroup": "False",
         "marker": {
          "color": "#EF553B"
         },
         "name": "False",
         "notched": false,
         "offsetgroup": "False",
         "orientation": "v",
         "showlegend": true,
         "type": "box",
         "x": [
          false,
          false,
          false,
          false,
          false,
          false,
          false,
          false,
          false,
          false,
          false,
          false,
          false,
          false,
          false,
          false,
          false,
          false,
          false,
          false,
          false,
          false,
          false,
          false,
          false,
          false,
          false,
          false,
          false,
          false,
          false,
          false,
          false,
          false,
          false,
          false,
          false,
          false,
          false,
          false,
          false,
          false,
          false,
          false,
          false,
          false,
          false,
          false,
          false,
          false,
          false,
          false,
          false,
          false,
          false,
          false,
          false,
          false,
          false,
          false,
          false,
          false,
          false,
          false,
          false,
          false,
          false,
          false,
          false,
          false,
          false,
          false,
          false,
          false,
          false,
          false,
          false,
          false,
          false,
          false,
          false,
          false,
          false,
          false,
          false,
          false,
          false,
          false,
          false,
          false,
          false,
          false,
          false,
          false,
          false,
          false,
          false,
          false,
          false,
          false,
          false,
          false,
          false,
          false,
          false,
          false,
          false,
          false,
          false,
          false,
          false,
          false,
          false,
          false,
          false,
          false,
          false,
          false,
          false,
          false,
          false,
          false,
          false,
          false,
          false,
          false,
          false,
          false,
          false,
          false,
          false,
          false,
          false,
          false,
          false,
          false,
          false,
          false,
          false,
          false,
          false,
          false,
          false,
          false,
          false,
          false,
          false,
          false,
          false,
          false,
          false,
          false,
          false,
          false
         ],
         "x0": " ",
         "xaxis": "x",
         "y": [
          5,
          4.7,
          4.92,
          4.7,
          5,
          4.87418439716312,
          4.87418439716312,
          4.9,
          4.87418439716312,
          4.9,
          4.68,
          4.77,
          4.87418439716312,
          4.87418439716312,
          4.87418439716312,
          4.87418439716312,
          4.65,
          5,
          4.87418439716312,
          4.87418439716312,
          4.91,
          4.87418439716312,
          4.6,
          4.67,
          5,
          4.66,
          4.87418439716312,
          4.87418439716312,
          4.87418439716312,
          4.84,
          4.87418439716312,
          4.61,
          4.8,
          4.69,
          4.87418439716312,
          4.95,
          4.89,
          4.87418439716312,
          4.81,
          4.87418439716312,
          4.84,
          4.33,
          4.87418439716312,
          4.83,
          4.87418439716312,
          4.87418439716312,
          5,
          4.63,
          4.57,
          4.85,
          4.8,
          4.87418439716312,
          4.67,
          5,
          4.87418439716312,
          4.7,
          4.7,
          5,
          4.9,
          4.9,
          4.87418439716312,
          4.87418439716312,
          4.87418439716312,
          4.87418439716312,
          4.87418439716312,
          4.87418439716312,
          4.87418439716312,
          4.91,
          4.68,
          4.87418439716312,
          5,
          4.77,
          4.87418439716312,
          4.87418439716312,
          4.89,
          4.87418439716312,
          5,
          4.87418439716312,
          4.65,
          4.85,
          4.87418439716312,
          4.87418439716312,
          4.84,
          4.87418439716312,
          4.87418439716312,
          4.61,
          4.91,
          4.67,
          4.8,
          4.92,
          5,
          4.87,
          4.69,
          4.83,
          4.62,
          4.72,
          4.66,
          4.87418439716312,
          4.33,
          4.67,
          4.63,
          4.87418439716312,
          4.73,
          4.86,
          4.95,
          4.9,
          4.6,
          5,
          4.87418439716312,
          5,
          4.88,
          5,
          4.8,
          4.84,
          4.79,
          4.7,
          4.9,
          4.9,
          5,
          4.95,
          4.77,
          4.68,
          4.84,
          4.83,
          4.87418439716312,
          4.69,
          4.87418439716312,
          4.87418439716312,
          4.87418439716312,
          4.87418439716312,
          4.84,
          4.61,
          4.85,
          4.91,
          4.67,
          4.33,
          4.87418439716312,
          4.87,
          4.75,
          5,
          4.72,
          4.87418439716312,
          4.62,
          4.87418439716312,
          4.65,
          4.9,
          4.87418439716312,
          4.7,
          4.87418439716312,
          4.69,
          4.87418439716312,
          4.87,
          4.87418439716312,
          4.87418439716312
         ],
         "y0": " ",
         "yaxis": "y"
        }
       ],
       "layout": {
        "boxmode": "overlay",
        "legend": {
         "title": {
          "text": "Superhost Status"
         },
         "tracegroupgap": 0
        },
        "template": {
         "data": {
          "bar": [
           {
            "error_x": {
             "color": "#2a3f5f"
            },
            "error_y": {
             "color": "#2a3f5f"
            },
            "marker": {
             "line": {
              "color": "#E5ECF6",
              "width": 0.5
             },
             "pattern": {
              "fillmode": "overlay",
              "size": 10,
              "solidity": 0.2
             }
            },
            "type": "bar"
           }
          ],
          "barpolar": [
           {
            "marker": {
             "line": {
              "color": "#E5ECF6",
              "width": 0.5
             },
             "pattern": {
              "fillmode": "overlay",
              "size": 10,
              "solidity": 0.2
             }
            },
            "type": "barpolar"
           }
          ],
          "carpet": [
           {
            "aaxis": {
             "endlinecolor": "#2a3f5f",
             "gridcolor": "white",
             "linecolor": "white",
             "minorgridcolor": "white",
             "startlinecolor": "#2a3f5f"
            },
            "baxis": {
             "endlinecolor": "#2a3f5f",
             "gridcolor": "white",
             "linecolor": "white",
             "minorgridcolor": "white",
             "startlinecolor": "#2a3f5f"
            },
            "type": "carpet"
           }
          ],
          "choropleth": [
           {
            "colorbar": {
             "outlinewidth": 0,
             "ticks": ""
            },
            "type": "choropleth"
           }
          ],
          "contour": [
           {
            "colorbar": {
             "outlinewidth": 0,
             "ticks": ""
            },
            "colorscale": [
             [
              0,
              "#0d0887"
             ],
             [
              0.1111111111111111,
              "#46039f"
             ],
             [
              0.2222222222222222,
              "#7201a8"
             ],
             [
              0.3333333333333333,
              "#9c179e"
             ],
             [
              0.4444444444444444,
              "#bd3786"
             ],
             [
              0.5555555555555556,
              "#d8576b"
             ],
             [
              0.6666666666666666,
              "#ed7953"
             ],
             [
              0.7777777777777778,
              "#fb9f3a"
             ],
             [
              0.8888888888888888,
              "#fdca26"
             ],
             [
              1,
              "#f0f921"
             ]
            ],
            "type": "contour"
           }
          ],
          "contourcarpet": [
           {
            "colorbar": {
             "outlinewidth": 0,
             "ticks": ""
            },
            "type": "contourcarpet"
           }
          ],
          "heatmap": [
           {
            "colorbar": {
             "outlinewidth": 0,
             "ticks": ""
            },
            "colorscale": [
             [
              0,
              "#0d0887"
             ],
             [
              0.1111111111111111,
              "#46039f"
             ],
             [
              0.2222222222222222,
              "#7201a8"
             ],
             [
              0.3333333333333333,
              "#9c179e"
             ],
             [
              0.4444444444444444,
              "#bd3786"
             ],
             [
              0.5555555555555556,
              "#d8576b"
             ],
             [
              0.6666666666666666,
              "#ed7953"
             ],
             [
              0.7777777777777778,
              "#fb9f3a"
             ],
             [
              0.8888888888888888,
              "#fdca26"
             ],
             [
              1,
              "#f0f921"
             ]
            ],
            "type": "heatmap"
           }
          ],
          "heatmapgl": [
           {
            "colorbar": {
             "outlinewidth": 0,
             "ticks": ""
            },
            "colorscale": [
             [
              0,
              "#0d0887"
             ],
             [
              0.1111111111111111,
              "#46039f"
             ],
             [
              0.2222222222222222,
              "#7201a8"
             ],
             [
              0.3333333333333333,
              "#9c179e"
             ],
             [
              0.4444444444444444,
              "#bd3786"
             ],
             [
              0.5555555555555556,
              "#d8576b"
             ],
             [
              0.6666666666666666,
              "#ed7953"
             ],
             [
              0.7777777777777778,
              "#fb9f3a"
             ],
             [
              0.8888888888888888,
              "#fdca26"
             ],
             [
              1,
              "#f0f921"
             ]
            ],
            "type": "heatmapgl"
           }
          ],
          "histogram": [
           {
            "marker": {
             "pattern": {
              "fillmode": "overlay",
              "size": 10,
              "solidity": 0.2
             }
            },
            "type": "histogram"
           }
          ],
          "histogram2d": [
           {
            "colorbar": {
             "outlinewidth": 0,
             "ticks": ""
            },
            "colorscale": [
             [
              0,
              "#0d0887"
             ],
             [
              0.1111111111111111,
              "#46039f"
             ],
             [
              0.2222222222222222,
              "#7201a8"
             ],
             [
              0.3333333333333333,
              "#9c179e"
             ],
             [
              0.4444444444444444,
              "#bd3786"
             ],
             [
              0.5555555555555556,
              "#d8576b"
             ],
             [
              0.6666666666666666,
              "#ed7953"
             ],
             [
              0.7777777777777778,
              "#fb9f3a"
             ],
             [
              0.8888888888888888,
              "#fdca26"
             ],
             [
              1,
              "#f0f921"
             ]
            ],
            "type": "histogram2d"
           }
          ],
          "histogram2dcontour": [
           {
            "colorbar": {
             "outlinewidth": 0,
             "ticks": ""
            },
            "colorscale": [
             [
              0,
              "#0d0887"
             ],
             [
              0.1111111111111111,
              "#46039f"
             ],
             [
              0.2222222222222222,
              "#7201a8"
             ],
             [
              0.3333333333333333,
              "#9c179e"
             ],
             [
              0.4444444444444444,
              "#bd3786"
             ],
             [
              0.5555555555555556,
              "#d8576b"
             ],
             [
              0.6666666666666666,
              "#ed7953"
             ],
             [
              0.7777777777777778,
              "#fb9f3a"
             ],
             [
              0.8888888888888888,
              "#fdca26"
             ],
             [
              1,
              "#f0f921"
             ]
            ],
            "type": "histogram2dcontour"
           }
          ],
          "mesh3d": [
           {
            "colorbar": {
             "outlinewidth": 0,
             "ticks": ""
            },
            "type": "mesh3d"
           }
          ],
          "parcoords": [
           {
            "line": {
             "colorbar": {
              "outlinewidth": 0,
              "ticks": ""
             }
            },
            "type": "parcoords"
           }
          ],
          "pie": [
           {
            "automargin": true,
            "type": "pie"
           }
          ],
          "scatter": [
           {
            "fillpattern": {
             "fillmode": "overlay",
             "size": 10,
             "solidity": 0.2
            },
            "type": "scatter"
           }
          ],
          "scatter3d": [
           {
            "line": {
             "colorbar": {
              "outlinewidth": 0,
              "ticks": ""
             }
            },
            "marker": {
             "colorbar": {
              "outlinewidth": 0,
              "ticks": ""
             }
            },
            "type": "scatter3d"
           }
          ],
          "scattercarpet": [
           {
            "marker": {
             "colorbar": {
              "outlinewidth": 0,
              "ticks": ""
             }
            },
            "type": "scattercarpet"
           }
          ],
          "scattergeo": [
           {
            "marker": {
             "colorbar": {
              "outlinewidth": 0,
              "ticks": ""
             }
            },
            "type": "scattergeo"
           }
          ],
          "scattergl": [
           {
            "marker": {
             "colorbar": {
              "outlinewidth": 0,
              "ticks": ""
             }
            },
            "type": "scattergl"
           }
          ],
          "scattermapbox": [
           {
            "marker": {
             "colorbar": {
              "outlinewidth": 0,
              "ticks": ""
             }
            },
            "type": "scattermapbox"
           }
          ],
          "scatterpolar": [
           {
            "marker": {
             "colorbar": {
              "outlinewidth": 0,
              "ticks": ""
             }
            },
            "type": "scatterpolar"
           }
          ],
          "scatterpolargl": [
           {
            "marker": {
             "colorbar": {
              "outlinewidth": 0,
              "ticks": ""
             }
            },
            "type": "scatterpolargl"
           }
          ],
          "scatterternary": [
           {
            "marker": {
             "colorbar": {
              "outlinewidth": 0,
              "ticks": ""
             }
            },
            "type": "scatterternary"
           }
          ],
          "surface": [
           {
            "colorbar": {
             "outlinewidth": 0,
             "ticks": ""
            },
            "colorscale": [
             [
              0,
              "#0d0887"
             ],
             [
              0.1111111111111111,
              "#46039f"
             ],
             [
              0.2222222222222222,
              "#7201a8"
             ],
             [
              0.3333333333333333,
              "#9c179e"
             ],
             [
              0.4444444444444444,
              "#bd3786"
             ],
             [
              0.5555555555555556,
              "#d8576b"
             ],
             [
              0.6666666666666666,
              "#ed7953"
             ],
             [
              0.7777777777777778,
              "#fb9f3a"
             ],
             [
              0.8888888888888888,
              "#fdca26"
             ],
             [
              1,
              "#f0f921"
             ]
            ],
            "type": "surface"
           }
          ],
          "table": [
           {
            "cells": {
             "fill": {
              "color": "#EBF0F8"
             },
             "line": {
              "color": "white"
             }
            },
            "header": {
             "fill": {
              "color": "#C8D4E3"
             },
             "line": {
              "color": "white"
             }
            },
            "type": "table"
           }
          ]
         },
         "layout": {
          "annotationdefaults": {
           "arrowcolor": "#2a3f5f",
           "arrowhead": 0,
           "arrowwidth": 1
          },
          "autotypenumbers": "strict",
          "coloraxis": {
           "colorbar": {
            "outlinewidth": 0,
            "ticks": ""
           }
          },
          "colorscale": {
           "diverging": [
            [
             0,
             "#8e0152"
            ],
            [
             0.1,
             "#c51b7d"
            ],
            [
             0.2,
             "#de77ae"
            ],
            [
             0.3,
             "#f1b6da"
            ],
            [
             0.4,
             "#fde0ef"
            ],
            [
             0.5,
             "#f7f7f7"
            ],
            [
             0.6,
             "#e6f5d0"
            ],
            [
             0.7,
             "#b8e186"
            ],
            [
             0.8,
             "#7fbc41"
            ],
            [
             0.9,
             "#4d9221"
            ],
            [
             1,
             "#276419"
            ]
           ],
           "sequential": [
            [
             0,
             "#0d0887"
            ],
            [
             0.1111111111111111,
             "#46039f"
            ],
            [
             0.2222222222222222,
             "#7201a8"
            ],
            [
             0.3333333333333333,
             "#9c179e"
            ],
            [
             0.4444444444444444,
             "#bd3786"
            ],
            [
             0.5555555555555556,
             "#d8576b"
            ],
            [
             0.6666666666666666,
             "#ed7953"
            ],
            [
             0.7777777777777778,
             "#fb9f3a"
            ],
            [
             0.8888888888888888,
             "#fdca26"
            ],
            [
             1,
             "#f0f921"
            ]
           ],
           "sequentialminus": [
            [
             0,
             "#0d0887"
            ],
            [
             0.1111111111111111,
             "#46039f"
            ],
            [
             0.2222222222222222,
             "#7201a8"
            ],
            [
             0.3333333333333333,
             "#9c179e"
            ],
            [
             0.4444444444444444,
             "#bd3786"
            ],
            [
             0.5555555555555556,
             "#d8576b"
            ],
            [
             0.6666666666666666,
             "#ed7953"
            ],
            [
             0.7777777777777778,
             "#fb9f3a"
            ],
            [
             0.8888888888888888,
             "#fdca26"
            ],
            [
             1,
             "#f0f921"
            ]
           ]
          },
          "colorway": [
           "#636efa",
           "#EF553B",
           "#00cc96",
           "#ab63fa",
           "#FFA15A",
           "#19d3f3",
           "#FF6692",
           "#B6E880",
           "#FF97FF",
           "#FECB52"
          ],
          "font": {
           "color": "#2a3f5f"
          },
          "geo": {
           "bgcolor": "white",
           "lakecolor": "white",
           "landcolor": "#E5ECF6",
           "showlakes": true,
           "showland": true,
           "subunitcolor": "white"
          },
          "hoverlabel": {
           "align": "left"
          },
          "hovermode": "closest",
          "mapbox": {
           "style": "light"
          },
          "paper_bgcolor": "white",
          "plot_bgcolor": "#E5ECF6",
          "polar": {
           "angularaxis": {
            "gridcolor": "white",
            "linecolor": "white",
            "ticks": ""
           },
           "bgcolor": "#E5ECF6",
           "radialaxis": {
            "gridcolor": "white",
            "linecolor": "white",
            "ticks": ""
           }
          },
          "scene": {
           "xaxis": {
            "backgroundcolor": "#E5ECF6",
            "gridcolor": "white",
            "gridwidth": 2,
            "linecolor": "white",
            "showbackground": true,
            "ticks": "",
            "zerolinecolor": "white"
           },
           "yaxis": {
            "backgroundcolor": "#E5ECF6",
            "gridcolor": "white",
            "gridwidth": 2,
            "linecolor": "white",
            "showbackground": true,
            "ticks": "",
            "zerolinecolor": "white"
           },
           "zaxis": {
            "backgroundcolor": "#E5ECF6",
            "gridcolor": "white",
            "gridwidth": 2,
            "linecolor": "white",
            "showbackground": true,
            "ticks": "",
            "zerolinecolor": "white"
           }
          },
          "shapedefaults": {
           "line": {
            "color": "#2a3f5f"
           }
          },
          "ternary": {
           "aaxis": {
            "gridcolor": "white",
            "linecolor": "white",
            "ticks": ""
           },
           "baxis": {
            "gridcolor": "white",
            "linecolor": "white",
            "ticks": ""
           },
           "bgcolor": "#E5ECF6",
           "caxis": {
            "gridcolor": "white",
            "linecolor": "white",
            "ticks": ""
           }
          },
          "title": {
           "x": 0.05
          },
          "xaxis": {
           "automargin": true,
           "gridcolor": "white",
           "linecolor": "white",
           "ticks": "",
           "title": {
            "standoff": 15
           },
           "zerolinecolor": "white",
           "zerolinewidth": 2
          },
          "yaxis": {
           "automargin": true,
           "gridcolor": "white",
           "linecolor": "white",
           "ticks": "",
           "title": {
            "standoff": 15
           },
           "zerolinecolor": "white",
           "zerolinewidth": 2
          }
         }
        },
        "title": {
         "text": "⭐ Do Superhosts Get Better Ratings?"
        },
        "xaxis": {
         "anchor": "y",
         "categoryarray": [
          true,
          false
         ],
         "categoryorder": "array",
         "domain": [
          0,
          1
         ],
         "title": {
          "text": "Superhost Status"
         }
        },
        "yaxis": {
         "anchor": "x",
         "domain": [
          0,
          1
         ],
         "title": {
          "text": "Average Rating"
         }
        }
       }
      }
     },
     "metadata": {},
     "output_type": "display_data"
    }
   ],
   "source": [
    "fig = px.box(pbp, x=\"isSuperhost\", y=\"avgRating\", \n",
    "             title=\"⭐ Do Superhosts Get Better Ratings?\",\n",
    "             color=\"isSuperhost\",\n",
    "             labels={\"isSuperhost\": \"Superhost Status\", \"avgRating\": \"Average Rating\"})\n",
    "\n",
    "fig.show()"
   ]
  },
  {
   "cell_type": "markdown",
   "metadata": {},
   "source": [
    "# 🎯 Final Key Insights  \n",
    "✅ **Best property type:**  \n",
    "✅ **Most popular room type:** <br>\n",
    "✅ **Ideal pricing range for success:** <br>\n",
    "✅ **Must-have amenities for higher bookings:** <br>\n",
    "✅ **Best cities for investment:** <br>\n",
    "✅ **Superhost advantage:** \n",
    "\n",
    "### 📢 **Next Steps**  \n",
    "This analysis provides **valuable insights** for Airbnb hosts & investors. To maximize success:  \n",
    "🔹 Set **optimal pricing** based on competitive trends  \n",
    "🔹 Offer **highly-rated amenities** to attract more guests  \n",
    "🔹 Choose **property types** that ensure better reviews & bookings  \n",
    "\n",
    "Thank you for reading! 🚀  "
   ]
  },
  {
   "cell_type": "code",
   "execution_count": null,
   "metadata": {},
   "outputs": [],
   "source": []
  }
 ],
 "metadata": {
  "kernelspec": {
   "display_name": "ML",
   "language": "python",
   "name": "python3"
  },
  "language_info": {
   "codemirror_mode": {
    "name": "ipython",
    "version": 3
   },
   "file_extension": ".py",
   "mimetype": "text/x-python",
   "name": "python",
   "nbconvert_exporter": "python",
   "pygments_lexer": "ipython3",
   "version": "3.9.20"
  }
 },
 "nbformat": 4,
 "nbformat_minor": 2
}
